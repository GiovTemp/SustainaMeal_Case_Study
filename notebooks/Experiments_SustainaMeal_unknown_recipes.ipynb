{
  "nbformat": 4,
  "nbformat_minor": 0,
  "metadata": {
    "colab": {
      "provenance": [],
      "gpuType": "T4",
      "collapsed_sections": [
        "bOajPglELoub"
      ]
    },
    "kernelspec": {
      "name": "python3",
      "display_name": "Python 3"
    },
    "language_info": {
      "name": "python"
    },
    "accelerator": "GPU"
  },
  "cells": [
    {
      "cell_type": "markdown",
      "source": [
        "# Download Data"
      ],
      "metadata": {
        "id": "mi_HjU-OLl8y"
      }
    },
    {
      "cell_type": "code",
      "execution_count": 1,
      "metadata": {
        "id": "KQndhR_s20J2"
      },
      "outputs": [],
      "source": [
        "import requests\n",
        "import pandas as pd\n",
        "from io import BytesIO\n",
        "\n",
        "def download_csv(csv_url):\n",
        "    response = requests.get(csv_url)\n",
        "    response.raise_for_status()\n",
        "\n",
        "    # Qui puoi modificare 'sep' o aggiungere altri parametri se necessario\n",
        "    try:\n",
        "        df = pd.read_csv(BytesIO(response.content), sep=',')\n",
        "    except pd.errors.ParserError:\n",
        "        df = pd.read_csv(BytesIO(response.content), sep=';', error_bad_lines=False)\n",
        "\n",
        "    return df"
      ]
    },
    {
      "cell_type": "code",
      "source": [
        "recipes_df = download_csv(\"https://github.com/GiovTemp/SustainaMeal_Case_Study/raw/main/data/final_recipes_set.csv\")"
      ],
      "metadata": {
        "id": "bMOkwS533BlM"
      },
      "execution_count": 2,
      "outputs": []
    },
    {
      "cell_type": "code",
      "source": [
        "recipes_df"
      ],
      "metadata": {
        "colab": {
          "base_uri": "https://localhost:8080/",
          "height": 1000
        },
        "id": "rJUUXaqPsoDt",
        "outputId": "cd3faade-5389-4670-ed25-1ad69a85eaed"
      },
      "execution_count": 3,
      "outputs": [
        {
          "output_type": "execute_result",
          "data": {
            "text/plain": [
              "                                                    title  \\\n",
              "0                            Jack O Lantern  'o Fragrance   \n",
              "1                                         Boiled Radishes   \n",
              "2                                  Horseradish Applesauce   \n",
              "3                                       Survival Necklace   \n",
              "4                                   Apple Cider Reduction   \n",
              "...                                                   ...   \n",
              "100865                               Curried Lamb on Rice   \n",
              "100866                                    Rich Lamb Curry   \n",
              "100867  Middle Eastern Slow-Cooked Stew With Lamb, Chi...   \n",
              "100868               Five Meat Chili Con Carne With Beans   \n",
              "100869                 Basic Fried Rice - With Variations   \n",
              "\n",
              "        sustainability_score  sustainability_label  Unnamed: 0  recipe_id  \\\n",
              "0                   0.002409                     0      495656     466123   \n",
              "1                   0.002502                     0      294268     179840   \n",
              "2                   0.002590                     0      364381     174389   \n",
              "3                   0.002623                     0       43445      95937   \n",
              "4                   0.002623                     0       59722     521756   \n",
              "...                      ...                   ...         ...        ...   \n",
              "100865              0.951024                     2      103145     373244   \n",
              "100866              0.960504                     2      442694     268247   \n",
              "100867              0.968458                     2      359960     144850   \n",
              "100868              0.971454                     2       37637      13568   \n",
              "100869              1.000000                     2       94306     248707   \n",
              "\n",
              "                                              description  author_id  \\\n",
              "0       I suppose that this isn't really a recipe as m...     169430   \n",
              "1       These taste a lot like new potatoes.  The boil...     254469   \n",
              "2       I'm not sure this even qualifies as a recipe, ...     226918   \n",
              "3       Fun for kids to make and a great way to keep t...      25792   \n",
              "4       I saw a post about this on Facebook and gave i...     171084   \n",
              "...                                                   ...        ...   \n",
              "100865  With modification this recipe is from \"The Dia...     133174   \n",
              "100866  The recipe isn't as time consuming as it looks...     491437   \n",
              "100867  From Cooking Light. Per 3/4 c. serving: 310 ca...      37779   \n",
              "100868                                                yum      20571   \n",
              "100869  Another recipe that I acquired from a Chinese ...     305531   \n",
              "\n",
              "        duration                                         directions  \\\n",
              "0           30.0  ['When you cut the  lid out of the pumpkin do ...   \n",
              "1           22.0  ['Trim ends and bad spots off Radishes.', 'Boi...   \n",
              "2           22.0  ['Blend applesauce and horseradish. ', 'Refrig...   \n",
              "3           10.0  ['Other supplies: 18 inches string or yarn or ...   \n",
              "4          155.0  ['In 6-8 quart stock pan, measure out 2 cups o...   \n",
              "...          ...                                                ...   \n",
              "100865      65.0  ['Over medium heat, melt the butter in a large...   \n",
              "100866     110.0  ['Heat 1 tbsp olive oil in dutch oven.  ', 'Co...   \n",
              "100867     112.0  ['Let the oil get heating in a large pot over ...   \n",
              "100868     210.0  ['In a large pot brown meat in stages, about a...   \n",
              "100869      55.0  ['Dice or shred meat and vegetables.', 'Heat o...   \n",
              "\n",
              "                                              ingredients  ... protein [g]  \\\n",
              "0       ['pumpkin liking', 'candle pumpkin', 'pumpkin ...  ...         0.6   \n",
              "1           ['radishes size bag bunch', 'water radishes']  ...         0.8   \n",
              "2                           ['applesauce', 'horseradish']  ...         0.3   \n",
              "3       ['Fruit Loops cereal cup apple jacks kind hole...  ...         8.8   \n",
              "4       ['gallon apple cider fresh', 'gallon apple cid...  ...         0.0   \n",
              "...                                                   ...  ...         ...   \n",
              "100865  ['lamb', 'medium onion', 'cloves', 'butter', '...  ...        28.7   \n",
              "100866  ['oil', 'lamb', 'flour', 'salt pepper', 'onion...  ...        36.1   \n",
              "100867  ['oil', 'lamb', 'onions rings', 'water', 'clov...  ...        20.8   \n",
              "100868  ['beef', 'pork', 'lamb', 'sausage', 'sausage',...  ...        14.5   \n",
              "100869  ['rice', 'onions', 'oil', 'soy sauce', 'salt',...  ...        18.9   \n",
              "\n",
              "       direction_size ingredients_sizes who_score fsa_score  nutri_score  \\\n",
              "0                   7                 4  0.302381     0.250         0.25   \n",
              "1                   2                 2  0.293040     1.000         0.75   \n",
              "2                   2                 2  0.313757     0.875         0.50   \n",
              "3                   7                 2  0.319215     0.750         0.25   \n",
              "4                  10                 2  0.214286     0.750         0.75   \n",
              "...               ...               ...       ...       ...          ...   \n",
              "100865              5                13  0.223549     0.625         0.25   \n",
              "100866              9                21  0.153328     0.000         0.00   \n",
              "100867             12                19  0.205566     0.250         0.25   \n",
              "100868              7                15  0.197568     0.250         0.25   \n",
              "100869             14                38  0.233147     0.750         0.25   \n",
              "\n",
              "        normalization_comment  \\\n",
              "0                         NaN   \n",
              "1                         NaN   \n",
              "2                         NaN   \n",
              "3                         NaN   \n",
              "4                         NaN   \n",
              "...                       ...   \n",
              "100865                    NaN   \n",
              "100866                    NaN   \n",
              "100867                    NaN   \n",
              "100868                    NaN   \n",
              "100869                    NaN   \n",
              "\n",
              "                                  ingredient_food_kg_urls  \\\n",
              "0                                                     NaN   \n",
              "1       ['http://idea.rpi.edu/heals/kb/ingredientname/...   \n",
              "2       ['http://idea.rpi.edu/heals/kb/ingredientname/...   \n",
              "3       ['http://idea.rpi.edu/heals/kb/ingredientname/...   \n",
              "4       ['http://idea.rpi.edu/heals/kb/ingredientname/...   \n",
              "...                                                   ...   \n",
              "100865  ['http://idea.rpi.edu/heals/kb/ingredientname/...   \n",
              "100866                                                NaN   \n",
              "100867  ['http://idea.rpi.edu/heals/kb/ingredientname/...   \n",
              "100868  ['http://idea.rpi.edu/heals/kb/ingredientname/...   \n",
              "100869  ['http://idea.rpi.edu/heals/kb/ingredientname/...   \n",
              "\n",
              "                                 ingredient_food_kg_names  healthiness_label  \n",
              "0                                                     NaN                  0  \n",
              "1       ['applesauce', 'garlic clove', 'ginger', 'mola...                  0  \n",
              "2       ['all - purpose flour', 'butter', 'butternut s...                  0  \n",
              "3       ['Old Bay Seasoning', 'Worcestershire sauce', ...                  0  \n",
              "4       ['bean sprouts', 'chicken thighs', 'fresh ging...                  1  \n",
              "...                                                   ...                ...  \n",
              "100865  ['Dijon mustard', 'Polish sausage', 'apricot p...                  1  \n",
              "100866                                                NaN                  1  \n",
              "100867  ['anchovies', 'celery ribs', 'diced tomatoes',...                  1  \n",
              "100868  [\"French\\\\'s French fried onions\", 'crabmeat',...                  1  \n",
              "100869  ['baking powder', 'baking soda', 'brown sugar'...                  1  \n",
              "\n",
              "[100870 rows x 40 columns]"
            ],
            "text/html": [
              "\n",
              "  <div id=\"df-b128e697-7dfd-4f0b-8d49-1b5cf87ff4f1\" class=\"colab-df-container\">\n",
              "    <div>\n",
              "<style scoped>\n",
              "    .dataframe tbody tr th:only-of-type {\n",
              "        vertical-align: middle;\n",
              "    }\n",
              "\n",
              "    .dataframe tbody tr th {\n",
              "        vertical-align: top;\n",
              "    }\n",
              "\n",
              "    .dataframe thead th {\n",
              "        text-align: right;\n",
              "    }\n",
              "</style>\n",
              "<table border=\"1\" class=\"dataframe\">\n",
              "  <thead>\n",
              "    <tr style=\"text-align: right;\">\n",
              "      <th></th>\n",
              "      <th>title</th>\n",
              "      <th>sustainability_score</th>\n",
              "      <th>sustainability_label</th>\n",
              "      <th>Unnamed: 0</th>\n",
              "      <th>recipe_id</th>\n",
              "      <th>description</th>\n",
              "      <th>author_id</th>\n",
              "      <th>duration</th>\n",
              "      <th>directions</th>\n",
              "      <th>ingredients</th>\n",
              "      <th>...</th>\n",
              "      <th>protein [g]</th>\n",
              "      <th>direction_size</th>\n",
              "      <th>ingredients_sizes</th>\n",
              "      <th>who_score</th>\n",
              "      <th>fsa_score</th>\n",
              "      <th>nutri_score</th>\n",
              "      <th>normalization_comment</th>\n",
              "      <th>ingredient_food_kg_urls</th>\n",
              "      <th>ingredient_food_kg_names</th>\n",
              "      <th>healthiness_label</th>\n",
              "    </tr>\n",
              "  </thead>\n",
              "  <tbody>\n",
              "    <tr>\n",
              "      <th>0</th>\n",
              "      <td>Jack O Lantern  'o Fragrance</td>\n",
              "      <td>0.002409</td>\n",
              "      <td>0</td>\n",
              "      <td>495656</td>\n",
              "      <td>466123</td>\n",
              "      <td>I suppose that this isn't really a recipe as m...</td>\n",
              "      <td>169430</td>\n",
              "      <td>30.0</td>\n",
              "      <td>['When you cut the  lid out of the pumpkin do ...</td>\n",
              "      <td>['pumpkin liking', 'candle pumpkin', 'pumpkin ...</td>\n",
              "      <td>...</td>\n",
              "      <td>0.6</td>\n",
              "      <td>7</td>\n",
              "      <td>4</td>\n",
              "      <td>0.302381</td>\n",
              "      <td>0.250</td>\n",
              "      <td>0.25</td>\n",
              "      <td>NaN</td>\n",
              "      <td>NaN</td>\n",
              "      <td>NaN</td>\n",
              "      <td>0</td>\n",
              "    </tr>\n",
              "    <tr>\n",
              "      <th>1</th>\n",
              "      <td>Boiled Radishes</td>\n",
              "      <td>0.002502</td>\n",
              "      <td>0</td>\n",
              "      <td>294268</td>\n",
              "      <td>179840</td>\n",
              "      <td>These taste a lot like new potatoes.  The boil...</td>\n",
              "      <td>254469</td>\n",
              "      <td>22.0</td>\n",
              "      <td>['Trim ends and bad spots off Radishes.', 'Boi...</td>\n",
              "      <td>['radishes size bag bunch', 'water radishes']</td>\n",
              "      <td>...</td>\n",
              "      <td>0.8</td>\n",
              "      <td>2</td>\n",
              "      <td>2</td>\n",
              "      <td>0.293040</td>\n",
              "      <td>1.000</td>\n",
              "      <td>0.75</td>\n",
              "      <td>NaN</td>\n",
              "      <td>['http://idea.rpi.edu/heals/kb/ingredientname/...</td>\n",
              "      <td>['applesauce', 'garlic clove', 'ginger', 'mola...</td>\n",
              "      <td>0</td>\n",
              "    </tr>\n",
              "    <tr>\n",
              "      <th>2</th>\n",
              "      <td>Horseradish Applesauce</td>\n",
              "      <td>0.002590</td>\n",
              "      <td>0</td>\n",
              "      <td>364381</td>\n",
              "      <td>174389</td>\n",
              "      <td>I'm not sure this even qualifies as a recipe, ...</td>\n",
              "      <td>226918</td>\n",
              "      <td>22.0</td>\n",
              "      <td>['Blend applesauce and horseradish. ', 'Refrig...</td>\n",
              "      <td>['applesauce', 'horseradish']</td>\n",
              "      <td>...</td>\n",
              "      <td>0.3</td>\n",
              "      <td>2</td>\n",
              "      <td>2</td>\n",
              "      <td>0.313757</td>\n",
              "      <td>0.875</td>\n",
              "      <td>0.50</td>\n",
              "      <td>NaN</td>\n",
              "      <td>['http://idea.rpi.edu/heals/kb/ingredientname/...</td>\n",
              "      <td>['all - purpose flour', 'butter', 'butternut s...</td>\n",
              "      <td>0</td>\n",
              "    </tr>\n",
              "    <tr>\n",
              "      <th>3</th>\n",
              "      <td>Survival Necklace</td>\n",
              "      <td>0.002623</td>\n",
              "      <td>0</td>\n",
              "      <td>43445</td>\n",
              "      <td>95937</td>\n",
              "      <td>Fun for kids to make and a great way to keep t...</td>\n",
              "      <td>25792</td>\n",
              "      <td>10.0</td>\n",
              "      <td>['Other supplies: 18 inches string or yarn or ...</td>\n",
              "      <td>['Fruit Loops cereal cup apple jacks kind hole...</td>\n",
              "      <td>...</td>\n",
              "      <td>8.8</td>\n",
              "      <td>7</td>\n",
              "      <td>2</td>\n",
              "      <td>0.319215</td>\n",
              "      <td>0.750</td>\n",
              "      <td>0.25</td>\n",
              "      <td>NaN</td>\n",
              "      <td>['http://idea.rpi.edu/heals/kb/ingredientname/...</td>\n",
              "      <td>['Old Bay Seasoning', 'Worcestershire sauce', ...</td>\n",
              "      <td>0</td>\n",
              "    </tr>\n",
              "    <tr>\n",
              "      <th>4</th>\n",
              "      <td>Apple Cider Reduction</td>\n",
              "      <td>0.002623</td>\n",
              "      <td>0</td>\n",
              "      <td>59722</td>\n",
              "      <td>521756</td>\n",
              "      <td>I saw a post about this on Facebook and gave i...</td>\n",
              "      <td>171084</td>\n",
              "      <td>155.0</td>\n",
              "      <td>['In 6-8 quart stock pan, measure out 2 cups o...</td>\n",
              "      <td>['gallon apple cider fresh', 'gallon apple cid...</td>\n",
              "      <td>...</td>\n",
              "      <td>0.0</td>\n",
              "      <td>10</td>\n",
              "      <td>2</td>\n",
              "      <td>0.214286</td>\n",
              "      <td>0.750</td>\n",
              "      <td>0.75</td>\n",
              "      <td>NaN</td>\n",
              "      <td>['http://idea.rpi.edu/heals/kb/ingredientname/...</td>\n",
              "      <td>['bean sprouts', 'chicken thighs', 'fresh ging...</td>\n",
              "      <td>1</td>\n",
              "    </tr>\n",
              "    <tr>\n",
              "      <th>...</th>\n",
              "      <td>...</td>\n",
              "      <td>...</td>\n",
              "      <td>...</td>\n",
              "      <td>...</td>\n",
              "      <td>...</td>\n",
              "      <td>...</td>\n",
              "      <td>...</td>\n",
              "      <td>...</td>\n",
              "      <td>...</td>\n",
              "      <td>...</td>\n",
              "      <td>...</td>\n",
              "      <td>...</td>\n",
              "      <td>...</td>\n",
              "      <td>...</td>\n",
              "      <td>...</td>\n",
              "      <td>...</td>\n",
              "      <td>...</td>\n",
              "      <td>...</td>\n",
              "      <td>...</td>\n",
              "      <td>...</td>\n",
              "      <td>...</td>\n",
              "    </tr>\n",
              "    <tr>\n",
              "      <th>100865</th>\n",
              "      <td>Curried Lamb on Rice</td>\n",
              "      <td>0.951024</td>\n",
              "      <td>2</td>\n",
              "      <td>103145</td>\n",
              "      <td>373244</td>\n",
              "      <td>With modification this recipe is from \"The Dia...</td>\n",
              "      <td>133174</td>\n",
              "      <td>65.0</td>\n",
              "      <td>['Over medium heat, melt the butter in a large...</td>\n",
              "      <td>['lamb', 'medium onion', 'cloves', 'butter', '...</td>\n",
              "      <td>...</td>\n",
              "      <td>28.7</td>\n",
              "      <td>5</td>\n",
              "      <td>13</td>\n",
              "      <td>0.223549</td>\n",
              "      <td>0.625</td>\n",
              "      <td>0.25</td>\n",
              "      <td>NaN</td>\n",
              "      <td>['http://idea.rpi.edu/heals/kb/ingredientname/...</td>\n",
              "      <td>['Dijon mustard', 'Polish sausage', 'apricot p...</td>\n",
              "      <td>1</td>\n",
              "    </tr>\n",
              "    <tr>\n",
              "      <th>100866</th>\n",
              "      <td>Rich Lamb Curry</td>\n",
              "      <td>0.960504</td>\n",
              "      <td>2</td>\n",
              "      <td>442694</td>\n",
              "      <td>268247</td>\n",
              "      <td>The recipe isn't as time consuming as it looks...</td>\n",
              "      <td>491437</td>\n",
              "      <td>110.0</td>\n",
              "      <td>['Heat 1 tbsp olive oil in dutch oven.  ', 'Co...</td>\n",
              "      <td>['oil', 'lamb', 'flour', 'salt pepper', 'onion...</td>\n",
              "      <td>...</td>\n",
              "      <td>36.1</td>\n",
              "      <td>9</td>\n",
              "      <td>21</td>\n",
              "      <td>0.153328</td>\n",
              "      <td>0.000</td>\n",
              "      <td>0.00</td>\n",
              "      <td>NaN</td>\n",
              "      <td>NaN</td>\n",
              "      <td>NaN</td>\n",
              "      <td>1</td>\n",
              "    </tr>\n",
              "    <tr>\n",
              "      <th>100867</th>\n",
              "      <td>Middle Eastern Slow-Cooked Stew With Lamb, Chi...</td>\n",
              "      <td>0.968458</td>\n",
              "      <td>2</td>\n",
              "      <td>359960</td>\n",
              "      <td>144850</td>\n",
              "      <td>From Cooking Light. Per 3/4 c. serving: 310 ca...</td>\n",
              "      <td>37779</td>\n",
              "      <td>112.0</td>\n",
              "      <td>['Let the oil get heating in a large pot over ...</td>\n",
              "      <td>['oil', 'lamb', 'onions rings', 'water', 'clov...</td>\n",
              "      <td>...</td>\n",
              "      <td>20.8</td>\n",
              "      <td>12</td>\n",
              "      <td>19</td>\n",
              "      <td>0.205566</td>\n",
              "      <td>0.250</td>\n",
              "      <td>0.25</td>\n",
              "      <td>NaN</td>\n",
              "      <td>['http://idea.rpi.edu/heals/kb/ingredientname/...</td>\n",
              "      <td>['anchovies', 'celery ribs', 'diced tomatoes',...</td>\n",
              "      <td>1</td>\n",
              "    </tr>\n",
              "    <tr>\n",
              "      <th>100868</th>\n",
              "      <td>Five Meat Chili Con Carne With Beans</td>\n",
              "      <td>0.971454</td>\n",
              "      <td>2</td>\n",
              "      <td>37637</td>\n",
              "      <td>13568</td>\n",
              "      <td>yum</td>\n",
              "      <td>20571</td>\n",
              "      <td>210.0</td>\n",
              "      <td>['In a large pot brown meat in stages, about a...</td>\n",
              "      <td>['beef', 'pork', 'lamb', 'sausage', 'sausage',...</td>\n",
              "      <td>...</td>\n",
              "      <td>14.5</td>\n",
              "      <td>7</td>\n",
              "      <td>15</td>\n",
              "      <td>0.197568</td>\n",
              "      <td>0.250</td>\n",
              "      <td>0.25</td>\n",
              "      <td>NaN</td>\n",
              "      <td>['http://idea.rpi.edu/heals/kb/ingredientname/...</td>\n",
              "      <td>[\"French\\\\'s French fried onions\", 'crabmeat',...</td>\n",
              "      <td>1</td>\n",
              "    </tr>\n",
              "    <tr>\n",
              "      <th>100869</th>\n",
              "      <td>Basic Fried Rice - With Variations</td>\n",
              "      <td>1.000000</td>\n",
              "      <td>2</td>\n",
              "      <td>94306</td>\n",
              "      <td>248707</td>\n",
              "      <td>Another recipe that I acquired from a Chinese ...</td>\n",
              "      <td>305531</td>\n",
              "      <td>55.0</td>\n",
              "      <td>['Dice or shred meat and vegetables.', 'Heat o...</td>\n",
              "      <td>['rice', 'onions', 'oil', 'soy sauce', 'salt',...</td>\n",
              "      <td>...</td>\n",
              "      <td>18.9</td>\n",
              "      <td>14</td>\n",
              "      <td>38</td>\n",
              "      <td>0.233147</td>\n",
              "      <td>0.750</td>\n",
              "      <td>0.25</td>\n",
              "      <td>NaN</td>\n",
              "      <td>['http://idea.rpi.edu/heals/kb/ingredientname/...</td>\n",
              "      <td>['baking powder', 'baking soda', 'brown sugar'...</td>\n",
              "      <td>1</td>\n",
              "    </tr>\n",
              "  </tbody>\n",
              "</table>\n",
              "<p>100870 rows × 40 columns</p>\n",
              "</div>\n",
              "    <div class=\"colab-df-buttons\">\n",
              "\n",
              "  <div class=\"colab-df-container\">\n",
              "    <button class=\"colab-df-convert\" onclick=\"convertToInteractive('df-b128e697-7dfd-4f0b-8d49-1b5cf87ff4f1')\"\n",
              "            title=\"Convert this dataframe to an interactive table.\"\n",
              "            style=\"display:none;\">\n",
              "\n",
              "  <svg xmlns=\"http://www.w3.org/2000/svg\" height=\"24px\" viewBox=\"0 -960 960 960\">\n",
              "    <path d=\"M120-120v-720h720v720H120Zm60-500h600v-160H180v160Zm220 220h160v-160H400v160Zm0 220h160v-160H400v160ZM180-400h160v-160H180v160Zm440 0h160v-160H620v160ZM180-180h160v-160H180v160Zm440 0h160v-160H620v160Z\"/>\n",
              "  </svg>\n",
              "    </button>\n",
              "\n",
              "  <style>\n",
              "    .colab-df-container {\n",
              "      display:flex;\n",
              "      gap: 12px;\n",
              "    }\n",
              "\n",
              "    .colab-df-convert {\n",
              "      background-color: #E8F0FE;\n",
              "      border: none;\n",
              "      border-radius: 50%;\n",
              "      cursor: pointer;\n",
              "      display: none;\n",
              "      fill: #1967D2;\n",
              "      height: 32px;\n",
              "      padding: 0 0 0 0;\n",
              "      width: 32px;\n",
              "    }\n",
              "\n",
              "    .colab-df-convert:hover {\n",
              "      background-color: #E2EBFA;\n",
              "      box-shadow: 0px 1px 2px rgba(60, 64, 67, 0.3), 0px 1px 3px 1px rgba(60, 64, 67, 0.15);\n",
              "      fill: #174EA6;\n",
              "    }\n",
              "\n",
              "    .colab-df-buttons div {\n",
              "      margin-bottom: 4px;\n",
              "    }\n",
              "\n",
              "    [theme=dark] .colab-df-convert {\n",
              "      background-color: #3B4455;\n",
              "      fill: #D2E3FC;\n",
              "    }\n",
              "\n",
              "    [theme=dark] .colab-df-convert:hover {\n",
              "      background-color: #434B5C;\n",
              "      box-shadow: 0px 1px 3px 1px rgba(0, 0, 0, 0.15);\n",
              "      filter: drop-shadow(0px 1px 2px rgba(0, 0, 0, 0.3));\n",
              "      fill: #FFFFFF;\n",
              "    }\n",
              "  </style>\n",
              "\n",
              "    <script>\n",
              "      const buttonEl =\n",
              "        document.querySelector('#df-b128e697-7dfd-4f0b-8d49-1b5cf87ff4f1 button.colab-df-convert');\n",
              "      buttonEl.style.display =\n",
              "        google.colab.kernel.accessAllowed ? 'block' : 'none';\n",
              "\n",
              "      async function convertToInteractive(key) {\n",
              "        const element = document.querySelector('#df-b128e697-7dfd-4f0b-8d49-1b5cf87ff4f1');\n",
              "        const dataTable =\n",
              "          await google.colab.kernel.invokeFunction('convertToInteractive',\n",
              "                                                    [key], {});\n",
              "        if (!dataTable) return;\n",
              "\n",
              "        const docLinkHtml = 'Like what you see? Visit the ' +\n",
              "          '<a target=\"_blank\" href=https://colab.research.google.com/notebooks/data_table.ipynb>data table notebook</a>'\n",
              "          + ' to learn more about interactive tables.';\n",
              "        element.innerHTML = '';\n",
              "        dataTable['output_type'] = 'display_data';\n",
              "        await google.colab.output.renderOutput(dataTable, element);\n",
              "        const docLink = document.createElement('div');\n",
              "        docLink.innerHTML = docLinkHtml;\n",
              "        element.appendChild(docLink);\n",
              "      }\n",
              "    </script>\n",
              "  </div>\n",
              "\n",
              "\n",
              "<div id=\"df-45f3e69c-91d3-40f1-a25c-414beab0dd80\">\n",
              "  <button class=\"colab-df-quickchart\" onclick=\"quickchart('df-45f3e69c-91d3-40f1-a25c-414beab0dd80')\"\n",
              "            title=\"Suggest charts\"\n",
              "            style=\"display:none;\">\n",
              "\n",
              "<svg xmlns=\"http://www.w3.org/2000/svg\" height=\"24px\"viewBox=\"0 0 24 24\"\n",
              "     width=\"24px\">\n",
              "    <g>\n",
              "        <path d=\"M19 3H5c-1.1 0-2 .9-2 2v14c0 1.1.9 2 2 2h14c1.1 0 2-.9 2-2V5c0-1.1-.9-2-2-2zM9 17H7v-7h2v7zm4 0h-2V7h2v10zm4 0h-2v-4h2v4z\"/>\n",
              "    </g>\n",
              "</svg>\n",
              "  </button>\n",
              "\n",
              "<style>\n",
              "  .colab-df-quickchart {\n",
              "      --bg-color: #E8F0FE;\n",
              "      --fill-color: #1967D2;\n",
              "      --hover-bg-color: #E2EBFA;\n",
              "      --hover-fill-color: #174EA6;\n",
              "      --disabled-fill-color: #AAA;\n",
              "      --disabled-bg-color: #DDD;\n",
              "  }\n",
              "\n",
              "  [theme=dark] .colab-df-quickchart {\n",
              "      --bg-color: #3B4455;\n",
              "      --fill-color: #D2E3FC;\n",
              "      --hover-bg-color: #434B5C;\n",
              "      --hover-fill-color: #FFFFFF;\n",
              "      --disabled-bg-color: #3B4455;\n",
              "      --disabled-fill-color: #666;\n",
              "  }\n",
              "\n",
              "  .colab-df-quickchart {\n",
              "    background-color: var(--bg-color);\n",
              "    border: none;\n",
              "    border-radius: 50%;\n",
              "    cursor: pointer;\n",
              "    display: none;\n",
              "    fill: var(--fill-color);\n",
              "    height: 32px;\n",
              "    padding: 0;\n",
              "    width: 32px;\n",
              "  }\n",
              "\n",
              "  .colab-df-quickchart:hover {\n",
              "    background-color: var(--hover-bg-color);\n",
              "    box-shadow: 0 1px 2px rgba(60, 64, 67, 0.3), 0 1px 3px 1px rgba(60, 64, 67, 0.15);\n",
              "    fill: var(--button-hover-fill-color);\n",
              "  }\n",
              "\n",
              "  .colab-df-quickchart-complete:disabled,\n",
              "  .colab-df-quickchart-complete:disabled:hover {\n",
              "    background-color: var(--disabled-bg-color);\n",
              "    fill: var(--disabled-fill-color);\n",
              "    box-shadow: none;\n",
              "  }\n",
              "\n",
              "  .colab-df-spinner {\n",
              "    border: 2px solid var(--fill-color);\n",
              "    border-color: transparent;\n",
              "    border-bottom-color: var(--fill-color);\n",
              "    animation:\n",
              "      spin 1s steps(1) infinite;\n",
              "  }\n",
              "\n",
              "  @keyframes spin {\n",
              "    0% {\n",
              "      border-color: transparent;\n",
              "      border-bottom-color: var(--fill-color);\n",
              "      border-left-color: var(--fill-color);\n",
              "    }\n",
              "    20% {\n",
              "      border-color: transparent;\n",
              "      border-left-color: var(--fill-color);\n",
              "      border-top-color: var(--fill-color);\n",
              "    }\n",
              "    30% {\n",
              "      border-color: transparent;\n",
              "      border-left-color: var(--fill-color);\n",
              "      border-top-color: var(--fill-color);\n",
              "      border-right-color: var(--fill-color);\n",
              "    }\n",
              "    40% {\n",
              "      border-color: transparent;\n",
              "      border-right-color: var(--fill-color);\n",
              "      border-top-color: var(--fill-color);\n",
              "    }\n",
              "    60% {\n",
              "      border-color: transparent;\n",
              "      border-right-color: var(--fill-color);\n",
              "    }\n",
              "    80% {\n",
              "      border-color: transparent;\n",
              "      border-right-color: var(--fill-color);\n",
              "      border-bottom-color: var(--fill-color);\n",
              "    }\n",
              "    90% {\n",
              "      border-color: transparent;\n",
              "      border-bottom-color: var(--fill-color);\n",
              "    }\n",
              "  }\n",
              "</style>\n",
              "\n",
              "  <script>\n",
              "    async function quickchart(key) {\n",
              "      const quickchartButtonEl =\n",
              "        document.querySelector('#' + key + ' button');\n",
              "      quickchartButtonEl.disabled = true;  // To prevent multiple clicks.\n",
              "      quickchartButtonEl.classList.add('colab-df-spinner');\n",
              "      try {\n",
              "        const charts = await google.colab.kernel.invokeFunction(\n",
              "            'suggestCharts', [key], {});\n",
              "      } catch (error) {\n",
              "        console.error('Error during call to suggestCharts:', error);\n",
              "      }\n",
              "      quickchartButtonEl.classList.remove('colab-df-spinner');\n",
              "      quickchartButtonEl.classList.add('colab-df-quickchart-complete');\n",
              "    }\n",
              "    (() => {\n",
              "      let quickchartButtonEl =\n",
              "        document.querySelector('#df-45f3e69c-91d3-40f1-a25c-414beab0dd80 button');\n",
              "      quickchartButtonEl.style.display =\n",
              "        google.colab.kernel.accessAllowed ? 'block' : 'none';\n",
              "    })();\n",
              "  </script>\n",
              "</div>\n",
              "    </div>\n",
              "  </div>\n"
            ]
          },
          "metadata": {},
          "execution_count": 3
        }
      ]
    },
    {
      "cell_type": "markdown",
      "source": [
        "# Utils"
      ],
      "metadata": {
        "id": "bOajPglELoub"
      }
    },
    {
      "cell_type": "code",
      "source": [
        "!pip install git+https://github.com/GiovTemp/SustainaMeal.git"
      ],
      "metadata": {
        "colab": {
          "base_uri": "https://localhost:8080/"
        },
        "id": "oSSsTOJI3EQf",
        "outputId": "a27c8abd-803d-49ff-991d-0bb7d357bc7f"
      },
      "execution_count": 6,
      "outputs": [
        {
          "output_type": "stream",
          "name": "stdout",
          "text": [
            "Collecting git+https://github.com/GiovTemp/SustainaMeal.git\n",
            "  Cloning https://github.com/GiovTemp/SustainaMeal.git to /tmp/pip-req-build-2prfdfmi\n",
            "  Running command git clone --filter=blob:none --quiet https://github.com/GiovTemp/SustainaMeal.git /tmp/pip-req-build-2prfdfmi\n",
            "  Resolved https://github.com/GiovTemp/SustainaMeal.git to commit 13c4f421923712c8e19feac0ba3bbcab17f41a38\n",
            "  Preparing metadata (setup.py) ... \u001b[?25l\u001b[?25hdone\n",
            "Requirement already satisfied: numpy in /usr/local/lib/python3.10/dist-packages (from SustainaMeal==0.1.0) (1.23.5)\n",
            "Requirement already satisfied: pandas in /usr/local/lib/python3.10/dist-packages (from SustainaMeal==0.1.0) (1.5.3)\n",
            "Requirement already satisfied: scikit-learn in /usr/local/lib/python3.10/dist-packages (from SustainaMeal==0.1.0) (1.2.2)\n",
            "Collecting collection (from SustainaMeal==0.1.0)\n",
            "  Using cached collection-0.1.6.tar.gz (5.0 kB)\n",
            "  Preparing metadata (setup.py) ... \u001b[?25l\u001b[?25hdone\n",
            "Requirement already satisfied: transformers in /usr/local/lib/python3.10/dist-packages (from SustainaMeal==0.1.0) (4.35.2)\n",
            "Requirement already satisfied: torch in /usr/local/lib/python3.10/dist-packages (from SustainaMeal==0.1.0) (2.1.0+cu121)\n",
            "Requirement already satisfied: scipy in /usr/local/lib/python3.10/dist-packages (from SustainaMeal==0.1.0) (1.11.4)\n",
            "Requirement already satisfied: tqdm in /usr/local/lib/python3.10/dist-packages (from SustainaMeal==0.1.0) (4.66.1)\n",
            "Requirement already satisfied: nltk in /usr/local/lib/python3.10/dist-packages (from SustainaMeal==0.1.0) (3.8.1)\n",
            "Collecting openai==0.28 (from SustainaMeal==0.1.0)\n",
            "  Using cached openai-0.28.0-py3-none-any.whl (76 kB)\n",
            "Collecting langchain (from SustainaMeal==0.1.0)\n",
            "  Using cached langchain-0.1.5-py3-none-any.whl (806 kB)\n",
            "Requirement already satisfied: pydantic in /usr/local/lib/python3.10/dist-packages (from SustainaMeal==0.1.0) (2.6.0)\n",
            "Requirement already satisfied: requests>=2.20 in /usr/local/lib/python3.10/dist-packages (from openai==0.28->SustainaMeal==0.1.0) (2.31.0)\n",
            "Requirement already satisfied: aiohttp in /usr/local/lib/python3.10/dist-packages (from openai==0.28->SustainaMeal==0.1.0) (3.9.3)\n",
            "Requirement already satisfied: PyYAML>=5.3 in /usr/local/lib/python3.10/dist-packages (from langchain->SustainaMeal==0.1.0) (6.0.1)\n",
            "Requirement already satisfied: SQLAlchemy<3,>=1.4 in /usr/local/lib/python3.10/dist-packages (from langchain->SustainaMeal==0.1.0) (2.0.25)\n",
            "Requirement already satisfied: async-timeout<5.0.0,>=4.0.0 in /usr/local/lib/python3.10/dist-packages (from langchain->SustainaMeal==0.1.0) (4.0.3)\n",
            "Collecting dataclasses-json<0.7,>=0.5.7 (from langchain->SustainaMeal==0.1.0)\n",
            "  Using cached dataclasses_json-0.6.4-py3-none-any.whl (28 kB)\n",
            "Collecting jsonpatch<2.0,>=1.33 (from langchain->SustainaMeal==0.1.0)\n",
            "  Using cached jsonpatch-1.33-py2.py3-none-any.whl (12 kB)\n",
            "Collecting langchain-community<0.1,>=0.0.17 (from langchain->SustainaMeal==0.1.0)\n",
            "  Using cached langchain_community-0.0.17-py3-none-any.whl (1.6 MB)\n",
            "Collecting langchain-core<0.2,>=0.1.16 (from langchain->SustainaMeal==0.1.0)\n",
            "  Using cached langchain_core-0.1.19-py3-none-any.whl (238 kB)\n",
            "Collecting langsmith<0.1,>=0.0.83 (from langchain->SustainaMeal==0.1.0)\n",
            "  Downloading langsmith-0.0.86-py3-none-any.whl (54 kB)\n",
            "\u001b[2K     \u001b[90m━━━━━━━━━━━━━━━━━━━━━━━━━━━━━━━━━━━━━━━━\u001b[0m \u001b[32m54.4/54.4 kB\u001b[0m \u001b[31m844.5 kB/s\u001b[0m eta \u001b[36m0:00:00\u001b[0m\n",
            "\u001b[?25hRequirement already satisfied: tenacity<9.0.0,>=8.1.0 in /usr/local/lib/python3.10/dist-packages (from langchain->SustainaMeal==0.1.0) (8.2.3)\n",
            "Requirement already satisfied: annotated-types>=0.4.0 in /usr/local/lib/python3.10/dist-packages (from pydantic->SustainaMeal==0.1.0) (0.6.0)\n",
            "Requirement already satisfied: pydantic-core==2.16.1 in /usr/local/lib/python3.10/dist-packages (from pydantic->SustainaMeal==0.1.0) (2.16.1)\n",
            "Requirement already satisfied: typing-extensions>=4.6.1 in /usr/local/lib/python3.10/dist-packages (from pydantic->SustainaMeal==0.1.0) (4.9.0)\n",
            "Requirement already satisfied: click in /usr/local/lib/python3.10/dist-packages (from nltk->SustainaMeal==0.1.0) (8.1.7)\n",
            "Requirement already satisfied: joblib in /usr/local/lib/python3.10/dist-packages (from nltk->SustainaMeal==0.1.0) (1.3.2)\n",
            "Requirement already satisfied: regex>=2021.8.3 in /usr/local/lib/python3.10/dist-packages (from nltk->SustainaMeal==0.1.0) (2023.12.25)\n",
            "Requirement already satisfied: python-dateutil>=2.8.1 in /usr/local/lib/python3.10/dist-packages (from pandas->SustainaMeal==0.1.0) (2.8.2)\n",
            "Requirement already satisfied: pytz>=2020.1 in /usr/local/lib/python3.10/dist-packages (from pandas->SustainaMeal==0.1.0) (2023.4)\n",
            "Requirement already satisfied: threadpoolctl>=2.0.0 in /usr/local/lib/python3.10/dist-packages (from scikit-learn->SustainaMeal==0.1.0) (3.2.0)\n",
            "Requirement already satisfied: filelock in /usr/local/lib/python3.10/dist-packages (from torch->SustainaMeal==0.1.0) (3.13.1)\n",
            "Requirement already satisfied: sympy in /usr/local/lib/python3.10/dist-packages (from torch->SustainaMeal==0.1.0) (1.12)\n",
            "Requirement already satisfied: networkx in /usr/local/lib/python3.10/dist-packages (from torch->SustainaMeal==0.1.0) (3.2.1)\n",
            "Requirement already satisfied: jinja2 in /usr/local/lib/python3.10/dist-packages (from torch->SustainaMeal==0.1.0) (3.1.3)\n",
            "Requirement already satisfied: fsspec in /usr/local/lib/python3.10/dist-packages (from torch->SustainaMeal==0.1.0) (2023.6.0)\n",
            "Requirement already satisfied: triton==2.1.0 in /usr/local/lib/python3.10/dist-packages (from torch->SustainaMeal==0.1.0) (2.1.0)\n",
            "Requirement already satisfied: huggingface-hub<1.0,>=0.16.4 in /usr/local/lib/python3.10/dist-packages (from transformers->SustainaMeal==0.1.0) (0.20.3)\n",
            "Requirement already satisfied: packaging>=20.0 in /usr/local/lib/python3.10/dist-packages (from transformers->SustainaMeal==0.1.0) (23.2)\n",
            "Requirement already satisfied: tokenizers<0.19,>=0.14 in /usr/local/lib/python3.10/dist-packages (from transformers->SustainaMeal==0.1.0) (0.15.1)\n",
            "Requirement already satisfied: safetensors>=0.3.1 in /usr/local/lib/python3.10/dist-packages (from transformers->SustainaMeal==0.1.0) (0.4.2)\n",
            "Requirement already satisfied: aiosignal>=1.1.2 in /usr/local/lib/python3.10/dist-packages (from aiohttp->openai==0.28->SustainaMeal==0.1.0) (1.3.1)\n",
            "Requirement already satisfied: attrs>=17.3.0 in /usr/local/lib/python3.10/dist-packages (from aiohttp->openai==0.28->SustainaMeal==0.1.0) (23.2.0)\n",
            "Requirement already satisfied: frozenlist>=1.1.1 in /usr/local/lib/python3.10/dist-packages (from aiohttp->openai==0.28->SustainaMeal==0.1.0) (1.4.1)\n",
            "Requirement already satisfied: multidict<7.0,>=4.5 in /usr/local/lib/python3.10/dist-packages (from aiohttp->openai==0.28->SustainaMeal==0.1.0) (6.0.5)\n",
            "Requirement already satisfied: yarl<2.0,>=1.0 in /usr/local/lib/python3.10/dist-packages (from aiohttp->openai==0.28->SustainaMeal==0.1.0) (1.9.4)\n",
            "Collecting marshmallow<4.0.0,>=3.18.0 (from dataclasses-json<0.7,>=0.5.7->langchain->SustainaMeal==0.1.0)\n",
            "  Downloading marshmallow-3.20.2-py3-none-any.whl (49 kB)\n",
            "\u001b[2K     \u001b[90m━━━━━━━━━━━━━━━━━━━━━━━━━━━━━━━━━━━━━━━━\u001b[0m \u001b[32m49.4/49.4 kB\u001b[0m \u001b[31m4.8 MB/s\u001b[0m eta \u001b[36m0:00:00\u001b[0m\n",
            "\u001b[?25hCollecting typing-inspect<1,>=0.4.0 (from dataclasses-json<0.7,>=0.5.7->langchain->SustainaMeal==0.1.0)\n",
            "  Downloading typing_inspect-0.9.0-py3-none-any.whl (8.8 kB)\n",
            "Collecting jsonpointer>=1.9 (from jsonpatch<2.0,>=1.33->langchain->SustainaMeal==0.1.0)\n",
            "  Downloading jsonpointer-2.4-py2.py3-none-any.whl (7.8 kB)\n",
            "Requirement already satisfied: anyio<5,>=3 in /usr/local/lib/python3.10/dist-packages (from langchain-core<0.2,>=0.1.16->langchain->SustainaMeal==0.1.0) (3.7.1)\n",
            "Requirement already satisfied: six>=1.5 in /usr/local/lib/python3.10/dist-packages (from python-dateutil>=2.8.1->pandas->SustainaMeal==0.1.0) (1.16.0)\n",
            "Requirement already satisfied: charset-normalizer<4,>=2 in /usr/local/lib/python3.10/dist-packages (from requests>=2.20->openai==0.28->SustainaMeal==0.1.0) (3.3.2)\n",
            "Requirement already satisfied: idna<4,>=2.5 in /usr/local/lib/python3.10/dist-packages (from requests>=2.20->openai==0.28->SustainaMeal==0.1.0) (3.6)\n",
            "Requirement already satisfied: urllib3<3,>=1.21.1 in /usr/local/lib/python3.10/dist-packages (from requests>=2.20->openai==0.28->SustainaMeal==0.1.0) (2.0.7)\n",
            "Requirement already satisfied: certifi>=2017.4.17 in /usr/local/lib/python3.10/dist-packages (from requests>=2.20->openai==0.28->SustainaMeal==0.1.0) (2024.2.2)\n",
            "Requirement already satisfied: greenlet!=0.4.17 in /usr/local/lib/python3.10/dist-packages (from SQLAlchemy<3,>=1.4->langchain->SustainaMeal==0.1.0) (3.0.3)\n",
            "Requirement already satisfied: MarkupSafe>=2.0 in /usr/local/lib/python3.10/dist-packages (from jinja2->torch->SustainaMeal==0.1.0) (2.1.5)\n",
            "Requirement already satisfied: mpmath>=0.19 in /usr/local/lib/python3.10/dist-packages (from sympy->torch->SustainaMeal==0.1.0) (1.3.0)\n",
            "Requirement already satisfied: sniffio>=1.1 in /usr/local/lib/python3.10/dist-packages (from anyio<5,>=3->langchain-core<0.2,>=0.1.16->langchain->SustainaMeal==0.1.0) (1.3.0)\n",
            "Requirement already satisfied: exceptiongroup in /usr/local/lib/python3.10/dist-packages (from anyio<5,>=3->langchain-core<0.2,>=0.1.16->langchain->SustainaMeal==0.1.0) (1.2.0)\n",
            "Collecting mypy-extensions>=0.3.0 (from typing-inspect<1,>=0.4.0->dataclasses-json<0.7,>=0.5.7->langchain->SustainaMeal==0.1.0)\n",
            "  Downloading mypy_extensions-1.0.0-py3-none-any.whl (4.7 kB)\n",
            "Building wheels for collected packages: SustainaMeal, collection\n",
            "  Building wheel for SustainaMeal (setup.py) ... \u001b[?25l\u001b[?25hdone\n",
            "  Created wheel for SustainaMeal: filename=SustainaMeal-0.1.0-py3-none-any.whl size=19108 sha256=bb94d6790d2a850633e64c6aed75f1eca82cdfdcc7d7f26afa38a3cd9acd291e\n",
            "  Stored in directory: /tmp/pip-ephem-wheel-cache-slxo170u/wheels/27/eb/bb/09df695e710464e35f72a5a0a9841858413db51a2dfb4154c7\n",
            "  Building wheel for collection (setup.py) ... \u001b[?25l\u001b[?25hdone\n",
            "  Created wheel for collection: filename=collection-0.1.6-py3-none-any.whl size=5099 sha256=569f6a3e5d679227d488827bc9678a92863739214b74f72c815a1c504fb7442b\n",
            "  Stored in directory: /root/.cache/pip/wheels/a5/70/eb/1d28795e9384ab3b9be6359bdde9e1652f6e7dab9d26844f70\n",
            "Successfully built SustainaMeal collection\n",
            "Installing collected packages: collection, mypy-extensions, marshmallow, jsonpointer, typing-inspect, jsonpatch, openai, langsmith, dataclasses-json, langchain-core, langchain-community, langchain, SustainaMeal\n",
            "\u001b[31mERROR: pip's dependency resolver does not currently take into account all the packages that are installed. This behaviour is the source of the following dependency conflicts.\n",
            "llmx 0.0.15a0 requires cohere, which is not installed.\n",
            "llmx 0.0.15a0 requires tiktoken, which is not installed.\u001b[0m\u001b[31m\n",
            "\u001b[0mSuccessfully installed SustainaMeal-0.1.0 collection-0.1.6 dataclasses-json-0.6.4 jsonpatch-1.33 jsonpointer-2.4 langchain-0.1.5 langchain-community-0.0.17 langchain-core-0.1.19 langsmith-0.0.86 marshmallow-3.20.2 mypy-extensions-1.0.0 openai-0.28.0 typing-inspect-0.9.0\n"
          ]
        }
      ]
    },
    {
      "cell_type": "markdown",
      "source": [
        "# SustainaMeal (ETA: 15/20 mins)"
      ],
      "metadata": {
        "id": "am8i4pRxLruU"
      }
    },
    {
      "cell_type": "markdown",
      "source": [
        "Initializes the system by loading the data and preparing the embeddings."
      ],
      "metadata": {
        "id": "7_G1T9WXLxXc"
      }
    },
    {
      "cell_type": "code",
      "source": [
        "from sustainameal import SustainaMeal\n",
        "\n",
        "#nutrients=['calories [cal]', 'totalFat [g]', 'sodium [mg]', 'dietaryFiber [g]', 'sugars [g]', 'protein [g]']\n",
        "nutrients = ['calories [cal]', 'totalFat [g]', 'saturatedFat [g]', 'cholesterol [mg]', 'sodium [mg]', 'dietaryFiber [g]', 'sugars [g]', 'protein [g]']\n",
        "\n",
        "sm = SustainaMeal(\n",
        "    recipes_df=recipes_df,\n",
        "    nutrients=['calories [cal]', 'totalFat [g]', 'saturatedFat [g]', 'cholesterol [mg]', 'sodium [mg]', 'dietaryFiber [g]', 'sugars [g]', 'protein [g]'],\n",
        "    transformer_name='davanstrien/autotrain-recipes-2451975973'\n",
        ")"
      ],
      "metadata": {
        "colab": {
          "base_uri": "https://localhost:8080/"
        },
        "id": "-Xqz4MyI3G1b",
        "outputId": "58e098b7-6631-4324-9da7-28a8f8b09ce6"
      },
      "execution_count": 16,
      "outputs": [
        {
          "output_type": "stream",
          "name": "stderr",
          "text": [
            "Processing Titles embeddings: 100%|██████████| 100870/100870 [17:24<00:00, 96.58batch/s]\n"
          ]
        }
      ]
    },
    {
      "cell_type": "code",
      "source": [
        "recipe_titles = [\n",
        "    \"Spicy Thai Basil Chicken\",\n",
        "    \"Classic Margherita Pizza\",\n",
        "    \"Vegan Quinoa & Black Bean Salad\",\n",
        "    \"Mediterranean Grilled Salmon\",\n",
        "    \"Creamy Mushroom Risotto\",\n",
        "    \"Korean BBQ Beef Tacos\",\n",
        "    \"Butternut Squash Soup\",\n",
        "    \"Spinach and Feta Stuffed Chicken\",\n",
        "    \"Vegetarian Chickpea Curry\",\n",
        "    \"Classic French Ratatouille\",\n",
        "    \"Greek Salad with Homemade Dressing\",\n",
        "    \"Mexican Street Corn (Elote)\",\n",
        "    \"Italian Beef Lasagna\",\n",
        "    \"Vegan Avocado Chocolate Mousse\",\n",
        "    \"Moroccan Lamb Tagine\",\n",
        "    \"Japanese Ramen with Pork Belly\",\n",
        "    \"Cauliflower Buffalo Wings (Vegan)\",\n",
        "    \"Spanish Paella with Seafood\",\n",
        "    \"Coconut and Lime Prawn Skewers\",\n",
        "    \"Maple Glazed Roasted Carrots\",\n",
        "    \"Lemon and Herb Roasted Chicken\",\n",
        "    \"Vegetarian Pad Thai\",\n",
        "    \"Apple Cinnamon Oatmeal (Vegan)\",\n",
        "    \"Traditional Indian Butter Chicken\",\n",
        "    \"Tuscan Garlic Shrimp Pasta\",\n",
        "    \"Korean Kimchi Pancakes\",\n",
        "    \"Baked Stuffed Peppers\",\n",
        "    \"Creamy Tomato Basil Soup\",\n",
        "    \"Balsamic Glazed Brussels Sprouts\",\n",
        "    \"Strawberry Cheesecake (No-Bake)\"\n",
        "]\n"
      ],
      "metadata": {
        "id": "kMO-LY3bHWWm"
      },
      "execution_count": 8,
      "outputs": []
    },
    {
      "cell_type": "code",
      "source": [
        "nutrients_string = \", \".join(nutrients)\n",
        "print(nutrients_string)\n"
      ],
      "metadata": {
        "id": "eW8D4XWnINQD",
        "colab": {
          "base_uri": "https://localhost:8080/"
        },
        "outputId": "0f7b4a69-4fb9-495d-dd42-51e073f37317"
      },
      "execution_count": 17,
      "outputs": [
        {
          "output_type": "stream",
          "name": "stdout",
          "text": [
            "calories [cal], totalFat [g], saturatedFat [g], cholesterol [mg], sodium [mg], dietaryFiber [g], sugars [g], protein [g]\n"
          ]
        }
      ]
    },
    {
      "cell_type": "code",
      "source": [
        "results = []"
      ],
      "metadata": {
        "id": "pm8V41Z0hUuq"
      },
      "execution_count": 10,
      "outputs": []
    },
    {
      "cell_type": "code",
      "source": [
        "acceptable_tags = ['appetizers', 'main-dish', 'side-dishes', 'drinks', 'beverages', 'fruits', 'desserts',\n",
        "                   'breakfast', 'pasta-rice-and-grains', 'rice', 'pasta', 'pizza', 'breads', 'meat', 'fish',\n",
        "                   'seafood', 'beef', 'chicken', 'vegetarian']"
      ],
      "metadata": {
        "id": "pK9foxnchUSj"
      },
      "execution_count": 11,
      "outputs": []
    },
    {
      "cell_type": "code",
      "source": [
        "# Definisci le soglie\n",
        "WHO_SCORE_THRESHOLDS = ( 0.15, 0.25)  # (soglia media, soglia alta)\n",
        "SUSTAINABILITY_SCORE_THRESHOLDS = (0.9, 0.5)  # (soglia media, soglia alta)\n",
        "\n",
        "# Funzioni di aiuto per calcolare le label\n",
        "def calculate_healthiness_label(who_score):\n",
        "    if who_score > WHO_SCORE_THRESHOLDS[1]:\n",
        "        return \"0\"\n",
        "    elif who_score < WHO_SCORE_THRESHOLDS[0]:\n",
        "        return \"2\"\n",
        "    else:\n",
        "        return \"1\"\n",
        "\n",
        "def calculate_sustainability_label(sustainability_score):\n",
        "    if sustainability_score >= SUSTAINABILITY_SCORE_THRESHOLDS[0]:\n",
        "        return \"0\"\n",
        "    elif sustainability_score <= SUSTAINABILITY_SCORE_THRESHOLDS[1]:\n",
        "        return \"2\"\n",
        "    else:\n",
        "        return \"1\"\n",
        "\n",
        "# Calcola le label in base ai valori di who_score e sustainability_score"
      ],
      "metadata": {
        "id": "VUK22FAJWumZ"
      },
      "execution_count": 12,
      "outputs": []
    },
    {
      "cell_type": "code",
      "source": [
        "# Parametri per gli esperimenti\n",
        "k_values = [1, 10, 50, 100]\n",
        "match_all_tags_values = [True, False]\n",
        "\n",
        "def convert_to_serializable(obj):\n",
        "    \"\"\"\n",
        "    Converte oggetti in formati serializzabili in JSON.\n",
        "    Gestisce DataFrame, array NumPy e altri tipi non serializzabili.\n",
        "    \"\"\"\n",
        "    if hasattr(obj, 'to_dict'):\n",
        "        # Converti il DataFrame pandas in un dizionario\n",
        "        return obj.to_dict('records')\n",
        "    elif hasattr(obj, 'tolist'):\n",
        "        # Converti l'array NumPy in una lista\n",
        "        return obj.tolist()\n",
        "    elif isinstance(obj, (list, dict, str, int, float, bool, type(None))):\n",
        "        # Tipi già serializzabili in JSON\n",
        "        return obj\n",
        "    else:\n",
        "        # Converti altri tipi in stringa o implementa altre conversioni\n",
        "        return str(obj)\n",
        "\n",
        "\n",
        "\n",
        "for input_recipe in recipe_titles:\n",
        "\n",
        "    for k in k_values:\n",
        "        for match_all_tags in match_all_tags_values:\n",
        "\n",
        "          try:\n",
        "              similar_recipes = sm.find_similar_recipes(input_recipe, k, acceptable_tags, match_all_tags=match_all_tags)\n",
        "          except Exception as e:\n",
        "              print(f\"An error occurred while finding similar recipes: {e}\")\n",
        "              similar_recipes = None  # or set it to a default value or take other appropriate actions\n",
        "\n",
        "          # Continue with the rest of your code, making sure to handle the case where similar_recipes is None\n",
        "          if similar_recipes is not None:\n",
        "            recipe_by_sustainameal_score = sm.order_recipe_by_sustainameal()\n",
        "\n",
        "            healthiness_label = calculate_healthiness_label(sm.original_scores[0]['who_score'])\n",
        "            sustainability_label = calculate_sustainability_label(sm.original_scores[0]['sustainability_score'])\n",
        "\n",
        "            result = {\n",
        "                'recipe_name': input_recipe,\n",
        "                'sustnability_score':sm.original_scores[0]['sustainability_score'],\n",
        "                'sustnability_label': sustainability_label ,\n",
        "                'who_score': sm.original_scores[0]['who_score'],\n",
        "                'healthiness_label': healthiness_label ,\n",
        "                'k': k,\n",
        "                'nutrients' : nutrients_string,\n",
        "                'match_all_tags': match_all_tags,\n",
        "                'similar_recipes': convert_to_serializable(similar_recipes),\n",
        "                'ordered_by_sustainameal': convert_to_serializable(recipe_by_sustainameal_score[:10])\n",
        "\n",
        "            }\n",
        "            results.append(result)\n"
      ],
      "metadata": {
        "id": "VomXsQRclmdj",
        "colab": {
          "base_uri": "https://localhost:8080/"
        },
        "outputId": "fa4bd6fe-0c8f-450a-af04-2144b06312e1"
      },
      "execution_count": 18,
      "outputs": [
        {
          "output_type": "stream",
          "name": "stderr",
          "text": [
            "Processing Titles embeddings: 100%|██████████| 1/1 [00:00<00:00, 41.51batch/s]\n"
          ]
        },
        {
          "output_type": "stream",
          "name": "stdout",
          "text": [
            "Tags to match: []\n",
            "An error occurred while finding similar recipes: No tag found to match.\n"
          ]
        },
        {
          "output_type": "stream",
          "name": "stderr",
          "text": [
            "Processing Titles embeddings: 100%|██████████| 1/1 [00:00<00:00, 65.49batch/s]\n"
          ]
        },
        {
          "output_type": "stream",
          "name": "stdout",
          "text": [
            "Tags to match: []\n",
            "An error occurred while finding similar recipes: No tag found to match.\n"
          ]
        },
        {
          "output_type": "stream",
          "name": "stderr",
          "text": [
            "Processing Titles embeddings: 100%|██████████| 1/1 [00:00<00:00, 64.84batch/s]\n"
          ]
        },
        {
          "output_type": "stream",
          "name": "stdout",
          "text": [
            "Tags to match: ['chicken']\n",
            "Number of filtered recipes: 6837\n"
          ]
        },
        {
          "output_type": "stream",
          "name": "stderr",
          "text": [
            "Processing Titles embeddings: 100%|██████████| 1/1 [00:00<00:00, 68.74batch/s]\n"
          ]
        },
        {
          "output_type": "stream",
          "name": "stdout",
          "text": [
            "Tags to match: ['chicken']\n",
            "Number of filtered recipes: 6837\n"
          ]
        },
        {
          "output_type": "stream",
          "name": "stderr",
          "text": [
            "Processing Titles embeddings: 100%|██████████| 1/1 [00:00<00:00, 73.88batch/s]\n"
          ]
        },
        {
          "output_type": "stream",
          "name": "stdout",
          "text": [
            "Tags to match: ['chicken']\n",
            "Number of filtered recipes: 6837\n"
          ]
        },
        {
          "output_type": "stream",
          "name": "stderr",
          "text": [
            "Processing Titles embeddings: 100%|██████████| 1/1 [00:00<00:00, 60.68batch/s]\n"
          ]
        },
        {
          "output_type": "stream",
          "name": "stdout",
          "text": [
            "Tags to match: ['chicken']\n",
            "Number of filtered recipes: 6837\n"
          ]
        },
        {
          "output_type": "stream",
          "name": "stderr",
          "text": [
            "Processing Titles embeddings: 100%|██████████| 1/1 [00:00<00:00, 77.44batch/s]\n"
          ]
        },
        {
          "output_type": "stream",
          "name": "stdout",
          "text": [
            "Tags to match: ['chicken']\n",
            "Number of filtered recipes: 6837\n"
          ]
        },
        {
          "output_type": "stream",
          "name": "stderr",
          "text": [
            "Processing Titles embeddings: 100%|██████████| 1/1 [00:00<00:00, 68.93batch/s]\n"
          ]
        },
        {
          "output_type": "stream",
          "name": "stdout",
          "text": [
            "Tags to match: ['chicken']\n",
            "Number of filtered recipes: 6837\n"
          ]
        },
        {
          "output_type": "stream",
          "name": "stderr",
          "text": [
            "Processing Titles embeddings: 100%|██████████| 1/1 [00:00<00:00, 68.21batch/s]\n"
          ]
        },
        {
          "output_type": "stream",
          "name": "stdout",
          "text": [
            "Tags to match: ['main-dish']\n",
            "Number of filtered recipes: 26476\n"
          ]
        },
        {
          "output_type": "stream",
          "name": "stderr",
          "text": [
            "Processing Titles embeddings: 100%|██████████| 1/1 [00:00<00:00, 72.63batch/s]\n"
          ]
        },
        {
          "output_type": "stream",
          "name": "stdout",
          "text": [
            "Tags to match: ['main-dish']\n",
            "Number of filtered recipes: 26476\n"
          ]
        },
        {
          "output_type": "stream",
          "name": "stderr",
          "text": [
            "Processing Titles embeddings: 100%|██████████| 1/1 [00:00<00:00, 66.45batch/s]\n"
          ]
        },
        {
          "output_type": "stream",
          "name": "stdout",
          "text": [
            "Tags to match: []\n",
            "An error occurred while finding similar recipes: No tag found to match.\n"
          ]
        },
        {
          "output_type": "stream",
          "name": "stderr",
          "text": [
            "Processing Titles embeddings: 100%|██████████| 1/1 [00:00<00:00, 76.79batch/s]\n"
          ]
        },
        {
          "output_type": "stream",
          "name": "stdout",
          "text": [
            "Tags to match: []\n",
            "An error occurred while finding similar recipes: No tag found to match.\n"
          ]
        },
        {
          "output_type": "stream",
          "name": "stderr",
          "text": [
            "Processing Titles embeddings: 100%|██████████| 1/1 [00:00<00:00, 66.01batch/s]\n"
          ]
        },
        {
          "output_type": "stream",
          "name": "stdout",
          "text": [
            "Tags to match: []\n",
            "An error occurred while finding similar recipes: No tag found to match.\n"
          ]
        },
        {
          "output_type": "stream",
          "name": "stderr",
          "text": [
            "Processing Titles embeddings: 100%|██████████| 1/1 [00:00<00:00, 68.31batch/s]\n"
          ]
        },
        {
          "output_type": "stream",
          "name": "stdout",
          "text": [
            "Tags to match: []\n",
            "An error occurred while finding similar recipes: No tag found to match.\n"
          ]
        },
        {
          "output_type": "stream",
          "name": "stderr",
          "text": [
            "Processing Titles embeddings: 100%|██████████| 1/1 [00:00<00:00, 67.67batch/s]\n"
          ]
        },
        {
          "output_type": "stream",
          "name": "stdout",
          "text": [
            "Tags to match: []\n",
            "An error occurred while finding similar recipes: No tag found to match.\n"
          ]
        },
        {
          "output_type": "stream",
          "name": "stderr",
          "text": [
            "Processing Titles embeddings: 100%|██████████| 1/1 [00:00<00:00, 99.55batch/s]\n"
          ]
        },
        {
          "output_type": "stream",
          "name": "stdout",
          "text": [
            "Tags to match: []\n",
            "An error occurred while finding similar recipes: No tag found to match.\n"
          ]
        },
        {
          "output_type": "stream",
          "name": "stderr",
          "text": [
            "Processing Titles embeddings: 100%|██████████| 1/1 [00:00<00:00, 55.97batch/s]\n"
          ]
        },
        {
          "output_type": "stream",
          "name": "stdout",
          "text": [
            "Tags to match: []\n",
            "An error occurred while finding similar recipes: No tag found to match.\n"
          ]
        },
        {
          "output_type": "stream",
          "name": "stderr",
          "text": [
            "Processing Titles embeddings: 100%|██████████| 1/1 [00:00<00:00, 69.88batch/s]\n"
          ]
        },
        {
          "output_type": "stream",
          "name": "stdout",
          "text": [
            "Tags to match: []\n",
            "An error occurred while finding similar recipes: No tag found to match.\n"
          ]
        },
        {
          "output_type": "stream",
          "name": "stderr",
          "text": [
            "Processing Titles embeddings: 100%|██████████| 1/1 [00:00<00:00, 51.59batch/s]\n"
          ]
        },
        {
          "output_type": "stream",
          "name": "stdout",
          "text": [
            "Tags to match: []\n",
            "An error occurred while finding similar recipes: No tag found to match.\n"
          ]
        },
        {
          "output_type": "stream",
          "name": "stderr",
          "text": [
            "Processing Titles embeddings: 100%|██████████| 1/1 [00:00<00:00, 51.77batch/s]\n"
          ]
        },
        {
          "output_type": "stream",
          "name": "stdout",
          "text": [
            "Tags to match: []\n",
            "An error occurred while finding similar recipes: No tag found to match.\n"
          ]
        },
        {
          "output_type": "stream",
          "name": "stderr",
          "text": [
            "Processing Titles embeddings: 100%|██████████| 1/1 [00:00<00:00, 47.39batch/s]\n"
          ]
        },
        {
          "output_type": "stream",
          "name": "stdout",
          "text": [
            "Tags to match: []\n",
            "An error occurred while finding similar recipes: No tag found to match.\n"
          ]
        },
        {
          "output_type": "stream",
          "name": "stderr",
          "text": [
            "Processing Titles embeddings: 100%|██████████| 1/1 [00:00<00:00, 54.79batch/s]\n"
          ]
        },
        {
          "output_type": "stream",
          "name": "stdout",
          "text": [
            "Tags to match: []\n",
            "An error occurred while finding similar recipes: No tag found to match.\n"
          ]
        },
        {
          "output_type": "stream",
          "name": "stderr",
          "text": [
            "Processing Titles embeddings: 100%|██████████| 1/1 [00:00<00:00, 69.38batch/s]\n"
          ]
        },
        {
          "output_type": "stream",
          "name": "stdout",
          "text": [
            "Tags to match: []\n",
            "An error occurred while finding similar recipes: No tag found to match.\n"
          ]
        },
        {
          "output_type": "stream",
          "name": "stderr",
          "text": [
            "Processing Titles embeddings: 100%|██████████| 1/1 [00:00<00:00, 69.84batch/s]\n"
          ]
        },
        {
          "output_type": "stream",
          "name": "stdout",
          "text": [
            "Tags to match: []\n",
            "An error occurred while finding similar recipes: No tag found to match.\n"
          ]
        },
        {
          "output_type": "stream",
          "name": "stderr",
          "text": [
            "Processing Titles embeddings: 100%|██████████| 1/1 [00:00<00:00, 69.53batch/s]\n"
          ]
        },
        {
          "output_type": "stream",
          "name": "stdout",
          "text": [
            "Tags to match: []\n",
            "An error occurred while finding similar recipes: No tag found to match.\n"
          ]
        },
        {
          "output_type": "stream",
          "name": "stderr",
          "text": [
            "Processing Titles embeddings: 100%|██████████| 1/1 [00:00<00:00, 55.60batch/s]\n"
          ]
        },
        {
          "output_type": "stream",
          "name": "stdout",
          "text": [
            "Tags to match: []\n",
            "An error occurred while finding similar recipes: No tag found to match.\n"
          ]
        },
        {
          "output_type": "stream",
          "name": "stderr",
          "text": [
            "Processing Titles embeddings: 100%|██████████| 1/1 [00:00<00:00, 76.63batch/s]\n"
          ]
        },
        {
          "output_type": "stream",
          "name": "stdout",
          "text": [
            "Tags to match: ['main-dish', 'seafood']\n",
            "Number of filtered recipes: 3602\n"
          ]
        },
        {
          "output_type": "stream",
          "name": "stderr",
          "text": [
            "Processing Titles embeddings: 100%|██████████| 1/1 [00:00<00:00, 71.19batch/s]\n"
          ]
        },
        {
          "output_type": "stream",
          "name": "stdout",
          "text": [
            "Tags to match: ['main-dish', 'seafood']\n",
            "Number of filtered recipes: 28534\n"
          ]
        },
        {
          "output_type": "stream",
          "name": "stderr",
          "text": [
            "Processing Titles embeddings: 100%|██████████| 1/1 [00:00<00:00, 63.85batch/s]\n"
          ]
        },
        {
          "output_type": "stream",
          "name": "stdout",
          "text": [
            "Tags to match: ['main-dish', 'seafood']\n",
            "Number of filtered recipes: 3602\n"
          ]
        },
        {
          "output_type": "stream",
          "name": "stderr",
          "text": [
            "Processing Titles embeddings: 100%|██████████| 1/1 [00:00<00:00, 65.01batch/s]\n"
          ]
        },
        {
          "output_type": "stream",
          "name": "stdout",
          "text": [
            "Tags to match: ['main-dish', 'seafood']\n",
            "Number of filtered recipes: 28534\n"
          ]
        },
        {
          "output_type": "stream",
          "name": "stderr",
          "text": [
            "Processing Titles embeddings: 100%|██████████| 1/1 [00:00<00:00, 84.29batch/s]\n"
          ]
        },
        {
          "output_type": "stream",
          "name": "stdout",
          "text": [
            "Tags to match: ['main-dish', 'seafood']\n",
            "Number of filtered recipes: 3602\n"
          ]
        },
        {
          "output_type": "stream",
          "name": "stderr",
          "text": [
            "Processing Titles embeddings: 100%|██████████| 1/1 [00:00<00:00, 68.23batch/s]\n"
          ]
        },
        {
          "output_type": "stream",
          "name": "stdout",
          "text": [
            "Tags to match: ['main-dish', 'seafood']\n",
            "Number of filtered recipes: 28534\n"
          ]
        },
        {
          "output_type": "stream",
          "name": "stderr",
          "text": [
            "Processing Titles embeddings: 100%|██████████| 1/1 [00:00<00:00, 65.63batch/s]\n"
          ]
        },
        {
          "output_type": "stream",
          "name": "stdout",
          "text": [
            "Tags to match: []\n",
            "An error occurred while finding similar recipes: No tag found to match.\n"
          ]
        },
        {
          "output_type": "stream",
          "name": "stderr",
          "text": [
            "Processing Titles embeddings: 100%|██████████| 1/1 [00:00<00:00, 51.88batch/s]\n"
          ]
        },
        {
          "output_type": "stream",
          "name": "stdout",
          "text": [
            "Tags to match: []\n",
            "An error occurred while finding similar recipes: No tag found to match.\n"
          ]
        },
        {
          "output_type": "stream",
          "name": "stderr",
          "text": [
            "Processing Titles embeddings: 100%|██████████| 1/1 [00:00<00:00, 77.97batch/s]\n"
          ]
        },
        {
          "output_type": "stream",
          "name": "stdout",
          "text": [
            "Tags to match: []\n",
            "An error occurred while finding similar recipes: No tag found to match.\n"
          ]
        },
        {
          "output_type": "stream",
          "name": "stderr",
          "text": [
            "Processing Titles embeddings: 100%|██████████| 1/1 [00:00<00:00, 63.04batch/s]\n"
          ]
        },
        {
          "output_type": "stream",
          "name": "stdout",
          "text": [
            "Tags to match: []\n",
            "An error occurred while finding similar recipes: No tag found to match.\n"
          ]
        },
        {
          "output_type": "stream",
          "name": "stderr",
          "text": [
            "Processing Titles embeddings: 100%|██████████| 1/1 [00:00<00:00, 67.83batch/s]\n"
          ]
        },
        {
          "output_type": "stream",
          "name": "stdout",
          "text": [
            "Tags to match: []\n",
            "An error occurred while finding similar recipes: No tag found to match.\n"
          ]
        },
        {
          "output_type": "stream",
          "name": "stderr",
          "text": [
            "Processing Titles embeddings: 100%|██████████| 1/1 [00:00<00:00, 72.44batch/s]\n"
          ]
        },
        {
          "output_type": "stream",
          "name": "stdout",
          "text": [
            "Tags to match: []\n",
            "An error occurred while finding similar recipes: No tag found to match.\n"
          ]
        },
        {
          "output_type": "stream",
          "name": "stderr",
          "text": [
            "Processing Titles embeddings: 100%|██████████| 1/1 [00:00<00:00, 70.52batch/s]\n"
          ]
        },
        {
          "output_type": "stream",
          "name": "stdout",
          "text": [
            "Tags to match: []\n",
            "An error occurred while finding similar recipes: No tag found to match.\n"
          ]
        },
        {
          "output_type": "stream",
          "name": "stderr",
          "text": [
            "Processing Titles embeddings: 100%|██████████| 1/1 [00:00<00:00, 61.83batch/s]\n"
          ]
        },
        {
          "output_type": "stream",
          "name": "stdout",
          "text": [
            "Tags to match: []\n",
            "An error occurred while finding similar recipes: No tag found to match.\n"
          ]
        },
        {
          "output_type": "stream",
          "name": "stderr",
          "text": [
            "Processing Titles embeddings: 100%|██████████| 1/1 [00:00<00:00, 61.91batch/s]\n"
          ]
        },
        {
          "output_type": "stream",
          "name": "stdout",
          "text": [
            "Tags to match: []\n",
            "An error occurred while finding similar recipes: No tag found to match.\n"
          ]
        },
        {
          "output_type": "stream",
          "name": "stderr",
          "text": [
            "Processing Titles embeddings: 100%|██████████| 1/1 [00:00<00:00, 62.40batch/s]\n"
          ]
        },
        {
          "output_type": "stream",
          "name": "stdout",
          "text": [
            "Tags to match: []\n",
            "An error occurred while finding similar recipes: No tag found to match.\n"
          ]
        },
        {
          "output_type": "stream",
          "name": "stderr",
          "text": [
            "Processing Titles embeddings: 100%|██████████| 1/1 [00:00<00:00, 47.95batch/s]\n"
          ]
        },
        {
          "output_type": "stream",
          "name": "stdout",
          "text": [
            "Tags to match: ['meat']\n",
            "Number of filtered recipes: 18552\n"
          ]
        },
        {
          "output_type": "stream",
          "name": "stderr",
          "text": [
            "Processing Titles embeddings: 100%|██████████| 1/1 [00:00<00:00, 69.96batch/s]\n"
          ]
        },
        {
          "output_type": "stream",
          "name": "stdout",
          "text": [
            "Tags to match: ['meat']\n",
            "Number of filtered recipes: 18552\n"
          ]
        },
        {
          "output_type": "stream",
          "name": "stderr",
          "text": [
            "Processing Titles embeddings: 100%|██████████| 1/1 [00:00<00:00, 74.95batch/s]\n"
          ]
        },
        {
          "output_type": "stream",
          "name": "stdout",
          "text": [
            "Tags to match: ['meat']\n",
            "Number of filtered recipes: 18552\n"
          ]
        },
        {
          "output_type": "stream",
          "name": "stderr",
          "text": [
            "Processing Titles embeddings: 100%|██████████| 1/1 [00:00<00:00, 69.07batch/s]\n"
          ]
        },
        {
          "output_type": "stream",
          "name": "stdout",
          "text": [
            "Tags to match: ['meat']\n",
            "Number of filtered recipes: 18552\n"
          ]
        },
        {
          "output_type": "stream",
          "name": "stderr",
          "text": [
            "Processing Titles embeddings: 100%|██████████| 1/1 [00:00<00:00, 66.11batch/s]\n"
          ]
        },
        {
          "output_type": "stream",
          "name": "stdout",
          "text": [
            "Tags to match: ['meat']\n",
            "Number of filtered recipes: 18552\n"
          ]
        },
        {
          "output_type": "stream",
          "name": "stderr",
          "text": [
            "Processing Titles embeddings: 100%|██████████| 1/1 [00:00<00:00, 64.72batch/s]\n"
          ]
        },
        {
          "output_type": "stream",
          "name": "stdout",
          "text": [
            "Tags to match: ['meat']\n",
            "Number of filtered recipes: 18552\n"
          ]
        },
        {
          "output_type": "stream",
          "name": "stderr",
          "text": [
            "Processing Titles embeddings: 100%|██████████| 1/1 [00:00<00:00, 60.83batch/s]\n"
          ]
        },
        {
          "output_type": "stream",
          "name": "stdout",
          "text": [
            "Tags to match: []\n",
            "An error occurred while finding similar recipes: No tag found to match.\n"
          ]
        },
        {
          "output_type": "stream",
          "name": "stderr",
          "text": [
            "Processing Titles embeddings: 100%|██████████| 1/1 [00:00<00:00, 67.78batch/s]\n"
          ]
        },
        {
          "output_type": "stream",
          "name": "stdout",
          "text": [
            "Tags to match: []\n",
            "An error occurred while finding similar recipes: No tag found to match.\n"
          ]
        },
        {
          "output_type": "stream",
          "name": "stderr",
          "text": [
            "Processing Titles embeddings: 100%|██████████| 1/1 [00:00<00:00, 70.56batch/s]\n"
          ]
        },
        {
          "output_type": "stream",
          "name": "stdout",
          "text": [
            "Tags to match: []\n",
            "An error occurred while finding similar recipes: No tag found to match.\n"
          ]
        },
        {
          "output_type": "stream",
          "name": "stderr",
          "text": [
            "Processing Titles embeddings: 100%|██████████| 1/1 [00:00<00:00, 66.46batch/s]\n"
          ]
        },
        {
          "output_type": "stream",
          "name": "stdout",
          "text": [
            "Tags to match: []\n",
            "An error occurred while finding similar recipes: No tag found to match.\n"
          ]
        },
        {
          "output_type": "stream",
          "name": "stderr",
          "text": [
            "Processing Titles embeddings: 100%|██████████| 1/1 [00:00<00:00, 52.86batch/s]\n"
          ]
        },
        {
          "output_type": "stream",
          "name": "stdout",
          "text": [
            "Tags to match: []\n",
            "An error occurred while finding similar recipes: No tag found to match.\n"
          ]
        },
        {
          "output_type": "stream",
          "name": "stderr",
          "text": [
            "Processing Titles embeddings: 100%|██████████| 1/1 [00:00<00:00, 61.03batch/s]\n"
          ]
        },
        {
          "output_type": "stream",
          "name": "stdout",
          "text": [
            "Tags to match: []\n",
            "An error occurred while finding similar recipes: No tag found to match.\n"
          ]
        },
        {
          "output_type": "stream",
          "name": "stderr",
          "text": [
            "Processing Titles embeddings: 100%|██████████| 1/1 [00:00<00:00, 70.16batch/s]\n"
          ]
        },
        {
          "output_type": "stream",
          "name": "stdout",
          "text": [
            "Tags to match: []\n",
            "An error occurred while finding similar recipes: No tag found to match.\n"
          ]
        },
        {
          "output_type": "stream",
          "name": "stderr",
          "text": [
            "Processing Titles embeddings: 100%|██████████| 1/1 [00:00<00:00, 72.09batch/s]\n"
          ]
        },
        {
          "output_type": "stream",
          "name": "stdout",
          "text": [
            "Tags to match: []\n",
            "An error occurred while finding similar recipes: No tag found to match.\n"
          ]
        },
        {
          "output_type": "stream",
          "name": "stderr",
          "text": [
            "Processing Titles embeddings: 100%|██████████| 1/1 [00:00<00:00, 67.56batch/s]\n"
          ]
        },
        {
          "output_type": "stream",
          "name": "stdout",
          "text": [
            "Tags to match: ['main-dish']\n",
            "Number of filtered recipes: 26476\n"
          ]
        },
        {
          "output_type": "stream",
          "name": "stderr",
          "text": [
            "Processing Titles embeddings: 100%|██████████| 1/1 [00:00<00:00, 67.70batch/s]\n"
          ]
        },
        {
          "output_type": "stream",
          "name": "stdout",
          "text": [
            "Tags to match: ['main-dish']\n",
            "Number of filtered recipes: 26476\n"
          ]
        },
        {
          "output_type": "stream",
          "name": "stderr",
          "text": [
            "Processing Titles embeddings: 100%|██████████| 1/1 [00:00<00:00, 100.95batch/s]\n"
          ]
        },
        {
          "output_type": "stream",
          "name": "stdout",
          "text": [
            "Tags to match: ['main-dish']\n",
            "Number of filtered recipes: 26476\n"
          ]
        },
        {
          "output_type": "stream",
          "name": "stderr",
          "text": [
            "Processing Titles embeddings: 100%|██████████| 1/1 [00:00<00:00, 67.83batch/s]\n"
          ]
        },
        {
          "output_type": "stream",
          "name": "stdout",
          "text": [
            "Tags to match: ['main-dish']\n",
            "Number of filtered recipes: 26476\n"
          ]
        },
        {
          "output_type": "stream",
          "name": "stderr",
          "text": [
            "Processing Titles embeddings: 100%|██████████| 1/1 [00:00<00:00, 73.69batch/s]\n"
          ]
        },
        {
          "output_type": "stream",
          "name": "stdout",
          "text": [
            "Tags to match: ['main-dish']\n",
            "Number of filtered recipes: 26476\n"
          ]
        },
        {
          "output_type": "stream",
          "name": "stderr",
          "text": [
            "Processing Titles embeddings: 100%|██████████| 1/1 [00:00<00:00, 61.22batch/s]\n"
          ]
        },
        {
          "output_type": "stream",
          "name": "stdout",
          "text": [
            "Tags to match: ['main-dish']\n",
            "Number of filtered recipes: 26476\n"
          ]
        },
        {
          "output_type": "stream",
          "name": "stderr",
          "text": [
            "Processing Titles embeddings: 100%|██████████| 1/1 [00:00<00:00, 56.17batch/s]\n"
          ]
        },
        {
          "output_type": "stream",
          "name": "stdout",
          "text": [
            "Tags to match: ['main-dish']\n",
            "Number of filtered recipes: 26476\n"
          ]
        },
        {
          "output_type": "stream",
          "name": "stderr",
          "text": [
            "Processing Titles embeddings: 100%|██████████| 1/1 [00:00<00:00, 66.67batch/s]\n"
          ]
        },
        {
          "output_type": "stream",
          "name": "stdout",
          "text": [
            "Tags to match: ['main-dish']\n",
            "Number of filtered recipes: 26476\n"
          ]
        },
        {
          "output_type": "stream",
          "name": "stderr",
          "text": [
            "Processing Titles embeddings: 100%|██████████| 1/1 [00:00<00:00, 64.79batch/s]\n"
          ]
        },
        {
          "output_type": "stream",
          "name": "stdout",
          "text": [
            "Tags to match: []\n",
            "An error occurred while finding similar recipes: No tag found to match.\n"
          ]
        },
        {
          "output_type": "stream",
          "name": "stderr",
          "text": [
            "Processing Titles embeddings: 100%|██████████| 1/1 [00:00<00:00, 69.83batch/s]\n"
          ]
        },
        {
          "output_type": "stream",
          "name": "stdout",
          "text": [
            "Tags to match: []\n",
            "An error occurred while finding similar recipes: No tag found to match.\n"
          ]
        },
        {
          "output_type": "stream",
          "name": "stderr",
          "text": [
            "Processing Titles embeddings: 100%|██████████| 1/1 [00:00<00:00, 69.63batch/s]\n"
          ]
        },
        {
          "output_type": "stream",
          "name": "stdout",
          "text": [
            "Tags to match: ['main-dish', 'vegetarian']\n",
            "Number of filtered recipes: 3278\n"
          ]
        },
        {
          "output_type": "stream",
          "name": "stderr",
          "text": [
            "Processing Titles embeddings: 100%|██████████| 1/1 [00:00<00:00, 71.25batch/s]\n"
          ]
        },
        {
          "output_type": "stream",
          "name": "stdout",
          "text": [
            "Tags to match: ['main-dish', 'vegetarian']\n",
            "Number of filtered recipes: 39275\n"
          ]
        },
        {
          "output_type": "stream",
          "name": "stderr",
          "text": [
            "Processing Titles embeddings: 100%|██████████| 1/1 [00:00<00:00, 80.50batch/s]\n"
          ]
        },
        {
          "output_type": "stream",
          "name": "stdout",
          "text": [
            "Tags to match: ['main-dish', 'vegetarian']\n",
            "Number of filtered recipes: 3278\n"
          ]
        },
        {
          "output_type": "stream",
          "name": "stderr",
          "text": [
            "Processing Titles embeddings: 100%|██████████| 1/1 [00:00<00:00, 73.20batch/s]\n"
          ]
        },
        {
          "output_type": "stream",
          "name": "stdout",
          "text": [
            "Tags to match: ['main-dish', 'vegetarian']\n",
            "Number of filtered recipes: 39275\n"
          ]
        },
        {
          "output_type": "stream",
          "name": "stderr",
          "text": [
            "Processing Titles embeddings: 100%|██████████| 1/1 [00:00<00:00, 65.15batch/s]\n"
          ]
        },
        {
          "output_type": "stream",
          "name": "stdout",
          "text": [
            "Tags to match: ['main-dish', 'vegetarian']\n",
            "Number of filtered recipes: 3278\n"
          ]
        },
        {
          "output_type": "stream",
          "name": "stderr",
          "text": [
            "Processing Titles embeddings: 100%|██████████| 1/1 [00:00<00:00, 66.86batch/s]\n"
          ]
        },
        {
          "output_type": "stream",
          "name": "stdout",
          "text": [
            "Tags to match: ['main-dish', 'vegetarian']\n",
            "Number of filtered recipes: 39275\n"
          ]
        },
        {
          "output_type": "stream",
          "name": "stderr",
          "text": [
            "Processing Titles embeddings: 100%|██████████| 1/1 [00:00<00:00, 79.54batch/s]\n"
          ]
        },
        {
          "output_type": "stream",
          "name": "stdout",
          "text": [
            "Tags to match: []\n",
            "An error occurred while finding similar recipes: No tag found to match.\n"
          ]
        },
        {
          "output_type": "stream",
          "name": "stderr",
          "text": [
            "Processing Titles embeddings: 100%|██████████| 1/1 [00:00<00:00, 52.72batch/s]\n"
          ]
        },
        {
          "output_type": "stream",
          "name": "stdout",
          "text": [
            "Tags to match: []\n",
            "An error occurred while finding similar recipes: No tag found to match.\n"
          ]
        },
        {
          "output_type": "stream",
          "name": "stderr",
          "text": [
            "Processing Titles embeddings: 100%|██████████| 1/1 [00:00<00:00, 65.25batch/s]\n"
          ]
        },
        {
          "output_type": "stream",
          "name": "stdout",
          "text": [
            "Tags to match: []\n",
            "An error occurred while finding similar recipes: No tag found to match.\n"
          ]
        },
        {
          "output_type": "stream",
          "name": "stderr",
          "text": [
            "Processing Titles embeddings: 100%|██████████| 1/1 [00:00<00:00, 68.83batch/s]\n"
          ]
        },
        {
          "output_type": "stream",
          "name": "stdout",
          "text": [
            "Tags to match: []\n",
            "An error occurred while finding similar recipes: No tag found to match.\n"
          ]
        },
        {
          "output_type": "stream",
          "name": "stderr",
          "text": [
            "Processing Titles embeddings: 100%|██████████| 1/1 [00:00<00:00, 69.42batch/s]\n"
          ]
        },
        {
          "output_type": "stream",
          "name": "stdout",
          "text": [
            "Tags to match: []\n",
            "An error occurred while finding similar recipes: No tag found to match.\n"
          ]
        },
        {
          "output_type": "stream",
          "name": "stderr",
          "text": [
            "Processing Titles embeddings: 100%|██████████| 1/1 [00:00<00:00, 68.45batch/s]\n"
          ]
        },
        {
          "output_type": "stream",
          "name": "stdout",
          "text": [
            "Tags to match: []\n",
            "An error occurred while finding similar recipes: No tag found to match.\n"
          ]
        },
        {
          "output_type": "stream",
          "name": "stderr",
          "text": [
            "Processing Titles embeddings: 100%|██████████| 1/1 [00:00<00:00, 61.26batch/s]\n"
          ]
        },
        {
          "output_type": "stream",
          "name": "stdout",
          "text": [
            "Tags to match: []\n",
            "An error occurred while finding similar recipes: No tag found to match.\n"
          ]
        },
        {
          "output_type": "stream",
          "name": "stderr",
          "text": [
            "Processing Titles embeddings: 100%|██████████| 1/1 [00:00<00:00, 63.67batch/s]\n"
          ]
        },
        {
          "output_type": "stream",
          "name": "stdout",
          "text": [
            "Tags to match: []\n",
            "An error occurred while finding similar recipes: No tag found to match.\n"
          ]
        },
        {
          "output_type": "stream",
          "name": "stderr",
          "text": [
            "Processing Titles embeddings: 100%|██████████| 1/1 [00:00<00:00, 34.68batch/s]\n"
          ]
        },
        {
          "output_type": "stream",
          "name": "stdout",
          "text": [
            "Tags to match: []\n",
            "An error occurred while finding similar recipes: No tag found to match.\n"
          ]
        },
        {
          "output_type": "stream",
          "name": "stderr",
          "text": [
            "Processing Titles embeddings: 100%|██████████| 1/1 [00:00<00:00, 49.49batch/s]\n"
          ]
        },
        {
          "output_type": "stream",
          "name": "stdout",
          "text": [
            "Tags to match: []\n",
            "An error occurred while finding similar recipes: No tag found to match.\n"
          ]
        },
        {
          "output_type": "stream",
          "name": "stderr",
          "text": [
            "Processing Titles embeddings: 100%|██████████| 1/1 [00:00<00:00, 55.06batch/s]\n"
          ]
        },
        {
          "output_type": "stream",
          "name": "stdout",
          "text": [
            "Tags to match: []\n",
            "An error occurred while finding similar recipes: No tag found to match.\n"
          ]
        },
        {
          "output_type": "stream",
          "name": "stderr",
          "text": [
            "Processing Titles embeddings: 100%|██████████| 1/1 [00:00<00:00, 57.92batch/s]\n"
          ]
        },
        {
          "output_type": "stream",
          "name": "stdout",
          "text": [
            "Tags to match: []\n",
            "An error occurred while finding similar recipes: No tag found to match.\n"
          ]
        },
        {
          "output_type": "stream",
          "name": "stderr",
          "text": [
            "Processing Titles embeddings: 100%|██████████| 1/1 [00:00<00:00, 58.58batch/s]\n"
          ]
        },
        {
          "output_type": "stream",
          "name": "stdout",
          "text": [
            "Tags to match: []\n",
            "An error occurred while finding similar recipes: No tag found to match.\n"
          ]
        },
        {
          "output_type": "stream",
          "name": "stderr",
          "text": [
            "Processing Titles embeddings: 100%|██████████| 1/1 [00:00<00:00, 81.43batch/s]\n"
          ]
        },
        {
          "output_type": "stream",
          "name": "stdout",
          "text": [
            "Tags to match: []\n",
            "An error occurred while finding similar recipes: No tag found to match.\n"
          ]
        },
        {
          "output_type": "stream",
          "name": "stderr",
          "text": [
            "Processing Titles embeddings: 100%|██████████| 1/1 [00:00<00:00, 71.47batch/s]\n"
          ]
        },
        {
          "output_type": "stream",
          "name": "stdout",
          "text": [
            "Tags to match: []\n",
            "An error occurred while finding similar recipes: No tag found to match.\n"
          ]
        },
        {
          "output_type": "stream",
          "name": "stderr",
          "text": [
            "Processing Titles embeddings: 100%|██████████| 1/1 [00:00<00:00, 42.35batch/s]\n"
          ]
        },
        {
          "output_type": "stream",
          "name": "stdout",
          "text": [
            "Tags to match: []\n",
            "An error occurred while finding similar recipes: No tag found to match.\n"
          ]
        },
        {
          "output_type": "stream",
          "name": "stderr",
          "text": [
            "Processing Titles embeddings: 100%|██████████| 1/1 [00:00<00:00, 69.04batch/s]\n"
          ]
        },
        {
          "output_type": "stream",
          "name": "stdout",
          "text": [
            "Tags to match: []\n",
            "An error occurred while finding similar recipes: No tag found to match.\n"
          ]
        },
        {
          "output_type": "stream",
          "name": "stderr",
          "text": [
            "Processing Titles embeddings: 100%|██████████| 1/1 [00:00<00:00, 67.96batch/s]\n"
          ]
        },
        {
          "output_type": "stream",
          "name": "stdout",
          "text": [
            "Tags to match: []\n",
            "An error occurred while finding similar recipes: No tag found to match.\n"
          ]
        },
        {
          "output_type": "stream",
          "name": "stderr",
          "text": [
            "Processing Titles embeddings: 100%|██████████| 1/1 [00:00<00:00, 73.48batch/s]\n"
          ]
        },
        {
          "output_type": "stream",
          "name": "stdout",
          "text": [
            "Tags to match: []\n",
            "An error occurred while finding similar recipes: No tag found to match.\n"
          ]
        },
        {
          "output_type": "stream",
          "name": "stderr",
          "text": [
            "Processing Titles embeddings: 100%|██████████| 1/1 [00:00<00:00, 69.73batch/s]\n"
          ]
        },
        {
          "output_type": "stream",
          "name": "stdout",
          "text": [
            "Tags to match: []\n",
            "An error occurred while finding similar recipes: No tag found to match.\n"
          ]
        },
        {
          "output_type": "stream",
          "name": "stderr",
          "text": [
            "Processing Titles embeddings: 100%|██████████| 1/1 [00:00<00:00, 79.85batch/s]\n"
          ]
        },
        {
          "output_type": "stream",
          "name": "stdout",
          "text": [
            "Tags to match: []\n",
            "An error occurred while finding similar recipes: No tag found to match.\n"
          ]
        },
        {
          "output_type": "stream",
          "name": "stderr",
          "text": [
            "Processing Titles embeddings: 100%|██████████| 1/1 [00:00<00:00, 68.08batch/s]\n"
          ]
        },
        {
          "output_type": "stream",
          "name": "stdout",
          "text": [
            "Tags to match: []\n",
            "An error occurred while finding similar recipes: No tag found to match.\n"
          ]
        },
        {
          "output_type": "stream",
          "name": "stderr",
          "text": [
            "Processing Titles embeddings: 100%|██████████| 1/1 [00:00<00:00, 65.95batch/s]\n"
          ]
        },
        {
          "output_type": "stream",
          "name": "stdout",
          "text": [
            "Tags to match: []\n",
            "An error occurred while finding similar recipes: No tag found to match.\n"
          ]
        },
        {
          "output_type": "stream",
          "name": "stderr",
          "text": [
            "Processing Titles embeddings: 100%|██████████| 1/1 [00:00<00:00, 61.89batch/s]\n"
          ]
        },
        {
          "output_type": "stream",
          "name": "stdout",
          "text": [
            "Tags to match: []\n",
            "An error occurred while finding similar recipes: No tag found to match.\n"
          ]
        },
        {
          "output_type": "stream",
          "name": "stderr",
          "text": [
            "Processing Titles embeddings: 100%|██████████| 1/1 [00:00<00:00, 62.17batch/s]\n"
          ]
        },
        {
          "output_type": "stream",
          "name": "stdout",
          "text": [
            "Tags to match: []\n",
            "An error occurred while finding similar recipes: No tag found to match.\n"
          ]
        },
        {
          "output_type": "stream",
          "name": "stderr",
          "text": [
            "Processing Titles embeddings: 100%|██████████| 1/1 [00:00<00:00, 56.83batch/s]\n"
          ]
        },
        {
          "output_type": "stream",
          "name": "stdout",
          "text": [
            "Tags to match: []\n",
            "An error occurred while finding similar recipes: No tag found to match.\n"
          ]
        },
        {
          "output_type": "stream",
          "name": "stderr",
          "text": [
            "Processing Titles embeddings: 100%|██████████| 1/1 [00:00<00:00, 64.62batch/s]\n"
          ]
        },
        {
          "output_type": "stream",
          "name": "stdout",
          "text": [
            "Tags to match: []\n",
            "An error occurred while finding similar recipes: No tag found to match.\n"
          ]
        },
        {
          "output_type": "stream",
          "name": "stderr",
          "text": [
            "Processing Titles embeddings: 100%|██████████| 1/1 [00:00<00:00, 63.99batch/s]\n"
          ]
        },
        {
          "output_type": "stream",
          "name": "stdout",
          "text": [
            "Tags to match: []\n",
            "An error occurred while finding similar recipes: No tag found to match.\n"
          ]
        },
        {
          "output_type": "stream",
          "name": "stderr",
          "text": [
            "Processing Titles embeddings: 100%|██████████| 1/1 [00:00<00:00, 53.27batch/s]\n"
          ]
        },
        {
          "output_type": "stream",
          "name": "stdout",
          "text": [
            "Tags to match: []\n",
            "An error occurred while finding similar recipes: No tag found to match.\n"
          ]
        },
        {
          "output_type": "stream",
          "name": "stderr",
          "text": [
            "Processing Titles embeddings: 100%|██████████| 1/1 [00:00<00:00, 62.04batch/s]\n"
          ]
        },
        {
          "output_type": "stream",
          "name": "stdout",
          "text": [
            "Tags to match: []\n",
            "An error occurred while finding similar recipes: No tag found to match.\n"
          ]
        },
        {
          "output_type": "stream",
          "name": "stderr",
          "text": [
            "Processing Titles embeddings: 100%|██████████| 1/1 [00:00<00:00, 54.98batch/s]\n"
          ]
        },
        {
          "output_type": "stream",
          "name": "stdout",
          "text": [
            "Tags to match: []\n",
            "An error occurred while finding similar recipes: No tag found to match.\n"
          ]
        },
        {
          "output_type": "stream",
          "name": "stderr",
          "text": [
            "Processing Titles embeddings: 100%|██████████| 1/1 [00:00<00:00, 58.85batch/s]\n"
          ]
        },
        {
          "output_type": "stream",
          "name": "stdout",
          "text": [
            "Tags to match: []\n",
            "An error occurred while finding similar recipes: No tag found to match.\n"
          ]
        },
        {
          "output_type": "stream",
          "name": "stderr",
          "text": [
            "Processing Titles embeddings: 100%|██████████| 1/1 [00:00<00:00, 52.72batch/s]\n"
          ]
        },
        {
          "output_type": "stream",
          "name": "stdout",
          "text": [
            "Tags to match: ['desserts']\n",
            "Number of filtered recipes: 23324\n"
          ]
        },
        {
          "output_type": "stream",
          "name": "stderr",
          "text": [
            "Processing Titles embeddings: 100%|██████████| 1/1 [00:00<00:00, 69.30batch/s]\n"
          ]
        },
        {
          "output_type": "stream",
          "name": "stdout",
          "text": [
            "Tags to match: ['desserts']\n",
            "Number of filtered recipes: 23324\n"
          ]
        },
        {
          "output_type": "stream",
          "name": "stderr",
          "text": [
            "Processing Titles embeddings: 100%|██████████| 1/1 [00:00<00:00, 65.20batch/s]\n"
          ]
        },
        {
          "output_type": "stream",
          "name": "stdout",
          "text": [
            "Tags to match: ['desserts']\n",
            "Number of filtered recipes: 23324\n"
          ]
        },
        {
          "output_type": "stream",
          "name": "stderr",
          "text": [
            "Processing Titles embeddings: 100%|██████████| 1/1 [00:00<00:00, 68.44batch/s]\n"
          ]
        },
        {
          "output_type": "stream",
          "name": "stdout",
          "text": [
            "Tags to match: ['desserts']\n",
            "Number of filtered recipes: 23324\n"
          ]
        },
        {
          "output_type": "stream",
          "name": "stderr",
          "text": [
            "Processing Titles embeddings: 100%|██████████| 1/1 [00:00<00:00, 61.68batch/s]\n"
          ]
        },
        {
          "output_type": "stream",
          "name": "stdout",
          "text": [
            "Tags to match: ['desserts']\n",
            "Number of filtered recipes: 23324\n"
          ]
        },
        {
          "output_type": "stream",
          "name": "stderr",
          "text": [
            "Processing Titles embeddings: 100%|██████████| 1/1 [00:00<00:00, 68.56batch/s]\n"
          ]
        },
        {
          "output_type": "stream",
          "name": "stdout",
          "text": [
            "Tags to match: ['desserts']\n",
            "Number of filtered recipes: 23324\n"
          ]
        },
        {
          "output_type": "stream",
          "name": "stderr",
          "text": [
            "Processing Titles embeddings: 100%|██████████| 1/1 [00:00<00:00, 62.70batch/s]\n"
          ]
        },
        {
          "output_type": "stream",
          "name": "stdout",
          "text": [
            "Tags to match: ['desserts']\n",
            "Number of filtered recipes: 23324\n"
          ]
        },
        {
          "output_type": "stream",
          "name": "stderr",
          "text": [
            "Processing Titles embeddings: 100%|██████████| 1/1 [00:00<00:00, 48.69batch/s]\n"
          ]
        },
        {
          "output_type": "stream",
          "name": "stdout",
          "text": [
            "Tags to match: ['desserts']\n",
            "Number of filtered recipes: 23324\n"
          ]
        },
        {
          "output_type": "stream",
          "name": "stderr",
          "text": [
            "Processing Titles embeddings: 100%|██████████| 1/1 [00:00<00:00, 66.40batch/s]\n"
          ]
        },
        {
          "output_type": "stream",
          "name": "stdout",
          "text": [
            "Tags to match: ['main-dish', 'meat']\n",
            "Number of filtered recipes: 13953\n"
          ]
        },
        {
          "output_type": "stream",
          "name": "stderr",
          "text": [
            "Processing Titles embeddings: 100%|██████████| 1/1 [00:00<00:00, 67.86batch/s]\n"
          ]
        },
        {
          "output_type": "stream",
          "name": "stdout",
          "text": [
            "Tags to match: ['main-dish', 'meat']\n",
            "Number of filtered recipes: 31075\n"
          ]
        },
        {
          "output_type": "stream",
          "name": "stderr",
          "text": [
            "Processing Titles embeddings: 100%|██████████| 1/1 [00:00<00:00, 66.40batch/s]\n"
          ]
        },
        {
          "output_type": "stream",
          "name": "stdout",
          "text": [
            "Tags to match: ['main-dish', 'meat']\n",
            "Number of filtered recipes: 13953\n"
          ]
        },
        {
          "output_type": "stream",
          "name": "stderr",
          "text": [
            "Processing Titles embeddings: 100%|██████████| 1/1 [00:00<00:00, 66.76batch/s]\n"
          ]
        },
        {
          "output_type": "stream",
          "name": "stdout",
          "text": [
            "Tags to match: ['main-dish', 'meat']\n",
            "Number of filtered recipes: 31075\n"
          ]
        },
        {
          "output_type": "stream",
          "name": "stderr",
          "text": [
            "Processing Titles embeddings: 100%|██████████| 1/1 [00:00<00:00, 75.44batch/s]\n"
          ]
        },
        {
          "output_type": "stream",
          "name": "stdout",
          "text": [
            "Tags to match: ['main-dish', 'meat']\n",
            "Number of filtered recipes: 13953\n"
          ]
        },
        {
          "output_type": "stream",
          "name": "stderr",
          "text": [
            "Processing Titles embeddings: 100%|██████████| 1/1 [00:00<00:00, 64.50batch/s]\n"
          ]
        },
        {
          "output_type": "stream",
          "name": "stdout",
          "text": [
            "Tags to match: ['main-dish', 'meat']\n",
            "Number of filtered recipes: 31075\n"
          ]
        },
        {
          "output_type": "stream",
          "name": "stderr",
          "text": [
            "Processing Titles embeddings: 100%|██████████| 1/1 [00:00<00:00, 70.25batch/s]\n"
          ]
        },
        {
          "output_type": "stream",
          "name": "stdout",
          "text": [
            "Tags to match: ['main-dish', 'meat']\n",
            "Number of filtered recipes: 13953\n"
          ]
        },
        {
          "output_type": "stream",
          "name": "stderr",
          "text": [
            "Processing Titles embeddings: 100%|██████████| 1/1 [00:00<00:00, 61.15batch/s]\n"
          ]
        },
        {
          "output_type": "stream",
          "name": "stdout",
          "text": [
            "Tags to match: ['main-dish', 'meat']\n",
            "Number of filtered recipes: 31075\n"
          ]
        },
        {
          "output_type": "stream",
          "name": "stderr",
          "text": [
            "Processing Titles embeddings: 100%|██████████| 1/1 [00:00<00:00, 73.67batch/s]\n"
          ]
        },
        {
          "output_type": "stream",
          "name": "stdout",
          "text": [
            "Tags to match: []\n",
            "An error occurred while finding similar recipes: No tag found to match.\n"
          ]
        },
        {
          "output_type": "stream",
          "name": "stderr",
          "text": [
            "Processing Titles embeddings: 100%|██████████| 1/1 [00:00<00:00, 59.82batch/s]\n"
          ]
        },
        {
          "output_type": "stream",
          "name": "stdout",
          "text": [
            "Tags to match: []\n",
            "An error occurred while finding similar recipes: No tag found to match.\n"
          ]
        },
        {
          "output_type": "stream",
          "name": "stderr",
          "text": [
            "Processing Titles embeddings: 100%|██████████| 1/1 [00:00<00:00, 46.00batch/s]\n"
          ]
        },
        {
          "output_type": "stream",
          "name": "stdout",
          "text": [
            "Tags to match: []\n",
            "An error occurred while finding similar recipes: No tag found to match.\n"
          ]
        },
        {
          "output_type": "stream",
          "name": "stderr",
          "text": [
            "Processing Titles embeddings: 100%|██████████| 1/1 [00:00<00:00, 48.09batch/s]\n"
          ]
        },
        {
          "output_type": "stream",
          "name": "stdout",
          "text": [
            "Tags to match: []\n",
            "An error occurred while finding similar recipes: No tag found to match.\n"
          ]
        },
        {
          "output_type": "stream",
          "name": "stderr",
          "text": [
            "Processing Titles embeddings: 100%|██████████| 1/1 [00:00<00:00, 62.97batch/s]\n"
          ]
        },
        {
          "output_type": "stream",
          "name": "stdout",
          "text": [
            "Tags to match: []\n",
            "An error occurred while finding similar recipes: No tag found to match.\n"
          ]
        },
        {
          "output_type": "stream",
          "name": "stderr",
          "text": [
            "Processing Titles embeddings: 100%|██████████| 1/1 [00:00<00:00, 65.93batch/s]\n"
          ]
        },
        {
          "output_type": "stream",
          "name": "stdout",
          "text": [
            "Tags to match: []\n",
            "An error occurred while finding similar recipes: No tag found to match.\n"
          ]
        },
        {
          "output_type": "stream",
          "name": "stderr",
          "text": [
            "Processing Titles embeddings: 100%|██████████| 1/1 [00:00<00:00, 67.91batch/s]\n"
          ]
        },
        {
          "output_type": "stream",
          "name": "stdout",
          "text": [
            "Tags to match: []\n",
            "An error occurred while finding similar recipes: No tag found to match.\n"
          ]
        },
        {
          "output_type": "stream",
          "name": "stderr",
          "text": [
            "Processing Titles embeddings: 100%|██████████| 1/1 [00:00<00:00, 66.21batch/s]\n"
          ]
        },
        {
          "output_type": "stream",
          "name": "stdout",
          "text": [
            "Tags to match: []\n",
            "An error occurred while finding similar recipes: No tag found to match.\n"
          ]
        },
        {
          "output_type": "stream",
          "name": "stderr",
          "text": [
            "Processing Titles embeddings: 100%|██████████| 1/1 [00:00<00:00, 70.30batch/s]\n"
          ]
        },
        {
          "output_type": "stream",
          "name": "stdout",
          "text": [
            "Tags to match: []\n",
            "An error occurred while finding similar recipes: No tag found to match.\n"
          ]
        },
        {
          "output_type": "stream",
          "name": "stderr",
          "text": [
            "Processing Titles embeddings: 100%|██████████| 1/1 [00:00<00:00, 68.15batch/s]\n"
          ]
        },
        {
          "output_type": "stream",
          "name": "stdout",
          "text": [
            "Tags to match: []\n",
            "An error occurred while finding similar recipes: No tag found to match.\n"
          ]
        },
        {
          "output_type": "stream",
          "name": "stderr",
          "text": [
            "Processing Titles embeddings: 100%|██████████| 1/1 [00:00<00:00, 50.28batch/s]\n"
          ]
        },
        {
          "output_type": "stream",
          "name": "stdout",
          "text": [
            "Tags to match: []\n",
            "An error occurred while finding similar recipes: No tag found to match.\n"
          ]
        },
        {
          "output_type": "stream",
          "name": "stderr",
          "text": [
            "Processing Titles embeddings: 100%|██████████| 1/1 [00:00<00:00, 66.03batch/s]\n"
          ]
        },
        {
          "output_type": "stream",
          "name": "stdout",
          "text": [
            "Tags to match: []\n",
            "An error occurred while finding similar recipes: No tag found to match.\n"
          ]
        },
        {
          "output_type": "stream",
          "name": "stderr",
          "text": [
            "Processing Titles embeddings: 100%|██████████| 1/1 [00:00<00:00, 58.93batch/s]\n"
          ]
        },
        {
          "output_type": "stream",
          "name": "stdout",
          "text": [
            "Tags to match: []\n",
            "An error occurred while finding similar recipes: No tag found to match.\n"
          ]
        },
        {
          "output_type": "stream",
          "name": "stderr",
          "text": [
            "Processing Titles embeddings: 100%|██████████| 1/1 [00:00<00:00, 63.66batch/s]\n"
          ]
        },
        {
          "output_type": "stream",
          "name": "stdout",
          "text": [
            "Tags to match: []\n",
            "An error occurred while finding similar recipes: No tag found to match.\n"
          ]
        },
        {
          "output_type": "stream",
          "name": "stderr",
          "text": [
            "Processing Titles embeddings: 100%|██████████| 1/1 [00:00<00:00, 64.11batch/s]\n"
          ]
        },
        {
          "output_type": "stream",
          "name": "stdout",
          "text": [
            "Tags to match: []\n",
            "An error occurred while finding similar recipes: No tag found to match.\n"
          ]
        },
        {
          "output_type": "stream",
          "name": "stderr",
          "text": [
            "Processing Titles embeddings: 100%|██████████| 1/1 [00:00<00:00, 65.50batch/s]\n"
          ]
        },
        {
          "output_type": "stream",
          "name": "stdout",
          "text": [
            "Tags to match: []\n",
            "An error occurred while finding similar recipes: No tag found to match.\n"
          ]
        },
        {
          "output_type": "stream",
          "name": "stderr",
          "text": [
            "Processing Titles embeddings: 100%|██████████| 1/1 [00:00<00:00, 55.09batch/s]\n"
          ]
        },
        {
          "output_type": "stream",
          "name": "stdout",
          "text": [
            "Tags to match: []\n",
            "An error occurred while finding similar recipes: No tag found to match.\n"
          ]
        },
        {
          "output_type": "stream",
          "name": "stderr",
          "text": [
            "Processing Titles embeddings: 100%|██████████| 1/1 [00:00<00:00, 68.75batch/s]\n"
          ]
        },
        {
          "output_type": "stream",
          "name": "stdout",
          "text": [
            "Tags to match: []\n",
            "An error occurred while finding similar recipes: No tag found to match.\n"
          ]
        },
        {
          "output_type": "stream",
          "name": "stderr",
          "text": [
            "Processing Titles embeddings: 100%|██████████| 1/1 [00:00<00:00, 56.30batch/s]\n"
          ]
        },
        {
          "output_type": "stream",
          "name": "stdout",
          "text": [
            "Tags to match: ['main-dish']\n",
            "Number of filtered recipes: 26476\n"
          ]
        },
        {
          "output_type": "stream",
          "name": "stderr",
          "text": [
            "Processing Titles embeddings: 100%|██████████| 1/1 [00:00<00:00, 45.44batch/s]\n"
          ]
        },
        {
          "output_type": "stream",
          "name": "stdout",
          "text": [
            "Tags to match: ['main-dish']\n",
            "Number of filtered recipes: 26476\n"
          ]
        },
        {
          "output_type": "stream",
          "name": "stderr",
          "text": [
            "Processing Titles embeddings: 100%|██████████| 1/1 [00:00<00:00, 64.22batch/s]\n"
          ]
        },
        {
          "output_type": "stream",
          "name": "stdout",
          "text": [
            "Tags to match: ['main-dish']\n",
            "Number of filtered recipes: 26476\n"
          ]
        },
        {
          "output_type": "stream",
          "name": "stderr",
          "text": [
            "Processing Titles embeddings: 100%|██████████| 1/1 [00:00<00:00, 58.09batch/s]\n"
          ]
        },
        {
          "output_type": "stream",
          "name": "stdout",
          "text": [
            "Tags to match: ['main-dish']\n",
            "Number of filtered recipes: 26476\n"
          ]
        },
        {
          "output_type": "stream",
          "name": "stderr",
          "text": [
            "Processing Titles embeddings: 100%|██████████| 1/1 [00:00<00:00, 53.51batch/s]\n"
          ]
        },
        {
          "output_type": "stream",
          "name": "stdout",
          "text": [
            "Tags to match: ['main-dish']\n",
            "Number of filtered recipes: 26476\n"
          ]
        },
        {
          "output_type": "stream",
          "name": "stderr",
          "text": [
            "Processing Titles embeddings: 100%|██████████| 1/1 [00:00<00:00, 70.71batch/s]\n"
          ]
        },
        {
          "output_type": "stream",
          "name": "stdout",
          "text": [
            "Tags to match: ['main-dish']\n",
            "Number of filtered recipes: 26476\n"
          ]
        },
        {
          "output_type": "stream",
          "name": "stderr",
          "text": [
            "Processing Titles embeddings: 100%|██████████| 1/1 [00:00<00:00, 60.03batch/s]\n"
          ]
        },
        {
          "output_type": "stream",
          "name": "stdout",
          "text": [
            "Tags to match: []\n",
            "An error occurred while finding similar recipes: No tag found to match.\n"
          ]
        },
        {
          "output_type": "stream",
          "name": "stderr",
          "text": [
            "Processing Titles embeddings: 100%|██████████| 1/1 [00:00<00:00, 55.85batch/s]\n"
          ]
        },
        {
          "output_type": "stream",
          "name": "stdout",
          "text": [
            "Tags to match: []\n",
            "An error occurred while finding similar recipes: No tag found to match.\n"
          ]
        },
        {
          "output_type": "stream",
          "name": "stderr",
          "text": [
            "Processing Titles embeddings: 100%|██████████| 1/1 [00:00<00:00, 42.50batch/s]\n"
          ]
        },
        {
          "output_type": "stream",
          "name": "stdout",
          "text": [
            "Tags to match: []\n",
            "An error occurred while finding similar recipes: No tag found to match.\n"
          ]
        },
        {
          "output_type": "stream",
          "name": "stderr",
          "text": [
            "Processing Titles embeddings: 100%|██████████| 1/1 [00:00<00:00, 58.65batch/s]\n"
          ]
        },
        {
          "output_type": "stream",
          "name": "stdout",
          "text": [
            "Tags to match: []\n",
            "An error occurred while finding similar recipes: No tag found to match.\n"
          ]
        },
        {
          "output_type": "stream",
          "name": "stderr",
          "text": [
            "Processing Titles embeddings: 100%|██████████| 1/1 [00:00<00:00, 64.66batch/s]\n"
          ]
        },
        {
          "output_type": "stream",
          "name": "stdout",
          "text": [
            "Tags to match: []\n",
            "An error occurred while finding similar recipes: No tag found to match.\n"
          ]
        },
        {
          "output_type": "stream",
          "name": "stderr",
          "text": [
            "Processing Titles embeddings: 100%|██████████| 1/1 [00:00<00:00, 54.31batch/s]\n"
          ]
        },
        {
          "output_type": "stream",
          "name": "stdout",
          "text": [
            "Tags to match: []\n",
            "An error occurred while finding similar recipes: No tag found to match.\n"
          ]
        },
        {
          "output_type": "stream",
          "name": "stderr",
          "text": [
            "Processing Titles embeddings: 100%|██████████| 1/1 [00:00<00:00, 66.95batch/s]\n"
          ]
        },
        {
          "output_type": "stream",
          "name": "stdout",
          "text": [
            "Tags to match: []\n",
            "An error occurred while finding similar recipes: No tag found to match.\n"
          ]
        },
        {
          "output_type": "stream",
          "name": "stderr",
          "text": [
            "Processing Titles embeddings: 100%|██████████| 1/1 [00:00<00:00, 62.34batch/s]\n"
          ]
        },
        {
          "output_type": "stream",
          "name": "stdout",
          "text": [
            "Tags to match: []\n",
            "An error occurred while finding similar recipes: No tag found to match.\n"
          ]
        },
        {
          "output_type": "stream",
          "name": "stderr",
          "text": [
            "Processing Titles embeddings: 100%|██████████| 1/1 [00:00<00:00, 70.31batch/s]\n"
          ]
        },
        {
          "output_type": "stream",
          "name": "stdout",
          "text": [
            "Tags to match: []\n",
            "An error occurred while finding similar recipes: No tag found to match.\n"
          ]
        },
        {
          "output_type": "stream",
          "name": "stderr",
          "text": [
            "Processing Titles embeddings: 100%|██████████| 1/1 [00:00<00:00, 57.94batch/s]\n"
          ]
        },
        {
          "output_type": "stream",
          "name": "stdout",
          "text": [
            "Tags to match: []\n",
            "An error occurred while finding similar recipes: No tag found to match.\n"
          ]
        },
        {
          "output_type": "stream",
          "name": "stderr",
          "text": [
            "Processing Titles embeddings: 100%|██████████| 1/1 [00:00<00:00, 65.28batch/s]\n"
          ]
        },
        {
          "output_type": "stream",
          "name": "stdout",
          "text": [
            "Tags to match: []\n",
            "An error occurred while finding similar recipes: No tag found to match.\n"
          ]
        },
        {
          "output_type": "stream",
          "name": "stderr",
          "text": [
            "Processing Titles embeddings: 100%|██████████| 1/1 [00:00<00:00, 50.27batch/s]\n"
          ]
        },
        {
          "output_type": "stream",
          "name": "stdout",
          "text": [
            "Tags to match: []\n",
            "An error occurred while finding similar recipes: No tag found to match.\n"
          ]
        },
        {
          "output_type": "stream",
          "name": "stderr",
          "text": [
            "Processing Titles embeddings: 100%|██████████| 1/1 [00:00<00:00, 61.43batch/s]\n"
          ]
        },
        {
          "output_type": "stream",
          "name": "stdout",
          "text": [
            "Tags to match: []\n",
            "An error occurred while finding similar recipes: No tag found to match.\n"
          ]
        },
        {
          "output_type": "stream",
          "name": "stderr",
          "text": [
            "Processing Titles embeddings: 100%|██████████| 1/1 [00:00<00:00, 65.01batch/s]\n"
          ]
        },
        {
          "output_type": "stream",
          "name": "stdout",
          "text": [
            "Tags to match: []\n",
            "An error occurred while finding similar recipes: No tag found to match.\n"
          ]
        },
        {
          "output_type": "stream",
          "name": "stderr",
          "text": [
            "Processing Titles embeddings: 100%|██████████| 1/1 [00:00<00:00, 65.40batch/s]\n"
          ]
        },
        {
          "output_type": "stream",
          "name": "stdout",
          "text": [
            "Tags to match: []\n",
            "An error occurred while finding similar recipes: No tag found to match.\n"
          ]
        },
        {
          "output_type": "stream",
          "name": "stderr",
          "text": [
            "Processing Titles embeddings: 100%|██████████| 1/1 [00:00<00:00, 52.35batch/s]\n"
          ]
        },
        {
          "output_type": "stream",
          "name": "stdout",
          "text": [
            "Tags to match: []\n",
            "An error occurred while finding similar recipes: No tag found to match.\n"
          ]
        },
        {
          "output_type": "stream",
          "name": "stderr",
          "text": [
            "Processing Titles embeddings: 100%|██████████| 1/1 [00:00<00:00, 63.74batch/s]\n"
          ]
        },
        {
          "output_type": "stream",
          "name": "stdout",
          "text": [
            "Tags to match: ['main-dish']\n",
            "Number of filtered recipes: 26476\n"
          ]
        },
        {
          "output_type": "stream",
          "name": "stderr",
          "text": [
            "Processing Titles embeddings: 100%|██████████| 1/1 [00:00<00:00, 65.61batch/s]\n"
          ]
        },
        {
          "output_type": "stream",
          "name": "stdout",
          "text": [
            "Tags to match: ['main-dish']\n",
            "Number of filtered recipes: 26476\n"
          ]
        },
        {
          "output_type": "stream",
          "name": "stderr",
          "text": [
            "Processing Titles embeddings: 100%|██████████| 1/1 [00:00<00:00, 61.18batch/s]\n"
          ]
        },
        {
          "output_type": "stream",
          "name": "stdout",
          "text": [
            "Tags to match: ['main-dish']\n",
            "Number of filtered recipes: 26476\n"
          ]
        },
        {
          "output_type": "stream",
          "name": "stderr",
          "text": [
            "Processing Titles embeddings: 100%|██████████| 1/1 [00:00<00:00, 68.55batch/s]\n"
          ]
        },
        {
          "output_type": "stream",
          "name": "stdout",
          "text": [
            "Tags to match: ['main-dish']\n",
            "Number of filtered recipes: 26476\n"
          ]
        },
        {
          "output_type": "stream",
          "name": "stderr",
          "text": [
            "Processing Titles embeddings: 100%|██████████| 1/1 [00:00<00:00, 68.74batch/s]\n"
          ]
        },
        {
          "output_type": "stream",
          "name": "stdout",
          "text": [
            "Tags to match: ['main-dish']\n",
            "Number of filtered recipes: 26476\n"
          ]
        },
        {
          "output_type": "stream",
          "name": "stderr",
          "text": [
            "Processing Titles embeddings: 100%|██████████| 1/1 [00:00<00:00, 52.07batch/s]\n"
          ]
        },
        {
          "output_type": "stream",
          "name": "stdout",
          "text": [
            "Tags to match: ['main-dish']\n",
            "Number of filtered recipes: 26476\n"
          ]
        },
        {
          "output_type": "stream",
          "name": "stderr",
          "text": [
            "Processing Titles embeddings: 100%|██████████| 1/1 [00:00<00:00, 56.89batch/s]\n"
          ]
        },
        {
          "output_type": "stream",
          "name": "stdout",
          "text": [
            "Tags to match: ['main-dish']\n",
            "Number of filtered recipes: 26476\n"
          ]
        },
        {
          "output_type": "stream",
          "name": "stderr",
          "text": [
            "Processing Titles embeddings: 100%|██████████| 1/1 [00:00<00:00, 53.55batch/s]\n"
          ]
        },
        {
          "output_type": "stream",
          "name": "stdout",
          "text": [
            "Tags to match: ['main-dish']\n",
            "Number of filtered recipes: 26476\n"
          ]
        },
        {
          "output_type": "stream",
          "name": "stderr",
          "text": [
            "Processing Titles embeddings: 100%|██████████| 1/1 [00:00<00:00, 65.48batch/s]\n"
          ]
        },
        {
          "output_type": "stream",
          "name": "stdout",
          "text": [
            "Tags to match: []\n",
            "An error occurred while finding similar recipes: No tag found to match.\n"
          ]
        },
        {
          "output_type": "stream",
          "name": "stderr",
          "text": [
            "Processing Titles embeddings: 100%|██████████| 1/1 [00:00<00:00, 63.05batch/s]\n"
          ]
        },
        {
          "output_type": "stream",
          "name": "stdout",
          "text": [
            "Tags to match: []\n",
            "An error occurred while finding similar recipes: No tag found to match.\n"
          ]
        },
        {
          "output_type": "stream",
          "name": "stderr",
          "text": [
            "Processing Titles embeddings: 100%|██████████| 1/1 [00:00<00:00, 62.74batch/s]\n"
          ]
        },
        {
          "output_type": "stream",
          "name": "stdout",
          "text": [
            "Tags to match: ['main-dish']\n",
            "Number of filtered recipes: 26476\n"
          ]
        },
        {
          "output_type": "stream",
          "name": "stderr",
          "text": [
            "Processing Titles embeddings: 100%|██████████| 1/1 [00:00<00:00, 47.97batch/s]\n"
          ]
        },
        {
          "output_type": "stream",
          "name": "stdout",
          "text": [
            "Tags to match: ['main-dish']\n",
            "Number of filtered recipes: 26476\n"
          ]
        },
        {
          "output_type": "stream",
          "name": "stderr",
          "text": [
            "Processing Titles embeddings: 100%|██████████| 1/1 [00:00<00:00, 62.18batch/s]\n"
          ]
        },
        {
          "output_type": "stream",
          "name": "stdout",
          "text": [
            "Tags to match: ['main-dish']\n",
            "Number of filtered recipes: 26476\n"
          ]
        },
        {
          "output_type": "stream",
          "name": "stderr",
          "text": [
            "Processing Titles embeddings: 100%|██████████| 1/1 [00:00<00:00, 60.51batch/s]\n"
          ]
        },
        {
          "output_type": "stream",
          "name": "stdout",
          "text": [
            "Tags to match: ['main-dish']\n",
            "Number of filtered recipes: 26476\n"
          ]
        },
        {
          "output_type": "stream",
          "name": "stderr",
          "text": [
            "Processing Titles embeddings: 100%|██████████| 1/1 [00:00<00:00, 61.87batch/s]\n"
          ]
        },
        {
          "output_type": "stream",
          "name": "stdout",
          "text": [
            "Tags to match: ['main-dish']\n",
            "Number of filtered recipes: 26476\n"
          ]
        },
        {
          "output_type": "stream",
          "name": "stderr",
          "text": [
            "Processing Titles embeddings: 100%|██████████| 1/1 [00:00<00:00, 62.32batch/s]\n"
          ]
        },
        {
          "output_type": "stream",
          "name": "stdout",
          "text": [
            "Tags to match: ['main-dish']\n",
            "Number of filtered recipes: 26476\n"
          ]
        },
        {
          "output_type": "stream",
          "name": "stderr",
          "text": [
            "Processing Titles embeddings: 100%|██████████| 1/1 [00:00<00:00, 63.41batch/s]\n"
          ]
        },
        {
          "output_type": "stream",
          "name": "stdout",
          "text": [
            "Tags to match: []\n",
            "An error occurred while finding similar recipes: No tag found to match.\n"
          ]
        },
        {
          "output_type": "stream",
          "name": "stderr",
          "text": [
            "Processing Titles embeddings: 100%|██████████| 1/1 [00:00<00:00, 66.10batch/s]\n"
          ]
        },
        {
          "output_type": "stream",
          "name": "stdout",
          "text": [
            "Tags to match: []\n",
            "An error occurred while finding similar recipes: No tag found to match.\n"
          ]
        },
        {
          "output_type": "stream",
          "name": "stderr",
          "text": [
            "Processing Titles embeddings: 100%|██████████| 1/1 [00:00<00:00, 56.51batch/s]\n"
          ]
        },
        {
          "output_type": "stream",
          "name": "stdout",
          "text": [
            "Tags to match: []\n",
            "An error occurred while finding similar recipes: No tag found to match.\n"
          ]
        },
        {
          "output_type": "stream",
          "name": "stderr",
          "text": [
            "Processing Titles embeddings: 100%|██████████| 1/1 [00:00<00:00, 66.16batch/s]\n"
          ]
        },
        {
          "output_type": "stream",
          "name": "stdout",
          "text": [
            "Tags to match: []\n",
            "An error occurred while finding similar recipes: No tag found to match.\n"
          ]
        },
        {
          "output_type": "stream",
          "name": "stderr",
          "text": [
            "Processing Titles embeddings: 100%|██████████| 1/1 [00:00<00:00, 55.10batch/s]\n"
          ]
        },
        {
          "output_type": "stream",
          "name": "stdout",
          "text": [
            "Tags to match: []\n",
            "An error occurred while finding similar recipes: No tag found to match.\n"
          ]
        },
        {
          "output_type": "stream",
          "name": "stderr",
          "text": [
            "Processing Titles embeddings: 100%|██████████| 1/1 [00:00<00:00, 57.14batch/s]\n"
          ]
        },
        {
          "output_type": "stream",
          "name": "stdout",
          "text": [
            "Tags to match: []\n",
            "An error occurred while finding similar recipes: No tag found to match.\n"
          ]
        },
        {
          "output_type": "stream",
          "name": "stderr",
          "text": [
            "Processing Titles embeddings: 100%|██████████| 1/1 [00:00<00:00, 53.65batch/s]\n"
          ]
        },
        {
          "output_type": "stream",
          "name": "stdout",
          "text": [
            "Tags to match: []\n",
            "An error occurred while finding similar recipes: No tag found to match.\n"
          ]
        },
        {
          "output_type": "stream",
          "name": "stderr",
          "text": [
            "Processing Titles embeddings: 100%|██████████| 1/1 [00:00<00:00, 60.82batch/s]\n"
          ]
        },
        {
          "output_type": "stream",
          "name": "stdout",
          "text": [
            "Tags to match: []\n",
            "An error occurred while finding similar recipes: No tag found to match.\n"
          ]
        },
        {
          "output_type": "stream",
          "name": "stderr",
          "text": [
            "Processing Titles embeddings: 100%|██████████| 1/1 [00:00<00:00, 44.02batch/s]\n"
          ]
        },
        {
          "output_type": "stream",
          "name": "stdout",
          "text": [
            "Tags to match: []\n",
            "An error occurred while finding similar recipes: No tag found to match.\n"
          ]
        },
        {
          "output_type": "stream",
          "name": "stderr",
          "text": [
            "Processing Titles embeddings: 100%|██████████| 1/1 [00:00<00:00, 59.72batch/s]\n"
          ]
        },
        {
          "output_type": "stream",
          "name": "stdout",
          "text": [
            "Tags to match: []\n",
            "An error occurred while finding similar recipes: No tag found to match.\n"
          ]
        },
        {
          "output_type": "stream",
          "name": "stderr",
          "text": [
            "Processing Titles embeddings: 100%|██████████| 1/1 [00:00<00:00, 48.33batch/s]\n"
          ]
        },
        {
          "output_type": "stream",
          "name": "stdout",
          "text": [
            "Tags to match: []\n",
            "An error occurred while finding similar recipes: No tag found to match.\n"
          ]
        },
        {
          "output_type": "stream",
          "name": "stderr",
          "text": [
            "Processing Titles embeddings: 100%|██████████| 1/1 [00:00<00:00, 42.65batch/s]\n"
          ]
        },
        {
          "output_type": "stream",
          "name": "stdout",
          "text": [
            "Tags to match: []\n",
            "An error occurred while finding similar recipes: No tag found to match.\n"
          ]
        },
        {
          "output_type": "stream",
          "name": "stderr",
          "text": [
            "Processing Titles embeddings: 100%|██████████| 1/1 [00:00<00:00, 50.21batch/s]\n"
          ]
        },
        {
          "output_type": "stream",
          "name": "stdout",
          "text": [
            "Tags to match: []\n",
            "An error occurred while finding similar recipes: No tag found to match.\n"
          ]
        },
        {
          "output_type": "stream",
          "name": "stderr",
          "text": [
            "Processing Titles embeddings: 100%|██████████| 1/1 [00:00<00:00, 55.73batch/s]\n"
          ]
        },
        {
          "output_type": "stream",
          "name": "stdout",
          "text": [
            "Tags to match: []\n",
            "An error occurred while finding similar recipes: No tag found to match.\n"
          ]
        },
        {
          "output_type": "stream",
          "name": "stderr",
          "text": [
            "Processing Titles embeddings: 100%|██████████| 1/1 [00:00<00:00, 63.31batch/s]\n"
          ]
        },
        {
          "output_type": "stream",
          "name": "stdout",
          "text": [
            "Tags to match: []\n",
            "An error occurred while finding similar recipes: No tag found to match.\n"
          ]
        },
        {
          "output_type": "stream",
          "name": "stderr",
          "text": [
            "Processing Titles embeddings: 100%|██████████| 1/1 [00:00<00:00, 65.16batch/s]\n"
          ]
        },
        {
          "output_type": "stream",
          "name": "stdout",
          "text": [
            "Tags to match: []\n",
            "An error occurred while finding similar recipes: No tag found to match.\n"
          ]
        },
        {
          "output_type": "stream",
          "name": "stderr",
          "text": [
            "Processing Titles embeddings: 100%|██████████| 1/1 [00:00<00:00, 62.66batch/s]\n"
          ]
        },
        {
          "output_type": "stream",
          "name": "stdout",
          "text": [
            "Tags to match: ['pasta']\n",
            "Number of filtered recipes: 13252\n"
          ]
        },
        {
          "output_type": "stream",
          "name": "stderr",
          "text": [
            "Processing Titles embeddings: 100%|██████████| 1/1 [00:00<00:00, 63.14batch/s]\n"
          ]
        },
        {
          "output_type": "stream",
          "name": "stdout",
          "text": [
            "Tags to match: ['pasta']\n",
            "Number of filtered recipes: 13252\n"
          ]
        },
        {
          "output_type": "stream",
          "name": "stderr",
          "text": [
            "Processing Titles embeddings: 100%|██████████| 1/1 [00:00<00:00, 61.62batch/s]\n"
          ]
        },
        {
          "output_type": "stream",
          "name": "stdout",
          "text": [
            "Tags to match: ['pasta', 'pasta-rice-and-grains']\n",
            "Number of filtered recipes: 13251\n"
          ]
        },
        {
          "output_type": "stream",
          "name": "stderr",
          "text": [
            "Processing Titles embeddings: 100%|██████████| 1/1 [00:00<00:00, 63.62batch/s]\n"
          ]
        },
        {
          "output_type": "stream",
          "name": "stdout",
          "text": [
            "Tags to match: ['pasta', 'pasta-rice-and-grains']\n",
            "Number of filtered recipes: 13252\n"
          ]
        },
        {
          "output_type": "stream",
          "name": "stderr",
          "text": [
            "Processing Titles embeddings: 100%|██████████| 1/1 [00:00<00:00, 67.25batch/s]\n"
          ]
        },
        {
          "output_type": "stream",
          "name": "stdout",
          "text": [
            "Tags to match: ['pasta', 'pasta-rice-and-grains']\n",
            "Number of filtered recipes: 13251\n"
          ]
        },
        {
          "output_type": "stream",
          "name": "stderr",
          "text": [
            "Processing Titles embeddings: 100%|██████████| 1/1 [00:00<00:00, 61.88batch/s]\n"
          ]
        },
        {
          "output_type": "stream",
          "name": "stdout",
          "text": [
            "Tags to match: ['pasta', 'pasta-rice-and-grains']\n",
            "Number of filtered recipes: 13252\n"
          ]
        },
        {
          "output_type": "stream",
          "name": "stderr",
          "text": [
            "Processing Titles embeddings: 100%|██████████| 1/1 [00:00<00:00, 59.18batch/s]\n"
          ]
        },
        {
          "output_type": "stream",
          "name": "stdout",
          "text": [
            "Tags to match: ['pasta', 'pasta-rice-and-grains']\n",
            "Number of filtered recipes: 13251\n"
          ]
        },
        {
          "output_type": "stream",
          "name": "stderr",
          "text": [
            "Processing Titles embeddings: 100%|██████████| 1/1 [00:00<00:00, 53.91batch/s]\n"
          ]
        },
        {
          "output_type": "stream",
          "name": "stdout",
          "text": [
            "Tags to match: ['pasta', 'pasta-rice-and-grains']\n",
            "Number of filtered recipes: 13252\n"
          ]
        },
        {
          "output_type": "stream",
          "name": "stderr",
          "text": [
            "Processing Titles embeddings: 100%|██████████| 1/1 [00:00<00:00, 59.50batch/s]\n"
          ]
        },
        {
          "output_type": "stream",
          "name": "stdout",
          "text": [
            "Tags to match: []\n",
            "An error occurred while finding similar recipes: No tag found to match.\n"
          ]
        },
        {
          "output_type": "stream",
          "name": "stderr",
          "text": [
            "Processing Titles embeddings: 100%|██████████| 1/1 [00:00<00:00, 67.49batch/s]\n"
          ]
        },
        {
          "output_type": "stream",
          "name": "stdout",
          "text": [
            "Tags to match: []\n",
            "An error occurred while finding similar recipes: No tag found to match.\n"
          ]
        },
        {
          "output_type": "stream",
          "name": "stderr",
          "text": [
            "Processing Titles embeddings: 100%|██████████| 1/1 [00:00<00:00, 64.62batch/s]\n"
          ]
        },
        {
          "output_type": "stream",
          "name": "stdout",
          "text": [
            "Tags to match: []\n",
            "An error occurred while finding similar recipes: No tag found to match.\n"
          ]
        },
        {
          "output_type": "stream",
          "name": "stderr",
          "text": [
            "Processing Titles embeddings: 100%|██████████| 1/1 [00:00<00:00, 53.32batch/s]\n"
          ]
        },
        {
          "output_type": "stream",
          "name": "stdout",
          "text": [
            "Tags to match: []\n",
            "An error occurred while finding similar recipes: No tag found to match.\n"
          ]
        },
        {
          "output_type": "stream",
          "name": "stderr",
          "text": [
            "Processing Titles embeddings: 100%|██████████| 1/1 [00:00<00:00, 62.99batch/s]\n"
          ]
        },
        {
          "output_type": "stream",
          "name": "stdout",
          "text": [
            "Tags to match: []\n",
            "An error occurred while finding similar recipes: No tag found to match.\n"
          ]
        },
        {
          "output_type": "stream",
          "name": "stderr",
          "text": [
            "Processing Titles embeddings: 100%|██████████| 1/1 [00:00<00:00, 48.16batch/s]\n"
          ]
        },
        {
          "output_type": "stream",
          "name": "stdout",
          "text": [
            "Tags to match: []\n",
            "An error occurred while finding similar recipes: No tag found to match.\n"
          ]
        },
        {
          "output_type": "stream",
          "name": "stderr",
          "text": [
            "Processing Titles embeddings: 100%|██████████| 1/1 [00:00<00:00, 60.30batch/s]\n"
          ]
        },
        {
          "output_type": "stream",
          "name": "stdout",
          "text": [
            "Tags to match: []\n",
            "An error occurred while finding similar recipes: No tag found to match.\n"
          ]
        },
        {
          "output_type": "stream",
          "name": "stderr",
          "text": [
            "Processing Titles embeddings: 100%|██████████| 1/1 [00:00<00:00, 45.07batch/s]\n"
          ]
        },
        {
          "output_type": "stream",
          "name": "stdout",
          "text": [
            "Tags to match: []\n",
            "An error occurred while finding similar recipes: No tag found to match.\n"
          ]
        },
        {
          "output_type": "stream",
          "name": "stderr",
          "text": [
            "Processing Titles embeddings: 100%|██████████| 1/1 [00:00<00:00, 57.47batch/s]\n"
          ]
        },
        {
          "output_type": "stream",
          "name": "stdout",
          "text": [
            "Tags to match: ['main-dish']\n",
            "Number of filtered recipes: 26476\n"
          ]
        },
        {
          "output_type": "stream",
          "name": "stderr",
          "text": [
            "Processing Titles embeddings: 100%|██████████| 1/1 [00:00<00:00, 66.83batch/s]\n"
          ]
        },
        {
          "output_type": "stream",
          "name": "stdout",
          "text": [
            "Tags to match: ['main-dish']\n",
            "Number of filtered recipes: 26476\n"
          ]
        },
        {
          "output_type": "stream",
          "name": "stderr",
          "text": [
            "Processing Titles embeddings: 100%|██████████| 1/1 [00:00<00:00, 53.05batch/s]\n"
          ]
        },
        {
          "output_type": "stream",
          "name": "stdout",
          "text": [
            "Tags to match: []\n",
            "An error occurred while finding similar recipes: No tag found to match.\n"
          ]
        },
        {
          "output_type": "stream",
          "name": "stderr",
          "text": [
            "Processing Titles embeddings: 100%|██████████| 1/1 [00:00<00:00, 59.18batch/s]\n"
          ]
        },
        {
          "output_type": "stream",
          "name": "stdout",
          "text": [
            "Tags to match: []\n",
            "An error occurred while finding similar recipes: No tag found to match.\n"
          ]
        },
        {
          "output_type": "stream",
          "name": "stderr",
          "text": [
            "Processing Titles embeddings: 100%|██████████| 1/1 [00:00<00:00, 57.30batch/s]\n"
          ]
        },
        {
          "output_type": "stream",
          "name": "stdout",
          "text": [
            "Tags to match: []\n",
            "An error occurred while finding similar recipes: No tag found to match.\n"
          ]
        },
        {
          "output_type": "stream",
          "name": "stderr",
          "text": [
            "Processing Titles embeddings: 100%|██████████| 1/1 [00:00<00:00, 55.14batch/s]\n"
          ]
        },
        {
          "output_type": "stream",
          "name": "stdout",
          "text": [
            "Tags to match: []\n",
            "An error occurred while finding similar recipes: No tag found to match.\n"
          ]
        },
        {
          "output_type": "stream",
          "name": "stderr",
          "text": [
            "Processing Titles embeddings: 100%|██████████| 1/1 [00:00<00:00, 38.89batch/s]\n"
          ]
        },
        {
          "output_type": "stream",
          "name": "stdout",
          "text": [
            "Tags to match: []\n",
            "An error occurred while finding similar recipes: No tag found to match.\n"
          ]
        },
        {
          "output_type": "stream",
          "name": "stderr",
          "text": [
            "Processing Titles embeddings: 100%|██████████| 1/1 [00:00<00:00, 60.53batch/s]\n"
          ]
        },
        {
          "output_type": "stream",
          "name": "stdout",
          "text": [
            "Tags to match: []\n",
            "An error occurred while finding similar recipes: No tag found to match.\n"
          ]
        },
        {
          "output_type": "stream",
          "name": "stderr",
          "text": [
            "Processing Titles embeddings: 100%|██████████| 1/1 [00:00<00:00, 62.18batch/s]\n"
          ]
        },
        {
          "output_type": "stream",
          "name": "stdout",
          "text": [
            "Tags to match: []\n",
            "An error occurred while finding similar recipes: No tag found to match.\n"
          ]
        },
        {
          "output_type": "stream",
          "name": "stderr",
          "text": [
            "Processing Titles embeddings: 100%|██████████| 1/1 [00:00<00:00, 49.38batch/s]\n"
          ]
        },
        {
          "output_type": "stream",
          "name": "stdout",
          "text": [
            "Tags to match: []\n",
            "An error occurred while finding similar recipes: No tag found to match.\n"
          ]
        },
        {
          "output_type": "stream",
          "name": "stderr",
          "text": [
            "Processing Titles embeddings: 100%|██████████| 1/1 [00:00<00:00, 60.70batch/s]\n"
          ]
        },
        {
          "output_type": "stream",
          "name": "stdout",
          "text": [
            "Tags to match: []\n",
            "An error occurred while finding similar recipes: No tag found to match.\n"
          ]
        },
        {
          "output_type": "stream",
          "name": "stderr",
          "text": [
            "Processing Titles embeddings: 100%|██████████| 1/1 [00:00<00:00, 57.99batch/s]\n"
          ]
        },
        {
          "output_type": "stream",
          "name": "stdout",
          "text": [
            "Tags to match: []\n",
            "An error occurred while finding similar recipes: No tag found to match.\n"
          ]
        },
        {
          "output_type": "stream",
          "name": "stderr",
          "text": [
            "Processing Titles embeddings: 100%|██████████| 1/1 [00:00<00:00, 65.51batch/s]\n"
          ]
        },
        {
          "output_type": "stream",
          "name": "stdout",
          "text": [
            "Tags to match: []\n",
            "An error occurred while finding similar recipes: No tag found to match.\n"
          ]
        },
        {
          "output_type": "stream",
          "name": "stderr",
          "text": [
            "Processing Titles embeddings: 100%|██████████| 1/1 [00:00<00:00, 77.91batch/s]\n"
          ]
        },
        {
          "output_type": "stream",
          "name": "stdout",
          "text": [
            "Tags to match: []\n",
            "An error occurred while finding similar recipes: No tag found to match.\n"
          ]
        },
        {
          "output_type": "stream",
          "name": "stderr",
          "text": [
            "Processing Titles embeddings: 100%|██████████| 1/1 [00:00<00:00, 66.15batch/s]\n"
          ]
        },
        {
          "output_type": "stream",
          "name": "stdout",
          "text": [
            "Tags to match: []\n",
            "An error occurred while finding similar recipes: No tag found to match.\n"
          ]
        },
        {
          "output_type": "stream",
          "name": "stderr",
          "text": [
            "Processing Titles embeddings: 100%|██████████| 1/1 [00:00<00:00, 60.31batch/s]\n"
          ]
        },
        {
          "output_type": "stream",
          "name": "stdout",
          "text": [
            "Tags to match: []\n",
            "An error occurred while finding similar recipes: No tag found to match.\n"
          ]
        },
        {
          "output_type": "stream",
          "name": "stderr",
          "text": [
            "Processing Titles embeddings: 100%|██████████| 1/1 [00:00<00:00, 61.96batch/s]\n"
          ]
        },
        {
          "output_type": "stream",
          "name": "stdout",
          "text": [
            "Tags to match: ['side-dishes']\n",
            "Number of filtered recipes: 13440\n"
          ]
        },
        {
          "output_type": "stream",
          "name": "stderr",
          "text": [
            "Processing Titles embeddings: 100%|██████████| 1/1 [00:00<00:00, 49.57batch/s]\n"
          ]
        },
        {
          "output_type": "stream",
          "name": "stdout",
          "text": [
            "Tags to match: ['side-dishes']\n",
            "Number of filtered recipes: 13440\n"
          ]
        },
        {
          "output_type": "stream",
          "name": "stderr",
          "text": [
            "Processing Titles embeddings: 100%|██████████| 1/1 [00:00<00:00, 61.29batch/s]\n"
          ]
        },
        {
          "output_type": "stream",
          "name": "stdout",
          "text": [
            "Tags to match: []\n",
            "An error occurred while finding similar recipes: No tag found to match.\n"
          ]
        },
        {
          "output_type": "stream",
          "name": "stderr",
          "text": [
            "Processing Titles embeddings: 100%|██████████| 1/1 [00:00<00:00, 63.77batch/s]\n"
          ]
        },
        {
          "output_type": "stream",
          "name": "stdout",
          "text": [
            "Tags to match: []\n",
            "An error occurred while finding similar recipes: No tag found to match.\n"
          ]
        },
        {
          "output_type": "stream",
          "name": "stderr",
          "text": [
            "Processing Titles embeddings: 100%|██████████| 1/1 [00:00<00:00, 55.88batch/s]\n"
          ]
        },
        {
          "output_type": "stream",
          "name": "stdout",
          "text": [
            "Tags to match: []\n",
            "An error occurred while finding similar recipes: No tag found to match.\n"
          ]
        },
        {
          "output_type": "stream",
          "name": "stderr",
          "text": [
            "Processing Titles embeddings: 100%|██████████| 1/1 [00:00<00:00, 49.79batch/s]\n"
          ]
        },
        {
          "output_type": "stream",
          "name": "stdout",
          "text": [
            "Tags to match: []\n",
            "An error occurred while finding similar recipes: No tag found to match.\n"
          ]
        },
        {
          "output_type": "stream",
          "name": "stderr",
          "text": [
            "Processing Titles embeddings: 100%|██████████| 1/1 [00:00<00:00, 42.10batch/s]\n"
          ]
        },
        {
          "output_type": "stream",
          "name": "stdout",
          "text": [
            "Tags to match: []\n",
            "An error occurred while finding similar recipes: No tag found to match.\n"
          ]
        },
        {
          "output_type": "stream",
          "name": "stderr",
          "text": [
            "Processing Titles embeddings: 100%|██████████| 1/1 [00:00<00:00, 51.04batch/s]\n"
          ]
        },
        {
          "output_type": "stream",
          "name": "stdout",
          "text": [
            "Tags to match: []\n",
            "An error occurred while finding similar recipes: No tag found to match.\n"
          ]
        },
        {
          "output_type": "stream",
          "name": "stderr",
          "text": [
            "Processing Titles embeddings: 100%|██████████| 1/1 [00:00<00:00, 60.42batch/s]\n"
          ]
        },
        {
          "output_type": "stream",
          "name": "stdout",
          "text": [
            "Tags to match: []\n",
            "An error occurred while finding similar recipes: No tag found to match.\n"
          ]
        },
        {
          "output_type": "stream",
          "name": "stderr",
          "text": [
            "Processing Titles embeddings: 100%|██████████| 1/1 [00:00<00:00, 56.79batch/s]\n"
          ]
        },
        {
          "output_type": "stream",
          "name": "stdout",
          "text": [
            "Tags to match: []\n",
            "An error occurred while finding similar recipes: No tag found to match.\n"
          ]
        },
        {
          "output_type": "stream",
          "name": "stderr",
          "text": [
            "Processing Titles embeddings: 100%|██████████| 1/1 [00:00<00:00, 61.92batch/s]\n"
          ]
        },
        {
          "output_type": "stream",
          "name": "stdout",
          "text": [
            "Tags to match: ['desserts']\n",
            "Number of filtered recipes: 23324\n"
          ]
        },
        {
          "output_type": "stream",
          "name": "stderr",
          "text": [
            "Processing Titles embeddings: 100%|██████████| 1/1 [00:00<00:00, 58.25batch/s]\n"
          ]
        },
        {
          "output_type": "stream",
          "name": "stdout",
          "text": [
            "Tags to match: ['desserts']\n",
            "Number of filtered recipes: 23324\n"
          ]
        },
        {
          "output_type": "stream",
          "name": "stderr",
          "text": [
            "Processing Titles embeddings: 100%|██████████| 1/1 [00:00<00:00, 55.54batch/s]\n"
          ]
        },
        {
          "output_type": "stream",
          "name": "stdout",
          "text": [
            "Tags to match: ['desserts']\n",
            "Number of filtered recipes: 23324\n"
          ]
        },
        {
          "output_type": "stream",
          "name": "stderr",
          "text": [
            "Processing Titles embeddings: 100%|██████████| 1/1 [00:00<00:00, 59.08batch/s]\n"
          ]
        },
        {
          "output_type": "stream",
          "name": "stdout",
          "text": [
            "Tags to match: ['desserts']\n",
            "Number of filtered recipes: 23324\n"
          ]
        },
        {
          "output_type": "stream",
          "name": "stderr",
          "text": [
            "Processing Titles embeddings: 100%|██████████| 1/1 [00:00<00:00, 52.13batch/s]\n"
          ]
        },
        {
          "output_type": "stream",
          "name": "stdout",
          "text": [
            "Tags to match: ['desserts']\n",
            "Number of filtered recipes: 23324\n"
          ]
        },
        {
          "output_type": "stream",
          "name": "stderr",
          "text": [
            "Processing Titles embeddings: 100%|██████████| 1/1 [00:00<00:00, 54.24batch/s]\n"
          ]
        },
        {
          "output_type": "stream",
          "name": "stdout",
          "text": [
            "Tags to match: ['desserts']\n",
            "Number of filtered recipes: 23324\n"
          ]
        }
      ]
    },
    {
      "cell_type": "code",
      "source": [
        "len(results)"
      ],
      "metadata": {
        "id": "kj9paKAjjwJ5",
        "colab": {
          "base_uri": "https://localhost:8080/"
        },
        "outputId": "a850baa2-da9d-4d8e-9a6b-f39a97c7022e"
      },
      "execution_count": 20,
      "outputs": [
        {
          "output_type": "execute_result",
          "data": {
            "text/plain": [
              "176"
            ]
          },
          "metadata": {},
          "execution_count": 20
        }
      ]
    },
    {
      "cell_type": "code",
      "source": [
        "import json\n",
        "with open('experiment_unkown_recipes_results.json', 'w') as file:\n",
        "    json.dump(results, file)\n"
      ],
      "metadata": {
        "id": "FPGwc4RphTiu"
      },
      "execution_count": 21,
      "outputs": []
    },
    {
      "cell_type": "code",
      "source": [
        "import json\n",
        "import pandas as pd\n",
        "\n",
        "# Carica i dati dal file JSON\n",
        "with open('experiment_unkown_recipes_results.json', 'r') as file:\n",
        "    experiment_data = json.load(file)\n",
        "\n",
        "# Converti i dati in un DataFrame\n",
        "experiment_df = pd.DataFrame(experiment_data)\n",
        "\n",
        "# Filtra il DataFrame sperimentale in base ai titoli delle ricette per ottenere il sottogruppo\n",
        "selected_recipes_df = experiment_df[experiment_df['recipe_name'].isin(recipe_titles)]\n",
        "\n",
        "# Funzioni come prima\n",
        "def estrai_incrementi(ordered_list, key):\n",
        "    return [d[key] for d in ordered_list if key in d]\n",
        "\n",
        "# Calcolo degli incrementi come prima\n",
        "selected_recipes_df['healthiness_increment'] = selected_recipes_df['ordered_by_sustainameal'].apply(lambda x: estrai_incrementi(x, 'healthiness_increment'))\n",
        "selected_recipes_df['sustainability_increment'] = selected_recipes_df['ordered_by_sustainameal'].apply(lambda x: estrai_incrementi(x, 'sustainability_increment'))\n",
        "selected_recipes_df['sustainameal_score_increment'] = selected_recipes_df['ordered_by_sustainameal'].apply(lambda x: estrai_incrementi(x, 'sustainameal_score_increment'))\n",
        "\n",
        "# Calcolare la media degli incrementi come prima\n",
        "selected_recipes_df['healthiness_increment_mean'] = selected_recipes_df['healthiness_increment'].apply(lambda x: sum(x) / len(x) if x else 0)\n",
        "selected_recipes_df['sustainability_increment_mean'] = selected_recipes_df['sustainability_increment'].apply(lambda x: sum(x) / len(x) if x else 0)\n",
        "selected_recipes_df['sustainameal_score_increment_mean'] = selected_recipes_df['sustainameal_score_increment'].apply(lambda x: sum(x) / len(x) if x else 0)\n",
        "\n",
        "# Calcola le medie per il sottogruppo selezionato\n",
        "medie_selected_recipes = selected_recipes_df.groupby(['k', 'nutrients', 'match_all_tags']).agg({\n",
        "    'healthiness_increment_mean': 'mean',\n",
        "    'sustainability_increment_mean': 'mean',\n",
        "    'sustainameal_score_increment_mean': 'mean'\n",
        "}).reset_index()\n",
        "\n",
        "# Visualizzare le medie per il sottogruppo selezionato\n",
        "print(\"Medie per il sottogruppo selezionato:\")\n",
        "print(medie_selected_recipes)\n"
      ],
      "metadata": {
        "colab": {
          "base_uri": "https://localhost:8080/"
        },
        "id": "auHjz6Rvs0AR",
        "outputId": "4920ce34-8887-4254-b084-c1c0cc60899c"
      },
      "execution_count": 22,
      "outputs": [
        {
          "output_type": "stream",
          "name": "stdout",
          "text": [
            "Medie per il sottogruppo selezionato:\n",
            "      k                                          nutrients  match_all_tags  \\\n",
            "0     1  calories [cal], totalFat [g], saturatedFat [g]...           False   \n",
            "1     1  calories [cal], totalFat [g], saturatedFat [g]...            True   \n",
            "2     1  calories [cal], totalFat [g], sodium [mg], die...           False   \n",
            "3     1  calories [cal], totalFat [g], sodium [mg], die...            True   \n",
            "4    10  calories [cal], totalFat [g], saturatedFat [g]...           False   \n",
            "5    10  calories [cal], totalFat [g], saturatedFat [g]...            True   \n",
            "6    10  calories [cal], totalFat [g], sodium [mg], die...           False   \n",
            "7    10  calories [cal], totalFat [g], sodium [mg], die...            True   \n",
            "8    50  calories [cal], totalFat [g], saturatedFat [g]...           False   \n",
            "9    50  calories [cal], totalFat [g], saturatedFat [g]...            True   \n",
            "10   50  calories [cal], totalFat [g], sodium [mg], die...           False   \n",
            "11   50  calories [cal], totalFat [g], sodium [mg], die...            True   \n",
            "12  100  calories [cal], totalFat [g], saturatedFat [g]...           False   \n",
            "13  100  calories [cal], totalFat [g], saturatedFat [g]...            True   \n",
            "14  100  calories [cal], totalFat [g], sodium [mg], die...           False   \n",
            "15  100  calories [cal], totalFat [g], sodium [mg], die...            True   \n",
            "\n",
            "    healthiness_increment_mean  sustainability_increment_mean  \\\n",
            "0                    -2.997049                       2.584469   \n",
            "1                    -2.911866                      -0.195271   \n",
            "2                    -2.997049                       2.584469   \n",
            "3                     2.641136                       0.462322   \n",
            "4                     2.962611                      -3.252682   \n",
            "5                     3.932151                      -1.425374   \n",
            "6                     1.513993                      -4.884915   \n",
            "7                     3.203201                      -4.562241   \n",
            "8                    13.117137                      14.948322   \n",
            "9                    13.786944                      14.931924   \n",
            "10                   12.980563                      14.841006   \n",
            "11                   12.668409                      15.072542   \n",
            "12                   15.767980                      18.178247   \n",
            "13                   17.658408                      18.064345   \n",
            "14                   16.430887                      17.866335   \n",
            "15                   17.783600                      17.899804   \n",
            "\n",
            "    sustainameal_score_increment_mean  \n",
            "0                            1.826883  \n",
            "1                           -0.563997  \n",
            "2                            1.826883  \n",
            "3                            0.758055  \n",
            "4                           -2.694919  \n",
            "5                           -0.981129  \n",
            "6                           -4.358161  \n",
            "7                           -3.848316  \n",
            "8                           14.471372  \n",
            "9                           14.539072  \n",
            "10                          14.497898  \n",
            "11                          14.657094  \n",
            "12                          17.642033  \n",
            "13                          17.756867  \n",
            "14                          17.510729  \n",
            "15                          17.706764  \n"
          ]
        }
      ]
    },
    {
      "cell_type": "code",
      "source": [
        "import matplotlib.pyplot as plt\n",
        "from pandas.plotting import table\n",
        "\n",
        "# Funzione per abbreviare i titoli delle colonne\n",
        "def abbreviate_column_names(df):\n",
        "    abbreviations = {'healthiness_increment_mean': 'H_inc_mean',\n",
        "                     'sustainability_increment_mean': 'S_inc_mean',\n",
        "                     'sustainameal_score_increment_mean': 'SM_inc_mean'}\n",
        "    return df.rename(columns=abbreviations)\n",
        "\n",
        "# Applica l'abbreviazione ai nomi delle colonne\n",
        "medie_selected_recipes = abbreviate_column_names(medie_selected_recipes)\n",
        "\n",
        "# Funzione per sostituire la stringa dei nutrienti con 'A' o 'B'\n",
        "def replace_nutrients(nutrient_string):\n",
        "    # Definisci le liste di nutrienti\n",
        "    nutrients_A = ['calories [cal]', 'totalFat [g]', 'sodium [mg]', 'dietaryFiber [g]', 'sugars [g]', 'protein [g]']\n",
        "    nutrients_B = ['calories [cal]', 'totalFat [g]', 'saturatedFat [g]', 'cholesterol [mg]', 'sodium [mg]', 'dietaryFiber [g]', 'sugars [g]', 'protein [g]']\n",
        "\n",
        "    if nutrient_string == ', '.join(nutrients_A):\n",
        "        return 'A'\n",
        "    elif nutrient_string == ', '.join(nutrients_B):\n",
        "        return 'B'\n",
        "    else:\n",
        "        return 'Unknown'\n",
        "\n",
        "# Applica la funzione di sostituzione\n",
        "medie_selected_recipes['nutrients'] = medie_selected_recipes['nutrients'].apply(replace_nutrients)\n",
        "\n",
        "# Funzione per colorare i valori in base al segno e arrotondare i numeri\n",
        "def apply_formatting(tbl):\n",
        "    for (i, j), cell in tbl.get_celld().items():\n",
        "        if j < 2 or i == 0:  # Salta le prime due colonne e l'intestazione\n",
        "            continue\n",
        "        val = cell.get_text().get_text()\n",
        "        try:\n",
        "            num = float(val)\n",
        "            cell.get_text().set_text(f'{num:.2f}')\n",
        "            cell.get_text().set_color('green' if num > 0 else 'red' if num < 0 else 'black')\n",
        "        except ValueError:\n",
        "            pass  # Non è un numero, non fare nulla\n",
        "\n",
        "# Crea una figura per contenere la tabella\n",
        "fig, ax = plt.subplots(figsize=(10, 5))\n",
        "\n",
        "# Disegna la tabella\n",
        "ax.axis('off')\n",
        "tbl = table(ax, medie_selected_recipes, loc='center', cellLoc='center')\n",
        "tbl.auto_set_font_size(False)\n",
        "tbl.set_fontsize(10)\n",
        "tbl.scale(1.2, 1.2)\n",
        "apply_formatting(tbl)  # Applica il colore e l'arrotondamento qui\n",
        "\n",
        "plt.tight_layout()\n",
        "plt.show()\n"
      ],
      "metadata": {
        "colab": {
          "base_uri": "https://localhost:8080/",
          "height": 507
        },
        "id": "QJNY_rEjYSAA",
        "outputId": "9c8d1e5b-e0b1-4e31-f64f-9c1200ff9528"
      },
      "execution_count": 23,
      "outputs": [
        {
          "output_type": "display_data",
          "data": {
            "text/plain": [
              "<Figure size 1000x500 with 1 Axes>"
            ],
            "image/png": "[encoded data removed]"
          },
          "metadata": {}
        }
      ]
    }
  ]
}