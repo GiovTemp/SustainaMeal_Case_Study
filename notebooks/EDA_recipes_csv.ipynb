{
  "nbformat": 4,
  "nbformat_minor": 0,
  "metadata": {
    "colab": {
      "provenance": []
    },
    "kernelspec": {
      "name": "python3",
      "display_name": "Python 3"
    },
    "language_info": {
      "name": "python"
    }
  },
  "cells": [
    {
      "cell_type": "code",
      "execution_count": null,
      "metadata": {
        "id": "pUNFbOb-fWlV"
      },
      "outputs": [],
      "source": [
        "import requests\n",
        "import pandas as pd\n",
        "from io import BytesIO\n",
        "from zipfile import ZipFile\n",
        "\n",
        "def download_and_extract_csv(zip_url):\n",
        "    # Download the ZIP file\n",
        "    response = requests.get(zip_url)\n",
        "    response.raise_for_status()  # This will raise an error if the download failed\n",
        "\n",
        "    # Extract the CSV file\n",
        "    with ZipFile(BytesIO(response.content)) as thezip:\n",
        "        # Assuming there's only one CSV file in the zip\n",
        "        with thezip.open(thezip.namelist()[0]) as thefile:\n",
        "            df = pd.read_csv(thefile)\n",
        "\n",
        "    return df"
      ]
    },
    {
      "cell_type": "code",
      "source": [
        "github_zip_url = 'https://gitlab.com/felix134/connected-recipe-data-set/-/raw/master/data/hummus_data/preprocessed/pp_recipes.zip'"
      ],
      "metadata": {
        "id": "1WnymYvNguFV"
      },
      "execution_count": null,
      "outputs": []
    },
    {
      "cell_type": "code",
      "source": [
        "dataframe = download_and_extract_csv(github_zip_url)\n",
        "print(dataframe)"
      ],
      "metadata": {
        "colab": {
          "base_uri": "https://localhost:8080/"
        },
        "id": "lBNdfrthgvto",
        "outputId": "49644224-9512-4aa6-e235-67e3ef95d142"
      },
      "execution_count": null,
      "outputs": [
        {
          "output_type": "stream",
          "name": "stderr",
          "text": [
            "<ipython-input-4-eca2e528241b>:15: DtypeWarning: Columns (35,36) have mixed types. Specify dtype option on import or set low_memory=False.\n",
            "  df = pd.read_csv(thefile)\n"
          ]
        },
        {
          "output_type": "stream",
          "name": "stdout",
          "text": [
            "        Unnamed: 0  recipe_id                                 title  \\\n",
            "0                0     447642         Cranberry-Orange Caramel Corn   \n",
            "1                1      53662                 Cocktail De Camarones   \n",
            "2                2     520465        Inbal Jerusalem Hotel Snowball   \n",
            "3                3     213601         Santorini Roasted Leg of Lamb   \n",
            "4                4      67731             Cantonese Chicken Burgers   \n",
            "...            ...        ...                                   ...   \n",
            "507330      507330     161672                   Southern Belle Bars   \n",
            "507331      507331     242936                    Miriam's Egg Rolls   \n",
            "507332      507332      51384    Creamy Chicken and Chile Casserole   \n",
            "507333      507333     406042                             Won Ton's   \n",
            "507334      507334     131807  Whole Foods Mediterranean Tuna Salad   \n",
            "\n",
            "                                              description   author_id  \\\n",
            "0       Taken from Beter Homes and Gardens, November 2...      409184   \n",
            "1       I ordered shrimp cocktail at a Mexican restaur...       64251   \n",
            "2       This recipe was created in response to a Janua...  1803632771   \n",
            "3       A succulent slow-roasted leg of lamb with herb...      183057   \n",
            "4       Adapted from a recipe in BHG's grilling magazine.       37779   \n",
            "...                                                   ...         ...   \n",
            "507330              Pecan pie in an easy bar cookie form.       53959   \n",
            "507331  My sister introduced me to homemade egg rolls ...      461724   \n",
            "507332  Yummy, creamy, fast, and easy! This could easi...       47175   \n",
            "507333  Great as Pot Stickers or in a soup of chicken ...      335392   \n",
            "507334  This is superb! I could eat buckets of this! T...        4439   \n",
            "\n",
            "        duration                                         directions  \\\n",
            "0           40.0  ['Preheat oven to 275 degrees. In a very large...   \n",
            "1           20.0  ['After you chop the tomatoes, onions and cila...   \n",
            "2          210.0  ['Combine gelatin with cold water', 'Combine c...   \n",
            "3          375.0  ['Trim excess fat and silver skin from lamb le...   \n",
            "4           38.0  ['In a mixing bowl, add the egg, sesame oil, a...   \n",
            "...          ...                                                ...   \n",
            "507330      70.0  ['Heat oven to 350°F  ', 'Combine 1 1/4 cups f...   \n",
            "507331      50.0  ['Heat 2 tablespoons oil in wok or frying pan....   \n",
            "507332      40.0  ['Heat oven to 400°F.', 'Cook chicken over med...   \n",
            "507333      55.0  ['Combine all ingredients.', 'Place Won Ton wr...   \n",
            "507334      65.0  ['In a large bowl, combine the tuna, artichoke...   \n",
            "\n",
            "                                              ingredients serves  \\\n",
            "0       {'': [('popcorn, popped', '12  time(s) cups ')...     20   \n",
            "1       {'': [('shelled and cooked shrimp (50-60 count...    2-4   \n",
            "2       {'': [('cream', '200  time(s) g '), ('vanilla ...      5   \n",
            "3       {'': [('of lamb', '6  time(s) lbs leg '), ('dr...  10-12   \n",
            "4       {'': [('egg, beaten', '1  time(s) '), ('toaste...      4   \n",
            "...                                                   ...    ...   \n",
            "507330  {'filling': [('dark corn syrup', '/ time(s) cu...    6-8   \n",
            "507331  {'': [('oil', '5  time(s) tablespoons '), ('gr...      5   \n",
            "507332  {'': [('boneless skinless chicken breasts, cub...    NaN   \n",
            "507333  {'': [('wonton wrappers (about 48)', '12  time...      6   \n",
            "507334  {'': [('chunk light tuna, drained well', '4 ti...    6-8   \n",
            "\n",
            "       last_changed_date  ... sugars [g] protein [g] direction_size  \\\n",
            "0             2011-01-29  ...        6.9         0.8              9   \n",
            "1             2009-06-03  ...        6.3        51.3              7   \n",
            "2             2015-01-08  ...       78.0        87.7             12   \n",
            "3             2009-05-17  ...        3.6        51.1              8   \n",
            "4             2007-11-21  ...        4.2        30.3              6   \n",
            "...                  ...  ...        ...         ...            ...   \n",
            "507330        2021-07-20  ...       32.0         7.0              4   \n",
            "507331        2009-09-09  ...        6.5        29.5              8   \n",
            "507332        2012-04-07  ...       33.6       121.5             12   \n",
            "507333        2010-06-23  ...        0.3        19.4              7   \n",
            "507334        2013-01-31  ...        4.2        31.8              1   \n",
            "\n",
            "        ingredients_sizes  who_score  fsa_score  nutri_score  \\\n",
            "0                       9   0.168254      0.000         0.00   \n",
            "1                      10   0.335455      0.625         0.25   \n",
            "2                      17   0.128082      0.000         0.00   \n",
            "3                       8   0.320622      0.375         0.00   \n",
            "4                      12   0.254427      0.500         0.25   \n",
            "...                   ...        ...        ...          ...   \n",
            "507330                 11   0.122160        NaN         0.00   \n",
            "507331                 15   0.123409      0.250         0.00   \n",
            "507332                 10   0.161195      0.000         0.00   \n",
            "507333                 11   0.248843      0.375         0.25   \n",
            "507334                 12   0.329156      0.625         0.25   \n",
            "\n",
            "        normalization_comment  \\\n",
            "0                         NaN   \n",
            "1                         NaN   \n",
            "2                         NaN   \n",
            "3                         NaN   \n",
            "4                         NaN   \n",
            "...                       ...   \n",
            "507330                      *   \n",
            "507331                    NaN   \n",
            "507332                    NaN   \n",
            "507333                    NaN   \n",
            "507334                    NaN   \n",
            "\n",
            "                                  ingredient_food_kg_urls  \\\n",
            "0       ['http://idea.rpi.edu/heals/kb/ingredientname/...   \n",
            "1       ['http://idea.rpi.edu/heals/kb/ingredientname/...   \n",
            "2       ['http://idea.rpi.edu/heals/kb/ingredientname/...   \n",
            "3       ['http://idea.rpi.edu/heals/kb/ingredientname/...   \n",
            "4       ['http://idea.rpi.edu/heals/kb/ingredientname/...   \n",
            "...                                                   ...   \n",
            "507330                                                NaN   \n",
            "507331                                                NaN   \n",
            "507332                                                NaN   \n",
            "507333                                                NaN   \n",
            "507334                                                NaN   \n",
            "\n",
            "                                 ingredient_food_kg_names  \n",
            "0       ['baking soda', 'brown sugar', 'butter', 'corn...  \n",
            "1       ['avocado', 'cilantro', 'cooked shrimp', 'garl...  \n",
            "2       ['cold water', 'condensed milk', 'cornflour', ...  \n",
            "3       ['dried mint flakes', 'dried oregano', 'dried ...  \n",
            "4       ['carrots', 'egg', 'fine dry breadcrumbs', 'ga...  \n",
            "...                                                   ...  \n",
            "507330                                                NaN  \n",
            "507331                                                NaN  \n",
            "507332                                                NaN  \n",
            "507333                                                NaN  \n",
            "507334                                                NaN  \n",
            "\n",
            "[507335 rows x 37 columns]\n"
          ]
        }
      ]
    },
    {
      "cell_type": "code",
      "source": [
        "dataframe.head()"
      ],
      "metadata": {
        "colab": {
          "base_uri": "https://localhost:8080/",
          "height": 655
        },
        "id": "GH47m59qia2o",
        "outputId": "b5c91ad9-0ac7-4749-b8ec-30b138af1f2c"
      },
      "execution_count": null,
      "outputs": [
        {
          "output_type": "execute_result",
          "data": {
            "text/plain": [
              "   Unnamed: 0  recipe_id                           title  \\\n",
              "0           0     447642   Cranberry-Orange Caramel Corn   \n",
              "1           1      53662           Cocktail De Camarones   \n",
              "2           2     520465  Inbal Jerusalem Hotel Snowball   \n",
              "3           3     213601   Santorini Roasted Leg of Lamb   \n",
              "4           4      67731       Cantonese Chicken Burgers   \n",
              "\n",
              "                                         description   author_id  duration  \\\n",
              "0  Taken from Beter Homes and Gardens, November 2...      409184      40.0   \n",
              "1  I ordered shrimp cocktail at a Mexican restaur...       64251      20.0   \n",
              "2  This recipe was created in response to a Janua...  1803632771     210.0   \n",
              "3  A succulent slow-roasted leg of lamb with herb...      183057     375.0   \n",
              "4  Adapted from a recipe in BHG's grilling magazine.       37779      38.0   \n",
              "\n",
              "                                          directions  \\\n",
              "0  ['Preheat oven to 275 degrees. In a very large...   \n",
              "1  ['After you chop the tomatoes, onions and cila...   \n",
              "2  ['Combine gelatin with cold water', 'Combine c...   \n",
              "3  ['Trim excess fat and silver skin from lamb le...   \n",
              "4  ['In a mixing bowl, add the egg, sesame oil, a...   \n",
              "\n",
              "                                         ingredients serves last_changed_date  \\\n",
              "0  {'': [('popcorn, popped', '12  time(s) cups ')...     20        2011-01-29   \n",
              "1  {'': [('shelled and cooked shrimp (50-60 count...    2-4        2009-06-03   \n",
              "2  {'': [('cream', '200  time(s) g '), ('vanilla ...      5        2015-01-08   \n",
              "3  {'': [('of lamb', '6  time(s) lbs leg '), ('dr...  10-12        2009-05-17   \n",
              "4  {'': [('egg, beaten', '1  time(s) '), ('toaste...      4        2007-11-21   \n",
              "\n",
              "   ... sugars [g] protein [g] direction_size  ingredients_sizes  who_score  \\\n",
              "0  ...        6.9         0.8              9                  9   0.168254   \n",
              "1  ...        6.3        51.3              7                 10   0.335455   \n",
              "2  ...       78.0        87.7             12                 17   0.128082   \n",
              "3  ...        3.6        51.1              8                  8   0.320622   \n",
              "4  ...        4.2        30.3              6                 12   0.254427   \n",
              "\n",
              "   fsa_score  nutri_score  normalization_comment  \\\n",
              "0      0.000         0.00                    NaN   \n",
              "1      0.625         0.25                    NaN   \n",
              "2      0.000         0.00                    NaN   \n",
              "3      0.375         0.00                    NaN   \n",
              "4      0.500         0.25                    NaN   \n",
              "\n",
              "                             ingredient_food_kg_urls  \\\n",
              "0  ['http://idea.rpi.edu/heals/kb/ingredientname/...   \n",
              "1  ['http://idea.rpi.edu/heals/kb/ingredientname/...   \n",
              "2  ['http://idea.rpi.edu/heals/kb/ingredientname/...   \n",
              "3  ['http://idea.rpi.edu/heals/kb/ingredientname/...   \n",
              "4  ['http://idea.rpi.edu/heals/kb/ingredientname/...   \n",
              "\n",
              "                            ingredient_food_kg_names  \n",
              "0  ['baking soda', 'brown sugar', 'butter', 'corn...  \n",
              "1  ['avocado', 'cilantro', 'cooked shrimp', 'garl...  \n",
              "2  ['cold water', 'condensed milk', 'cornflour', ...  \n",
              "3  ['dried mint flakes', 'dried oregano', 'dried ...  \n",
              "4  ['carrots', 'egg', 'fine dry breadcrumbs', 'ga...  \n",
              "\n",
              "[5 rows x 37 columns]"
            ],
            "text/html": [
              "\n",
              "  <div id=\"df-8c2fe491-183c-462c-9bd9-68a80609f78e\" class=\"colab-df-container\">\n",
              "    <div>\n",
              "<style scoped>\n",
              "    .dataframe tbody tr th:only-of-type {\n",
              "        vertical-align: middle;\n",
              "    }\n",
              "\n",
              "    .dataframe tbody tr th {\n",
              "        vertical-align: top;\n",
              "    }\n",
              "\n",
              "    .dataframe thead th {\n",
              "        text-align: right;\n",
              "    }\n",
              "</style>\n",
              "<table border=\"1\" class=\"dataframe\">\n",
              "  <thead>\n",
              "    <tr style=\"text-align: right;\">\n",
              "      <th></th>\n",
              "      <th>Unnamed: 0</th>\n",
              "      <th>recipe_id</th>\n",
              "      <th>title</th>\n",
              "      <th>description</th>\n",
              "      <th>author_id</th>\n",
              "      <th>duration</th>\n",
              "      <th>directions</th>\n",
              "      <th>ingredients</th>\n",
              "      <th>serves</th>\n",
              "      <th>last_changed_date</th>\n",
              "      <th>...</th>\n",
              "      <th>sugars [g]</th>\n",
              "      <th>protein [g]</th>\n",
              "      <th>direction_size</th>\n",
              "      <th>ingredients_sizes</th>\n",
              "      <th>who_score</th>\n",
              "      <th>fsa_score</th>\n",
              "      <th>nutri_score</th>\n",
              "      <th>normalization_comment</th>\n",
              "      <th>ingredient_food_kg_urls</th>\n",
              "      <th>ingredient_food_kg_names</th>\n",
              "    </tr>\n",
              "  </thead>\n",
              "  <tbody>\n",
              "    <tr>\n",
              "      <th>0</th>\n",
              "      <td>0</td>\n",
              "      <td>447642</td>\n",
              "      <td>Cranberry-Orange Caramel Corn</td>\n",
              "      <td>Taken from Beter Homes and Gardens, November 2...</td>\n",
              "      <td>409184</td>\n",
              "      <td>40.0</td>\n",
              "      <td>['Preheat oven to 275 degrees. In a very large...</td>\n",
              "      <td>{'': [('popcorn, popped', '12  time(s) cups ')...</td>\n",
              "      <td>20</td>\n",
              "      <td>2011-01-29</td>\n",
              "      <td>...</td>\n",
              "      <td>6.9</td>\n",
              "      <td>0.8</td>\n",
              "      <td>9</td>\n",
              "      <td>9</td>\n",
              "      <td>0.168254</td>\n",
              "      <td>0.000</td>\n",
              "      <td>0.00</td>\n",
              "      <td>NaN</td>\n",
              "      <td>['http://idea.rpi.edu/heals/kb/ingredientname/...</td>\n",
              "      <td>['baking soda', 'brown sugar', 'butter', 'corn...</td>\n",
              "    </tr>\n",
              "    <tr>\n",
              "      <th>1</th>\n",
              "      <td>1</td>\n",
              "      <td>53662</td>\n",
              "      <td>Cocktail De Camarones</td>\n",
              "      <td>I ordered shrimp cocktail at a Mexican restaur...</td>\n",
              "      <td>64251</td>\n",
              "      <td>20.0</td>\n",
              "      <td>['After you chop the tomatoes, onions and cila...</td>\n",
              "      <td>{'': [('shelled and cooked shrimp (50-60 count...</td>\n",
              "      <td>2-4</td>\n",
              "      <td>2009-06-03</td>\n",
              "      <td>...</td>\n",
              "      <td>6.3</td>\n",
              "      <td>51.3</td>\n",
              "      <td>7</td>\n",
              "      <td>10</td>\n",
              "      <td>0.335455</td>\n",
              "      <td>0.625</td>\n",
              "      <td>0.25</td>\n",
              "      <td>NaN</td>\n",
              "      <td>['http://idea.rpi.edu/heals/kb/ingredientname/...</td>\n",
              "      <td>['avocado', 'cilantro', 'cooked shrimp', 'garl...</td>\n",
              "    </tr>\n",
              "    <tr>\n",
              "      <th>2</th>\n",
              "      <td>2</td>\n",
              "      <td>520465</td>\n",
              "      <td>Inbal Jerusalem Hotel Snowball</td>\n",
              "      <td>This recipe was created in response to a Janua...</td>\n",
              "      <td>1803632771</td>\n",
              "      <td>210.0</td>\n",
              "      <td>['Combine gelatin with cold water', 'Combine c...</td>\n",
              "      <td>{'': [('cream', '200  time(s) g '), ('vanilla ...</td>\n",
              "      <td>5</td>\n",
              "      <td>2015-01-08</td>\n",
              "      <td>...</td>\n",
              "      <td>78.0</td>\n",
              "      <td>87.7</td>\n",
              "      <td>12</td>\n",
              "      <td>17</td>\n",
              "      <td>0.128082</td>\n",
              "      <td>0.000</td>\n",
              "      <td>0.00</td>\n",
              "      <td>NaN</td>\n",
              "      <td>['http://idea.rpi.edu/heals/kb/ingredientname/...</td>\n",
              "      <td>['cold water', 'condensed milk', 'cornflour', ...</td>\n",
              "    </tr>\n",
              "    <tr>\n",
              "      <th>3</th>\n",
              "      <td>3</td>\n",
              "      <td>213601</td>\n",
              "      <td>Santorini Roasted Leg of Lamb</td>\n",
              "      <td>A succulent slow-roasted leg of lamb with herb...</td>\n",
              "      <td>183057</td>\n",
              "      <td>375.0</td>\n",
              "      <td>['Trim excess fat and silver skin from lamb le...</td>\n",
              "      <td>{'': [('of lamb', '6  time(s) lbs leg '), ('dr...</td>\n",
              "      <td>10-12</td>\n",
              "      <td>2009-05-17</td>\n",
              "      <td>...</td>\n",
              "      <td>3.6</td>\n",
              "      <td>51.1</td>\n",
              "      <td>8</td>\n",
              "      <td>8</td>\n",
              "      <td>0.320622</td>\n",
              "      <td>0.375</td>\n",
              "      <td>0.00</td>\n",
              "      <td>NaN</td>\n",
              "      <td>['http://idea.rpi.edu/heals/kb/ingredientname/...</td>\n",
              "      <td>['dried mint flakes', 'dried oregano', 'dried ...</td>\n",
              "    </tr>\n",
              "    <tr>\n",
              "      <th>4</th>\n",
              "      <td>4</td>\n",
              "      <td>67731</td>\n",
              "      <td>Cantonese Chicken Burgers</td>\n",
              "      <td>Adapted from a recipe in BHG's grilling magazine.</td>\n",
              "      <td>37779</td>\n",
              "      <td>38.0</td>\n",
              "      <td>['In a mixing bowl, add the egg, sesame oil, a...</td>\n",
              "      <td>{'': [('egg, beaten', '1  time(s) '), ('toaste...</td>\n",
              "      <td>4</td>\n",
              "      <td>2007-11-21</td>\n",
              "      <td>...</td>\n",
              "      <td>4.2</td>\n",
              "      <td>30.3</td>\n",
              "      <td>6</td>\n",
              "      <td>12</td>\n",
              "      <td>0.254427</td>\n",
              "      <td>0.500</td>\n",
              "      <td>0.25</td>\n",
              "      <td>NaN</td>\n",
              "      <td>['http://idea.rpi.edu/heals/kb/ingredientname/...</td>\n",
              "      <td>['carrots', 'egg', 'fine dry breadcrumbs', 'ga...</td>\n",
              "    </tr>\n",
              "  </tbody>\n",
              "</table>\n",
              "<p>5 rows × 37 columns</p>\n",
              "</div>\n",
              "    <div class=\"colab-df-buttons\">\n",
              "\n",
              "  <div class=\"colab-df-container\">\n",
              "    <button class=\"colab-df-convert\" onclick=\"convertToInteractive('df-8c2fe491-183c-462c-9bd9-68a80609f78e')\"\n",
              "            title=\"Convert this dataframe to an interactive table.\"\n",
              "            style=\"display:none;\">\n",
              "\n",
              "  <svg xmlns=\"http://www.w3.org/2000/svg\" height=\"24px\" viewBox=\"0 -960 960 960\">\n",
              "    <path d=\"M120-120v-720h720v720H120Zm60-500h600v-160H180v160Zm220 220h160v-160H400v160Zm0 220h160v-160H400v160ZM180-400h160v-160H180v160Zm440 0h160v-160H620v160ZM180-180h160v-160H180v160Zm440 0h160v-160H620v160Z\"/>\n",
              "  </svg>\n",
              "    </button>\n",
              "\n",
              "  <style>\n",
              "    .colab-df-container {\n",
              "      display:flex;\n",
              "      gap: 12px;\n",
              "    }\n",
              "\n",
              "    .colab-df-convert {\n",
              "      background-color: #E8F0FE;\n",
              "      border: none;\n",
              "      border-radius: 50%;\n",
              "      cursor: pointer;\n",
              "      display: none;\n",
              "      fill: #1967D2;\n",
              "      height: 32px;\n",
              "      padding: 0 0 0 0;\n",
              "      width: 32px;\n",
              "    }\n",
              "\n",
              "    .colab-df-convert:hover {\n",
              "      background-color: #E2EBFA;\n",
              "      box-shadow: 0px 1px 2px rgba(60, 64, 67, 0.3), 0px 1px 3px 1px rgba(60, 64, 67, 0.15);\n",
              "      fill: #174EA6;\n",
              "    }\n",
              "\n",
              "    .colab-df-buttons div {\n",
              "      margin-bottom: 4px;\n",
              "    }\n",
              "\n",
              "    [theme=dark] .colab-df-convert {\n",
              "      background-color: #3B4455;\n",
              "      fill: #D2E3FC;\n",
              "    }\n",
              "\n",
              "    [theme=dark] .colab-df-convert:hover {\n",
              "      background-color: #434B5C;\n",
              "      box-shadow: 0px 1px 3px 1px rgba(0, 0, 0, 0.15);\n",
              "      filter: drop-shadow(0px 1px 2px rgba(0, 0, 0, 0.3));\n",
              "      fill: #FFFFFF;\n",
              "    }\n",
              "  </style>\n",
              "\n",
              "    <script>\n",
              "      const buttonEl =\n",
              "        document.querySelector('#df-8c2fe491-183c-462c-9bd9-68a80609f78e button.colab-df-convert');\n",
              "      buttonEl.style.display =\n",
              "        google.colab.kernel.accessAllowed ? 'block' : 'none';\n",
              "\n",
              "      async function convertToInteractive(key) {\n",
              "        const element = document.querySelector('#df-8c2fe491-183c-462c-9bd9-68a80609f78e');\n",
              "        const dataTable =\n",
              "          await google.colab.kernel.invokeFunction('convertToInteractive',\n",
              "                                                    [key], {});\n",
              "        if (!dataTable) return;\n",
              "\n",
              "        const docLinkHtml = 'Like what you see? Visit the ' +\n",
              "          '<a target=\"_blank\" href=https://colab.research.google.com/notebooks/data_table.ipynb>data table notebook</a>'\n",
              "          + ' to learn more about interactive tables.';\n",
              "        element.innerHTML = '';\n",
              "        dataTable['output_type'] = 'display_data';\n",
              "        await google.colab.output.renderOutput(dataTable, element);\n",
              "        const docLink = document.createElement('div');\n",
              "        docLink.innerHTML = docLinkHtml;\n",
              "        element.appendChild(docLink);\n",
              "      }\n",
              "    </script>\n",
              "  </div>\n",
              "\n",
              "\n",
              "<div id=\"df-8fcd5406-229d-46c4-86d6-3b8099fc11cb\">\n",
              "  <button class=\"colab-df-quickchart\" onclick=\"quickchart('df-8fcd5406-229d-46c4-86d6-3b8099fc11cb')\"\n",
              "            title=\"Suggest charts\"\n",
              "            style=\"display:none;\">\n",
              "\n",
              "<svg xmlns=\"http://www.w3.org/2000/svg\" height=\"24px\"viewBox=\"0 0 24 24\"\n",
              "     width=\"24px\">\n",
              "    <g>\n",
              "        <path d=\"M19 3H5c-1.1 0-2 .9-2 2v14c0 1.1.9 2 2 2h14c1.1 0 2-.9 2-2V5c0-1.1-.9-2-2-2zM9 17H7v-7h2v7zm4 0h-2V7h2v10zm4 0h-2v-4h2v4z\"/>\n",
              "    </g>\n",
              "</svg>\n",
              "  </button>\n",
              "\n",
              "<style>\n",
              "  .colab-df-quickchart {\n",
              "      --bg-color: #E8F0FE;\n",
              "      --fill-color: #1967D2;\n",
              "      --hover-bg-color: #E2EBFA;\n",
              "      --hover-fill-color: #174EA6;\n",
              "      --disabled-fill-color: #AAA;\n",
              "      --disabled-bg-color: #DDD;\n",
              "  }\n",
              "\n",
              "  [theme=dark] .colab-df-quickchart {\n",
              "      --bg-color: #3B4455;\n",
              "      --fill-color: #D2E3FC;\n",
              "      --hover-bg-color: #434B5C;\n",
              "      --hover-fill-color: #FFFFFF;\n",
              "      --disabled-bg-color: #3B4455;\n",
              "      --disabled-fill-color: #666;\n",
              "  }\n",
              "\n",
              "  .colab-df-quickchart {\n",
              "    background-color: var(--bg-color);\n",
              "    border: none;\n",
              "    border-radius: 50%;\n",
              "    cursor: pointer;\n",
              "    display: none;\n",
              "    fill: var(--fill-color);\n",
              "    height: 32px;\n",
              "    padding: 0;\n",
              "    width: 32px;\n",
              "  }\n",
              "\n",
              "  .colab-df-quickchart:hover {\n",
              "    background-color: var(--hover-bg-color);\n",
              "    box-shadow: 0 1px 2px rgba(60, 64, 67, 0.3), 0 1px 3px 1px rgba(60, 64, 67, 0.15);\n",
              "    fill: var(--button-hover-fill-color);\n",
              "  }\n",
              "\n",
              "  .colab-df-quickchart-complete:disabled,\n",
              "  .colab-df-quickchart-complete:disabled:hover {\n",
              "    background-color: var(--disabled-bg-color);\n",
              "    fill: var(--disabled-fill-color);\n",
              "    box-shadow: none;\n",
              "  }\n",
              "\n",
              "  .colab-df-spinner {\n",
              "    border: 2px solid var(--fill-color);\n",
              "    border-color: transparent;\n",
              "    border-bottom-color: var(--fill-color);\n",
              "    animation:\n",
              "      spin 1s steps(1) infinite;\n",
              "  }\n",
              "\n",
              "  @keyframes spin {\n",
              "    0% {\n",
              "      border-color: transparent;\n",
              "      border-bottom-color: var(--fill-color);\n",
              "      border-left-color: var(--fill-color);\n",
              "    }\n",
              "    20% {\n",
              "      border-color: transparent;\n",
              "      border-left-color: var(--fill-color);\n",
              "      border-top-color: var(--fill-color);\n",
              "    }\n",
              "    30% {\n",
              "      border-color: transparent;\n",
              "      border-left-color: var(--fill-color);\n",
              "      border-top-color: var(--fill-color);\n",
              "      border-right-color: var(--fill-color);\n",
              "    }\n",
              "    40% {\n",
              "      border-color: transparent;\n",
              "      border-right-color: var(--fill-color);\n",
              "      border-top-color: var(--fill-color);\n",
              "    }\n",
              "    60% {\n",
              "      border-color: transparent;\n",
              "      border-right-color: var(--fill-color);\n",
              "    }\n",
              "    80% {\n",
              "      border-color: transparent;\n",
              "      border-right-color: var(--fill-color);\n",
              "      border-bottom-color: var(--fill-color);\n",
              "    }\n",
              "    90% {\n",
              "      border-color: transparent;\n",
              "      border-bottom-color: var(--fill-color);\n",
              "    }\n",
              "  }\n",
              "</style>\n",
              "\n",
              "  <script>\n",
              "    async function quickchart(key) {\n",
              "      const quickchartButtonEl =\n",
              "        document.querySelector('#' + key + ' button');\n",
              "      quickchartButtonEl.disabled = true;  // To prevent multiple clicks.\n",
              "      quickchartButtonEl.classList.add('colab-df-spinner');\n",
              "      try {\n",
              "        const charts = await google.colab.kernel.invokeFunction(\n",
              "            'suggestCharts', [key], {});\n",
              "      } catch (error) {\n",
              "        console.error('Error during call to suggestCharts:', error);\n",
              "      }\n",
              "      quickchartButtonEl.classList.remove('colab-df-spinner');\n",
              "      quickchartButtonEl.classList.add('colab-df-quickchart-complete');\n",
              "    }\n",
              "    (() => {\n",
              "      let quickchartButtonEl =\n",
              "        document.querySelector('#df-8fcd5406-229d-46c4-86d6-3b8099fc11cb button');\n",
              "      quickchartButtonEl.style.display =\n",
              "        google.colab.kernel.accessAllowed ? 'block' : 'none';\n",
              "    })();\n",
              "  </script>\n",
              "</div>\n",
              "    </div>\n",
              "  </div>\n"
            ]
          },
          "metadata": {},
          "execution_count": 7
        }
      ]
    },
    {
      "cell_type": "markdown",
      "source": [
        "Il dataset presenta 507335 che sono decisamente maggiori del dataset precedente di circa 50000"
      ],
      "metadata": {
        "id": "2clNPXNhhKtz"
      }
    },
    {
      "cell_type": "code",
      "source": [
        "num_rows = dataframe.shape[0]\n",
        "print(f\"Number of rows in the CSV file: {num_rows}\")"
      ],
      "metadata": {
        "colab": {
          "base_uri": "https://localhost:8080/"
        },
        "id": "Pje38Uc4im_3",
        "outputId": "a6a97d3e-6e5c-4259-8698-d90eb9410de5"
      },
      "execution_count": null,
      "outputs": [
        {
          "output_type": "stream",
          "name": "stdout",
          "text": [
            "Number of rows in the CSV file: 507335\n"
          ]
        }
      ]
    },
    {
      "cell_type": "markdown",
      "source": [
        "# Columns"
      ],
      "metadata": {
        "id": "iMZcy2cDbeNo"
      }
    },
    {
      "cell_type": "markdown",
      "source": [
        "Il dataset presenta un totale di 37 colonne, ma di queste quelle che ritenute più importanti da noi sono:\n",
        "  - recipe_id\n",
        "  - title\n",
        "  - ingredients\n",
        "  - tags\n",
        "  - calories [cal]\n",
        "  - caloriesFromFat [cal]\n",
        "  - totalFat [g]\n",
        "  - saturatedFat [g]\n",
        "  - cholesterol [mg]\n",
        "  - sodium [mg]\n",
        "  - totalCarbohydrate [g]\n",
        "  - dietaryFiber [g]\n",
        "  - sugars [g]\n",
        "  - protein [g]\n",
        "  - who_score ->  A recipe healthiness score based on WHO methodology. The range is 0-14, with 14 as the best.\n",
        "  - fsa_score ->  A recipe healthiness score based on the UK Food Standards Agency (FSA) nutrient profiling system. The range is 0-8, with 8 as the best.\n",
        "  - nutri_score ->  A recipe nutri-score. A is the best result, E is the worst result."
      ],
      "metadata": {
        "id": "neLKdGcZeRi4"
      }
    },
    {
      "cell_type": "code",
      "source": [
        "print(\"Column names in the CSV file:\")\n",
        "print(dataframe.columns.tolist())"
      ],
      "metadata": {
        "colab": {
          "base_uri": "https://localhost:8080/"
        },
        "id": "7d3Oideoirvs",
        "outputId": "52d59ffd-e4a4-48b3-b54c-df2f7433b101"
      },
      "execution_count": null,
      "outputs": [
        {
          "output_type": "stream",
          "name": "stdout",
          "text": [
            "Column names in the CSV file:\n",
            "['Unnamed: 0', 'recipe_id', 'title', 'description', 'author_id', 'duration', 'directions', 'ingredients', 'serves', 'last_changed_date', 'food_kg_locator', 'recipe_url', 'tags', 'new_recipe_id', 'new_author_id', 'average_rating', 'number_of_ratings', 'servingsPerRecipe', 'servingSize [g]', 'calories [cal]', 'caloriesFromFat [cal]', 'totalFat [g]', 'saturatedFat [g]', 'cholesterol [mg]', 'sodium [mg]', 'totalCarbohydrate [g]', 'dietaryFiber [g]', 'sugars [g]', 'protein [g]', 'direction_size', 'ingredients_sizes', 'who_score', 'fsa_score', 'nutri_score', 'normalization_comment', 'ingredient_food_kg_urls', 'ingredient_food_kg_names']\n"
          ]
        }
      ]
    },
    {
      "cell_type": "code",
      "source": [
        "print(len(dataframe.columns.tolist()))"
      ],
      "metadata": {
        "colab": {
          "base_uri": "https://localhost:8080/"
        },
        "id": "1NF89qCMeZIG",
        "outputId": "de1156d4-503b-443b-866a-eefd77ff5d7e"
      },
      "execution_count": null,
      "outputs": [
        {
          "output_type": "stream",
          "name": "stdout",
          "text": [
            "37\n"
          ]
        }
      ]
    },
    {
      "cell_type": "markdown",
      "source": [
        "# Tags"
      ],
      "metadata": {
        "id": "pg10FUFCbh0e"
      }
    },
    {
      "cell_type": "markdown",
      "source": [
        "Il dataset presenta un totale di 902 tags, ma quelli ritenuti da noi più importanti sono:\n",
        "  - Main dish = 71285\n",
        "  - Desserts = 42807\n",
        "  - Breakfast = 13384\n",
        "  - Appetizers = 20187\n",
        "  - Vegetables = 53485\n",
        "  - Meat = 50740\n",
        "  - Seafood = 14722\n",
        "  - Vegetarian = 35599\n",
        "  - Fruit = 31245\n",
        "  - Pasta rice and grains = 23924\n",
        "  - Chicken = 20304\n",
        "  - Pork = 12664\n",
        "\n",
        "Nel nostro transformer utilizzeremo solo le ricette che hanno un tag non nullo, che sono 230649"
      ],
      "metadata": {
        "id": "nuXSeDzPmyns"
      }
    },
    {
      "cell_type": "code",
      "source": [
        "filtered_df = dataframe[dataframe['tags'].notna()]\n",
        "len(filtered_df)"
      ],
      "metadata": {
        "colab": {
          "base_uri": "https://localhost:8080/"
        },
        "id": "VEc10l8Ei_f7",
        "outputId": "aae7a695-7fe0-4f56-af0a-46bbc50d2ffe"
      },
      "execution_count": null,
      "outputs": [
        {
          "output_type": "execute_result",
          "data": {
            "text/plain": [
              "230649"
            ]
          },
          "metadata": {},
          "execution_count": 11
        }
      ]
    },
    {
      "cell_type": "code",
      "source": [
        "unique_tags = set()\n",
        "\n",
        "for t in filtered_df['tags']:\n",
        "  unique_tags.update(t.split(','))\n",
        "\n",
        "print(unique_tags)"
      ],
      "metadata": {
        "colab": {
          "base_uri": "https://localhost:8080/"
        },
        "id": "8-L1Ucgvkqjl",
        "outputId": "fcefa242-bd4f-468d-945a-289b13ec8a34"
      },
      "execution_count": null,
      "outputs": [
        {
          "output_type": "stream",
          "name": "stdout",
          "text": [
            "{\" 'stocks']\", \" 'citrus'\", \" 'british-columbian'\", \" 'vegetarian'\", \" 'manicotti'\", \" 'medium-grain-rice']\", \" 'american']\", \" 'st-patricks-day'\", \" 'one-dish-meal'\", \" 'yams-sweet-potatoes'\", \" 'hanukkah']\", \" 'time-to-make'\", \" 'dehydrator'\", \" 'mothers-day']\", \" 'mongolian'\", \" 'lentils'\", \" 'palestinian'\", \" 'green-yellow-beans']\", \" 'camping']\", \" 'meatloaf']\", \" 'for-large-groups']\", \" 'grapes'\", \" 'ecuadorean'\", \" 'trout']\", \" 'manicotti']\", \" 'ravioli-tortellini'\", \" 'whole-duck'\", \" 'white-rice'\", \" 'wings']\", \" 'ice-cream']\", \" 'somalian'\", \" 'chicken-thighs-legs'\", \" 'romantic'\", \" 'freshwater-fish']\", \" 'healthy'\", \"['number-of-servings'\", \" 'taste-mood']\", \" 'kwanzaa'\", \" 'clams']\", \" 'dips'\", \"['dietary'\", \" 'nuts'\", \" 'pressure-cooker'\", \" 'pork-loins-roast']\", \" 'vietnamese']\", \" 'pork-crock-pot'\", \" 'stuffings-dressings'\", \" 'gifts']\", \" 'chicken-stew']\", \" 'flat-shapes'\", \" 'cake-fillings-and-frostings'\", \" 'duck-breasts'\", \" 'fall'\", \" 'pasta-rice-and-grains']\", \" 'nigerian'\", \" 'whitefish'\", \" 'salmon'\", \" 'polish'\", \" 'oranges']\", \" 'omelets-and-frittatas'\", \" 'hunan'\", \" 'brewing'\", \" 'oven'\", \" 'crawfish'\", \" 'cooking-mixes'\", \" 'cajun'\", \" 'colombian']\", \" 'shrimp'\", \" 'smoker'\", \" 'cranberry-sauce']\", \" 'cooking-mixes']\", \" 'tomatoes']\", \" 'melons'\", \" 'pitted-fruit']\", \" 'macaroni-and-cheese']\", \" 'south-american'\", \" 'non-alcoholic']\", \" 'super-bowl']\", \" 'spaghetti']\", \" 'inexpensive']\", \" 'nut-free']\", \" 'asparagus'\", \" 'bananas']\", \" 'technique']\", \" 'fudge'\", \" 'lemon']\", \" 'sauces'\", \" 'cuban']\", \" 'superbowl']\", \" 'bean-soup']\", \" 'long-grain-rice']\", \" 'crusts-pastry-dough-2']\", \" 'chocolate-chip-cookies'\", \" 'high-fiber'\", \" 'leftovers'\", \" 'iranian-persian'\", \" 'polynesian'\", \" 'pasta-salad']\", \" 'cinco-de-mayo']\", \" 'rabbit'\", \" 'broccoli']\", \" 'pumpkin']\", \" 'indonesian']\", \" 'savory'\", \" 'side-dishes'\", \" 'sourdough'\", \"['danish'\", \" 'lactose'\", \" 'pork-loins']\", \" 'pot-roast']\", \" 'pennsylvania-dutch'\", \" 'scottish'\", \" 'baked-beans']\", \" 'pizza'\", \" 'lunch']\", \" 'crusts-pastry-dough-2'\", \" 'lime'\", \" 'pork-loins'\", \" 'bar-cookies'\", \" 'cocktails']\", \" 'quick-breads']\", \" 'snacks-sweet']\", \" 'toddler-friendly']\", \" 'costa-rican']\", \" 'steam'\", \" 'salads']\", \" 'puddings-and-mousses']\", \" 'pitted-fruit'\", \" 'dips']\", \" 'guatemalan'\", \" 'crawfish']\", \" 'spreads']\", \" 'russian'\", \" 'coconut'\", \" 'unprocessed-freezer']\", \" 'onions'\", \" 'carrots']\", \" 'for-large-groups-holiday-event']\", \" 'hand-formed-cookies'\", \" 'wings'\", \" 'macaroni-and-cheese'\", \" 'perch'\", \" 'poultry'\", \" 'spreads'\", \" 'beef-ribs'\", \" 'heirloom-historical']\", \"['15-minutes-or-less'\", \" 'bass'\", \" 'papaya']\", \" 'goose'\", \" 'memorial-day'\", \" 'gumbo'\", \" 'low-in-something'\", \" 'chinese']\", \" 'pies'\", \" 'salad-dressings'\", \" 'mixer']\", \" 'filipino'\", \" 'pumpkin'\", \"['course'\", \" 'comfort-food'\", \" 'iranian-persian']\", \" 'brown-rice'\", \" 'icelandic'\", \" 'no-cook'\", \" 'grilling']\", \" 'casseroles'\", \" '3-steps-or-less']\", \" 'savory']\", \" 'new-zealand'\", \"['dietary']\", \" 'april-fools-day']\", \" 'mushroom-soup'\", \" 'avocado'\", \" 'punch'\", \" 'holiday-event']\", \" 'chowders'\", \" 'lunch'\", \" 'inexpensive'\", \" 'greens']\", \" 'pork-ribs']\", \" 'strawberries']\", \" 'turkey-burgers'\", \" 'prepared-potatoes']\", \" 'halloween-cakes']\", \" 'veal'\", \" 'pork-sausage']\", \" 'puddings-and-mousses'\", \"['preparation'\", \" 'venezuelan'\", \" 'northeastern-united-states']\", \" 'corn']\", \" 'finnish']\", \" 'southern-united-states']\", \" 'tomatoes'\", \" 'breads'\", \" 'halloween'\", \" 'beef-barley-soup']\", \" 'cake-fillings-and-frostings']\", \" 'side-dishes-beans'\", \" 'low-sodium'\", \" 'squash'\", \" 'ham'\", \" 'australian'\", \" 'chinese'\", \" 'superbowl'\", \" 'shellfish'\", \" 'beef-kidney'\", \" 'mashed-potatoes']\", \" 'marinades-and-rubs']\", \" 'chinese-new-year'\", \" 'diabetic'\", \" 'black-beans'\", \" 'spanish'\", \" 'pork-sausage'\", \" 'perch']\", \" 'halloween']\", \" 'taste-mood'\", \" 'potluck'\", \" 'camping'\", \" 'new-years']\", \" 'beans-side-dishes'\", \" 'mixer'\", \" 'cheesecake'\", \" 'french'\", \" 'greens'\", \" 'dinner-party']\", \" 'moose'\", \" 'turkish'\", \" 'easy']\", \" 'tex-mex']\", \" 'broil'\", \" 'mahi-mahi'\", \" 'midwestern']\", \" 'fruit'\", \" 'mardi-gras-carnival'\", \" 'cocktails'\", \" 'labor-day'\", \" 'grapes']\", \" 'low-protein'\", \" 'beijing'\", \" 'super-bowl'\", \" 'rosh-hashanah']\", \" 'blueberries'\", \" 'tempeh']\", \" 'quiche']\", \" 'sweet-sauces']\", \" 'tilapia']\", \" 'czech']\", \" 'jellies'\", \" 'meatballs'\", \" 'christmas']\", \" 'beef-liver'\", \" 'hanukkah'\", \" 'costa-rican'\", \" 'spaghetti-sauce']\", \" 'garnishes']\", \" 'californian']\", \" 'snacks'\", \" 'quail'\", \" 'bok-choys']\", \" 'pies-and-tarts'\", \" 'peruvian'\", \" 'brewing']\", \" 'cheese']\", \" 'pasta-elbow-macaroni']\", \" 'korean']\", \" 'breakfast-casseroles'\", \" 'brazilian'\", \" 'cupcakes'\", \" 'weeknight'\", \" 'baja'\", \" 'chocolate'\", \" 'barbecue'\", \" 'dietary']\", \" 'danish'\", \" 'pickeral'\", \" 'sole-and-flounder'\", \" 'savory-pies'\", \" 'asian']\", \" 'penne']\", \" 'brown-bag'\", \" 'lebanese']\", \" 'indian'\", \" 'for-1-or-2'\", \" 'citrus']\", \" 'native-american']\", \" 'lettuces'\", \" 'ground-beef'\", \" 'occasion'\", \" 'irish'\", \" 'mashed-potatoes'\", \" 'fish'\", \" 'hawaiian']\", \" 'elbow-macaroni']\", \" 'eggs-dairy']\", \" 'saudi-arabian'\", \" 'squid'\", \" 'saltwater-fish'\", \" 'cambodian'\", \" 'indonesian'\", \" 'pork-loin'\", \" 'presentation'\", \" 'christmas'\", \" 'wedding'\", \" 'salad-dressings']\", \" 'moroccan']\", \" 'pasta-rice-and-grains'\", \" 'pork-chops'\", \" 'midwestern'\", \" 'pheasant'\", \" 'baja']\", \" 'indian']\", \" 'caribbean']\", \" 'lettuces']\", \" 'sudanese'\", \" 'pasta-shells']\", \" 'dutch'\", \" 'beverages']\", \"['main-ingredient'\", \" 'salsas']\", \" 'free-of-something'\", \" 'main-dish'\", \" 'turkey'\", \" 'middle-eastern'\", \" 'frozen-desserts']\", \" 'chicken-breasts']\", \" 'apples']\", \" 'small-appliance']\", \" 'memorial-day']\", \" 'tex-mex'\", \" 'toddler-friendly'\", \" 'asparagus']\", \" 'food-processor-blender'\", \" 'russian']\", \" 'easter'\", \" 'a1-sauce']\", \" 'scallops'\", \" 'easter']\", \" 'high-calcium'\", \" 'catfish']\", \" 'norwegian']\", \" 'dutch']\", \" 'berries']\", \" 'rolled-cookies'\", \" 'raspberries'\", \" 'chick-peas-garbanzos'\", \" '3-steps-or-less'\", \" 'rolls-biscuits']\", \" 'burgers']\", \" 'chocolate-chip-cookies']\", \" 'squid']\", \" 'cinco-de-mayo'\", \" 'caribbean'\", \" 'chard'\", \" 'welsh'\", \" 'main-dish-pasta'\", \" 'thanksgiving'\", \" 'roast-beef-main-dish'\", \" 'mexican'\", \" 'pork-chops']\", \" 'black-bean-soup'\", \" 'clams'\", \" 'valentines-day']\", \" 'japanese']\", \" 'desserts-fruit'\", \" 'simply-potatoes2']\", \" 'greek'\", \" 'main-dish-pork']\", \" 'breads']\", \" 'chard']\", \" 'cakes']\", \" 'pakistani'\", \" 'mango']\", \" 'szechuan'\", \" 'low-fat'\", \" 'fish']\", \" 'main-dish']\", \" 'asian'\", \" 'british-columbian']\", \" 'bar-cookies']\", \" 'course'\", \" 'passover']\", \" 'dips-lunch-snacks']\", \" 'cherries']\", \" 'duck-breasts']\", \" 'breakfast'\", \" 'bok-choys'\", \" 'presentation']\", \" 'cookies-and-brownies'\", \" 'penne'\", \" 'onions']\", \" 'beans']\", \" 'artichoke'\", \" 'scottish']\", \" 'european'\", \" 'soups-stews'\", \" 'beef-crock-pot'\", \" 'spinach']\", \" 'crock-pot-slow-cooker'\", \"['celebrity'\", \"['60-minutes-or-less'\", \" 'catfish'\", \" 'spaghetti-sauce'\", \" 'nepalese'\", \" 'quebec'\", \" 'orange-roughy']\", \" 'turkish']\", \" 'mussels'\", \" 'spinach'\", \" 'brown-rice']\", \" 'scandinavian'\", \" 'lebanese'\", \" 'central-american'\", \" 'canadian']\", \" 'moroccan'\", \" 'steaks']\", \" 'soul']\", \" 'artichoke']\", \" 'dehydrator']\", \" 'laotian'\", \" 'middle-eastern-main-dish']\", \" 'german'\", \" 'celebrity'\", \" 'low-cholesterol'\", \" 'cauliflower'\", \" 'meat'\", \" 'quebec']\", \" 'eggs-breakfast']\", \" 'infant-baby-friendly']\", \" 'pancakes-and-waffles'\", \" 'cauliflower']\", \" 'european']\", \" 'white-rice']\", \" 'portuguese'\", \" 'birthday']\", \" 'veggie-burgers'\", \" 'cuisine'\", \" 'main-dish-beef'\", \" 'berries'\", \" 'easy'\", \" 'high-in-something']\", \" 'micro-melanesia'\", \" 'bear'\", \" 'creole']\", \"['cuisine'\", \" 'lasagne']\", \" 'occasion']\", \" 'tropical-fruit'\", \" 'argentine']\", \" 'chutneys'\", \" 'smoothies']\", \" 'puerto-rican'\", \" 'cabbage']\", \" 'irish-st-patricks-day']\", \" 'angolan'\", \" 'melons']\", \" 'main-dish-chicken'\", \" '1-day-or-more']\", \" 'vegetables'\", \" 'served-cold'\", \" 'brownies']\", \" '30-minutes-or-less'\", \" 'vietnamese'\", \" 'independence-day']\", \" 'pressure-canning'\", \" 'sole-and-flounder']\", \" 'rosh-hashanah'\", \" 'novelty'\", \" 'egg-free'\", \" 'whole-turkey']\", \" 'chicken-crock-pot']\", \" 'brunch']\", \" 'appetizers']\", \" 'veggie-burgers']\", \" 'meatloaf'\", \" 'beverages'\", \" 'chicken-thighs-legs']\", \" 'valentines-day'\", \" 'collard-greens']\", \" 'jewish-ashkenazi'\", \" 'frozen-desserts'\", \" 'chicken-livers']\", \" 'norwegian'\", \" 'bread-pudding']\", \" 'saltwater-fish']\", \" 'american'\", \" 'stews']\", \" 'short-grain-rice']\", \" 'argentine'\", \" 'soy-tofu'\", \" 'fathers-day'\", \" 'desserts'\", \" 'candy']\", \" 'chili'\", \" 'elk'\", \" 'whitefish']\", \" 'shrimp-main-dish']\", \"['ham'\", \" 'italian'\", \" 'high-protein'\", \" 'low-in-something']\", \" 'blueberries']\", \" 'breakfast-potatoes'\", \" 'lobster'\", \" 'biscotti']\", \" 'chicken-breasts'\", \" 'free-of-something']\", \" 'peanut-butter'\", \" 'snacks-kid-friendly'\", \" 'lemon'\", \" 'april-fools-day'\", \" 'ice-cream'\", \" 'beef-sausage']\", \" 'mushrooms']\", \" 'beginner-cook'\", \" 'english']\", \" 'chicken-livers'\", \" 'spaghetti'\", \" 'avocado']\", \" '1-day-or-more'\", \" 'pineapple'\", \" 'peruvian']\", \" 'dietary'\", \" 'plums'\", \" 'strawberries'\", \" 'very-low-carbs'\", \" 'pears']\", \" 'coffee-cakes'\", \" 'lentils']\", \" 'cantonese'\", \" 'birthday'\", \" 'whole-duck']\", \" 'pot-pie'\", \" 'jams-and-preserves'\", \" 'college']\", \" 'south-american']\", \" 'sandwiches'\", \" 'water-bath'\", \" 'stews-poultry']\", \" 'english'\", \" 'dips-summer']\", \" 'halloween-cupcakes']\", \" 'ragu-recipe-contest']\", \" 'garnishes'\", \" 'biscotti'\", \" 'main-dish-pork'\", \" 'mango'\", \" 'ecuadorean']\", \" 'appetizers'\", \" 'served-cold']\", \" 'savory-sauces']\", \"['30-minutes-or-less'\", \" 'pies']\", \" 'central-american']\", \" 'herb-and-spice-mixes'\", \" 'ethiopian'\", \" 'pumpkin-bread'\", \" 'dairy-free']\", \" 'octopus']\", \" '15-minutes-or-less'\", \" 'ontario']\", \" 'oamc-freezer-make-ahead'\", \" 'coconut']\", \" 'belgian'\", \" 'eggplant']\", \" 'portuguese']\", \" 'served-hot-new-years'\", \" 'eggs']\", \" 'vegetables']\", \" 'spicy'\", \" 'high-in-something'\", \" 'infant-baby-friendly'\", \" 'breakfast']\", \" '60-minutes-or-less']\", \" 'pears'\", \" 'equipment']\", \" 'ramadan']\", \" 'chick-peas-garbanzos']\", \" 'korean'\", \" 'mardi-gras-carnival']\", \" 'bass']\", \"['low-protein'\", \" 'lamb-sheep-main-dish']\", \" 'marinara-sauce']\", \" 'freshwater-fish'\", \" 'turkey-breasts'\", \" 'oranges'\", \"['time-to-make'\", \" 'non-alcoholic'\", \" 'broccoli'\", \" 'creole'\", \" 'micro-melanesia']\", \" 'chilean']\", \" 'refrigerator'\", \" 'zucchini']\", \" 'roast'\", \" 'tuna'\", \" 'candy'\", \" 'finnish'\", \" 'cookies-and-brownies']\", \" 'independence-day'\", \" 'gifts'\", \" 'coffee-cakes']\", \" 'served-hot']\", \" 'chili']\", \" 'new-years'\", \" 'burgers'\", \" 'microwave'\", \" 'ham-and-bean-soup']\", \" 'no-shell-fish']\", \" 'oamc-freezer-make-ahead']\", \" 'crab'\", \" 'belgian']\", \" 'labor-day']\", \" 'raspberries']\", \" 'ontario'\", \" 'low-saturated-fat'\", \" 'black-beans']\", \" 'cuban'\", \" 'spring'\", \" 'elbow-macaroni'\", \" 'low-carb'\", \" 'stews'\", \" 'kwanzaa']\", \"['']\", \" 'preparation']\", \" 'octopus'\", \" 'czech'\", \" '60-minutes-or-less'\", \" '5-ingredients-or-less'\", \" 'baking']\", \" 'finger-food'\", \" 'african']\", \" 'native-american'\", \" 'chicken'\", \" 'chinese-new-year']\", \" 'seafood'\", \" 'georgian'\", \" 'pasta'\", \" 'polynesian']\", \" 'halloween-cocktails']\", \" 'beans'\", \" 'beginner-cook']\", \" 'unprocessed-freezer'\", \" 'southern-united-states'\", \" 'muffins'\", \" 'oatmeal']\", \" 'japanese'\", \" 'peppers']\", \" 'smoothies'\", \" 'cherries'\", \" 'seafood']\", \" 'beef-ribs']\", \" 'chicken-stews'\", \" 'condiments-etc'\", \" 'quick-breads'\", \" 'beef'\", \" 'bacon'\", \" 'vegan'\", \" 'orange-roughy'\", \" 'congolese'\", \" 'whole-chicken'\", \" 'gelatin'\", \" 'pork-ribs'\", \" 'rice'\", \" 'sugar-cookies']\", \" 'north-american'\", \" 'malaysian'\", \" 'pressure-canning']\", \" 'italian']\", \" 'drop-cookies'\", \" 'sugar-cookies'\", \" 'hungarian'\", \" '4-hours-or-less']\", \" 'jewish-sephardi'\", \" 'punch']\", \" 'copycat']\", \" 'breakfast-eggs'\", \" 'winter'\", \" 'healthy-2'\", \" 'soy-tofu']\", \" 'grilling'\", \" 'roast-beef']\", \" 'equipment'\", \" 'halibut']\", \" 'mothers-day'\", \" 'apples'\", \" 'peaches']\", \" 'colombian'\", \" 'pacific-northwest']\", \" 'reynolds-wrap']\", \" 'main-dish-seafood'\", \" 'beef-organ-meats'\", \" 'from-scratch']\", \"['oysters'\", \" 'moose']\", \" 'lamb-sheep'\", \" 'chocolate']\", \" 'scones'\", \" 'kiwifruit'\", \" 'simply-potatoes']\", \" 'duck'\", \" 'swiss'\", \" 'desserts-easy']\", \" 'brunch'\", \" 'beef-sausage'\", \" 'freezer'\", \" 'clear-soups'\", \" 'healthy']\", \" 'cheese'\", \" 'heirloom-historical'\", \" 'passover'\", \" 'tempeh'\", \" 'stove-top'\", \" 'cakes'\", \" 'bread-machine'\", \" 'breakfast-eggs']\", \" 'carrots'\", \" 'pasta-shells'\", \" 'filipino']\", \" 'bananas'\", \" 'thai'\", \" 'trout'\", \" 'pennsylvania-dutch']\", \" 'salads'\", \" 'from-scratch'\", \" 'egyptian']\", \" 'soups-stews']\", \" 'cobblers-and-crisps'\", \" 'swedish'\", \" 'leftovers']\", \"['bacon'\", \" 'cheesecake']\", \" 'halloween-cakes'\", \"['Throw the ultimate fiesta with this sopaipillas recipe from Food.com.']\", \" 'steaks'\", \"['chicken']\", \" 'chilean'\", \" 'rosh-hashana'\", \" 'kosher'\", \" 'yeast']\", \" 'beans-side-dishes']\", \" 'long-grain-rice'\", \" 'peanut-butter']\", \" 'irish']\", \" 'fruit']\", \" 'pasta-elbow-macaroni'\", \" 'rolls-biscuits'\", \" 'roast-beef'\", \" 'new-zealand']\", \"['healthy'\", \" 'savory-sauces'\", \" 'oatmeal'\", \" 'low-calorie'\", \" 'summer'\", \" 'amish-mennonite'\", \"['weeknight'\", \" 'stocks'\", \" 'pot-pie']\", \" '4-hours-or-less'\", \" 'served-hot'\", \" 'pheasant']\", \" 'pizza']\", \" 'rabbit']\", \" 'to-go'\", \" 'steak']\", \" 'chowders']\", \" 'heirloom-historical-recipes'\", \" 'duck']\", \" 'swiss']\", \" 'welsh']\", \" 'shakes'\", \" 'thanksgiving']\", \" 'lime']\", \" 'potatoes'\", \" 'short-grain-rice'\", \" 'pineapple']\", \" 'honduran'\", \" 'water-bath']\", \" 'dinner-party'\", \" 'condiments-etc']\", \" 'preparation'\", \" 'southwestern-united-states'\", \" 'eggplant'\", \" 'californian'\", \" 'pacific-northwest'\", \" 'meatballs']\", \" 'novelty']\", \" 'egyptian'\", \" 'roast-beef-comfort-food']\", \" 'yeast'\", \" 'st-patricks-day']\", \" 'fathers-day']\", \" 'wild-game'\", \" 'salsas'\", \" 'libyan'\", \" 'to-go']\", \" 'one-dish-meal']\", \" 'middle-eastern']\", \"['occasion'\", \" 'eggs-dairy'\", \" 'halibut'\", \" 'beef-sauces'\", \" 'sweet']\", \" 'canadian'\", \" 'peppers'\", \" 'papaya'\", \" 'for-large-groups'\", \"['curries'\", \" 'stir-fry'\", \" 'technique'\", \" 'tropical-fruit']\", \" 'southwestern-united-states']\", \" 'thai']\", \" 'eggs'\", \" 'no-shell-fish'\", \" 'ramadan'\", \" 'turkey-breasts']\", \" 'fillings-and-frostings-chocolate']\", \" 'copycat'\", \" 'deer'\", \" 'pickeral']\", \" 'number-of-servings'\", \" 'high-in-something-diabetic-friendly']\", \" 'squash']\", \" 'tilapia'\", \" 'quiche'\", \" 'shakes']\", \" 'gluten-free'\", \" 'seasonal']\", \" 'small-appliance'\", \" 'meat']\", \" 'plums']\", \" 'ravioli-tortellini']\", \" 'main-ingredient'\", \" 'austrian'\", \" 'scones']\", \" 'bisques-cream-soups'\", \" 'goose']\", \" 'shellfish']\", \" 'crock-pot-main-dish']\", \" 'northeastern-united-states'\", \" 'lasagna'\", \" 'granola-and-porridge'\", \" 'peaches'\", \" 'brownies'\", \" 'steak'\", \" 'sweet'\", \" 'side-dishes']\", \" 'hawaiian'\", \" 'namibian'\", \" 'wedding']\", \" 'whole-chicken']\", \" 'pakistani']\", \" 'seasonal'\", \" 'nuts']\", \" 'pork'\", \" 'south-west-pacific'\", \" 'green-yellow-beans'\", \" 'sweet-sauces'\", \" 'whole-turkey'\", \" 'south-african'\", \" 'mushrooms'\", \" 'collard-greens'\", \" 'swedish']\", \" 'desserts']\", \" 'zucchini'\", \" 'oaxacan'\", \" 'medium-grain-rice'\", \" 'canning'\", \" 'nut-free'\", \" 'kiwifruit']\", \" 'main-dish-chicken']\", \"['less_thansql:name_topics_of_recipegreater_than']\", \" 'baking'\", \" 'marinades-and-rubs'\", \" 'mexican']\", \" 'austrian']\", \" 'sandwiches']\", \" 'tarts'\", \" 'number-of-servings']\", \"['lactose'\", \" 'snacks']\", \" 'cod']\", \" 'polish']\", \" 'deep-fry'\", \" 'african'\", \" 'mahi-mahi']\", \" 'corn'\", \" 'grains'\", \" 'cod'\", \" 'holiday-event'\", \" 'hidden-valley-ranch']\", \" 'iraqi'\", \" 'kid-friendly'\", \" 'australian']\", \" 'rosh-hashana']\", \" 'picnic'\", \" 'venezuelan']\", \" 'pasta-rice-and-grains-elbow-macaroni']\", \" 'turkey-burgers']\"}\n"
          ]
        }
      ]
    },
    {
      "cell_type": "markdown",
      "source": [
        "Ci sono 902 tags utilizzabili"
      ],
      "metadata": {
        "id": "h-_XjOw2iVQc"
      }
    },
    {
      "cell_type": "code",
      "source": [
        "print(len(unique_tags))"
      ],
      "metadata": {
        "colab": {
          "base_uri": "https://localhost:8080/"
        },
        "id": "ApUq4SDIg23f",
        "outputId": "69629bb2-700a-4535-e74b-2a4f0e5062ae"
      },
      "execution_count": null,
      "outputs": [
        {
          "output_type": "stream",
          "name": "stdout",
          "text": [
            "902\n"
          ]
        }
      ]
    },
    {
      "cell_type": "code",
      "source": [
        "from collections import Counter\n",
        "\n",
        "tag_counts = Counter()\n",
        "\n",
        "for tags in dataframe['tags'].dropna():\n",
        "    tag_counts.update(tags.split(','))  # Change the delimiter if it's different\n",
        "\n",
        "sorted_tag_counts = sorted(tag_counts.items(), key=lambda x: x[1], reverse=True)\n",
        "\n",
        "print(\"Tags sorted by frequency:\")\n",
        "for tag, count in sorted_tag_counts:\n",
        "    print(f\"{tag}: {count}\")"
      ],
      "metadata": {
        "id": "DAYWdL1YleFR"
      },
      "execution_count": null,
      "outputs": []
    },
    {
      "cell_type": "markdown",
      "source": [
        "# Ingredients"
      ],
      "metadata": {
        "id": "dBNdIG60bXox"
      }
    },
    {
      "cell_type": "code",
      "source": [
        "dataframe['ingredients'][0]"
      ],
      "metadata": {
        "colab": {
          "base_uri": "https://localhost:8080/",
          "height": 53
        },
        "id": "zETJBDn7ZNr9",
        "outputId": "08bde3fc-5d14-4b7d-f3a9-2bb77a0c7245"
      },
      "execution_count": null,
      "outputs": [
        {
          "output_type": "execute_result",
          "data": {
            "text/plain": [
              "\"{'': [('popcorn, popped', '12  time(s) cups '), ('dried cranberries', '1  time(s) cup '), ('whole almond', '0.5 time(s) cup '), ('butter', '0.5 time(s) cup '), ('brown sugar, packed', '0.5 time(s) cup '), ('corn syrup (light color)', '0.25 time(s) cup '), ('orange juice', '2  time(s) tablespoons '), ('vanilla', '2  time(s) teaspoons '), ('baking soda', '0.5 time(s) teaspoon ')]}\""
            ],
            "application/vnd.google.colaboratory.intrinsic+json": {
              "type": "string"
            }
          },
          "metadata": {},
          "execution_count": 24
        }
      ]
    },
    {
      "cell_type": "code",
      "source": [
        "data = {'': [('popcorn, popped', '12  time(s) cups '), ('dried cranberries', '1  time(s) cup '), ('whole almond', '0.5 time(s) cup '), ('butter', '0.5 time(s) cup '), ('brown sugar, packed', '0.5 time(s) cup '), ('corn syrup (light color)', '0.25 time(s) cup '), ('orange juice', '2  time(s) tablespoons '), ('vanilla', '2  time(s) teaspoons '), ('baking soda', '0.5 time(s) teaspoon ')]}\n",
        "\n",
        "first_words = [item[0].split(',')[0] if ',' in item[0] else item[0] for item in data['']]\n",
        "print(first_words)\n"
      ],
      "metadata": {
        "colab": {
          "base_uri": "https://localhost:8080/"
        },
        "id": "D7JWWTt2YMYU",
        "outputId": "75289fc4-2776-4232-d83a-ccdebf90adf0"
      },
      "execution_count": null,
      "outputs": [
        {
          "output_type": "stream",
          "name": "stdout",
          "text": [
            "['popcorn', 'dried cranberries', 'whole almond', 'butter', 'brown sugar', 'corn syrup (light color)', 'orange juice', 'vanilla', 'baking soda']\n"
          ]
        }
      ]
    },
    {
      "cell_type": "markdown",
      "source": [
        "# Healthiness Score"
      ],
      "metadata": {
        "id": "-tH2D0bZbSjU"
      }
    },
    {
      "cell_type": "code",
      "source": [
        "dataframe['nutri_score']"
      ],
      "metadata": {
        "colab": {
          "base_uri": "https://localhost:8080/"
        },
        "id": "YkJIVkGrZ-57",
        "outputId": "f7978beb-25a0-437a-f533-1192b83d4886"
      },
      "execution_count": null,
      "outputs": [
        {
          "output_type": "execute_result",
          "data": {
            "text/plain": [
              "0         0.00\n",
              "1         0.25\n",
              "2         0.00\n",
              "3         0.00\n",
              "4         0.25\n",
              "          ... \n",
              "507330    0.00\n",
              "507331    0.00\n",
              "507332    0.00\n",
              "507333    0.25\n",
              "507334    0.25\n",
              "Name: nutri_score, Length: 507335, dtype: float64"
            ]
          },
          "metadata": {},
          "execution_count": 21
        }
      ]
    },
    {
      "cell_type": "code",
      "source": [
        "dataframe['who_score']"
      ],
      "metadata": {
        "colab": {
          "base_uri": "https://localhost:8080/"
        },
        "id": "OqlBqkPma-ib",
        "outputId": "98ea2361-3e1f-41de-ee79-c429317015b8"
      },
      "execution_count": null,
      "outputs": [
        {
          "output_type": "execute_result",
          "data": {
            "text/plain": [
              "0         0.168254\n",
              "1         0.335455\n",
              "2         0.128082\n",
              "3         0.320622\n",
              "4         0.254427\n",
              "            ...   \n",
              "507330    0.122160\n",
              "507331    0.123409\n",
              "507332    0.161195\n",
              "507333    0.248843\n",
              "507334    0.329156\n",
              "Name: who_score, Length: 507335, dtype: float64"
            ]
          },
          "metadata": {},
          "execution_count": 22
        }
      ]
    },
    {
      "cell_type": "code",
      "source": [
        "dataframe['fsa_score']"
      ],
      "metadata": {
        "colab": {
          "base_uri": "https://localhost:8080/"
        },
        "id": "a4FFbbe_bCOu",
        "outputId": "b31b225b-c95e-4443-ba02-f13cec660790"
      },
      "execution_count": null,
      "outputs": [
        {
          "output_type": "execute_result",
          "data": {
            "text/plain": [
              "0         0.000\n",
              "1         0.625\n",
              "2         0.000\n",
              "3         0.375\n",
              "4         0.500\n",
              "          ...  \n",
              "507330      NaN\n",
              "507331    0.250\n",
              "507332    0.000\n",
              "507333    0.375\n",
              "507334    0.625\n",
              "Name: fsa_score, Length: 507335, dtype: float64"
            ]
          },
          "metadata": {},
          "execution_count": 23
        }
      ]
    }
  ]
}