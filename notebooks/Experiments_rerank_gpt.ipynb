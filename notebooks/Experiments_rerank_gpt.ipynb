{
  "nbformat": 4,
  "nbformat_minor": 0,
  "metadata": {
    "colab": {
      "provenance": [],
      "collapsed_sections": [
        "mi_HjU-OLl8y",
        "bOajPglELoub",
        "am8i4pRxLruU"
      ],
      "gpuType": "T4"
    },
    "kernelspec": {
      "name": "python3",
      "display_name": "Python 3"
    },
    "language_info": {
      "name": "python"
    },
    "accelerator": "GPU",
    "widgets": {
      "application/vnd.jupyter.widget-state+json": {
        "17853c3aec8e4f4aaa7e85ffb6446262": {
          "model_module": "@jupyter-widgets/controls",
          "model_name": "HBoxModel",
          "model_module_version": "1.5.0",
          "state": {
            "_dom_classes": [],
            "_model_module": "@jupyter-widgets/controls",
            "_model_module_version": "1.5.0",
            "_model_name": "HBoxModel",
            "_view_count": null,
            "_view_module": "@jupyter-widgets/controls",
            "_view_module_version": "1.5.0",
            "_view_name": "HBoxView",
            "box_style": "",
            "children": [
              "IPY_MODEL_4636fb932f81491cb846f33b2857617a",
              "IPY_MODEL_d8b6e6d49fe7491ea3ecdd3f17a373dd",
              "IPY_MODEL_9dfaeb40694d4700bdef1367a9d01d82"
            ],
            "layout": "IPY_MODEL_75cfc0734b284a9ab28cf8149b073291"
          }
        },
        "4636fb932f81491cb846f33b2857617a": {
          "model_module": "@jupyter-widgets/controls",
          "model_name": "HTMLModel",
          "model_module_version": "1.5.0",
          "state": {
            "_dom_classes": [],
            "_model_module": "@jupyter-widgets/controls",
            "_model_module_version": "1.5.0",
            "_model_name": "HTMLModel",
            "_view_count": null,
            "_view_module": "@jupyter-widgets/controls",
            "_view_module_version": "1.5.0",
            "_view_name": "HTMLView",
            "description": "",
            "description_tooltip": null,
            "layout": "IPY_MODEL_50592b815b40431a86f7d643a5d7a575",
            "placeholder": "​",
            "style": "IPY_MODEL_39481b678b684d709d9179718933e566",
            "value": "tokenizer_config.json: 100%"
          }
        },
        "d8b6e6d49fe7491ea3ecdd3f17a373dd": {
          "model_module": "@jupyter-widgets/controls",
          "model_name": "FloatProgressModel",
          "model_module_version": "1.5.0",
          "state": {
            "_dom_classes": [],
            "_model_module": "@jupyter-widgets/controls",
            "_model_module_version": "1.5.0",
            "_model_name": "FloatProgressModel",
            "_view_count": null,
            "_view_module": "@jupyter-widgets/controls",
            "_view_module_version": "1.5.0",
            "_view_name": "ProgressView",
            "bar_style": "success",
            "description": "",
            "description_tooltip": null,
            "layout": "IPY_MODEL_d810027a656c45e7a6fa5e753cc6a383",
            "max": 341,
            "min": 0,
            "orientation": "horizontal",
            "style": "IPY_MODEL_5eeb649e36d54fe0936f11bc28ec5f0c",
            "value": 341
          }
        },
        "9dfaeb40694d4700bdef1367a9d01d82": {
          "model_module": "@jupyter-widgets/controls",
          "model_name": "HTMLModel",
          "model_module_version": "1.5.0",
          "state": {
            "_dom_classes": [],
            "_model_module": "@jupyter-widgets/controls",
            "_model_module_version": "1.5.0",
            "_model_name": "HTMLModel",
            "_view_count": null,
            "_view_module": "@jupyter-widgets/controls",
            "_view_module_version": "1.5.0",
            "_view_name": "HTMLView",
            "description": "",
            "description_tooltip": null,
            "layout": "IPY_MODEL_27f28d8291784689be9e0f2f2b0ed42e",
            "placeholder": "​",
            "style": "IPY_MODEL_faf91bec35f349729ed3d677f970c8f8",
            "value": " 341/341 [00:00&lt;00:00, 10.5kB/s]"
          }
        },
        "75cfc0734b284a9ab28cf8149b073291": {
          "model_module": "@jupyter-widgets/base",
          "model_name": "LayoutModel",
          "model_module_version": "1.2.0",
          "state": {
            "_model_module": "@jupyter-widgets/base",
            "_model_module_version": "1.2.0",
            "_model_name": "LayoutModel",
            "_view_count": null,
            "_view_module": "@jupyter-widgets/base",
            "_view_module_version": "1.2.0",
            "_view_name": "LayoutView",
            "align_content": null,
            "align_items": null,
            "align_self": null,
            "border": null,
            "bottom": null,
            "display": null,
            "flex": null,
            "flex_flow": null,
            "grid_area": null,
            "grid_auto_columns": null,
            "grid_auto_flow": null,
            "grid_auto_rows": null,
            "grid_column": null,
            "grid_gap": null,
            "grid_row": null,
            "grid_template_areas": null,
            "grid_template_columns": null,
            "grid_template_rows": null,
            "height": null,
            "justify_content": null,
            "justify_items": null,
            "left": null,
            "margin": null,
            "max_height": null,
            "max_width": null,
            "min_height": null,
            "min_width": null,
            "object_fit": null,
            "object_position": null,
            "order": null,
            "overflow": null,
            "overflow_x": null,
            "overflow_y": null,
            "padding": null,
            "right": null,
            "top": null,
            "visibility": null,
            "width": null
          }
        },
        "50592b815b40431a86f7d643a5d7a575": {
          "model_module": "@jupyter-widgets/base",
          "model_name": "LayoutModel",
          "model_module_version": "1.2.0",
          "state": {
            "_model_module": "@jupyter-widgets/base",
            "_model_module_version": "1.2.0",
            "_model_name": "LayoutModel",
            "_view_count": null,
            "_view_module": "@jupyter-widgets/base",
            "_view_module_version": "1.2.0",
            "_view_name": "LayoutView",
            "align_content": null,
            "align_items": null,
            "align_self": null,
            "border": null,
            "bottom": null,
            "display": null,
            "flex": null,
            "flex_flow": null,
            "grid_area": null,
            "grid_auto_columns": null,
            "grid_auto_flow": null,
            "grid_auto_rows": null,
            "grid_column": null,
            "grid_gap": null,
            "grid_row": null,
            "grid_template_areas": null,
            "grid_template_columns": null,
            "grid_template_rows": null,
            "height": null,
            "justify_content": null,
            "justify_items": null,
            "left": null,
            "margin": null,
            "max_height": null,
            "max_width": null,
            "min_height": null,
            "min_width": null,
            "object_fit": null,
            "object_position": null,
            "order": null,
            "overflow": null,
            "overflow_x": null,
            "overflow_y": null,
            "padding": null,
            "right": null,
            "top": null,
            "visibility": null,
            "width": null
          }
        },
        "39481b678b684d709d9179718933e566": {
          "model_module": "@jupyter-widgets/controls",
          "model_name": "DescriptionStyleModel",
          "model_module_version": "1.5.0",
          "state": {
            "_model_module": "@jupyter-widgets/controls",
            "_model_module_version": "1.5.0",
            "_model_name": "DescriptionStyleModel",
            "_view_count": null,
            "_view_module": "@jupyter-widgets/base",
            "_view_module_version": "1.2.0",
            "_view_name": "StyleView",
            "description_width": ""
          }
        },
        "d810027a656c45e7a6fa5e753cc6a383": {
          "model_module": "@jupyter-widgets/base",
          "model_name": "LayoutModel",
          "model_module_version": "1.2.0",
          "state": {
            "_model_module": "@jupyter-widgets/base",
            "_model_module_version": "1.2.0",
            "_model_name": "LayoutModel",
            "_view_count": null,
            "_view_module": "@jupyter-widgets/base",
            "_view_module_version": "1.2.0",
            "_view_name": "LayoutView",
            "align_content": null,
            "align_items": null,
            "align_self": null,
            "border": null,
            "bottom": null,
            "display": null,
            "flex": null,
            "flex_flow": null,
            "grid_area": null,
            "grid_auto_columns": null,
            "grid_auto_flow": null,
            "grid_auto_rows": null,
            "grid_column": null,
            "grid_gap": null,
            "grid_row": null,
            "grid_template_areas": null,
            "grid_template_columns": null,
            "grid_template_rows": null,
            "height": null,
            "justify_content": null,
            "justify_items": null,
            "left": null,
            "margin": null,
            "max_height": null,
            "max_width": null,
            "min_height": null,
            "min_width": null,
            "object_fit": null,
            "object_position": null,
            "order": null,
            "overflow": null,
            "overflow_x": null,
            "overflow_y": null,
            "padding": null,
            "right": null,
            "top": null,
            "visibility": null,
            "width": null
          }
        },
        "5eeb649e36d54fe0936f11bc28ec5f0c": {
          "model_module": "@jupyter-widgets/controls",
          "model_name": "ProgressStyleModel",
          "model_module_version": "1.5.0",
          "state": {
            "_model_module": "@jupyter-widgets/controls",
            "_model_module_version": "1.5.0",
            "_model_name": "ProgressStyleModel",
            "_view_count": null,
            "_view_module": "@jupyter-widgets/base",
            "_view_module_version": "1.2.0",
            "_view_name": "StyleView",
            "bar_color": null,
            "description_width": ""
          }
        },
        "27f28d8291784689be9e0f2f2b0ed42e": {
          "model_module": "@jupyter-widgets/base",
          "model_name": "LayoutModel",
          "model_module_version": "1.2.0",
          "state": {
            "_model_module": "@jupyter-widgets/base",
            "_model_module_version": "1.2.0",
            "_model_name": "LayoutModel",
            "_view_count": null,
            "_view_module": "@jupyter-widgets/base",
            "_view_module_version": "1.2.0",
            "_view_name": "LayoutView",
            "align_content": null,
            "align_items": null,
            "align_self": null,
            "border": null,
            "bottom": null,
            "display": null,
            "flex": null,
            "flex_flow": null,
            "grid_area": null,
            "grid_auto_columns": null,
            "grid_auto_flow": null,
            "grid_auto_rows": null,
            "grid_column": null,
            "grid_gap": null,
            "grid_row": null,
            "grid_template_areas": null,
            "grid_template_columns": null,
            "grid_template_rows": null,
            "height": null,
            "justify_content": null,
            "justify_items": null,
            "left": null,
            "margin": null,
            "max_height": null,
            "max_width": null,
            "min_height": null,
            "min_width": null,
            "object_fit": null,
            "object_position": null,
            "order": null,
            "overflow": null,
            "overflow_x": null,
            "overflow_y": null,
            "padding": null,
            "right": null,
            "top": null,
            "visibility": null,
            "width": null
          }
        },
        "faf91bec35f349729ed3d677f970c8f8": {
          "model_module": "@jupyter-widgets/controls",
          "model_name": "DescriptionStyleModel",
          "model_module_version": "1.5.0",
          "state": {
            "_model_module": "@jupyter-widgets/controls",
            "_model_module_version": "1.5.0",
            "_model_name": "DescriptionStyleModel",
            "_view_count": null,
            "_view_module": "@jupyter-widgets/base",
            "_view_module_version": "1.2.0",
            "_view_name": "StyleView",
            "description_width": ""
          }
        },
        "fd9d59b84c49488fb8e709afac2e81f3": {
          "model_module": "@jupyter-widgets/controls",
          "model_name": "HBoxModel",
          "model_module_version": "1.5.0",
          "state": {
            "_dom_classes": [],
            "_model_module": "@jupyter-widgets/controls",
            "_model_module_version": "1.5.0",
            "_model_name": "HBoxModel",
            "_view_count": null,
            "_view_module": "@jupyter-widgets/controls",
            "_view_module_version": "1.5.0",
            "_view_name": "HBoxView",
            "box_style": "",
            "children": [
              "IPY_MODEL_54ac43a4a7674d8da157035d2d71d992",
              "IPY_MODEL_8ac2e00f722040d29be8f1049c32ea9f",
              "IPY_MODEL_b8099970d39e4ec8a5601900ee116cf5"
            ],
            "layout": "IPY_MODEL_da282f8182a04934a248e2e6f2d908ad"
          }
        },
        "54ac43a4a7674d8da157035d2d71d992": {
          "model_module": "@jupyter-widgets/controls",
          "model_name": "HTMLModel",
          "model_module_version": "1.5.0",
          "state": {
            "_dom_classes": [],
            "_model_module": "@jupyter-widgets/controls",
            "_model_module_version": "1.5.0",
            "_model_name": "HTMLModel",
            "_view_count": null,
            "_view_module": "@jupyter-widgets/controls",
            "_view_module_version": "1.5.0",
            "_view_name": "HTMLView",
            "description": "",
            "description_tooltip": null,
            "layout": "IPY_MODEL_ea19b4ecfcb5445c94be6fa45a67c056",
            "placeholder": "​",
            "style": "IPY_MODEL_094c7e7cd5654749ba107101069012a2",
            "value": "vocab.txt: 100%"
          }
        },
        "8ac2e00f722040d29be8f1049c32ea9f": {
          "model_module": "@jupyter-widgets/controls",
          "model_name": "FloatProgressModel",
          "model_module_version": "1.5.0",
          "state": {
            "_dom_classes": [],
            "_model_module": "@jupyter-widgets/controls",
            "_model_module_version": "1.5.0",
            "_model_name": "FloatProgressModel",
            "_view_count": null,
            "_view_module": "@jupyter-widgets/controls",
            "_view_module_version": "1.5.0",
            "_view_name": "ProgressView",
            "bar_style": "success",
            "description": "",
            "description_tooltip": null,
            "layout": "IPY_MODEL_4369f7aa459b49b98826328943ccb9cf",
            "max": 213450,
            "min": 0,
            "orientation": "horizontal",
            "style": "IPY_MODEL_20aba3796c9949d395a377b06213c7ed",
            "value": 213450
          }
        },
        "b8099970d39e4ec8a5601900ee116cf5": {
          "model_module": "@jupyter-widgets/controls",
          "model_name": "HTMLModel",
          "model_module_version": "1.5.0",
          "state": {
            "_dom_classes": [],
            "_model_module": "@jupyter-widgets/controls",
            "_model_module_version": "1.5.0",
            "_model_name": "HTMLModel",
            "_view_count": null,
            "_view_module": "@jupyter-widgets/controls",
            "_view_module_version": "1.5.0",
            "_view_name": "HTMLView",
            "description": "",
            "description_tooltip": null,
            "layout": "IPY_MODEL_6d15a55cca2a47fc8b813339e8296815",
            "placeholder": "​",
            "style": "IPY_MODEL_cb9aec5f1bbb406788453715e0a70452",
            "value": " 213k/213k [00:00&lt;00:00, 4.99MB/s]"
          }
        },
        "da282f8182a04934a248e2e6f2d908ad": {
          "model_module": "@jupyter-widgets/base",
          "model_name": "LayoutModel",
          "model_module_version": "1.2.0",
          "state": {
            "_model_module": "@jupyter-widgets/base",
            "_model_module_version": "1.2.0",
            "_model_name": "LayoutModel",
            "_view_count": null,
            "_view_module": "@jupyter-widgets/base",
            "_view_module_version": "1.2.0",
            "_view_name": "LayoutView",
            "align_content": null,
            "align_items": null,
            "align_self": null,
            "border": null,
            "bottom": null,
            "display": null,
            "flex": null,
            "flex_flow": null,
            "grid_area": null,
            "grid_auto_columns": null,
            "grid_auto_flow": null,
            "grid_auto_rows": null,
            "grid_column": null,
            "grid_gap": null,
            "grid_row": null,
            "grid_template_areas": null,
            "grid_template_columns": null,
            "grid_template_rows": null,
            "height": null,
            "justify_content": null,
            "justify_items": null,
            "left": null,
            "margin": null,
            "max_height": null,
            "max_width": null,
            "min_height": null,
            "min_width": null,
            "object_fit": null,
            "object_position": null,
            "order": null,
            "overflow": null,
            "overflow_x": null,
            "overflow_y": null,
            "padding": null,
            "right": null,
            "top": null,
            "visibility": null,
            "width": null
          }
        },
        "ea19b4ecfcb5445c94be6fa45a67c056": {
          "model_module": "@jupyter-widgets/base",
          "model_name": "LayoutModel",
          "model_module_version": "1.2.0",
          "state": {
            "_model_module": "@jupyter-widgets/base",
            "_model_module_version": "1.2.0",
            "_model_name": "LayoutModel",
            "_view_count": null,
            "_view_module": "@jupyter-widgets/base",
            "_view_module_version": "1.2.0",
            "_view_name": "LayoutView",
            "align_content": null,
            "align_items": null,
            "align_self": null,
            "border": null,
            "bottom": null,
            "display": null,
            "flex": null,
            "flex_flow": null,
            "grid_area": null,
            "grid_auto_columns": null,
            "grid_auto_flow": null,
            "grid_auto_rows": null,
            "grid_column": null,
            "grid_gap": null,
            "grid_row": null,
            "grid_template_areas": null,
            "grid_template_columns": null,
            "grid_template_rows": null,
            "height": null,
            "justify_content": null,
            "justify_items": null,
            "left": null,
            "margin": null,
            "max_height": null,
            "max_width": null,
            "min_height": null,
            "min_width": null,
            "object_fit": null,
            "object_position": null,
            "order": null,
            "overflow": null,
            "overflow_x": null,
            "overflow_y": null,
            "padding": null,
            "right": null,
            "top": null,
            "visibility": null,
            "width": null
          }
        },
        "094c7e7cd5654749ba107101069012a2": {
          "model_module": "@jupyter-widgets/controls",
          "model_name": "DescriptionStyleModel",
          "model_module_version": "1.5.0",
          "state": {
            "_model_module": "@jupyter-widgets/controls",
            "_model_module_version": "1.5.0",
            "_model_name": "DescriptionStyleModel",
            "_view_count": null,
            "_view_module": "@jupyter-widgets/base",
            "_view_module_version": "1.2.0",
            "_view_name": "StyleView",
            "description_width": ""
          }
        },
        "4369f7aa459b49b98826328943ccb9cf": {
          "model_module": "@jupyter-widgets/base",
          "model_name": "LayoutModel",
          "model_module_version": "1.2.0",
          "state": {
            "_model_module": "@jupyter-widgets/base",
            "_model_module_version": "1.2.0",
            "_model_name": "LayoutModel",
            "_view_count": null,
            "_view_module": "@jupyter-widgets/base",
            "_view_module_version": "1.2.0",
            "_view_name": "LayoutView",
            "align_content": null,
            "align_items": null,
            "align_self": null,
            "border": null,
            "bottom": null,
            "display": null,
            "flex": null,
            "flex_flow": null,
            "grid_area": null,
            "grid_auto_columns": null,
            "grid_auto_flow": null,
            "grid_auto_rows": null,
            "grid_column": null,
            "grid_gap": null,
            "grid_row": null,
            "grid_template_areas": null,
            "grid_template_columns": null,
            "grid_template_rows": null,
            "height": null,
            "justify_content": null,
            "justify_items": null,
            "left": null,
            "margin": null,
            "max_height": null,
            "max_width": null,
            "min_height": null,
            "min_width": null,
            "object_fit": null,
            "object_position": null,
            "order": null,
            "overflow": null,
            "overflow_x": null,
            "overflow_y": null,
            "padding": null,
            "right": null,
            "top": null,
            "visibility": null,
            "width": null
          }
        },
        "20aba3796c9949d395a377b06213c7ed": {
          "model_module": "@jupyter-widgets/controls",
          "model_name": "ProgressStyleModel",
          "model_module_version": "1.5.0",
          "state": {
            "_model_module": "@jupyter-widgets/controls",
            "_model_module_version": "1.5.0",
            "_model_name": "ProgressStyleModel",
            "_view_count": null,
            "_view_module": "@jupyter-widgets/base",
            "_view_module_version": "1.2.0",
            "_view_name": "StyleView",
            "bar_color": null,
            "description_width": ""
          }
        },
        "6d15a55cca2a47fc8b813339e8296815": {
          "model_module": "@jupyter-widgets/base",
          "model_name": "LayoutModel",
          "model_module_version": "1.2.0",
          "state": {
            "_model_module": "@jupyter-widgets/base",
            "_model_module_version": "1.2.0",
            "_model_name": "LayoutModel",
            "_view_count": null,
            "_view_module": "@jupyter-widgets/base",
            "_view_module_version": "1.2.0",
            "_view_name": "LayoutView",
            "align_content": null,
            "align_items": null,
            "align_self": null,
            "border": null,
            "bottom": null,
            "display": null,
            "flex": null,
            "flex_flow": null,
            "grid_area": null,
            "grid_auto_columns": null,
            "grid_auto_flow": null,
            "grid_auto_rows": null,
            "grid_column": null,
            "grid_gap": null,
            "grid_row": null,
            "grid_template_areas": null,
            "grid_template_columns": null,
            "grid_template_rows": null,
            "height": null,
            "justify_content": null,
            "justify_items": null,
            "left": null,
            "margin": null,
            "max_height": null,
            "max_width": null,
            "min_height": null,
            "min_width": null,
            "object_fit": null,
            "object_position": null,
            "order": null,
            "overflow": null,
            "overflow_x": null,
            "overflow_y": null,
            "padding": null,
            "right": null,
            "top": null,
            "visibility": null,
            "width": null
          }
        },
        "cb9aec5f1bbb406788453715e0a70452": {
          "model_module": "@jupyter-widgets/controls",
          "model_name": "DescriptionStyleModel",
          "model_module_version": "1.5.0",
          "state": {
            "_model_module": "@jupyter-widgets/controls",
            "_model_module_version": "1.5.0",
            "_model_name": "DescriptionStyleModel",
            "_view_count": null,
            "_view_module": "@jupyter-widgets/base",
            "_view_module_version": "1.2.0",
            "_view_name": "StyleView",
            "description_width": ""
          }
        },
        "21ec34ca706a499488e0694b09c0db15": {
          "model_module": "@jupyter-widgets/controls",
          "model_name": "HBoxModel",
          "model_module_version": "1.5.0",
          "state": {
            "_dom_classes": [],
            "_model_module": "@jupyter-widgets/controls",
            "_model_module_version": "1.5.0",
            "_model_name": "HBoxModel",
            "_view_count": null,
            "_view_module": "@jupyter-widgets/controls",
            "_view_module_version": "1.5.0",
            "_view_name": "HBoxView",
            "box_style": "",
            "children": [
              "IPY_MODEL_3a82a0a42e4847d587ef7127106fb78f",
              "IPY_MODEL_ba1d88ef8c22486c9f30d6f344057811",
              "IPY_MODEL_57226be78ceb416cb1673f7e47d0fcf9"
            ],
            "layout": "IPY_MODEL_42546449e96749578cec7338028d4d94"
          }
        },
        "3a82a0a42e4847d587ef7127106fb78f": {
          "model_module": "@jupyter-widgets/controls",
          "model_name": "HTMLModel",
          "model_module_version": "1.5.0",
          "state": {
            "_dom_classes": [],
            "_model_module": "@jupyter-widgets/controls",
            "_model_module_version": "1.5.0",
            "_model_name": "HTMLModel",
            "_view_count": null,
            "_view_module": "@jupyter-widgets/controls",
            "_view_module_version": "1.5.0",
            "_view_name": "HTMLView",
            "description": "",
            "description_tooltip": null,
            "layout": "IPY_MODEL_0070ee8d7daa4bd5ae57cac65a832ebf",
            "placeholder": "​",
            "style": "IPY_MODEL_6852d43d5e4247e9ab404bb44614e116",
            "value": "tokenizer.json: 100%"
          }
        },
        "ba1d88ef8c22486c9f30d6f344057811": {
          "model_module": "@jupyter-widgets/controls",
          "model_name": "FloatProgressModel",
          "model_module_version": "1.5.0",
          "state": {
            "_dom_classes": [],
            "_model_module": "@jupyter-widgets/controls",
            "_model_module_version": "1.5.0",
            "_model_name": "FloatProgressModel",
            "_view_count": null,
            "_view_module": "@jupyter-widgets/controls",
            "_view_module_version": "1.5.0",
            "_view_name": "ProgressView",
            "bar_style": "success",
            "description": "",
            "description_tooltip": null,
            "layout": "IPY_MODEL_52c09996f06245af9c7087368b99a760",
            "max": 669188,
            "min": 0,
            "orientation": "horizontal",
            "style": "IPY_MODEL_35f6a44d98d74d9a9508d2d256244889",
            "value": 669188
          }
        },
        "57226be78ceb416cb1673f7e47d0fcf9": {
          "model_module": "@jupyter-widgets/controls",
          "model_name": "HTMLModel",
          "model_module_version": "1.5.0",
          "state": {
            "_dom_classes": [],
            "_model_module": "@jupyter-widgets/controls",
            "_model_module_version": "1.5.0",
            "_model_name": "HTMLModel",
            "_view_count": null,
            "_view_module": "@jupyter-widgets/controls",
            "_view_module_version": "1.5.0",
            "_view_name": "HTMLView",
            "description": "",
            "description_tooltip": null,
            "layout": "IPY_MODEL_1e7755e134d14a1a88398e5462200694",
            "placeholder": "​",
            "style": "IPY_MODEL_f5129e1e46ce45169d0dfa29c9690892",
            "value": " 669k/669k [00:00&lt;00:00, 7.00MB/s]"
          }
        },
        "42546449e96749578cec7338028d4d94": {
          "model_module": "@jupyter-widgets/base",
          "model_name": "LayoutModel",
          "model_module_version": "1.2.0",
          "state": {
            "_model_module": "@jupyter-widgets/base",
            "_model_module_version": "1.2.0",
            "_model_name": "LayoutModel",
            "_view_count": null,
            "_view_module": "@jupyter-widgets/base",
            "_view_module_version": "1.2.0",
            "_view_name": "LayoutView",
            "align_content": null,
            "align_items": null,
            "align_self": null,
            "border": null,
            "bottom": null,
            "display": null,
            "flex": null,
            "flex_flow": null,
            "grid_area": null,
            "grid_auto_columns": null,
            "grid_auto_flow": null,
            "grid_auto_rows": null,
            "grid_column": null,
            "grid_gap": null,
            "grid_row": null,
            "grid_template_areas": null,
            "grid_template_columns": null,
            "grid_template_rows": null,
            "height": null,
            "justify_content": null,
            "justify_items": null,
            "left": null,
            "margin": null,
            "max_height": null,
            "max_width": null,
            "min_height": null,
            "min_width": null,
            "object_fit": null,
            "object_position": null,
            "order": null,
            "overflow": null,
            "overflow_x": null,
            "overflow_y": null,
            "padding": null,
            "right": null,
            "top": null,
            "visibility": null,
            "width": null
          }
        },
        "0070ee8d7daa4bd5ae57cac65a832ebf": {
          "model_module": "@jupyter-widgets/base",
          "model_name": "LayoutModel",
          "model_module_version": "1.2.0",
          "state": {
            "_model_module": "@jupyter-widgets/base",
            "_model_module_version": "1.2.0",
            "_model_name": "LayoutModel",
            "_view_count": null,
            "_view_module": "@jupyter-widgets/base",
            "_view_module_version": "1.2.0",
            "_view_name": "LayoutView",
            "align_content": null,
            "align_items": null,
            "align_self": null,
            "border": null,
            "bottom": null,
            "display": null,
            "flex": null,
            "flex_flow": null,
            "grid_area": null,
            "grid_auto_columns": null,
            "grid_auto_flow": null,
            "grid_auto_rows": null,
            "grid_column": null,
            "grid_gap": null,
            "grid_row": null,
            "grid_template_areas": null,
            "grid_template_columns": null,
            "grid_template_rows": null,
            "height": null,
            "justify_content": null,
            "justify_items": null,
            "left": null,
            "margin": null,
            "max_height": null,
            "max_width": null,
            "min_height": null,
            "min_width": null,
            "object_fit": null,
            "object_position": null,
            "order": null,
            "overflow": null,
            "overflow_x": null,
            "overflow_y": null,
            "padding": null,
            "right": null,
            "top": null,
            "visibility": null,
            "width": null
          }
        },
        "6852d43d5e4247e9ab404bb44614e116": {
          "model_module": "@jupyter-widgets/controls",
          "model_name": "DescriptionStyleModel",
          "model_module_version": "1.5.0",
          "state": {
            "_model_module": "@jupyter-widgets/controls",
            "_model_module_version": "1.5.0",
            "_model_name": "DescriptionStyleModel",
            "_view_count": null,
            "_view_module": "@jupyter-widgets/base",
            "_view_module_version": "1.2.0",
            "_view_name": "StyleView",
            "description_width": ""
          }
        },
        "52c09996f06245af9c7087368b99a760": {
          "model_module": "@jupyter-widgets/base",
          "model_name": "LayoutModel",
          "model_module_version": "1.2.0",
          "state": {
            "_model_module": "@jupyter-widgets/base",
            "_model_module_version": "1.2.0",
            "_model_name": "LayoutModel",
            "_view_count": null,
            "_view_module": "@jupyter-widgets/base",
            "_view_module_version": "1.2.0",
            "_view_name": "LayoutView",
            "align_content": null,
            "align_items": null,
            "align_self": null,
            "border": null,
            "bottom": null,
            "display": null,
            "flex": null,
            "flex_flow": null,
            "grid_area": null,
            "grid_auto_columns": null,
            "grid_auto_flow": null,
            "grid_auto_rows": null,
            "grid_column": null,
            "grid_gap": null,
            "grid_row": null,
            "grid_template_areas": null,
            "grid_template_columns": null,
            "grid_template_rows": null,
            "height": null,
            "justify_content": null,
            "justify_items": null,
            "left": null,
            "margin": null,
            "max_height": null,
            "max_width": null,
            "min_height": null,
            "min_width": null,
            "object_fit": null,
            "object_position": null,
            "order": null,
            "overflow": null,
            "overflow_x": null,
            "overflow_y": null,
            "padding": null,
            "right": null,
            "top": null,
            "visibility": null,
            "width": null
          }
        },
        "35f6a44d98d74d9a9508d2d256244889": {
          "model_module": "@jupyter-widgets/controls",
          "model_name": "ProgressStyleModel",
          "model_module_version": "1.5.0",
          "state": {
            "_model_module": "@jupyter-widgets/controls",
            "_model_module_version": "1.5.0",
            "_model_name": "ProgressStyleModel",
            "_view_count": null,
            "_view_module": "@jupyter-widgets/base",
            "_view_module_version": "1.2.0",
            "_view_name": "StyleView",
            "bar_color": null,
            "description_width": ""
          }
        },
        "1e7755e134d14a1a88398e5462200694": {
          "model_module": "@jupyter-widgets/base",
          "model_name": "LayoutModel",
          "model_module_version": "1.2.0",
          "state": {
            "_model_module": "@jupyter-widgets/base",
            "_model_module_version": "1.2.0",
            "_model_name": "LayoutModel",
            "_view_count": null,
            "_view_module": "@jupyter-widgets/base",
            "_view_module_version": "1.2.0",
            "_view_name": "LayoutView",
            "align_content": null,
            "align_items": null,
            "align_self": null,
            "border": null,
            "bottom": null,
            "display": null,
            "flex": null,
            "flex_flow": null,
            "grid_area": null,
            "grid_auto_columns": null,
            "grid_auto_flow": null,
            "grid_auto_rows": null,
            "grid_column": null,
            "grid_gap": null,
            "grid_row": null,
            "grid_template_areas": null,
            "grid_template_columns": null,
            "grid_template_rows": null,
            "height": null,
            "justify_content": null,
            "justify_items": null,
            "left": null,
            "margin": null,
            "max_height": null,
            "max_width": null,
            "min_height": null,
            "min_width": null,
            "object_fit": null,
            "object_position": null,
            "order": null,
            "overflow": null,
            "overflow_x": null,
            "overflow_y": null,
            "padding": null,
            "right": null,
            "top": null,
            "visibility": null,
            "width": null
          }
        },
        "f5129e1e46ce45169d0dfa29c9690892": {
          "model_module": "@jupyter-widgets/controls",
          "model_name": "DescriptionStyleModel",
          "model_module_version": "1.5.0",
          "state": {
            "_model_module": "@jupyter-widgets/controls",
            "_model_module_version": "1.5.0",
            "_model_name": "DescriptionStyleModel",
            "_view_count": null,
            "_view_module": "@jupyter-widgets/base",
            "_view_module_version": "1.2.0",
            "_view_name": "StyleView",
            "description_width": ""
          }
        },
        "34d59f8df8274da2aa0562d36a5fab58": {
          "model_module": "@jupyter-widgets/controls",
          "model_name": "HBoxModel",
          "model_module_version": "1.5.0",
          "state": {
            "_dom_classes": [],
            "_model_module": "@jupyter-widgets/controls",
            "_model_module_version": "1.5.0",
            "_model_name": "HBoxModel",
            "_view_count": null,
            "_view_module": "@jupyter-widgets/controls",
            "_view_module_version": "1.5.0",
            "_view_name": "HBoxView",
            "box_style": "",
            "children": [
              "IPY_MODEL_6ef62e9d7aac436ea3a9ce1b985ec8f8",
              "IPY_MODEL_752132df0e1f425b94327adb3832a84e",
              "IPY_MODEL_d5fda23a13f1426d9067278b5ad3ca25"
            ],
            "layout": "IPY_MODEL_3020b3dab2c341cc999dc08bc11595d1"
          }
        },
        "6ef62e9d7aac436ea3a9ce1b985ec8f8": {
          "model_module": "@jupyter-widgets/controls",
          "model_name": "HTMLModel",
          "model_module_version": "1.5.0",
          "state": {
            "_dom_classes": [],
            "_model_module": "@jupyter-widgets/controls",
            "_model_module_version": "1.5.0",
            "_model_name": "HTMLModel",
            "_view_count": null,
            "_view_module": "@jupyter-widgets/controls",
            "_view_module_version": "1.5.0",
            "_view_name": "HTMLView",
            "description": "",
            "description_tooltip": null,
            "layout": "IPY_MODEL_dd9cdaef6d7244eb969ca63b2a2aa875",
            "placeholder": "​",
            "style": "IPY_MODEL_6005ad17485a4341a8a8fffc42748d09",
            "value": "special_tokens_map.json: 100%"
          }
        },
        "752132df0e1f425b94327adb3832a84e": {
          "model_module": "@jupyter-widgets/controls",
          "model_name": "FloatProgressModel",
          "model_module_version": "1.5.0",
          "state": {
            "_dom_classes": [],
            "_model_module": "@jupyter-widgets/controls",
            "_model_module_version": "1.5.0",
            "_model_name": "FloatProgressModel",
            "_view_count": null,
            "_view_module": "@jupyter-widgets/controls",
            "_view_module_version": "1.5.0",
            "_view_name": "ProgressView",
            "bar_style": "success",
            "description": "",
            "description_tooltip": null,
            "layout": "IPY_MODEL_64c550afe1ec40e3b9b246076bd4a189",
            "max": 125,
            "min": 0,
            "orientation": "horizontal",
            "style": "IPY_MODEL_973c66498d59498a9fc12b99f41ff5c8",
            "value": 125
          }
        },
        "d5fda23a13f1426d9067278b5ad3ca25": {
          "model_module": "@jupyter-widgets/controls",
          "model_name": "HTMLModel",
          "model_module_version": "1.5.0",
          "state": {
            "_dom_classes": [],
            "_model_module": "@jupyter-widgets/controls",
            "_model_module_version": "1.5.0",
            "_model_name": "HTMLModel",
            "_view_count": null,
            "_view_module": "@jupyter-widgets/controls",
            "_view_module_version": "1.5.0",
            "_view_name": "HTMLView",
            "description": "",
            "description_tooltip": null,
            "layout": "IPY_MODEL_07fe40d55518494486ec383a9367666a",
            "placeholder": "​",
            "style": "IPY_MODEL_af545fbb508146d5a70e0f5338689c1c",
            "value": " 125/125 [00:00&lt;00:00, 3.56kB/s]"
          }
        },
        "3020b3dab2c341cc999dc08bc11595d1": {
          "model_module": "@jupyter-widgets/base",
          "model_name": "LayoutModel",
          "model_module_version": "1.2.0",
          "state": {
            "_model_module": "@jupyter-widgets/base",
            "_model_module_version": "1.2.0",
            "_model_name": "LayoutModel",
            "_view_count": null,
            "_view_module": "@jupyter-widgets/base",
            "_view_module_version": "1.2.0",
            "_view_name": "LayoutView",
            "align_content": null,
            "align_items": null,
            "align_self": null,
            "border": null,
            "bottom": null,
            "display": null,
            "flex": null,
            "flex_flow": null,
            "grid_area": null,
            "grid_auto_columns": null,
            "grid_auto_flow": null,
            "grid_auto_rows": null,
            "grid_column": null,
            "grid_gap": null,
            "grid_row": null,
            "grid_template_areas": null,
            "grid_template_columns": null,
            "grid_template_rows": null,
            "height": null,
            "justify_content": null,
            "justify_items": null,
            "left": null,
            "margin": null,
            "max_height": null,
            "max_width": null,
            "min_height": null,
            "min_width": null,
            "object_fit": null,
            "object_position": null,
            "order": null,
            "overflow": null,
            "overflow_x": null,
            "overflow_y": null,
            "padding": null,
            "right": null,
            "top": null,
            "visibility": null,
            "width": null
          }
        },
        "dd9cdaef6d7244eb969ca63b2a2aa875": {
          "model_module": "@jupyter-widgets/base",
          "model_name": "LayoutModel",
          "model_module_version": "1.2.0",
          "state": {
            "_model_module": "@jupyter-widgets/base",
            "_model_module_version": "1.2.0",
            "_model_name": "LayoutModel",
            "_view_count": null,
            "_view_module": "@jupyter-widgets/base",
            "_view_module_version": "1.2.0",
            "_view_name": "LayoutView",
            "align_content": null,
            "align_items": null,
            "align_self": null,
            "border": null,
            "bottom": null,
            "display": null,
            "flex": null,
            "flex_flow": null,
            "grid_area": null,
            "grid_auto_columns": null,
            "grid_auto_flow": null,
            "grid_auto_rows": null,
            "grid_column": null,
            "grid_gap": null,
            "grid_row": null,
            "grid_template_areas": null,
            "grid_template_columns": null,
            "grid_template_rows": null,
            "height": null,
            "justify_content": null,
            "justify_items": null,
            "left": null,
            "margin": null,
            "max_height": null,
            "max_width": null,
            "min_height": null,
            "min_width": null,
            "object_fit": null,
            "object_position": null,
            "order": null,
            "overflow": null,
            "overflow_x": null,
            "overflow_y": null,
            "padding": null,
            "right": null,
            "top": null,
            "visibility": null,
            "width": null
          }
        },
        "6005ad17485a4341a8a8fffc42748d09": {
          "model_module": "@jupyter-widgets/controls",
          "model_name": "DescriptionStyleModel",
          "model_module_version": "1.5.0",
          "state": {
            "_model_module": "@jupyter-widgets/controls",
            "_model_module_version": "1.5.0",
            "_model_name": "DescriptionStyleModel",
            "_view_count": null,
            "_view_module": "@jupyter-widgets/base",
            "_view_module_version": "1.2.0",
            "_view_name": "StyleView",
            "description_width": ""
          }
        },
        "64c550afe1ec40e3b9b246076bd4a189": {
          "model_module": "@jupyter-widgets/base",
          "model_name": "LayoutModel",
          "model_module_version": "1.2.0",
          "state": {
            "_model_module": "@jupyter-widgets/base",
            "_model_module_version": "1.2.0",
            "_model_name": "LayoutModel",
            "_view_count": null,
            "_view_module": "@jupyter-widgets/base",
            "_view_module_version": "1.2.0",
            "_view_name": "LayoutView",
            "align_content": null,
            "align_items": null,
            "align_self": null,
            "border": null,
            "bottom": null,
            "display": null,
            "flex": null,
            "flex_flow": null,
            "grid_area": null,
            "grid_auto_columns": null,
            "grid_auto_flow": null,
            "grid_auto_rows": null,
            "grid_column": null,
            "grid_gap": null,
            "grid_row": null,
            "grid_template_areas": null,
            "grid_template_columns": null,
            "grid_template_rows": null,
            "height": null,
            "justify_content": null,
            "justify_items": null,
            "left": null,
            "margin": null,
            "max_height": null,
            "max_width": null,
            "min_height": null,
            "min_width": null,
            "object_fit": null,
            "object_position": null,
            "order": null,
            "overflow": null,
            "overflow_x": null,
            "overflow_y": null,
            "padding": null,
            "right": null,
            "top": null,
            "visibility": null,
            "width": null
          }
        },
        "973c66498d59498a9fc12b99f41ff5c8": {
          "model_module": "@jupyter-widgets/controls",
          "model_name": "ProgressStyleModel",
          "model_module_version": "1.5.0",
          "state": {
            "_model_module": "@jupyter-widgets/controls",
            "_model_module_version": "1.5.0",
            "_model_name": "ProgressStyleModel",
            "_view_count": null,
            "_view_module": "@jupyter-widgets/base",
            "_view_module_version": "1.2.0",
            "_view_name": "StyleView",
            "bar_color": null,
            "description_width": ""
          }
        },
        "07fe40d55518494486ec383a9367666a": {
          "model_module": "@jupyter-widgets/base",
          "model_name": "LayoutModel",
          "model_module_version": "1.2.0",
          "state": {
            "_model_module": "@jupyter-widgets/base",
            "_model_module_version": "1.2.0",
            "_model_name": "LayoutModel",
            "_view_count": null,
            "_view_module": "@jupyter-widgets/base",
            "_view_module_version": "1.2.0",
            "_view_name": "LayoutView",
            "align_content": null,
            "align_items": null,
            "align_self": null,
            "border": null,
            "bottom": null,
            "display": null,
            "flex": null,
            "flex_flow": null,
            "grid_area": null,
            "grid_auto_columns": null,
            "grid_auto_flow": null,
            "grid_auto_rows": null,
            "grid_column": null,
            "grid_gap": null,
            "grid_row": null,
            "grid_template_areas": null,
            "grid_template_columns": null,
            "grid_template_rows": null,
            "height": null,
            "justify_content": null,
            "justify_items": null,
            "left": null,
            "margin": null,
            "max_height": null,
            "max_width": null,
            "min_height": null,
            "min_width": null,
            "object_fit": null,
            "object_position": null,
            "order": null,
            "overflow": null,
            "overflow_x": null,
            "overflow_y": null,
            "padding": null,
            "right": null,
            "top": null,
            "visibility": null,
            "width": null
          }
        },
        "af545fbb508146d5a70e0f5338689c1c": {
          "model_module": "@jupyter-widgets/controls",
          "model_name": "DescriptionStyleModel",
          "model_module_version": "1.5.0",
          "state": {
            "_model_module": "@jupyter-widgets/controls",
            "_model_module_version": "1.5.0",
            "_model_name": "DescriptionStyleModel",
            "_view_count": null,
            "_view_module": "@jupyter-widgets/base",
            "_view_module_version": "1.2.0",
            "_view_name": "StyleView",
            "description_width": ""
          }
        },
        "961799a0730b44fa886f8e23a9a0841d": {
          "model_module": "@jupyter-widgets/controls",
          "model_name": "HBoxModel",
          "model_module_version": "1.5.0",
          "state": {
            "_dom_classes": [],
            "_model_module": "@jupyter-widgets/controls",
            "_model_module_version": "1.5.0",
            "_model_name": "HBoxModel",
            "_view_count": null,
            "_view_module": "@jupyter-widgets/controls",
            "_view_module_version": "1.5.0",
            "_view_name": "HBoxView",
            "box_style": "",
            "children": [
              "IPY_MODEL_db130d1c452f422792194520111dc4ba",
              "IPY_MODEL_c17bf9c3ef0844bfadc45fa70d8e6dc3",
              "IPY_MODEL_99feb19adf1c487e886d1b6dc69a922e"
            ],
            "layout": "IPY_MODEL_8d10bd9576144b07b6f789c3057c8875"
          }
        },
        "db130d1c452f422792194520111dc4ba": {
          "model_module": "@jupyter-widgets/controls",
          "model_name": "HTMLModel",
          "model_module_version": "1.5.0",
          "state": {
            "_dom_classes": [],
            "_model_module": "@jupyter-widgets/controls",
            "_model_module_version": "1.5.0",
            "_model_name": "HTMLModel",
            "_view_count": null,
            "_view_module": "@jupyter-widgets/controls",
            "_view_module_version": "1.5.0",
            "_view_name": "HTMLView",
            "description": "",
            "description_tooltip": null,
            "layout": "IPY_MODEL_ed941df56403417c99342668d771979e",
            "placeholder": "​",
            "style": "IPY_MODEL_384ed4544bfc415da7d31f0c80083591",
            "value": "config.json: 100%"
          }
        },
        "c17bf9c3ef0844bfadc45fa70d8e6dc3": {
          "model_module": "@jupyter-widgets/controls",
          "model_name": "FloatProgressModel",
          "model_module_version": "1.5.0",
          "state": {
            "_dom_classes": [],
            "_model_module": "@jupyter-widgets/controls",
            "_model_module_version": "1.5.0",
            "_model_name": "FloatProgressModel",
            "_view_count": null,
            "_view_module": "@jupyter-widgets/controls",
            "_view_module_version": "1.5.0",
            "_view_name": "ProgressView",
            "bar_style": "success",
            "description": "",
            "description_tooltip": null,
            "layout": "IPY_MODEL_66f4235fcb8b4f42b97fdd18452e5fa9",
            "max": 879,
            "min": 0,
            "orientation": "horizontal",
            "style": "IPY_MODEL_74d7d98967af47d6b48f21458d3877a2",
            "value": 879
          }
        },
        "99feb19adf1c487e886d1b6dc69a922e": {
          "model_module": "@jupyter-widgets/controls",
          "model_name": "HTMLModel",
          "model_module_version": "1.5.0",
          "state": {
            "_dom_classes": [],
            "_model_module": "@jupyter-widgets/controls",
            "_model_module_version": "1.5.0",
            "_model_name": "HTMLModel",
            "_view_count": null,
            "_view_module": "@jupyter-widgets/controls",
            "_view_module_version": "1.5.0",
            "_view_name": "HTMLView",
            "description": "",
            "description_tooltip": null,
            "layout": "IPY_MODEL_8d655c485a5e4ad5b9598bcb16ad7ea7",
            "placeholder": "​",
            "style": "IPY_MODEL_f26c047bc7eb4bba81e60248aaea69f5",
            "value": " 879/879 [00:00&lt;00:00, 19.3kB/s]"
          }
        },
        "8d10bd9576144b07b6f789c3057c8875": {
          "model_module": "@jupyter-widgets/base",
          "model_name": "LayoutModel",
          "model_module_version": "1.2.0",
          "state": {
            "_model_module": "@jupyter-widgets/base",
            "_model_module_version": "1.2.0",
            "_model_name": "LayoutModel",
            "_view_count": null,
            "_view_module": "@jupyter-widgets/base",
            "_view_module_version": "1.2.0",
            "_view_name": "LayoutView",
            "align_content": null,
            "align_items": null,
            "align_self": null,
            "border": null,
            "bottom": null,
            "display": null,
            "flex": null,
            "flex_flow": null,
            "grid_area": null,
            "grid_auto_columns": null,
            "grid_auto_flow": null,
            "grid_auto_rows": null,
            "grid_column": null,
            "grid_gap": null,
            "grid_row": null,
            "grid_template_areas": null,
            "grid_template_columns": null,
            "grid_template_rows": null,
            "height": null,
            "justify_content": null,
            "justify_items": null,
            "left": null,
            "margin": null,
            "max_height": null,
            "max_width": null,
            "min_height": null,
            "min_width": null,
            "object_fit": null,
            "object_position": null,
            "order": null,
            "overflow": null,
            "overflow_x": null,
            "overflow_y": null,
            "padding": null,
            "right": null,
            "top": null,
            "visibility": null,
            "width": null
          }
        },
        "ed941df56403417c99342668d771979e": {
          "model_module": "@jupyter-widgets/base",
          "model_name": "LayoutModel",
          "model_module_version": "1.2.0",
          "state": {
            "_model_module": "@jupyter-widgets/base",
            "_model_module_version": "1.2.0",
            "_model_name": "LayoutModel",
            "_view_count": null,
            "_view_module": "@jupyter-widgets/base",
            "_view_module_version": "1.2.0",
            "_view_name": "LayoutView",
            "align_content": null,
            "align_items": null,
            "align_self": null,
            "border": null,
            "bottom": null,
            "display": null,
            "flex": null,
            "flex_flow": null,
            "grid_area": null,
            "grid_auto_columns": null,
            "grid_auto_flow": null,
            "grid_auto_rows": null,
            "grid_column": null,
            "grid_gap": null,
            "grid_row": null,
            "grid_template_areas": null,
            "grid_template_columns": null,
            "grid_template_rows": null,
            "height": null,
            "justify_content": null,
            "justify_items": null,
            "left": null,
            "margin": null,
            "max_height": null,
            "max_width": null,
            "min_height": null,
            "min_width": null,
            "object_fit": null,
            "object_position": null,
            "order": null,
            "overflow": null,
            "overflow_x": null,
            "overflow_y": null,
            "padding": null,
            "right": null,
            "top": null,
            "visibility": null,
            "width": null
          }
        },
        "384ed4544bfc415da7d31f0c80083591": {
          "model_module": "@jupyter-widgets/controls",
          "model_name": "DescriptionStyleModel",
          "model_module_version": "1.5.0",
          "state": {
            "_model_module": "@jupyter-widgets/controls",
            "_model_module_version": "1.5.0",
            "_model_name": "DescriptionStyleModel",
            "_view_count": null,
            "_view_module": "@jupyter-widgets/base",
            "_view_module_version": "1.2.0",
            "_view_name": "StyleView",
            "description_width": ""
          }
        },
        "66f4235fcb8b4f42b97fdd18452e5fa9": {
          "model_module": "@jupyter-widgets/base",
          "model_name": "LayoutModel",
          "model_module_version": "1.2.0",
          "state": {
            "_model_module": "@jupyter-widgets/base",
            "_model_module_version": "1.2.0",
            "_model_name": "LayoutModel",
            "_view_count": null,
            "_view_module": "@jupyter-widgets/base",
            "_view_module_version": "1.2.0",
            "_view_name": "LayoutView",
            "align_content": null,
            "align_items": null,
            "align_self": null,
            "border": null,
            "bottom": null,
            "display": null,
            "flex": null,
            "flex_flow": null,
            "grid_area": null,
            "grid_auto_columns": null,
            "grid_auto_flow": null,
            "grid_auto_rows": null,
            "grid_column": null,
            "grid_gap": null,
            "grid_row": null,
            "grid_template_areas": null,
            "grid_template_columns": null,
            "grid_template_rows": null,
            "height": null,
            "justify_content": null,
            "justify_items": null,
            "left": null,
            "margin": null,
            "max_height": null,
            "max_width": null,
            "min_height": null,
            "min_width": null,
            "object_fit": null,
            "object_position": null,
            "order": null,
            "overflow": null,
            "overflow_x": null,
            "overflow_y": null,
            "padding": null,
            "right": null,
            "top": null,
            "visibility": null,
            "width": null
          }
        },
        "74d7d98967af47d6b48f21458d3877a2": {
          "model_module": "@jupyter-widgets/controls",
          "model_name": "ProgressStyleModel",
          "model_module_version": "1.5.0",
          "state": {
            "_model_module": "@jupyter-widgets/controls",
            "_model_module_version": "1.5.0",
            "_model_name": "ProgressStyleModel",
            "_view_count": null,
            "_view_module": "@jupyter-widgets/base",
            "_view_module_version": "1.2.0",
            "_view_name": "StyleView",
            "bar_color": null,
            "description_width": ""
          }
        },
        "8d655c485a5e4ad5b9598bcb16ad7ea7": {
          "model_module": "@jupyter-widgets/base",
          "model_name": "LayoutModel",
          "model_module_version": "1.2.0",
          "state": {
            "_model_module": "@jupyter-widgets/base",
            "_model_module_version": "1.2.0",
            "_model_name": "LayoutModel",
            "_view_count": null,
            "_view_module": "@jupyter-widgets/base",
            "_view_module_version": "1.2.0",
            "_view_name": "LayoutView",
            "align_content": null,
            "align_items": null,
            "align_self": null,
            "border": null,
            "bottom": null,
            "display": null,
            "flex": null,
            "flex_flow": null,
            "grid_area": null,
            "grid_auto_columns": null,
            "grid_auto_flow": null,
            "grid_auto_rows": null,
            "grid_column": null,
            "grid_gap": null,
            "grid_row": null,
            "grid_template_areas": null,
            "grid_template_columns": null,
            "grid_template_rows": null,
            "height": null,
            "justify_content": null,
            "justify_items": null,
            "left": null,
            "margin": null,
            "max_height": null,
            "max_width": null,
            "min_height": null,
            "min_width": null,
            "object_fit": null,
            "object_position": null,
            "order": null,
            "overflow": null,
            "overflow_x": null,
            "overflow_y": null,
            "padding": null,
            "right": null,
            "top": null,
            "visibility": null,
            "width": null
          }
        },
        "f26c047bc7eb4bba81e60248aaea69f5": {
          "model_module": "@jupyter-widgets/controls",
          "model_name": "DescriptionStyleModel",
          "model_module_version": "1.5.0",
          "state": {
            "_model_module": "@jupyter-widgets/controls",
            "_model_module_version": "1.5.0",
            "_model_name": "DescriptionStyleModel",
            "_view_count": null,
            "_view_module": "@jupyter-widgets/base",
            "_view_module_version": "1.2.0",
            "_view_name": "StyleView",
            "description_width": ""
          }
        },
        "f58aa8c61e7843bba6db289ada0db5ec": {
          "model_module": "@jupyter-widgets/controls",
          "model_name": "HBoxModel",
          "model_module_version": "1.5.0",
          "state": {
            "_dom_classes": [],
            "_model_module": "@jupyter-widgets/controls",
            "_model_module_version": "1.5.0",
            "_model_name": "HBoxModel",
            "_view_count": null,
            "_view_module": "@jupyter-widgets/controls",
            "_view_module_version": "1.5.0",
            "_view_name": "HBoxView",
            "box_style": "",
            "children": [
              "IPY_MODEL_a8b134b834344ce9a838ff2bc84ea81b",
              "IPY_MODEL_6d6ca9ebf27b44b2b8a1be48d53d1283",
              "IPY_MODEL_73a43c1495c3493184f7027255452361"
            ],
            "layout": "IPY_MODEL_c7e9f46cb154495c95a62c2daee20182"
          }
        },
        "a8b134b834344ce9a838ff2bc84ea81b": {
          "model_module": "@jupyter-widgets/controls",
          "model_name": "HTMLModel",
          "model_module_version": "1.5.0",
          "state": {
            "_dom_classes": [],
            "_model_module": "@jupyter-widgets/controls",
            "_model_module_version": "1.5.0",
            "_model_name": "HTMLModel",
            "_view_count": null,
            "_view_module": "@jupyter-widgets/controls",
            "_view_module_version": "1.5.0",
            "_view_name": "HTMLView",
            "description": "",
            "description_tooltip": null,
            "layout": "IPY_MODEL_0821d12bf9d1435d9ee3f371eb3a2260",
            "placeholder": "​",
            "style": "IPY_MODEL_2d234443491c4de891e4a638595700d1",
            "value": "model.safetensors: 100%"
          }
        },
        "6d6ca9ebf27b44b2b8a1be48d53d1283": {
          "model_module": "@jupyter-widgets/controls",
          "model_name": "FloatProgressModel",
          "model_module_version": "1.5.0",
          "state": {
            "_dom_classes": [],
            "_model_module": "@jupyter-widgets/controls",
            "_model_module_version": "1.5.0",
            "_model_name": "FloatProgressModel",
            "_view_count": null,
            "_view_module": "@jupyter-widgets/controls",
            "_view_module_version": "1.5.0",
            "_view_name": "ProgressView",
            "bar_style": "success",
            "description": "",
            "description_tooltip": null,
            "layout": "IPY_MODEL_c8d5664e47dc4663a5957256af6210ab",
            "max": 433274952,
            "min": 0,
            "orientation": "horizontal",
            "style": "IPY_MODEL_9beb1b16fd444e56a8604e7880bd7fc0",
            "value": 433274952
          }
        },
        "73a43c1495c3493184f7027255452361": {
          "model_module": "@jupyter-widgets/controls",
          "model_name": "HTMLModel",
          "model_module_version": "1.5.0",
          "state": {
            "_dom_classes": [],
            "_model_module": "@jupyter-widgets/controls",
            "_model_module_version": "1.5.0",
            "_model_name": "HTMLModel",
            "_view_count": null,
            "_view_module": "@jupyter-widgets/controls",
            "_view_module_version": "1.5.0",
            "_view_name": "HTMLView",
            "description": "",
            "description_tooltip": null,
            "layout": "IPY_MODEL_4ea476203acf4082911bb8e4534bc457",
            "placeholder": "​",
            "style": "IPY_MODEL_62fe552294c64180b78fa352942ab7c0",
            "value": " 433M/433M [00:11&lt;00:00, 48.0MB/s]"
          }
        },
        "c7e9f46cb154495c95a62c2daee20182": {
          "model_module": "@jupyter-widgets/base",
          "model_name": "LayoutModel",
          "model_module_version": "1.2.0",
          "state": {
            "_model_module": "@jupyter-widgets/base",
            "_model_module_version": "1.2.0",
            "_model_name": "LayoutModel",
            "_view_count": null,
            "_view_module": "@jupyter-widgets/base",
            "_view_module_version": "1.2.0",
            "_view_name": "LayoutView",
            "align_content": null,
            "align_items": null,
            "align_self": null,
            "border": null,
            "bottom": null,
            "display": null,
            "flex": null,
            "flex_flow": null,
            "grid_area": null,
            "grid_auto_columns": null,
            "grid_auto_flow": null,
            "grid_auto_rows": null,
            "grid_column": null,
            "grid_gap": null,
            "grid_row": null,
            "grid_template_areas": null,
            "grid_template_columns": null,
            "grid_template_rows": null,
            "height": null,
            "justify_content": null,
            "justify_items": null,
            "left": null,
            "margin": null,
            "max_height": null,
            "max_width": null,
            "min_height": null,
            "min_width": null,
            "object_fit": null,
            "object_position": null,
            "order": null,
            "overflow": null,
            "overflow_x": null,
            "overflow_y": null,
            "padding": null,
            "right": null,
            "top": null,
            "visibility": null,
            "width": null
          }
        },
        "0821d12bf9d1435d9ee3f371eb3a2260": {
          "model_module": "@jupyter-widgets/base",
          "model_name": "LayoutModel",
          "model_module_version": "1.2.0",
          "state": {
            "_model_module": "@jupyter-widgets/base",
            "_model_module_version": "1.2.0",
            "_model_name": "LayoutModel",
            "_view_count": null,
            "_view_module": "@jupyter-widgets/base",
            "_view_module_version": "1.2.0",
            "_view_name": "LayoutView",
            "align_content": null,
            "align_items": null,
            "align_self": null,
            "border": null,
            "bottom": null,
            "display": null,
            "flex": null,
            "flex_flow": null,
            "grid_area": null,
            "grid_auto_columns": null,
            "grid_auto_flow": null,
            "grid_auto_rows": null,
            "grid_column": null,
            "grid_gap": null,
            "grid_row": null,
            "grid_template_areas": null,
            "grid_template_columns": null,
            "grid_template_rows": null,
            "height": null,
            "justify_content": null,
            "justify_items": null,
            "left": null,
            "margin": null,
            "max_height": null,
            "max_width": null,
            "min_height": null,
            "min_width": null,
            "object_fit": null,
            "object_position": null,
            "order": null,
            "overflow": null,
            "overflow_x": null,
            "overflow_y": null,
            "padding": null,
            "right": null,
            "top": null,
            "visibility": null,
            "width": null
          }
        },
        "2d234443491c4de891e4a638595700d1": {
          "model_module": "@jupyter-widgets/controls",
          "model_name": "DescriptionStyleModel",
          "model_module_version": "1.5.0",
          "state": {
            "_model_module": "@jupyter-widgets/controls",
            "_model_module_version": "1.5.0",
            "_model_name": "DescriptionStyleModel",
            "_view_count": null,
            "_view_module": "@jupyter-widgets/base",
            "_view_module_version": "1.2.0",
            "_view_name": "StyleView",
            "description_width": ""
          }
        },
        "c8d5664e47dc4663a5957256af6210ab": {
          "model_module": "@jupyter-widgets/base",
          "model_name": "LayoutModel",
          "model_module_version": "1.2.0",
          "state": {
            "_model_module": "@jupyter-widgets/base",
            "_model_module_version": "1.2.0",
            "_model_name": "LayoutModel",
            "_view_count": null,
            "_view_module": "@jupyter-widgets/base",
            "_view_module_version": "1.2.0",
            "_view_name": "LayoutView",
            "align_content": null,
            "align_items": null,
            "align_self": null,
            "border": null,
            "bottom": null,
            "display": null,
            "flex": null,
            "flex_flow": null,
            "grid_area": null,
            "grid_auto_columns": null,
            "grid_auto_flow": null,
            "grid_auto_rows": null,
            "grid_column": null,
            "grid_gap": null,
            "grid_row": null,
            "grid_template_areas": null,
            "grid_template_columns": null,
            "grid_template_rows": null,
            "height": null,
            "justify_content": null,
            "justify_items": null,
            "left": null,
            "margin": null,
            "max_height": null,
            "max_width": null,
            "min_height": null,
            "min_width": null,
            "object_fit": null,
            "object_position": null,
            "order": null,
            "overflow": null,
            "overflow_x": null,
            "overflow_y": null,
            "padding": null,
            "right": null,
            "top": null,
            "visibility": null,
            "width": null
          }
        },
        "9beb1b16fd444e56a8604e7880bd7fc0": {
          "model_module": "@jupyter-widgets/controls",
          "model_name": "ProgressStyleModel",
          "model_module_version": "1.5.0",
          "state": {
            "_model_module": "@jupyter-widgets/controls",
            "_model_module_version": "1.5.0",
            "_model_name": "ProgressStyleModel",
            "_view_count": null,
            "_view_module": "@jupyter-widgets/base",
            "_view_module_version": "1.2.0",
            "_view_name": "StyleView",
            "bar_color": null,
            "description_width": ""
          }
        },
        "4ea476203acf4082911bb8e4534bc457": {
          "model_module": "@jupyter-widgets/base",
          "model_name": "LayoutModel",
          "model_module_version": "1.2.0",
          "state": {
            "_model_module": "@jupyter-widgets/base",
            "_model_module_version": "1.2.0",
            "_model_name": "LayoutModel",
            "_view_count": null,
            "_view_module": "@jupyter-widgets/base",
            "_view_module_version": "1.2.0",
            "_view_name": "LayoutView",
            "align_content": null,
            "align_items": null,
            "align_self": null,
            "border": null,
            "bottom": null,
            "display": null,
            "flex": null,
            "flex_flow": null,
            "grid_area": null,
            "grid_auto_columns": null,
            "grid_auto_flow": null,
            "grid_auto_rows": null,
            "grid_column": null,
            "grid_gap": null,
            "grid_row": null,
            "grid_template_areas": null,
            "grid_template_columns": null,
            "grid_template_rows": null,
            "height": null,
            "justify_content": null,
            "justify_items": null,
            "left": null,
            "margin": null,
            "max_height": null,
            "max_width": null,
            "min_height": null,
            "min_width": null,
            "object_fit": null,
            "object_position": null,
            "order": null,
            "overflow": null,
            "overflow_x": null,
            "overflow_y": null,
            "padding": null,
            "right": null,
            "top": null,
            "visibility": null,
            "width": null
          }
        },
        "62fe552294c64180b78fa352942ab7c0": {
          "model_module": "@jupyter-widgets/controls",
          "model_name": "DescriptionStyleModel",
          "model_module_version": "1.5.0",
          "state": {
            "_model_module": "@jupyter-widgets/controls",
            "_model_module_version": "1.5.0",
            "_model_name": "DescriptionStyleModel",
            "_view_count": null,
            "_view_module": "@jupyter-widgets/base",
            "_view_module_version": "1.2.0",
            "_view_name": "StyleView",
            "description_width": ""
          }
        }
      }
    }
  },
  "cells": [
    {
      "cell_type": "markdown",
      "source": [
        "# Download Data"
      ],
      "metadata": {
        "id": "mi_HjU-OLl8y"
      }
    },
    {
      "cell_type": "code",
      "execution_count": null,
      "metadata": {
        "id": "KQndhR_s20J2"
      },
      "outputs": [],
      "source": [
        "import requests\n",
        "import pandas as pd\n",
        "from io import BytesIO\n",
        "\n",
        "def download_csv(csv_url):\n",
        "    response = requests.get(csv_url)\n",
        "    response.raise_for_status()\n",
        "\n",
        "    # Qui puoi modificare 'sep' o aggiungere altri parametri se necessario\n",
        "    try:\n",
        "        df = pd.read_csv(BytesIO(response.content), sep=',')\n",
        "    except pd.errors.ParserError:\n",
        "        df = pd.read_csv(BytesIO(response.content), sep=';', error_bad_lines=False)\n",
        "\n",
        "    return df"
      ]
    },
    {
      "cell_type": "code",
      "source": [
        "recipes_df = download_csv(\"https://github.com/GiovTemp/SustainaMeal_Case_Study/raw/main/data/final_recipes_set.csv\")"
      ],
      "metadata": {
        "id": "bMOkwS533BlM"
      },
      "execution_count": null,
      "outputs": []
    },
    {
      "cell_type": "code",
      "source": [
        "recipes_df"
      ],
      "metadata": {
        "colab": {
          "base_uri": "https://localhost:8080/"
        },
        "id": "rJUUXaqPsoDt",
        "outputId": "481f045a-e835-49b7-fd60-94c0f7ab5179"
      },
      "execution_count": null,
      "outputs": [
        {
          "output_type": "execute_result",
          "data": {
            "text/plain": [
              "                                                    title  \\\n",
              "0                            Jack O Lantern  'o Fragrance   \n",
              "1                                         Boiled Radishes   \n",
              "2                                  Horseradish Applesauce   \n",
              "3                                       Survival Necklace   \n",
              "4                                   Apple Cider Reduction   \n",
              "...                                                   ...   \n",
              "100865                               Curried Lamb on Rice   \n",
              "100866                                    Rich Lamb Curry   \n",
              "100867  Middle Eastern Slow-Cooked Stew With Lamb, Chi...   \n",
              "100868               Five Meat Chili Con Carne With Beans   \n",
              "100869                 Basic Fried Rice - With Variations   \n",
              "\n",
              "        sustainability_score  sustainability_label  Unnamed: 0  recipe_id  \\\n",
              "0                   0.002409                     0      495656     466123   \n",
              "1                   0.002502                     0      294268     179840   \n",
              "2                   0.002590                     0      364381     174389   \n",
              "3                   0.002623                     0       43445      95937   \n",
              "4                   0.002623                     0       59722     521756   \n",
              "...                      ...                   ...         ...        ...   \n",
              "100865              0.951024                     2      103145     373244   \n",
              "100866              0.960504                     2      442694     268247   \n",
              "100867              0.968458                     2      359960     144850   \n",
              "100868              0.971454                     2       37637      13568   \n",
              "100869              1.000000                     2       94306     248707   \n",
              "\n",
              "                                              description  author_id  \\\n",
              "0       I suppose that this isn't really a recipe as m...     169430   \n",
              "1       These taste a lot like new potatoes.  The boil...     254469   \n",
              "2       I'm not sure this even qualifies as a recipe, ...     226918   \n",
              "3       Fun for kids to make and a great way to keep t...      25792   \n",
              "4       I saw a post about this on Facebook and gave i...     171084   \n",
              "...                                                   ...        ...   \n",
              "100865  With modification this recipe is from \"The Dia...     133174   \n",
              "100866  The recipe isn't as time consuming as it looks...     491437   \n",
              "100867  From Cooking Light. Per 3/4 c. serving: 310 ca...      37779   \n",
              "100868                                                yum      20571   \n",
              "100869  Another recipe that I acquired from a Chinese ...     305531   \n",
              "\n",
              "        duration                                         directions  \\\n",
              "0           30.0  ['When you cut the  lid out of the pumpkin do ...   \n",
              "1           22.0  ['Trim ends and bad spots off Radishes.', 'Boi...   \n",
              "2           22.0  ['Blend applesauce and horseradish. ', 'Refrig...   \n",
              "3           10.0  ['Other supplies: 18 inches string or yarn or ...   \n",
              "4          155.0  ['In 6-8 quart stock pan, measure out 2 cups o...   \n",
              "...          ...                                                ...   \n",
              "100865      65.0  ['Over medium heat, melt the butter in a large...   \n",
              "100866     110.0  ['Heat 1 tbsp olive oil in dutch oven.  ', 'Co...   \n",
              "100867     112.0  ['Let the oil get heating in a large pot over ...   \n",
              "100868     210.0  ['In a large pot brown meat in stages, about a...   \n",
              "100869      55.0  ['Dice or shred meat and vegetables.', 'Heat o...   \n",
              "\n",
              "                                              ingredients  ... protein [g]  \\\n",
              "0       ['pumpkin liking', 'candle pumpkin', 'pumpkin ...  ...         0.6   \n",
              "1           ['radishes size bag bunch', 'water radishes']  ...         0.8   \n",
              "2                           ['applesauce', 'horseradish']  ...         0.3   \n",
              "3       ['Fruit Loops cereal cup apple jacks kind hole...  ...         8.8   \n",
              "4       ['gallon apple cider fresh', 'gallon apple cid...  ...         0.0   \n",
              "...                                                   ...  ...         ...   \n",
              "100865  ['lamb', 'medium onion', 'cloves', 'butter', '...  ...        28.7   \n",
              "100866  ['oil', 'lamb', 'flour', 'salt pepper', 'onion...  ...        36.1   \n",
              "100867  ['oil', 'lamb', 'onions rings', 'water', 'clov...  ...        20.8   \n",
              "100868  ['beef', 'pork', 'lamb', 'sausage', 'sausage',...  ...        14.5   \n",
              "100869  ['rice', 'onions', 'oil', 'soy sauce', 'salt',...  ...        18.9   \n",
              "\n",
              "       direction_size ingredients_sizes who_score fsa_score  nutri_score  \\\n",
              "0                   7                 4  0.302381     0.250         0.25   \n",
              "1                   2                 2  0.293040     1.000         0.75   \n",
              "2                   2                 2  0.313757     0.875         0.50   \n",
              "3                   7                 2  0.319215     0.750         0.25   \n",
              "4                  10                 2  0.214286     0.750         0.75   \n",
              "...               ...               ...       ...       ...          ...   \n",
              "100865              5                13  0.223549     0.625         0.25   \n",
              "100866              9                21  0.153328     0.000         0.00   \n",
              "100867             12                19  0.205566     0.250         0.25   \n",
              "100868              7                15  0.197568     0.250         0.25   \n",
              "100869             14                38  0.233147     0.750         0.25   \n",
              "\n",
              "        normalization_comment  \\\n",
              "0                         NaN   \n",
              "1                         NaN   \n",
              "2                         NaN   \n",
              "3                         NaN   \n",
              "4                         NaN   \n",
              "...                       ...   \n",
              "100865                    NaN   \n",
              "100866                    NaN   \n",
              "100867                    NaN   \n",
              "100868                    NaN   \n",
              "100869                    NaN   \n",
              "\n",
              "                                  ingredient_food_kg_urls  \\\n",
              "0                                                     NaN   \n",
              "1       ['http://idea.rpi.edu/heals/kb/ingredientname/...   \n",
              "2       ['http://idea.rpi.edu/heals/kb/ingredientname/...   \n",
              "3       ['http://idea.rpi.edu/heals/kb/ingredientname/...   \n",
              "4       ['http://idea.rpi.edu/heals/kb/ingredientname/...   \n",
              "...                                                   ...   \n",
              "100865  ['http://idea.rpi.edu/heals/kb/ingredientname/...   \n",
              "100866                                                NaN   \n",
              "100867  ['http://idea.rpi.edu/heals/kb/ingredientname/...   \n",
              "100868  ['http://idea.rpi.edu/heals/kb/ingredientname/...   \n",
              "100869  ['http://idea.rpi.edu/heals/kb/ingredientname/...   \n",
              "\n",
              "                                 ingredient_food_kg_names  healthiness_label  \n",
              "0                                                     NaN                  0  \n",
              "1       ['applesauce', 'garlic clove', 'ginger', 'mola...                  0  \n",
              "2       ['all - purpose flour', 'butter', 'butternut s...                  0  \n",
              "3       ['Old Bay Seasoning', 'Worcestershire sauce', ...                  0  \n",
              "4       ['bean sprouts', 'chicken thighs', 'fresh ging...                  1  \n",
              "...                                                   ...                ...  \n",
              "100865  ['Dijon mustard', 'Polish sausage', 'apricot p...                  1  \n",
              "100866                                                NaN                  1  \n",
              "100867  ['anchovies', 'celery ribs', 'diced tomatoes',...                  1  \n",
              "100868  [\"French\\\\'s French fried onions\", 'crabmeat',...                  1  \n",
              "100869  ['baking powder', 'baking soda', 'brown sugar'...                  1  \n",
              "\n",
              "[100870 rows x 40 columns]"
            ],
            "text/html": [
              "\n",
              "  <div id=\"df-98e70ab3-fe0e-464e-afc0-496748fab8ba\" class=\"colab-df-container\">\n",
              "    <div>\n",
              "<style scoped>\n",
              "    .dataframe tbody tr th:only-of-type {\n",
              "        vertical-align: middle;\n",
              "    }\n",
              "\n",
              "    .dataframe tbody tr th {\n",
              "        vertical-align: top;\n",
              "    }\n",
              "\n",
              "    .dataframe thead th {\n",
              "        text-align: right;\n",
              "    }\n",
              "</style>\n",
              "<table border=\"1\" class=\"dataframe\">\n",
              "  <thead>\n",
              "    <tr style=\"text-align: right;\">\n",
              "      <th></th>\n",
              "      <th>title</th>\n",
              "      <th>sustainability_score</th>\n",
              "      <th>sustainability_label</th>\n",
              "      <th>Unnamed: 0</th>\n",
              "      <th>recipe_id</th>\n",
              "      <th>description</th>\n",
              "      <th>author_id</th>\n",
              "      <th>duration</th>\n",
              "      <th>directions</th>\n",
              "      <th>ingredients</th>\n",
              "      <th>...</th>\n",
              "      <th>protein [g]</th>\n",
              "      <th>direction_size</th>\n",
              "      <th>ingredients_sizes</th>\n",
              "      <th>who_score</th>\n",
              "      <th>fsa_score</th>\n",
              "      <th>nutri_score</th>\n",
              "      <th>normalization_comment</th>\n",
              "      <th>ingredient_food_kg_urls</th>\n",
              "      <th>ingredient_food_kg_names</th>\n",
              "      <th>healthiness_label</th>\n",
              "    </tr>\n",
              "  </thead>\n",
              "  <tbody>\n",
              "    <tr>\n",
              "      <th>0</th>\n",
              "      <td>Jack O Lantern  'o Fragrance</td>\n",
              "      <td>0.002409</td>\n",
              "      <td>0</td>\n",
              "      <td>495656</td>\n",
              "      <td>466123</td>\n",
              "      <td>I suppose that this isn't really a recipe as m...</td>\n",
              "      <td>169430</td>\n",
              "      <td>30.0</td>\n",
              "      <td>['When you cut the  lid out of the pumpkin do ...</td>\n",
              "      <td>['pumpkin liking', 'candle pumpkin', 'pumpkin ...</td>\n",
              "      <td>...</td>\n",
              "      <td>0.6</td>\n",
              "      <td>7</td>\n",
              "      <td>4</td>\n",
              "      <td>0.302381</td>\n",
              "      <td>0.250</td>\n",
              "      <td>0.25</td>\n",
              "      <td>NaN</td>\n",
              "      <td>NaN</td>\n",
              "      <td>NaN</td>\n",
              "      <td>0</td>\n",
              "    </tr>\n",
              "    <tr>\n",
              "      <th>1</th>\n",
              "      <td>Boiled Radishes</td>\n",
              "      <td>0.002502</td>\n",
              "      <td>0</td>\n",
              "      <td>294268</td>\n",
              "      <td>179840</td>\n",
              "      <td>These taste a lot like new potatoes.  The boil...</td>\n",
              "      <td>254469</td>\n",
              "      <td>22.0</td>\n",
              "      <td>['Trim ends and bad spots off Radishes.', 'Boi...</td>\n",
              "      <td>['radishes size bag bunch', 'water radishes']</td>\n",
              "      <td>...</td>\n",
              "      <td>0.8</td>\n",
              "      <td>2</td>\n",
              "      <td>2</td>\n",
              "      <td>0.293040</td>\n",
              "      <td>1.000</td>\n",
              "      <td>0.75</td>\n",
              "      <td>NaN</td>\n",
              "      <td>['http://idea.rpi.edu/heals/kb/ingredientname/...</td>\n",
              "      <td>['applesauce', 'garlic clove', 'ginger', 'mola...</td>\n",
              "      <td>0</td>\n",
              "    </tr>\n",
              "    <tr>\n",
              "      <th>2</th>\n",
              "      <td>Horseradish Applesauce</td>\n",
              "      <td>0.002590</td>\n",
              "      <td>0</td>\n",
              "      <td>364381</td>\n",
              "      <td>174389</td>\n",
              "      <td>I'm not sure this even qualifies as a recipe, ...</td>\n",
              "      <td>226918</td>\n",
              "      <td>22.0</td>\n",
              "      <td>['Blend applesauce and horseradish. ', 'Refrig...</td>\n",
              "      <td>['applesauce', 'horseradish']</td>\n",
              "      <td>...</td>\n",
              "      <td>0.3</td>\n",
              "      <td>2</td>\n",
              "      <td>2</td>\n",
              "      <td>0.313757</td>\n",
              "      <td>0.875</td>\n",
              "      <td>0.50</td>\n",
              "      <td>NaN</td>\n",
              "      <td>['http://idea.rpi.edu/heals/kb/ingredientname/...</td>\n",
              "      <td>['all - purpose flour', 'butter', 'butternut s...</td>\n",
              "      <td>0</td>\n",
              "    </tr>\n",
              "    <tr>\n",
              "      <th>3</th>\n",
              "      <td>Survival Necklace</td>\n",
              "      <td>0.002623</td>\n",
              "      <td>0</td>\n",
              "      <td>43445</td>\n",
              "      <td>95937</td>\n",
              "      <td>Fun for kids to make and a great way to keep t...</td>\n",
              "      <td>25792</td>\n",
              "      <td>10.0</td>\n",
              "      <td>['Other supplies: 18 inches string or yarn or ...</td>\n",
              "      <td>['Fruit Loops cereal cup apple jacks kind hole...</td>\n",
              "      <td>...</td>\n",
              "      <td>8.8</td>\n",
              "      <td>7</td>\n",
              "      <td>2</td>\n",
              "      <td>0.319215</td>\n",
              "      <td>0.750</td>\n",
              "      <td>0.25</td>\n",
              "      <td>NaN</td>\n",
              "      <td>['http://idea.rpi.edu/heals/kb/ingredientname/...</td>\n",
              "      <td>['Old Bay Seasoning', 'Worcestershire sauce', ...</td>\n",
              "      <td>0</td>\n",
              "    </tr>\n",
              "    <tr>\n",
              "      <th>4</th>\n",
              "      <td>Apple Cider Reduction</td>\n",
              "      <td>0.002623</td>\n",
              "      <td>0</td>\n",
              "      <td>59722</td>\n",
              "      <td>521756</td>\n",
              "      <td>I saw a post about this on Facebook and gave i...</td>\n",
              "      <td>171084</td>\n",
              "      <td>155.0</td>\n",
              "      <td>['In 6-8 quart stock pan, measure out 2 cups o...</td>\n",
              "      <td>['gallon apple cider fresh', 'gallon apple cid...</td>\n",
              "      <td>...</td>\n",
              "      <td>0.0</td>\n",
              "      <td>10</td>\n",
              "      <td>2</td>\n",
              "      <td>0.214286</td>\n",
              "      <td>0.750</td>\n",
              "      <td>0.75</td>\n",
              "      <td>NaN</td>\n",
              "      <td>['http://idea.rpi.edu/heals/kb/ingredientname/...</td>\n",
              "      <td>['bean sprouts', 'chicken thighs', 'fresh ging...</td>\n",
              "      <td>1</td>\n",
              "    </tr>\n",
              "    <tr>\n",
              "      <th>...</th>\n",
              "      <td>...</td>\n",
              "      <td>...</td>\n",
              "      <td>...</td>\n",
              "      <td>...</td>\n",
              "      <td>...</td>\n",
              "      <td>...</td>\n",
              "      <td>...</td>\n",
              "      <td>...</td>\n",
              "      <td>...</td>\n",
              "      <td>...</td>\n",
              "      <td>...</td>\n",
              "      <td>...</td>\n",
              "      <td>...</td>\n",
              "      <td>...</td>\n",
              "      <td>...</td>\n",
              "      <td>...</td>\n",
              "      <td>...</td>\n",
              "      <td>...</td>\n",
              "      <td>...</td>\n",
              "      <td>...</td>\n",
              "      <td>...</td>\n",
              "    </tr>\n",
              "    <tr>\n",
              "      <th>100865</th>\n",
              "      <td>Curried Lamb on Rice</td>\n",
              "      <td>0.951024</td>\n",
              "      <td>2</td>\n",
              "      <td>103145</td>\n",
              "      <td>373244</td>\n",
              "      <td>With modification this recipe is from \"The Dia...</td>\n",
              "      <td>133174</td>\n",
              "      <td>65.0</td>\n",
              "      <td>['Over medium heat, melt the butter in a large...</td>\n",
              "      <td>['lamb', 'medium onion', 'cloves', 'butter', '...</td>\n",
              "      <td>...</td>\n",
              "      <td>28.7</td>\n",
              "      <td>5</td>\n",
              "      <td>13</td>\n",
              "      <td>0.223549</td>\n",
              "      <td>0.625</td>\n",
              "      <td>0.25</td>\n",
              "      <td>NaN</td>\n",
              "      <td>['http://idea.rpi.edu/heals/kb/ingredientname/...</td>\n",
              "      <td>['Dijon mustard', 'Polish sausage', 'apricot p...</td>\n",
              "      <td>1</td>\n",
              "    </tr>\n",
              "    <tr>\n",
              "      <th>100866</th>\n",
              "      <td>Rich Lamb Curry</td>\n",
              "      <td>0.960504</td>\n",
              "      <td>2</td>\n",
              "      <td>442694</td>\n",
              "      <td>268247</td>\n",
              "      <td>The recipe isn't as time consuming as it looks...</td>\n",
              "      <td>491437</td>\n",
              "      <td>110.0</td>\n",
              "      <td>['Heat 1 tbsp olive oil in dutch oven.  ', 'Co...</td>\n",
              "      <td>['oil', 'lamb', 'flour', 'salt pepper', 'onion...</td>\n",
              "      <td>...</td>\n",
              "      <td>36.1</td>\n",
              "      <td>9</td>\n",
              "      <td>21</td>\n",
              "      <td>0.153328</td>\n",
              "      <td>0.000</td>\n",
              "      <td>0.00</td>\n",
              "      <td>NaN</td>\n",
              "      <td>NaN</td>\n",
              "      <td>NaN</td>\n",
              "      <td>1</td>\n",
              "    </tr>\n",
              "    <tr>\n",
              "      <th>100867</th>\n",
              "      <td>Middle Eastern Slow-Cooked Stew With Lamb, Chi...</td>\n",
              "      <td>0.968458</td>\n",
              "      <td>2</td>\n",
              "      <td>359960</td>\n",
              "      <td>144850</td>\n",
              "      <td>From Cooking Light. Per 3/4 c. serving: 310 ca...</td>\n",
              "      <td>37779</td>\n",
              "      <td>112.0</td>\n",
              "      <td>['Let the oil get heating in a large pot over ...</td>\n",
              "      <td>['oil', 'lamb', 'onions rings', 'water', 'clov...</td>\n",
              "      <td>...</td>\n",
              "      <td>20.8</td>\n",
              "      <td>12</td>\n",
              "      <td>19</td>\n",
              "      <td>0.205566</td>\n",
              "      <td>0.250</td>\n",
              "      <td>0.25</td>\n",
              "      <td>NaN</td>\n",
              "      <td>['http://idea.rpi.edu/heals/kb/ingredientname/...</td>\n",
              "      <td>['anchovies', 'celery ribs', 'diced tomatoes',...</td>\n",
              "      <td>1</td>\n",
              "    </tr>\n",
              "    <tr>\n",
              "      <th>100868</th>\n",
              "      <td>Five Meat Chili Con Carne With Beans</td>\n",
              "      <td>0.971454</td>\n",
              "      <td>2</td>\n",
              "      <td>37637</td>\n",
              "      <td>13568</td>\n",
              "      <td>yum</td>\n",
              "      <td>20571</td>\n",
              "      <td>210.0</td>\n",
              "      <td>['In a large pot brown meat in stages, about a...</td>\n",
              "      <td>['beef', 'pork', 'lamb', 'sausage', 'sausage',...</td>\n",
              "      <td>...</td>\n",
              "      <td>14.5</td>\n",
              "      <td>7</td>\n",
              "      <td>15</td>\n",
              "      <td>0.197568</td>\n",
              "      <td>0.250</td>\n",
              "      <td>0.25</td>\n",
              "      <td>NaN</td>\n",
              "      <td>['http://idea.rpi.edu/heals/kb/ingredientname/...</td>\n",
              "      <td>[\"French\\\\'s French fried onions\", 'crabmeat',...</td>\n",
              "      <td>1</td>\n",
              "    </tr>\n",
              "    <tr>\n",
              "      <th>100869</th>\n",
              "      <td>Basic Fried Rice - With Variations</td>\n",
              "      <td>1.000000</td>\n",
              "      <td>2</td>\n",
              "      <td>94306</td>\n",
              "      <td>248707</td>\n",
              "      <td>Another recipe that I acquired from a Chinese ...</td>\n",
              "      <td>305531</td>\n",
              "      <td>55.0</td>\n",
              "      <td>['Dice or shred meat and vegetables.', 'Heat o...</td>\n",
              "      <td>['rice', 'onions', 'oil', 'soy sauce', 'salt',...</td>\n",
              "      <td>...</td>\n",
              "      <td>18.9</td>\n",
              "      <td>14</td>\n",
              "      <td>38</td>\n",
              "      <td>0.233147</td>\n",
              "      <td>0.750</td>\n",
              "      <td>0.25</td>\n",
              "      <td>NaN</td>\n",
              "      <td>['http://idea.rpi.edu/heals/kb/ingredientname/...</td>\n",
              "      <td>['baking powder', 'baking soda', 'brown sugar'...</td>\n",
              "      <td>1</td>\n",
              "    </tr>\n",
              "  </tbody>\n",
              "</table>\n",
              "<p>100870 rows × 40 columns</p>\n",
              "</div>\n",
              "    <div class=\"colab-df-buttons\">\n",
              "\n",
              "  <div class=\"colab-df-container\">\n",
              "    <button class=\"colab-df-convert\" onclick=\"convertToInteractive('df-98e70ab3-fe0e-464e-afc0-496748fab8ba')\"\n",
              "            title=\"Convert this dataframe to an interactive table.\"\n",
              "            style=\"display:none;\">\n",
              "\n",
              "  <svg xmlns=\"http://www.w3.org/2000/svg\" height=\"24px\" viewBox=\"0 -960 960 960\">\n",
              "    <path d=\"M120-120v-720h720v720H120Zm60-500h600v-160H180v160Zm220 220h160v-160H400v160Zm0 220h160v-160H400v160ZM180-400h160v-160H180v160Zm440 0h160v-160H620v160ZM180-180h160v-160H180v160Zm440 0h160v-160H620v160Z\"/>\n",
              "  </svg>\n",
              "    </button>\n",
              "\n",
              "  <style>\n",
              "    .colab-df-container {\n",
              "      display:flex;\n",
              "      gap: 12px;\n",
              "    }\n",
              "\n",
              "    .colab-df-convert {\n",
              "      background-color: #E8F0FE;\n",
              "      border: none;\n",
              "      border-radius: 50%;\n",
              "      cursor: pointer;\n",
              "      display: none;\n",
              "      fill: #1967D2;\n",
              "      height: 32px;\n",
              "      padding: 0 0 0 0;\n",
              "      width: 32px;\n",
              "    }\n",
              "\n",
              "    .colab-df-convert:hover {\n",
              "      background-color: #E2EBFA;\n",
              "      box-shadow: 0px 1px 2px rgba(60, 64, 67, 0.3), 0px 1px 3px 1px rgba(60, 64, 67, 0.15);\n",
              "      fill: #174EA6;\n",
              "    }\n",
              "\n",
              "    .colab-df-buttons div {\n",
              "      margin-bottom: 4px;\n",
              "    }\n",
              "\n",
              "    [theme=dark] .colab-df-convert {\n",
              "      background-color: #3B4455;\n",
              "      fill: #D2E3FC;\n",
              "    }\n",
              "\n",
              "    [theme=dark] .colab-df-convert:hover {\n",
              "      background-color: #434B5C;\n",
              "      box-shadow: 0px 1px 3px 1px rgba(0, 0, 0, 0.15);\n",
              "      filter: drop-shadow(0px 1px 2px rgba(0, 0, 0, 0.3));\n",
              "      fill: #FFFFFF;\n",
              "    }\n",
              "  </style>\n",
              "\n",
              "    <script>\n",
              "      const buttonEl =\n",
              "        document.querySelector('#df-98e70ab3-fe0e-464e-afc0-496748fab8ba button.colab-df-convert');\n",
              "      buttonEl.style.display =\n",
              "        google.colab.kernel.accessAllowed ? 'block' : 'none';\n",
              "\n",
              "      async function convertToInteractive(key) {\n",
              "        const element = document.querySelector('#df-98e70ab3-fe0e-464e-afc0-496748fab8ba');\n",
              "        const dataTable =\n",
              "          await google.colab.kernel.invokeFunction('convertToInteractive',\n",
              "                                                    [key], {});\n",
              "        if (!dataTable) return;\n",
              "\n",
              "        const docLinkHtml = 'Like what you see? Visit the ' +\n",
              "          '<a target=\"_blank\" href=https://colab.research.google.com/notebooks/data_table.ipynb>data table notebook</a>'\n",
              "          + ' to learn more about interactive tables.';\n",
              "        element.innerHTML = '';\n",
              "        dataTable['output_type'] = 'display_data';\n",
              "        await google.colab.output.renderOutput(dataTable, element);\n",
              "        const docLink = document.createElement('div');\n",
              "        docLink.innerHTML = docLinkHtml;\n",
              "        element.appendChild(docLink);\n",
              "      }\n",
              "    </script>\n",
              "  </div>\n",
              "\n",
              "\n",
              "<div id=\"df-0576fb0d-001d-4a18-92de-15992a977099\">\n",
              "  <button class=\"colab-df-quickchart\" onclick=\"quickchart('df-0576fb0d-001d-4a18-92de-15992a977099')\"\n",
              "            title=\"Suggest charts\"\n",
              "            style=\"display:none;\">\n",
              "\n",
              "<svg xmlns=\"http://www.w3.org/2000/svg\" height=\"24px\"viewBox=\"0 0 24 24\"\n",
              "     width=\"24px\">\n",
              "    <g>\n",
              "        <path d=\"M19 3H5c-1.1 0-2 .9-2 2v14c0 1.1.9 2 2 2h14c1.1 0 2-.9 2-2V5c0-1.1-.9-2-2-2zM9 17H7v-7h2v7zm4 0h-2V7h2v10zm4 0h-2v-4h2v4z\"/>\n",
              "    </g>\n",
              "</svg>\n",
              "  </button>\n",
              "\n",
              "<style>\n",
              "  .colab-df-quickchart {\n",
              "      --bg-color: #E8F0FE;\n",
              "      --fill-color: #1967D2;\n",
              "      --hover-bg-color: #E2EBFA;\n",
              "      --hover-fill-color: #174EA6;\n",
              "      --disabled-fill-color: #AAA;\n",
              "      --disabled-bg-color: #DDD;\n",
              "  }\n",
              "\n",
              "  [theme=dark] .colab-df-quickchart {\n",
              "      --bg-color: #3B4455;\n",
              "      --fill-color: #D2E3FC;\n",
              "      --hover-bg-color: #434B5C;\n",
              "      --hover-fill-color: #FFFFFF;\n",
              "      --disabled-bg-color: #3B4455;\n",
              "      --disabled-fill-color: #666;\n",
              "  }\n",
              "\n",
              "  .colab-df-quickchart {\n",
              "    background-color: var(--bg-color);\n",
              "    border: none;\n",
              "    border-radius: 50%;\n",
              "    cursor: pointer;\n",
              "    display: none;\n",
              "    fill: var(--fill-color);\n",
              "    height: 32px;\n",
              "    padding: 0;\n",
              "    width: 32px;\n",
              "  }\n",
              "\n",
              "  .colab-df-quickchart:hover {\n",
              "    background-color: var(--hover-bg-color);\n",
              "    box-shadow: 0 1px 2px rgba(60, 64, 67, 0.3), 0 1px 3px 1px rgba(60, 64, 67, 0.15);\n",
              "    fill: var(--button-hover-fill-color);\n",
              "  }\n",
              "\n",
              "  .colab-df-quickchart-complete:disabled,\n",
              "  .colab-df-quickchart-complete:disabled:hover {\n",
              "    background-color: var(--disabled-bg-color);\n",
              "    fill: var(--disabled-fill-color);\n",
              "    box-shadow: none;\n",
              "  }\n",
              "\n",
              "  .colab-df-spinner {\n",
              "    border: 2px solid var(--fill-color);\n",
              "    border-color: transparent;\n",
              "    border-bottom-color: var(--fill-color);\n",
              "    animation:\n",
              "      spin 1s steps(1) infinite;\n",
              "  }\n",
              "\n",
              "  @keyframes spin {\n",
              "    0% {\n",
              "      border-color: transparent;\n",
              "      border-bottom-color: var(--fill-color);\n",
              "      border-left-color: var(--fill-color);\n",
              "    }\n",
              "    20% {\n",
              "      border-color: transparent;\n",
              "      border-left-color: var(--fill-color);\n",
              "      border-top-color: var(--fill-color);\n",
              "    }\n",
              "    30% {\n",
              "      border-color: transparent;\n",
              "      border-left-color: var(--fill-color);\n",
              "      border-top-color: var(--fill-color);\n",
              "      border-right-color: var(--fill-color);\n",
              "    }\n",
              "    40% {\n",
              "      border-color: transparent;\n",
              "      border-right-color: var(--fill-color);\n",
              "      border-top-color: var(--fill-color);\n",
              "    }\n",
              "    60% {\n",
              "      border-color: transparent;\n",
              "      border-right-color: var(--fill-color);\n",
              "    }\n",
              "    80% {\n",
              "      border-color: transparent;\n",
              "      border-right-color: var(--fill-color);\n",
              "      border-bottom-color: var(--fill-color);\n",
              "    }\n",
              "    90% {\n",
              "      border-color: transparent;\n",
              "      border-bottom-color: var(--fill-color);\n",
              "    }\n",
              "  }\n",
              "</style>\n",
              "\n",
              "  <script>\n",
              "    async function quickchart(key) {\n",
              "      const quickchartButtonEl =\n",
              "        document.querySelector('#' + key + ' button');\n",
              "      quickchartButtonEl.disabled = true;  // To prevent multiple clicks.\n",
              "      quickchartButtonEl.classList.add('colab-df-spinner');\n",
              "      try {\n",
              "        const charts = await google.colab.kernel.invokeFunction(\n",
              "            'suggestCharts', [key], {});\n",
              "      } catch (error) {\n",
              "        console.error('Error during call to suggestCharts:', error);\n",
              "      }\n",
              "      quickchartButtonEl.classList.remove('colab-df-spinner');\n",
              "      quickchartButtonEl.classList.add('colab-df-quickchart-complete');\n",
              "    }\n",
              "    (() => {\n",
              "      let quickchartButtonEl =\n",
              "        document.querySelector('#df-0576fb0d-001d-4a18-92de-15992a977099 button');\n",
              "      quickchartButtonEl.style.display =\n",
              "        google.colab.kernel.accessAllowed ? 'block' : 'none';\n",
              "    })();\n",
              "  </script>\n",
              "</div>\n",
              "    </div>\n",
              "  </div>\n"
            ]
          },
          "metadata": {},
          "execution_count": 3
        }
      ]
    },
    {
      "cell_type": "markdown",
      "source": [
        "# Utils"
      ],
      "metadata": {
        "id": "bOajPglELoub"
      }
    },
    {
      "cell_type": "code",
      "source": [
        "!pip install git+https://github.com/GiovTemp/SustainaMeal.git"
      ],
      "metadata": {
        "colab": {
          "base_uri": "https://localhost:8080/"
        },
        "id": "oSSsTOJI3EQf",
        "outputId": "63eeed73-f6e7-48cf-a50d-960e873ab66c"
      },
      "execution_count": null,
      "outputs": [
        {
          "output_type": "stream",
          "name": "stdout",
          "text": [
            "Collecting git+https://github.com/GiovTemp/SustainaMeal.git\n",
            "  Cloning https://github.com/GiovTemp/SustainaMeal.git to /tmp/pip-req-build-jo4ir10j\n",
            "  Running command git clone --filter=blob:none --quiet https://github.com/GiovTemp/SustainaMeal.git /tmp/pip-req-build-jo4ir10j\n",
            "  Resolved https://github.com/GiovTemp/SustainaMeal.git to commit 13c4f421923712c8e19feac0ba3bbcab17f41a38\n",
            "  Preparing metadata (setup.py) ... \u001b[?25l\u001b[?25hdone\n",
            "Requirement already satisfied: numpy in /usr/local/lib/python3.10/dist-packages (from SustainaMeal==0.1.0) (1.23.5)\n",
            "Requirement already satisfied: pandas in /usr/local/lib/python3.10/dist-packages (from SustainaMeal==0.1.0) (1.5.3)\n",
            "Requirement already satisfied: scikit-learn in /usr/local/lib/python3.10/dist-packages (from SustainaMeal==0.1.0) (1.2.2)\n",
            "Collecting collection (from SustainaMeal==0.1.0)\n",
            "  Downloading collection-0.1.6.tar.gz (5.0 kB)\n",
            "  Preparing metadata (setup.py) ... \u001b[?25l\u001b[?25hdone\n",
            "Requirement already satisfied: transformers in /usr/local/lib/python3.10/dist-packages (from SustainaMeal==0.1.0) (4.35.2)\n",
            "Requirement already satisfied: torch in /usr/local/lib/python3.10/dist-packages (from SustainaMeal==0.1.0) (2.1.0+cu121)\n",
            "Requirement already satisfied: scipy in /usr/local/lib/python3.10/dist-packages (from SustainaMeal==0.1.0) (1.11.4)\n",
            "Requirement already satisfied: tqdm in /usr/local/lib/python3.10/dist-packages (from SustainaMeal==0.1.0) (4.66.1)\n",
            "Requirement already satisfied: nltk in /usr/local/lib/python3.10/dist-packages (from SustainaMeal==0.1.0) (3.8.1)\n",
            "Collecting openai==0.28 (from SustainaMeal==0.1.0)\n",
            "  Downloading openai-0.28.0-py3-none-any.whl (76 kB)\n",
            "\u001b[2K     \u001b[90m━━━━━━━━━━━━━━━━━━━━━━━━━━━━━━━━━━━━━━━━\u001b[0m \u001b[32m76.5/76.5 kB\u001b[0m \u001b[31m3.2 MB/s\u001b[0m eta \u001b[36m0:00:00\u001b[0m\n",
            "\u001b[?25hCollecting langchain (from SustainaMeal==0.1.0)\n",
            "  Downloading langchain-0.1.5-py3-none-any.whl (806 kB)\n",
            "\u001b[2K     \u001b[90m━━━━━━━━━━━━━━━━━━━━━━━━━━━━━━━━━━━━━━━━\u001b[0m \u001b[32m806.7/806.7 kB\u001b[0m \u001b[31m12.9 MB/s\u001b[0m eta \u001b[36m0:00:00\u001b[0m\n",
            "\u001b[?25hRequirement already satisfied: pydantic in /usr/local/lib/python3.10/dist-packages (from SustainaMeal==0.1.0) (1.10.14)\n",
            "Requirement already satisfied: requests>=2.20 in /usr/local/lib/python3.10/dist-packages (from openai==0.28->SustainaMeal==0.1.0) (2.31.0)\n",
            "Requirement already satisfied: aiohttp in /usr/local/lib/python3.10/dist-packages (from openai==0.28->SustainaMeal==0.1.0) (3.9.3)\n",
            "Requirement already satisfied: PyYAML>=5.3 in /usr/local/lib/python3.10/dist-packages (from langchain->SustainaMeal==0.1.0) (6.0.1)\n",
            "Requirement already satisfied: SQLAlchemy<3,>=1.4 in /usr/local/lib/python3.10/dist-packages (from langchain->SustainaMeal==0.1.0) (2.0.24)\n",
            "Requirement already satisfied: async-timeout<5.0.0,>=4.0.0 in /usr/local/lib/python3.10/dist-packages (from langchain->SustainaMeal==0.1.0) (4.0.3)\n",
            "Collecting dataclasses-json<0.7,>=0.5.7 (from langchain->SustainaMeal==0.1.0)\n",
            "  Downloading dataclasses_json-0.6.4-py3-none-any.whl (28 kB)\n",
            "Collecting jsonpatch<2.0,>=1.33 (from langchain->SustainaMeal==0.1.0)\n",
            "  Downloading jsonpatch-1.33-py2.py3-none-any.whl (12 kB)\n",
            "Collecting langchain-community<0.1,>=0.0.17 (from langchain->SustainaMeal==0.1.0)\n",
            "  Downloading langchain_community-0.0.17-py3-none-any.whl (1.6 MB)\n",
            "\u001b[2K     \u001b[90m━━━━━━━━━━━━━━━━━━━━━━━━━━━━━━━━━━━━━━━━\u001b[0m \u001b[32m1.6/1.6 MB\u001b[0m \u001b[31m19.6 MB/s\u001b[0m eta \u001b[36m0:00:00\u001b[0m\n",
            "\u001b[?25hCollecting langchain-core<0.2,>=0.1.16 (from langchain->SustainaMeal==0.1.0)\n",
            "  Downloading langchain_core-0.1.18-py3-none-any.whl (237 kB)\n",
            "\u001b[2K     \u001b[90m━━━━━━━━━━━━━━━━━━━━━━━━━━━━━━━━━━━━━━━━\u001b[0m \u001b[32m237.0/237.0 kB\u001b[0m \u001b[31m16.9 MB/s\u001b[0m eta \u001b[36m0:00:00\u001b[0m\n",
            "\u001b[?25hCollecting langsmith<0.1,>=0.0.83 (from langchain->SustainaMeal==0.1.0)\n",
            "  Downloading langsmith-0.0.86-py3-none-any.whl (54 kB)\n",
            "\u001b[2K     \u001b[90m━━━━━━━━━━━━━━━━━━━━━━━━━━━━━━━━━━━━━━━━\u001b[0m \u001b[32m54.4/54.4 kB\u001b[0m \u001b[31m8.1 MB/s\u001b[0m eta \u001b[36m0:00:00\u001b[0m\n",
            "\u001b[?25hRequirement already satisfied: tenacity<9.0.0,>=8.1.0 in /usr/local/lib/python3.10/dist-packages (from langchain->SustainaMeal==0.1.0) (8.2.3)\n",
            "Requirement already satisfied: typing-extensions>=4.2.0 in /usr/local/lib/python3.10/dist-packages (from pydantic->SustainaMeal==0.1.0) (4.5.0)\n",
            "Requirement already satisfied: click in /usr/local/lib/python3.10/dist-packages (from nltk->SustainaMeal==0.1.0) (8.1.7)\n",
            "Requirement already satisfied: joblib in /usr/local/lib/python3.10/dist-packages (from nltk->SustainaMeal==0.1.0) (1.3.2)\n",
            "Requirement already satisfied: regex>=2021.8.3 in /usr/local/lib/python3.10/dist-packages (from nltk->SustainaMeal==0.1.0) (2023.12.25)\n",
            "Requirement already satisfied: python-dateutil>=2.8.1 in /usr/local/lib/python3.10/dist-packages (from pandas->SustainaMeal==0.1.0) (2.8.2)\n",
            "Requirement already satisfied: pytz>=2020.1 in /usr/local/lib/python3.10/dist-packages (from pandas->SustainaMeal==0.1.0) (2023.4)\n",
            "Requirement already satisfied: threadpoolctl>=2.0.0 in /usr/local/lib/python3.10/dist-packages (from scikit-learn->SustainaMeal==0.1.0) (3.2.0)\n",
            "Requirement already satisfied: filelock in /usr/local/lib/python3.10/dist-packages (from torch->SustainaMeal==0.1.0) (3.13.1)\n",
            "Requirement already satisfied: sympy in /usr/local/lib/python3.10/dist-packages (from torch->SustainaMeal==0.1.0) (1.12)\n",
            "Requirement already satisfied: networkx in /usr/local/lib/python3.10/dist-packages (from torch->SustainaMeal==0.1.0) (3.2.1)\n",
            "Requirement already satisfied: jinja2 in /usr/local/lib/python3.10/dist-packages (from torch->SustainaMeal==0.1.0) (3.1.3)\n",
            "Requirement already satisfied: fsspec in /usr/local/lib/python3.10/dist-packages (from torch->SustainaMeal==0.1.0) (2023.6.0)\n",
            "Requirement already satisfied: triton==2.1.0 in /usr/local/lib/python3.10/dist-packages (from torch->SustainaMeal==0.1.0) (2.1.0)\n",
            "Requirement already satisfied: huggingface-hub<1.0,>=0.16.4 in /usr/local/lib/python3.10/dist-packages (from transformers->SustainaMeal==0.1.0) (0.20.3)\n",
            "Requirement already satisfied: packaging>=20.0 in /usr/local/lib/python3.10/dist-packages (from transformers->SustainaMeal==0.1.0) (23.2)\n",
            "Requirement already satisfied: tokenizers<0.19,>=0.14 in /usr/local/lib/python3.10/dist-packages (from transformers->SustainaMeal==0.1.0) (0.15.1)\n",
            "Requirement already satisfied: safetensors>=0.3.1 in /usr/local/lib/python3.10/dist-packages (from transformers->SustainaMeal==0.1.0) (0.4.2)\n",
            "Requirement already satisfied: aiosignal>=1.1.2 in /usr/local/lib/python3.10/dist-packages (from aiohttp->openai==0.28->SustainaMeal==0.1.0) (1.3.1)\n",
            "Requirement already satisfied: attrs>=17.3.0 in /usr/local/lib/python3.10/dist-packages (from aiohttp->openai==0.28->SustainaMeal==0.1.0) (23.2.0)\n",
            "Requirement already satisfied: frozenlist>=1.1.1 in /usr/local/lib/python3.10/dist-packages (from aiohttp->openai==0.28->SustainaMeal==0.1.0) (1.4.1)\n",
            "Requirement already satisfied: multidict<7.0,>=4.5 in /usr/local/lib/python3.10/dist-packages (from aiohttp->openai==0.28->SustainaMeal==0.1.0) (6.0.4)\n",
            "Requirement already satisfied: yarl<2.0,>=1.0 in /usr/local/lib/python3.10/dist-packages (from aiohttp->openai==0.28->SustainaMeal==0.1.0) (1.9.4)\n",
            "Collecting marshmallow<4.0.0,>=3.18.0 (from dataclasses-json<0.7,>=0.5.7->langchain->SustainaMeal==0.1.0)\n",
            "  Downloading marshmallow-3.20.2-py3-none-any.whl (49 kB)\n",
            "\u001b[2K     \u001b[90m━━━━━━━━━━━━━━━━━━━━━━━━━━━━━━━━━━━━━━━━\u001b[0m \u001b[32m49.4/49.4 kB\u001b[0m \u001b[31m7.8 MB/s\u001b[0m eta \u001b[36m0:00:00\u001b[0m\n",
            "\u001b[?25hCollecting typing-inspect<1,>=0.4.0 (from dataclasses-json<0.7,>=0.5.7->langchain->SustainaMeal==0.1.0)\n",
            "  Downloading typing_inspect-0.9.0-py3-none-any.whl (8.8 kB)\n",
            "Collecting jsonpointer>=1.9 (from jsonpatch<2.0,>=1.33->langchain->SustainaMeal==0.1.0)\n",
            "  Downloading jsonpointer-2.4-py2.py3-none-any.whl (7.8 kB)\n",
            "Requirement already satisfied: anyio<5,>=3 in /usr/local/lib/python3.10/dist-packages (from langchain-core<0.2,>=0.1.16->langchain->SustainaMeal==0.1.0) (3.7.1)\n",
            "Requirement already satisfied: six>=1.5 in /usr/local/lib/python3.10/dist-packages (from python-dateutil>=2.8.1->pandas->SustainaMeal==0.1.0) (1.16.0)\n",
            "Requirement already satisfied: charset-normalizer<4,>=2 in /usr/local/lib/python3.10/dist-packages (from requests>=2.20->openai==0.28->SustainaMeal==0.1.0) (3.3.2)\n",
            "Requirement already satisfied: idna<4,>=2.5 in /usr/local/lib/python3.10/dist-packages (from requests>=2.20->openai==0.28->SustainaMeal==0.1.0) (3.6)\n",
            "Requirement already satisfied: urllib3<3,>=1.21.1 in /usr/local/lib/python3.10/dist-packages (from requests>=2.20->openai==0.28->SustainaMeal==0.1.0) (2.0.7)\n",
            "Requirement already satisfied: certifi>=2017.4.17 in /usr/local/lib/python3.10/dist-packages (from requests>=2.20->openai==0.28->SustainaMeal==0.1.0) (2023.11.17)\n",
            "Requirement already satisfied: greenlet!=0.4.17 in /usr/local/lib/python3.10/dist-packages (from SQLAlchemy<3,>=1.4->langchain->SustainaMeal==0.1.0) (3.0.3)\n",
            "Requirement already satisfied: MarkupSafe>=2.0 in /usr/local/lib/python3.10/dist-packages (from jinja2->torch->SustainaMeal==0.1.0) (2.1.4)\n",
            "Requirement already satisfied: mpmath>=0.19 in /usr/local/lib/python3.10/dist-packages (from sympy->torch->SustainaMeal==0.1.0) (1.3.0)\n",
            "Requirement already satisfied: sniffio>=1.1 in /usr/local/lib/python3.10/dist-packages (from anyio<5,>=3->langchain-core<0.2,>=0.1.16->langchain->SustainaMeal==0.1.0) (1.3.0)\n",
            "Requirement already satisfied: exceptiongroup in /usr/local/lib/python3.10/dist-packages (from anyio<5,>=3->langchain-core<0.2,>=0.1.16->langchain->SustainaMeal==0.1.0) (1.2.0)\n",
            "Collecting mypy-extensions>=0.3.0 (from typing-inspect<1,>=0.4.0->dataclasses-json<0.7,>=0.5.7->langchain->SustainaMeal==0.1.0)\n",
            "  Downloading mypy_extensions-1.0.0-py3-none-any.whl (4.7 kB)\n",
            "Building wheels for collected packages: SustainaMeal, collection\n",
            "  Building wheel for SustainaMeal (setup.py) ... \u001b[?25l\u001b[?25hdone\n",
            "  Created wheel for SustainaMeal: filename=SustainaMeal-0.1.0-py3-none-any.whl size=19108 sha256=52daff83582c9353456eb9510bdcb9895d676f1b9a679ef1fc7f0a89a543d3ec\n",
            "  Stored in directory: /tmp/pip-ephem-wheel-cache-85jm7j5m/wheels/27/eb/bb/09df695e710464e35f72a5a0a9841858413db51a2dfb4154c7\n",
            "  Building wheel for collection (setup.py) ... \u001b[?25l\u001b[?25hdone\n",
            "  Created wheel for collection: filename=collection-0.1.6-py3-none-any.whl size=5099 sha256=dfcd707400965b5cdb77dec704b9eff2ec603ef2b69d7bc6072e0025e8b2e186\n",
            "  Stored in directory: /root/.cache/pip/wheels/a5/70/eb/1d28795e9384ab3b9be6359bdde9e1652f6e7dab9d26844f70\n",
            "Successfully built SustainaMeal collection\n",
            "Installing collected packages: collection, mypy-extensions, marshmallow, jsonpointer, typing-inspect, langsmith, jsonpatch, openai, langchain-core, dataclasses-json, langchain-community, langchain, SustainaMeal\n",
            "\u001b[31mERROR: pip's dependency resolver does not currently take into account all the packages that are installed. This behaviour is the source of the following dependency conflicts.\n",
            "llmx 0.0.15a0 requires cohere, which is not installed.\n",
            "llmx 0.0.15a0 requires tiktoken, which is not installed.\u001b[0m\u001b[31m\n",
            "\u001b[0mSuccessfully installed SustainaMeal-0.1.0 collection-0.1.6 dataclasses-json-0.6.4 jsonpatch-1.33 jsonpointer-2.4 langchain-0.1.5 langchain-community-0.0.17 langchain-core-0.1.18 langsmith-0.0.86 marshmallow-3.20.2 mypy-extensions-1.0.0 openai-0.28.0 typing-inspect-0.9.0\n"
          ]
        }
      ]
    },
    {
      "cell_type": "markdown",
      "source": [
        "# SustainaMeal (ETA: 15/20 mins)"
      ],
      "metadata": {
        "id": "am8i4pRxLruU"
      }
    },
    {
      "cell_type": "markdown",
      "source": [
        "Initializes the system by loading the data and preparing the embeddings."
      ],
      "metadata": {
        "id": "7_G1T9WXLxXc"
      }
    },
    {
      "cell_type": "code",
      "source": [
        "from sustainameal import SustainaMeal\n",
        "\n",
        "#nutrients=['calories [cal]', 'totalFat [g]', 'sodium [mg]', 'dietaryFiber [g]', 'sugars [g]', 'protein [g]']\n",
        "nutrients = ['calories [cal]', 'totalFat [g]', 'saturatedFat [g]', 'cholesterol [mg]', 'sodium [mg]', 'dietaryFiber [g]', 'sugars [g]', 'protein [g]']\n",
        "\n",
        "sm = SustainaMeal(\n",
        "    recipes_df=recipes_df,\n",
        "    nutrients=['calories [cal]', 'totalFat [g]', 'saturatedFat [g]', 'cholesterol [mg]', 'sodium [mg]', 'dietaryFiber [g]', 'sugars [g]', 'protein [g]'],\n",
        "    transformer_name='davanstrien/autotrain-recipes-2451975973'\n",
        ")"
      ],
      "metadata": {
        "colab": {
          "base_uri": "https://localhost:8080/",
          "referenced_widgets": [
            "17853c3aec8e4f4aaa7e85ffb6446262",
            "4636fb932f81491cb846f33b2857617a",
            "d8b6e6d49fe7491ea3ecdd3f17a373dd",
            "9dfaeb40694d4700bdef1367a9d01d82",
            "75cfc0734b284a9ab28cf8149b073291",
            "50592b815b40431a86f7d643a5d7a575",
            "39481b678b684d709d9179718933e566",
            "d810027a656c45e7a6fa5e753cc6a383",
            "5eeb649e36d54fe0936f11bc28ec5f0c",
            "27f28d8291784689be9e0f2f2b0ed42e",
            "faf91bec35f349729ed3d677f970c8f8",
            "fd9d59b84c49488fb8e709afac2e81f3",
            "54ac43a4a7674d8da157035d2d71d992",
            "8ac2e00f722040d29be8f1049c32ea9f",
            "b8099970d39e4ec8a5601900ee116cf5",
            "da282f8182a04934a248e2e6f2d908ad",
            "ea19b4ecfcb5445c94be6fa45a67c056",
            "094c7e7cd5654749ba107101069012a2",
            "4369f7aa459b49b98826328943ccb9cf",
            "20aba3796c9949d395a377b06213c7ed",
            "6d15a55cca2a47fc8b813339e8296815",
            "cb9aec5f1bbb406788453715e0a70452",
            "21ec34ca706a499488e0694b09c0db15",
            "3a82a0a42e4847d587ef7127106fb78f",
            "ba1d88ef8c22486c9f30d6f344057811",
            "57226be78ceb416cb1673f7e47d0fcf9",
            "42546449e96749578cec7338028d4d94",
            "0070ee8d7daa4bd5ae57cac65a832ebf",
            "6852d43d5e4247e9ab404bb44614e116",
            "52c09996f06245af9c7087368b99a760",
            "35f6a44d98d74d9a9508d2d256244889",
            "1e7755e134d14a1a88398e5462200694",
            "f5129e1e46ce45169d0dfa29c9690892",
            "34d59f8df8274da2aa0562d36a5fab58",
            "6ef62e9d7aac436ea3a9ce1b985ec8f8",
            "752132df0e1f425b94327adb3832a84e",
            "d5fda23a13f1426d9067278b5ad3ca25",
            "3020b3dab2c341cc999dc08bc11595d1",
            "dd9cdaef6d7244eb969ca63b2a2aa875",
            "6005ad17485a4341a8a8fffc42748d09",
            "64c550afe1ec40e3b9b246076bd4a189",
            "973c66498d59498a9fc12b99f41ff5c8",
            "07fe40d55518494486ec383a9367666a",
            "af545fbb508146d5a70e0f5338689c1c",
            "961799a0730b44fa886f8e23a9a0841d",
            "db130d1c452f422792194520111dc4ba",
            "c17bf9c3ef0844bfadc45fa70d8e6dc3",
            "99feb19adf1c487e886d1b6dc69a922e",
            "8d10bd9576144b07b6f789c3057c8875",
            "ed941df56403417c99342668d771979e",
            "384ed4544bfc415da7d31f0c80083591",
            "66f4235fcb8b4f42b97fdd18452e5fa9",
            "74d7d98967af47d6b48f21458d3877a2",
            "8d655c485a5e4ad5b9598bcb16ad7ea7",
            "f26c047bc7eb4bba81e60248aaea69f5",
            "f58aa8c61e7843bba6db289ada0db5ec",
            "a8b134b834344ce9a838ff2bc84ea81b",
            "6d6ca9ebf27b44b2b8a1be48d53d1283",
            "73a43c1495c3493184f7027255452361",
            "c7e9f46cb154495c95a62c2daee20182",
            "0821d12bf9d1435d9ee3f371eb3a2260",
            "2d234443491c4de891e4a638595700d1",
            "c8d5664e47dc4663a5957256af6210ab",
            "9beb1b16fd444e56a8604e7880bd7fc0",
            "4ea476203acf4082911bb8e4534bc457",
            "62fe552294c64180b78fa352942ab7c0"
          ]
        },
        "id": "-Xqz4MyI3G1b",
        "outputId": "d306c570-70ba-46b7-8fd0-3a5858ffa169"
      },
      "execution_count": null,
      "outputs": [
        {
          "metadata": {
            "tags": null
          },
          "name": "stderr",
          "output_type": "stream",
          "text": [
            "/usr/local/lib/python3.10/dist-packages/huggingface_hub/utils/_token.py:88: UserWarning: \n",
            "The secret `HF_TOKEN` does not exist in your Colab secrets.\n",
            "To authenticate with the Hugging Face Hub, create a token in your settings tab (https://huggingface.co/settings/tokens), set it as secret in your Google Colab and restart your session.\n",
            "You will be able to reuse this secret in all of your notebooks.\n",
            "Please note that authentication is recommended but still optional to access public models or datasets.\n",
            "  warnings.warn(\n"
          ]
        },
        {
          "data": {
            "application/vnd.jupyter.widget-view+json": {
              "model_id": "17853c3aec8e4f4aaa7e85ffb6446262",
              "version_major": 2,
              "version_minor": 0
            },
            "text/plain": [
              "tokenizer_config.json:   0%|          | 0.00/341 [00:00<?, ?B/s]"
            ]
          },
          "metadata": {},
          "output_type": "display_data"
        },
        {
          "data": {
            "application/vnd.jupyter.widget-view+json": {
              "model_id": "fd9d59b84c49488fb8e709afac2e81f3",
              "version_major": 2,
              "version_minor": 0
            },
            "text/plain": [
              "vocab.txt:   0%|          | 0.00/213k [00:00<?, ?B/s]"
            ]
          },
          "metadata": {},
          "output_type": "display_data"
        },
        {
          "data": {
            "application/vnd.jupyter.widget-view+json": {
              "model_id": "21ec34ca706a499488e0694b09c0db15",
              "version_major": 2,
              "version_minor": 0
            },
            "text/plain": [
              "tokenizer.json:   0%|          | 0.00/669k [00:00<?, ?B/s]"
            ]
          },
          "metadata": {},
          "output_type": "display_data"
        },
        {
          "data": {
            "application/vnd.jupyter.widget-view+json": {
              "model_id": "34d59f8df8274da2aa0562d36a5fab58",
              "version_major": 2,
              "version_minor": 0
            },
            "text/plain": [
              "special_tokens_map.json:   0%|          | 0.00/125 [00:00<?, ?B/s]"
            ]
          },
          "metadata": {},
          "output_type": "display_data"
        },
        {
          "data": {
            "application/vnd.jupyter.widget-view+json": {
              "model_id": "961799a0730b44fa886f8e23a9a0841d",
              "version_major": 2,
              "version_minor": 0
            },
            "text/plain": [
              "config.json:   0%|          | 0.00/879 [00:00<?, ?B/s]"
            ]
          },
          "metadata": {},
          "output_type": "display_data"
        },
        {
          "data": {
            "application/vnd.jupyter.widget-view+json": {
              "model_id": "f58aa8c61e7843bba6db289ada0db5ec",
              "version_major": 2,
              "version_minor": 0
            },
            "text/plain": [
              "model.safetensors:   0%|          | 0.00/433M [00:00<?, ?B/s]"
            ]
          },
          "metadata": {},
          "output_type": "display_data"
        },
        {
          "output_type": "stream",
          "name": "stderr",
          "text": [
            "Processing Titles embeddings: 100%|██████████| 100870/100870 [16:32<00:00, 101.59batch/s]\n"
          ]
        }
      ]
    },
    {
      "cell_type": "markdown",
      "source": [
        "# Upload Recipes of experiments"
      ],
      "metadata": {
        "id": "bRWRdl3U2YYf"
      }
    },
    {
      "cell_type": "code",
      "source": [
        "import pandas as pd\n",
        "\n",
        "# Paths to the JSON files\n",
        "\n",
        "sustainability_label_2_recipes_file = './experiments/data/sustainability_label_2_recipes.json'\n",
        "\n",
        "# Read the JSON files into pandas DataFrames\n",
        "\n",
        "sustainability_label_2_recipes = pd.read_json(sustainability_label_2_recipes_file)\n"
      ],
      "metadata": {
        "id": "1rmt_bCM2d_m"
      },
      "execution_count": null,
      "outputs": []
    },
    {
      "cell_type": "markdown",
      "source": [
        "# Compare LLM Rerank"
      ],
      "metadata": {
        "id": "n4FkbBoq5d-L"
      }
    },
    {
      "cell_type": "code",
      "source": [
        "sm.setup_openai_key(\"opken-ai-key\")"
      ],
      "metadata": {
        "id": "tSptldYAD7sF"
      },
      "execution_count": null,
      "outputs": []
    },
    {
      "cell_type": "code",
      "source": [
        "acceptable_tags = ['appetizers', 'main-dish', 'side-dishes', 'drinks', 'beverages', 'fruits', 'desserts',\n",
        "                   'breakfast', 'pasta-rice-and-grains', 'rice', 'pasta', 'pizza', 'breads', 'meat', 'fish',\n",
        "                   'seafood', 'beef', 'chicken', 'vegetarian']"
      ],
      "metadata": {
        "id": "H2RBdIuBFOfx"
      },
      "execution_count": null,
      "outputs": []
    },
    {
      "cell_type": "code",
      "source": [
        "nutrients_string = \", \".join(nutrients)\n",
        "print(nutrients_string)\n"
      ],
      "metadata": {
        "colab": {
          "base_uri": "https://localhost:8080/"
        },
        "id": "ATcXTuf-RKhP",
        "outputId": "41cd9aed-d40e-4475-abf9-ebd639fc0677"
      },
      "execution_count": null,
      "outputs": [
        {
          "output_type": "stream",
          "name": "stdout",
          "text": [
            "calories [cal], totalFat [g], saturatedFat [g], cholesterol [mg], sodium [mg], dietaryFiber [g], sugars [g], protein [g]\n"
          ]
        }
      ]
    },
    {
      "cell_type": "code",
      "source": [
        "selected_recipes = pd.concat([sustainability_label_2_recipes])"
      ],
      "metadata": {
        "id": "h2lhX46cRReM"
      },
      "execution_count": null,
      "outputs": []
    },
    {
      "cell_type": "code",
      "source": [
        "len(selected_recipes)"
      ],
      "metadata": {
        "colab": {
          "base_uri": "https://localhost:8080/"
        },
        "id": "bDvnW_LkSvHT",
        "outputId": "c8e880cd-92af-40f1-abdc-eb8f2524a706"
      },
      "execution_count": null,
      "outputs": [
        {
          "output_type": "execute_result",
          "data": {
            "text/plain": [
              "100"
            ]
          },
          "metadata": {},
          "execution_count": 11
        }
      ]
    },
    {
      "cell_type": "code",
      "source": [
        "# Definisci le soglie\n",
        "WHO_SCORE_THRESHOLDS = ( 0.15, 0.25)  # (soglia media, soglia alta)\n",
        "SUSTAINABILITY_SCORE_THRESHOLDS = (0.1, 0.5)  # (soglia media, soglia alta)\n",
        "\n",
        "# Funzioni di aiuto per calcolare le label\n",
        "def calculate_healthiness_label(who_score):\n",
        "    if who_score > WHO_SCORE_THRESHOLDS[1]:\n",
        "        return \"0\"\n",
        "    elif who_score < WHO_SCORE_THRESHOLDS[0]:\n",
        "        return \"2\"\n",
        "    else:\n",
        "        return \"1\"\n",
        "\n",
        "def calculate_sustainability_label(sustainability_score):\n",
        "    if sustainability_score <= SUSTAINABILITY_SCORE_THRESHOLDS[1]:\n",
        "        return \"0\"\n",
        "    elif sustainability_score >= SUSTAINABILITY_SCORE_THRESHOLDS[1]:\n",
        "        return \"2\"\n",
        "    else:\n",
        "        return \"1\"\n",
        "\n",
        "# Calcola le label in base ai valori di who_score e sustainability_score"
      ],
      "metadata": {
        "id": "eXN_uF08Avu-"
      },
      "execution_count": null,
      "outputs": []
    },
    {
      "cell_type": "code",
      "source": [
        "similar_recipes = sm.find_similar_recipes(\"Pasta\", 10, acceptable_tags=acceptable_tags, match_all_tags=False)"
      ],
      "metadata": {
        "id": "evFg1aT8qAoo"
      },
      "execution_count": null,
      "outputs": []
    },
    {
      "cell_type": "code",
      "source": [
        "ordered_recipes = sm.order_recipe_by_sustainameal()\n",
        "print(ordered_recipes)"
      ],
      "metadata": {
        "id": "TEbh0RGqqFRf"
      },
      "execution_count": null,
      "outputs": []
    },
    {
      "cell_type": "code",
      "source": [
        "ordered_recipes_gpt = sm.order_recipe_by_sustainameal()\n",
        "print(ordered_recipes_gpt)"
      ],
      "metadata": {
        "id": "dkfe_4f2qLHG"
      },
      "execution_count": null,
      "outputs": []
    },
    {
      "cell_type": "code",
      "source": [
        "best_choice_by_gpt = sm.choose_best_recipe_with_gpt()"
      ],
      "metadata": {
        "id": "lgBp3mEHqQQG"
      },
      "execution_count": null,
      "outputs": []
    },
    {
      "cell_type": "code",
      "source": [
        "import json\n",
        "import pandas as pd\n",
        "\n",
        "# Assumi che 'SustainaMeal', 'acceptable_tags', 'nutrients_string', e 'recipe_titles' siano definiti\n",
        "\n",
        "# Parametri per gli esperimenti\n",
        "k_values = [10]\n",
        "match_all_tags_values = [False]\n",
        "\n",
        "# Funzione ausiliaria per convertire oggetti in formati serializzabili in JSON\n",
        "def convert_to_serializable(obj):\n",
        "    if hasattr(obj, 'to_dict'):\n",
        "        return obj.to_dict('records')\n",
        "    elif hasattr(obj, 'tolist'):\n",
        "        return obj.tolist()\n",
        "    elif isinstance(obj, (list, dict, str, int, float, bool, type(None))):\n",
        "        return obj\n",
        "    else:\n",
        "        return str(obj)\n",
        "\n",
        "results = []  # Lista per raccogliere i risultati degli esperimenti\n",
        "\n",
        "for index, row in selected_recipes.iterrows():\n",
        "    input_recipe = row['title']\n",
        "    match_results = {}  # Dizionario per memorizzare i risultati di match per ogni k\n",
        "    for k in k_values:\n",
        "        match_results[k] = {'exact_match': False, 'match_count': 0}  # Inizializza il conteggio e il match esatto per ogni k\n",
        "        for match_all_tags in match_all_tags_values:\n",
        "            try:\n",
        "                similar_recipes = sm.find_similar_recipes(input_recipe, k, acceptable_tags=acceptable_tags, match_all_tags=match_all_tags)\n",
        "                ordered_recipes = sm.order_recipe_by_sustainameal()\n",
        "                ordered_recipes_gpt = sm.order_recipe_by_sustainameal()\n",
        "\n",
        "                best_choice_by_gpt = sm.choose_best_recipe_with_gpt()\n",
        "                gpt_choice_match = ordered_recipes.iloc[0]['title'] == best_choice_by_gpt\n",
        "                if gpt_choice_match:\n",
        "                    match_results[k]['match_count'] += 1\n",
        "                    if match_all_tags:  # Se consideri importante il match quando match_all_tags è True\n",
        "                        match_results[k]['exact_match'] = True\n",
        "                result = {\n",
        "                    'recipe_name': input_recipe,\n",
        "                    'recipe_id': row['recipe_id'],\n",
        "                    'sustnability_score': row['sustainability_score'],\n",
        "                    'sustnability_label': row['sustainability_label'],\n",
        "                    'who_score': row['who_score'],\n",
        "                    'healthiness_label': row['healthiness_label'],\n",
        "                    'k': k,\n",
        "                    'nutrients': nutrients_string,\n",
        "                    'match_all_tags': match_all_tags,\n",
        "                    'gpt_choice': best_choice_by_gpt,\n",
        "                    'similar_recipes': convert_to_serializable(similar_recipes) if similar_recipes is not None else None,\n",
        "                    'ordered_by_sustainameal': convert_to_serializable(ordered_recipes) if ordered_recipes is not None else None\n",
        "                }\n",
        "                results.append(result)\n",
        "            except Exception as e:\n",
        "                print(f\"An error occurred while finding similar recipes: {e}\")\n",
        "                best_choice_by_gpt = None\n",
        "\n",
        "\n",
        "\n",
        "    # Calcola la percentuale di similarità per ogni k e aggiungi ai risultati\n",
        "    # for k, match_info in match_results.items():\n",
        "    #     match_info['similarity_percentage'] = (match_info['match_count'] / len(match_all_tags_values)) * 100\n",
        "    #     results.append({\n",
        "    #         'recipe_name': input_recipe,\n",
        "    #         'k': k,\n",
        "    #         'exact_match': match_info['exact_match'],\n",
        "    #         'similarity_percentage': match_info['similarity_percentage']\n",
        "    #     })\n",
        "\n",
        "# Salva i risultati in un file JSON\n",
        "with open('experiment_results_with_gpt_and_similarity_k_10.json', 'w') as f:\n",
        "    json.dump(results, f, ensure_ascii=False, indent=4)\n"
      ],
      "metadata": {
        "id": "P944A1Zu9edW",
        "colab": {
          "base_uri": "https://localhost:8080/"
        },
        "outputId": "40f8bb12-217e-4568-98d1-364678fe51c9"
      },
      "execution_count": null,
      "outputs": [
        {
          "output_type": "stream",
          "name": "stderr",
          "text": [
            "Processing Titles embeddings: 100%|██████████| 1/1 [00:00<00:00, 88.43batch/s]\n"
          ]
        },
        {
          "output_type": "stream",
          "name": "stdout",
          "text": [
            "Tags to match: ['main-dish', 'beef', 'pasta', 'meat', 'pasta-rice-and-grains']\n",
            "Number of filtered recipes: 36922\n",
            "Based on a balance of sustainability and healthiness, the recommended recipe is:\n",
            "\n",
            "89011. Recipe: Chicken and Broccoli Pesto Pasta Toss\n"
          ]
        },
        {
          "output_type": "stream",
          "name": "stderr",
          "text": [
            "Processing Titles embeddings: 100%|██████████| 1/1 [00:00<00:00, 81.44batch/s]\n"
          ]
        },
        {
          "output_type": "stream",
          "name": "stdout",
          "text": [
            "Tags to match: ['main-dish', 'meat', 'pasta-rice-and-grains']\n",
            "Number of filtered recipes: 36921\n",
            "Based on a balance of sustainability and healthiness, the recommended recipe to choose is: Recipe: Lady's Italian Baked Tilapia.\n"
          ]
        },
        {
          "output_type": "stream",
          "name": "stderr",
          "text": [
            "Processing Titles embeddings: 100%|██████████| 1/1 [00:00<00:00, 28.86batch/s]\n"
          ]
        },
        {
          "output_type": "stream",
          "name": "stdout",
          "text": [
            "Tags to match: ['beef', 'meat']\n",
            "Number of filtered recipes: 18552\n",
            "Based on a balance of sustainability and healthiness, it is recommended to choose the following recipe:\n",
            "\n",
            "1. Recipe: Chicken Broccoli Casserole for Freezer\n"
          ]
        },
        {
          "output_type": "stream",
          "name": "stderr",
          "text": [
            "Processing Titles embeddings: 100%|██████████| 1/1 [00:00<00:00, 63.49batch/s]\n"
          ]
        },
        {
          "output_type": "stream",
          "name": "stdout",
          "text": [
            "Tags to match: ['main-dish', 'beef', 'meat']\n",
            "Number of filtered recipes: 31075\n",
            "Based on a balance of sustainability and healthiness, the recommended recipe is:\n",
            "\n",
            "94088. Recipe: Skillet Lasagna With Italian Sausage and Butternut Squash\n"
          ]
        },
        {
          "output_type": "stream",
          "name": "stderr",
          "text": [
            "Processing Titles embeddings: 100%|██████████| 1/1 [00:00<00:00, 38.66batch/s]\n"
          ]
        },
        {
          "output_type": "stream",
          "name": "stdout",
          "text": [
            "Tags to match: ['main-dish', 'beef', 'meat']\n",
            "Number of filtered recipes: 31075\n",
            "Based on a balance of sustainability and healthiness, the recommended order for the recipes would be as follows:\n",
            "\n",
            "1. Recipe: Souperior Meatloaf\n",
            "2. Recipe: Erin's Meatloaf \"Muffins\"\n",
            "3. Recipe: Diner Meatloaf and Meatballs Mixture\n",
            "4. Recipe: Glazed Meatloaf\n",
            "5. Recipe: Good & Easy Meat Loaf\n",
            "6. Recipe: Barbara's Basic Meatloaf\n",
            "7. Recipe: Deviled Beef Hamburger Patties\n",
            "8. Recipe: Biff a La Lindstrom (Scandinavian Hamburgers)\n",
            "9. Recipe: Many Way Meatballs\n",
            "\n",
            "The recommended recipe to choose would be \"Souperior Meatloaf\".\n"
          ]
        },
        {
          "output_type": "stream",
          "name": "stderr",
          "text": [
            "Processing Titles embeddings: 100%|██████████| 1/1 [00:00<00:00, 93.48batch/s]\n"
          ]
        },
        {
          "output_type": "stream",
          "name": "stdout",
          "text": [
            "Tags to match: ['main-dish', 'beef', 'meat']\n",
            "Number of filtered recipes: 31075\n",
            "Based on a balance of sustainability and healthiness, the recommended recipe is:\n",
            "96414. Recipe: Incomparable Beef Stew\n"
          ]
        },
        {
          "output_type": "stream",
          "name": "stderr",
          "text": [
            "Processing Titles embeddings: 100%|██████████| 1/1 [00:00<00:00, 101.33batch/s]\n"
          ]
        },
        {
          "output_type": "stream",
          "name": "stdout",
          "text": [
            "Tags to match: ['main-dish', 'beef', 'meat']\n",
            "Number of filtered recipes: 31075\n",
            "Based on a balance of sustainability and healthiness, the recommended recipe to choose is:\n",
            "\n",
            "Recipe: Basic Salmon Packet (Baked) (18878)\n"
          ]
        },
        {
          "output_type": "stream",
          "name": "stderr",
          "text": [
            "Processing Titles embeddings: 100%|██████████| 1/1 [00:00<00:00, 79.24batch/s]\n"
          ]
        },
        {
          "output_type": "stream",
          "name": "stdout",
          "text": [
            "Tags to match: ['main-dish', 'beef', 'meat']\n",
            "Number of filtered recipes: 31075\n",
            "Based on a balance of sustainability and healthiness, the recommended recipe is:\n",
            "\n",
            "41795. Recipe: Tuscan Chicken in Lemon-Wine Sauce (Scaloppine Al Limone)\n"
          ]
        },
        {
          "output_type": "stream",
          "name": "stderr",
          "text": [
            "Processing Titles embeddings: 100%|██████████| 1/1 [00:00<00:00, 79.82batch/s]\n"
          ]
        },
        {
          "output_type": "stream",
          "name": "stdout",
          "text": [
            "Tags to match: ['main-dish', 'beef', 'meat']\n",
            "Number of filtered recipes: 31075\n",
            "Based on a balance of sustainability and healthiness, the recommended recipe is:\n",
            "\n",
            "100840. Recipe: Filipino Roast Leg of Lamb With Sarsa\n"
          ]
        },
        {
          "output_type": "stream",
          "name": "stderr",
          "text": [
            "Processing Titles embeddings: 100%|██████████| 1/1 [00:00<00:00, 76.20batch/s]\n"
          ]
        },
        {
          "output_type": "stream",
          "name": "stdout",
          "text": [
            "Tags to match: ['main-dish', 'seafood']\n",
            "Number of filtered recipes: 28534\n",
            "Based on a balance of sustainability and healthiness, the recommended recipes from most to least would be:\n",
            "\n",
            "1. Recipe: Chilled Shrimp in Chinese Mustard Sauce\n",
            "2. Recipe: Awesome Shrimp over Pasta\n",
            "3. Recipe: Curried Chicken and Shrimp\n",
            "4. Recipe: Cioppino, Seafood Stew\n",
            "5. Recipe: Fried Rice, Cuban Chinese Style\n",
            "6. Recipe: Flounder With Bananas, Almonds and Rum\n",
            "7. Recipe: Delightful Chicken Souffle\n",
            "8. Recipe: Main Dish Mac Salad\n",
            "9. Recipe: Shrimp Dino\n",
            "10. Recipe: How to Boil a Lobster\n",
            "\n",
            "The recommended recipe for you to choose is \"Chilled Shrimp in Chinese Mustard Sauce.\"\n"
          ]
        },
        {
          "output_type": "stream",
          "name": "stderr",
          "text": [
            "Processing Titles embeddings: 100%|██████████| 1/1 [00:00<00:00, 79.05batch/s]\n"
          ]
        },
        {
          "output_type": "stream",
          "name": "stdout",
          "text": [
            "Tags to match: ['main-dish', 'beef', 'meat']\n",
            "Number of filtered recipes: 31075\n",
            "Based on a balance of sustainability and healthiness, the recommended recipe to choose is \"Alphabet Beef Vegetable Soup- Crock Pot\" (Recipe ID: 97107).\n"
          ]
        },
        {
          "output_type": "stream",
          "name": "stderr",
          "text": [
            "Processing Titles embeddings: 100%|██████████| 1/1 [00:00<00:00, 75.06batch/s]\n"
          ]
        },
        {
          "output_type": "stream",
          "name": "stdout",
          "text": [
            "Tags to match: ['main-dish', 'pasta-rice-and-grains']\n",
            "Number of filtered recipes: 32751\n",
            "Based on a balance of sustainability and healthiness, the recommended recipes from most to least are:\n",
            "\n",
            "1. Recipe: Penne With Sausage, Peas and Mascarpone\n",
            "2. Recipe: Salmon Penne With Basil Pesto Cream Sauce, Artichokes, and Asparagus\n",
            "3. Recipe: Parmigiano-Crusted Rigatoni W/Cauliflower & Bacon\n",
            "4. Recipe: Creamy Spinach Artichoke Pasta\n",
            "5. Recipe: Loaded Potato & Broccoli Bake\n",
            "6. Recipe: Penne With Sausage, Tomato, Red Pepper in Cream Sauce\n",
            "7. Recipe: Chicken and Linguine in Creamy Vodka Sauce\n",
            "8. Recipe: Pasta Neapolitan\n",
            "9. Recipe: Twice Baked Potatoes, Italian Style OAMC\n",
            "10. Recipe: Firebirds Chicken Pasta (Copycat)\n",
            "\n",
            "Based on the ranking, the recommended recipe for you to choose is \"Penne With Sausage, Peas and Mascarpone.\"\n"
          ]
        },
        {
          "output_type": "stream",
          "name": "stderr",
          "text": [
            "Processing Titles embeddings: 100%|██████████| 1/1 [00:00<00:00, 75.18batch/s]\n"
          ]
        },
        {
          "output_type": "stream",
          "name": "stdout",
          "text": [
            "Tags to match: ['main-dish', 'beef', 'meat']\n",
            "Number of filtered recipes: 31075\n",
            "Based on a balance of sustainability and healthiness, the recommended recipe is:\n",
            "\n",
            "1. Recipe: Poached Chicken in Olive Oil, Garlic, and Green Peppercorn Sauce\n",
            "\n",
            "Please note that the other recipes have not been ranked as they were not specifically evaluated for sustainability and healthiness.\n"
          ]
        },
        {
          "output_type": "stream",
          "name": "stderr",
          "text": [
            "Processing Titles embeddings: 100%|██████████| 1/1 [00:00<00:00, 74.30batch/s]\n"
          ]
        },
        {
          "output_type": "stream",
          "name": "stdout",
          "text": [
            "Tags to match: ['main-dish', 'seafood', 'fish']\n",
            "Number of filtered recipes: 28534\n",
            "Based on a balance of sustainability and healthiness, the recommended recipe to choose is \"Recipe: Lemon Chicken With Artichokes.\"\n"
          ]
        },
        {
          "output_type": "stream",
          "name": "stderr",
          "text": [
            "Processing Titles embeddings: 100%|██████████| 1/1 [00:00<00:00, 86.13batch/s]\n"
          ]
        },
        {
          "output_type": "stream",
          "name": "stdout",
          "text": [
            "Tags to match: ['main-dish']\n",
            "Number of filtered recipes: 26476\n",
            "Based on a balance of sustainability and healthiness, the recommended recipe is:\n",
            "\n",
            "33432. Broiled Fish with Dill Butter\n"
          ]
        },
        {
          "output_type": "stream",
          "name": "stderr",
          "text": [
            "Processing Titles embeddings: 100%|██████████| 1/1 [00:00<00:00, 76.51batch/s]\n"
          ]
        },
        {
          "output_type": "stream",
          "name": "stdout",
          "text": [
            "Tags to match: ['main-dish', 'beef', 'meat']\n",
            "Number of filtered recipes: 31075\n",
            "Based on a balance of sustainability and healthiness, the recommended recipe would be:\n",
            "94843. Recipe: Spinach Ricotta-Stuffed Chicken Breasts\n"
          ]
        },
        {
          "output_type": "stream",
          "name": "stderr",
          "text": [
            "Processing Titles embeddings: 100%|██████████| 1/1 [00:00<00:00, 78.48batch/s]\n"
          ]
        },
        {
          "output_type": "stream",
          "name": "stdout",
          "text": [
            "Tags to match: ['main-dish', 'pasta', 'pasta-rice-and-grains']\n",
            "Number of filtered recipes: 32752\n",
            "Based on a balance of sustainability and healthiness, the recommended recipe would be:\n",
            "\n",
            "81192. Recipe: Chorizo & Goat Cheese Quesadillas\n"
          ]
        },
        {
          "output_type": "stream",
          "name": "stderr",
          "text": [
            "Processing Titles embeddings: 100%|██████████| 1/1 [00:00<00:00, 50.50batch/s]\n"
          ]
        },
        {
          "output_type": "stream",
          "name": "stdout",
          "text": [
            "Tags to match: ['main-dish', 'side-dishes', 'beef', 'meat']\n",
            "Number of filtered recipes: 42452\n",
            "Based on a balance of sustainability and healthiness, the recipes should be ranked as follows:\n",
            "\n",
            "1. Recipe: Beef With Veggies\n",
            "2. Recipe: Korean Barbecue Beef\n",
            "3. Recipe: Shortcut Shepherd's Pie\n",
            "4. Recipe: Easy Oven Beef and Gravy\n",
            "5. Recipe: Darn Good Bulgogi\n",
            "6. Recipe: Dino's Marvelous Meatloaf\n",
            "7. Recipe: Beef and Pineapple Kebabs (Anguilla)\n",
            "8. Recipe: Hacienda Hamburger Skillet\n",
            "9. Recipe: \"the Best \" Beef Stroganoff\n",
            "10. Recipe: Dave's Heart Attack on a Plate\n",
            "\n",
            "Based on the rankings, the recommended recipe to choose would be \"Beef With Veggies.\"\n"
          ]
        },
        {
          "output_type": "stream",
          "name": "stderr",
          "text": [
            "Processing Titles embeddings: 100%|██████████| 1/1 [00:00<00:00, 73.17batch/s]\n"
          ]
        },
        {
          "output_type": "stream",
          "name": "stdout",
          "text": [
            "Tags to match: ['beef', 'meat']\n",
            "Number of filtered recipes: 18552\n",
            "Based on sustainability and healthiness, the recipes can be ranked as follows:\n",
            "\n",
            "1. Recipe: Turkey Chili (High Fiber, Low-Calorie and Low-Fat)\n",
            "2. Recipe: Beef, Bean and Tomato Soup\n",
            "3. Recipe: Brazilian Black Bean Stew, Another Version - Slow Cooker\n",
            "4. Recipe: Jim's Award-Winning Chili\n",
            "5. Recipe: Spicy Sausage and Pepper Stew\n",
            "6. Recipe: All American County Fair Prize Winning Chili\n",
            "7. Recipe: Chili's Egg Rolls-Lightened Up!!!\n",
            "8. Recipe: Layered Cornbread Salad\n",
            "9. Recipe: Chili For Frito Pie\n",
            "10. Recipe: Bachelors Chili\n",
            "\n",
            "Based on this ranking, the recommended recipe would be \"Recipe: Turkey Chili (High Fiber, Low-Calorie and Low-Fat).\"\n"
          ]
        },
        {
          "output_type": "stream",
          "name": "stderr",
          "text": [
            "Processing Titles embeddings: 100%|██████████| 1/1 [00:00<00:00, 76.25batch/s]\n"
          ]
        },
        {
          "output_type": "stream",
          "name": "stdout",
          "text": [
            "Tags to match: ['main-dish', 'beef', 'pasta', 'meat', 'pasta-rice-and-grains']\n",
            "Number of filtered recipes: 36922\n",
            "Based on a balance of sustainability and healthiness, the recipes should be ranked as follows:\n",
            "\n",
            "1. Recipe: Chicken a La Chardon\n",
            "2. Recipe: Crock Pot Chicken Breast in Poblano Cream\n",
            "3. Recipe: Chicken Breasts With Lime Curry Sauce\n",
            "4. Recipe: Easy Boneless Pork Chop With an Amazing Flavour\n",
            "5. Recipe: Savory Stuffed Pork Chops Au Jus\n",
            "6. Recipe: Deep Dish Taco Salad\n",
            "7. Recipe: Deb's Italian Noodle Casserole\n",
            "8. Recipe: Cheese and Mushroom Spiral Meatloaf\n",
            "9. Recipe: Outstanding Spanish Stuffed Green Bell Peppers\n",
            "10. Recipe: Micro Beef Pie\n",
            "\n",
            "For the best choice, I would recommend \"Recipe: Chicken a La Chardon.\"\n"
          ]
        },
        {
          "output_type": "stream",
          "name": "stderr",
          "text": [
            "Processing Titles embeddings: 100%|██████████| 1/1 [00:00<00:00, 82.34batch/s]\n"
          ]
        },
        {
          "output_type": "stream",
          "name": "stdout",
          "text": [
            "Tags to match: ['main-dish', 'pasta', 'pasta-rice-and-grains']\n",
            "Number of filtered recipes: 32752\n",
            "Based on a balance of sustainability and healthiness, the recipes can be ranked as follows:\n",
            "\n",
            "1. Recipe: Chicken, Mushroom and Spinach pasta with blue cheese sauce\n",
            "2. Recipe: Pasta With Ricotta Bolognese\n",
            "3. Recipe: Beef Pasta with Tomato-Spinach Sauce\n",
            "4. Recipe: Curry Chicken With Applesauce\n",
            "5. Recipe: Oriental Beef and Spaghetti Pie (spicy)\n",
            "6. Recipe: Turkey and Tortellini Tetrazzini\n",
            "7. Recipe: Baked Buffalo Chicken Pasta\n",
            "8. Recipe: Simple Tuna Hot Dish or Casserole\n",
            "9. Recipe: Bagel Tuna Melt\n",
            "10. Recipe: Cheeseburger Spaghetti\n",
            "\n",
            "Based on this ranking, the recommended recipe would be \"Chicken, Mushroom and Spinach pasta with blue cheese sauce.\"\n"
          ]
        },
        {
          "output_type": "stream",
          "name": "stderr",
          "text": [
            "Processing Titles embeddings: 100%|██████████| 1/1 [00:00<00:00, 82.18batch/s]\n"
          ]
        },
        {
          "output_type": "stream",
          "name": "stdout",
          "text": [
            "Tags to match: ['main-dish', 'beef', 'meat']\n",
            "Number of filtered recipes: 31075\n",
            "Based on a balance of sustainability and healthiness, the recommended recipe would be:\n",
            "\n",
            "96034. Recipe: Terrific Teriyaki Burgers\n"
          ]
        },
        {
          "output_type": "stream",
          "name": "stderr",
          "text": [
            "Processing Titles embeddings: 100%|██████████| 1/1 [00:00<00:00, 82.69batch/s]\n"
          ]
        },
        {
          "output_type": "stream",
          "name": "stdout",
          "text": [
            "Tags to match: ['main-dish', 'beef', 'meat']\n",
            "Number of filtered recipes: 31075\n",
            "Based on a balance of sustainability and healthiness, the recommended recipes from most to least would be:\n",
            "\n",
            "1. Recipe: Roasted Peppers and Sausage Pasta With Dijon Vinaigrette\n",
            "2. Recipe: Ziti With Sausage and Cannellini\n",
            "3. Recipe: Creamy Baked Pasta\n",
            "4. Recipe: Bacon Barley Bread\n",
            "5. Recipe: Tex Mex BLT\n",
            "6. Recipe: Hawaiian Chili\n",
            "7. Recipe: North Georgia Brunswick Stew\n",
            "8. Recipe: Another Sausage and Pepper Recipe\n",
            "9. Recipe: P. Y. T. - a Michael Jackson Tribute\n",
            "10. Recipe: Chili Con Coors\n",
            "\n",
            "The recommended recipe for you to choose is \"Recipe: Roasted Peppers and Sausage Pasta With Dijon Vinaigrette\".\n"
          ]
        },
        {
          "output_type": "stream",
          "name": "stderr",
          "text": [
            "Processing Titles embeddings: 100%|██████████| 1/1 [00:00<00:00, 58.65batch/s]\n"
          ]
        },
        {
          "output_type": "stream",
          "name": "stdout",
          "text": [
            "Tags to match: ['main-dish', 'pasta', 'pasta-rice-and-grains']\n",
            "Number of filtered recipes: 32752\n",
            "Based on a balance of sustainability and healthiness, the recipes ranked from most to least recommended are:\n",
            "\n",
            "1. Recipe: Vegetable Spaghetti Bake (94085)\n",
            "2. Recipe: Mushroom & Veggie Sausage Lasagna (92852)\n",
            "3. Recipe: Lightened Fannie Farmer's Classic Baked Macaroni and Cheese (93803)\n",
            "4. Recipe: Easiest Mac 'n' Cheese (93617)\n",
            "5. Recipe: Fusilli Cheddar Bake (82624)\n",
            "6. Recipe: Cheesy Baked Stuffed Tuna Melts (90832)\n",
            "7. Recipe: Dee's Swiss Chicken Casserole (92600)\n",
            "8. Recipe: Krystal's Chicken Spaghetti (85064)\n",
            "9. Recipe: Sausage and Pepper Pasta Bake (87616)\n",
            "10. Recipe: Chicken Biscuit Stew (63717)\n",
            "\n",
            "Based on this ranking, the recommended recipe for you to choose would be: Vegetable Spaghetti Bake (94085).\n"
          ]
        },
        {
          "output_type": "stream",
          "name": "stderr",
          "text": [
            "Processing Titles embeddings: 100%|██████████| 1/1 [00:00<00:00, 73.64batch/s]\n"
          ]
        },
        {
          "output_type": "stream",
          "name": "stdout",
          "text": [
            "Tags to match: ['appetizers', 'beef', 'meat']\n",
            "Number of filtered recipes: 25070\n",
            "Based on a balance of sustainability and healthiness, the recommended recipes from most to least would be:\n",
            "\n",
            "1. Recipe: Antojitos\n",
            "2. Recipe: Kitchen Kouture Stuffed Mushrooms\n",
            "3. Recipe: Lasagna with Zucchini Noodles\n",
            "4. Recipe: Pine Nut Brie Nibble\n",
            "5. Recipe: Sam's Blue Cheese Dip\n",
            "6. Recipe: Sue's Hot Beef Dip\n",
            "7. Recipe: Seafood Surprise Dip\n",
            "8. Recipe: Veronica's Bacon Muffins\n",
            "9. Recipe: BBQ Jalapeno Shrimp Poppers\n",
            "10. Recipe: Hotter Than Hell Sausage Dip\n",
            "\n",
            "Based on these criteria, the best choice would be \"Recipe: Antojitos.\"\n"
          ]
        },
        {
          "output_type": "stream",
          "name": "stderr",
          "text": [
            "Processing Titles embeddings: 100%|██████████| 1/1 [00:00<00:00, 84.51batch/s]\n"
          ]
        },
        {
          "output_type": "stream",
          "name": "stdout",
          "text": [
            "Tags to match: ['main-dish', 'beef', 'meat']\n",
            "Number of filtered recipes: 31075\n",
            "Based on a balance of sustainability and healthiness, the recommended recipe to choose is:\n",
            "\n",
            "Recipe: Cilantro Chicken Salad\n"
          ]
        },
        {
          "output_type": "stream",
          "name": "stderr",
          "text": [
            "Processing Titles embeddings: 100%|██████████| 1/1 [00:00<00:00, 78.02batch/s]\n"
          ]
        },
        {
          "output_type": "stream",
          "name": "stdout",
          "text": [
            "Tags to match: ['appetizers', 'main-dish', 'beef', 'meat']\n",
            "Number of filtered recipes: 37106\n",
            "Based on a balance of sustainability and healthiness, the recommended recipe is:\n",
            "\n",
            "76052. Recipe: Portuguese-Style Sardines on Toast\n"
          ]
        },
        {
          "output_type": "stream",
          "name": "stderr",
          "text": [
            "Processing Titles embeddings: 100%|██████████| 1/1 [00:00<00:00, 81.01batch/s]\n"
          ]
        },
        {
          "output_type": "stream",
          "name": "stdout",
          "text": [
            "Tags to match: ['main-dish', 'beef', 'pasta', 'meat', 'pasta-rice-and-grains']\n",
            "Number of filtered recipes: 36922\n",
            "Based on a balance of sustainability and healthiness, the recommended recipe is:\n",
            "20681. Recipe: Chicken and Sausage Jambalaya with Okra\n"
          ]
        },
        {
          "output_type": "stream",
          "name": "stderr",
          "text": [
            "Processing Titles embeddings: 100%|██████████| 1/1 [00:00<00:00, 74.58batch/s]\n"
          ]
        },
        {
          "output_type": "stream",
          "name": "stdout",
          "text": [
            "Tags to match: ['beef', 'meat']\n",
            "Number of filtered recipes: 18552\n",
            "Here is the recommended recipe based on a balance of sustainability and healthiness:\n",
            "\n",
            "1. Recipe: Healthy Slow Cooker Creamy Chicken and Vegetables (48761)\n",
            "\n",
            "This recipe is likely to be the most sustainable and healthy option.\n"
          ]
        },
        {
          "output_type": "stream",
          "name": "stderr",
          "text": [
            "Processing Titles embeddings: 100%|██████████| 1/1 [00:00<00:00, 81.39batch/s]\n"
          ]
        },
        {
          "output_type": "stream",
          "name": "stdout",
          "text": [
            "Tags to match: ['main-dish']\n",
            "Number of filtered recipes: 26476\n",
            "Based on a balance of sustainability and healthiness, the recipes can be ranked as follows:\n",
            "\n",
            "1. Recipe: Greek Braised Lamb With Green Beans and Tomato (100807)\n",
            "2. Recipe: Tuscan Lemon Chicken With Warm Bean Salad (31109)\n",
            "3. Recipe: Chili'd Chicken (66279)\n",
            "4. Recipe: Amy's Chicken Divan Casserole (77945)\n",
            "5. Recipe: Ranch Chicken Chopped Salad (84570)\n",
            "6. Recipe: Anita's Cheese and Potato Beef Pie (98850)\n",
            "7. Recipe: Wendy's Restaurant Copycat Chili (96485)\n",
            "8. Recipe: Rustler's Chili Con Carne With Beans (96334)\n",
            "9. Recipe: Flint Ridge Pheasant (95090)\n",
            "10. Recipe: Curried Conch (40325)\n",
            "\n",
            "The recommended recipe for you would be \"Greek Braised Lamb With Green Beans and Tomato\" (100807).\n"
          ]
        },
        {
          "output_type": "stream",
          "name": "stderr",
          "text": [
            "Processing Titles embeddings: 100%|██████████| 1/1 [00:00<00:00, 58.63batch/s]\n"
          ]
        },
        {
          "output_type": "stream",
          "name": "stdout",
          "text": [
            "Tags to match: ['main-dish', 'beef', 'rice', 'meat', 'pasta-rice-and-grains']\n",
            "Number of filtered recipes: 36921\n",
            "Based on a balance of sustainability and healthiness, the recommended recipe to choose is \"Algerian Lamb and Lentil Soup.\"\n"
          ]
        },
        {
          "output_type": "stream",
          "name": "stderr",
          "text": [
            "Processing Titles embeddings: 100%|██████████| 1/1 [00:00<00:00, 78.06batch/s]\n"
          ]
        },
        {
          "output_type": "stream",
          "name": "stdout",
          "text": [
            "Tags to match: ['main-dish', 'beef', 'meat']\n",
            "Number of filtered recipes: 31075\n",
            "Based on a balance of sustainability and healthiness, here is the recommended ranking for the recipes:\n",
            "\n",
            "1. Recipe: Vegetable Lasagna Rolls\n",
            "2. Recipe: Toasted Ham and Gouda Sandwiches\n",
            "3. Recipe: Tangy Tortilla Casserole\n",
            "4. Recipe: Funky Chicken Sandwich\n",
            "5. Recipe: Skillet Sausage and Chicken\n",
            "6. Recipe: Delicious Sour Cream Chicken Enchilada Casserole\n",
            "7. Recipe: Hearty Meat Lasagna (Oamc)\n",
            "8. Recipe: Ground Beef and Onion Gratin\n",
            "9. Recipe: Mouthwatering Beef Lasagna\n",
            "10. Recipe: Easy Cheesy Shepherd's Pie\n",
            "\n",
            "Based on the ranking, the recommended recipe is: Vegetable Lasagna Rolls.\n"
          ]
        },
        {
          "output_type": "stream",
          "name": "stderr",
          "text": [
            "Processing Titles embeddings: 100%|██████████| 1/1 [00:00<00:00, 73.87batch/s]\n"
          ]
        },
        {
          "output_type": "stream",
          "name": "stdout",
          "text": [
            "Tags to match: ['main-dish', 'beef', 'meat']\n",
            "Number of filtered recipes: 31075\n",
            "Based on a balance of sustainability and healthiness, the recommended recipe is: \n",
            "\n",
            "57268. Recipe: Smoky Roasted Chicken and Corn Chowder\n"
          ]
        },
        {
          "output_type": "stream",
          "name": "stderr",
          "text": [
            "Processing Titles embeddings: 100%|██████████| 1/1 [00:00<00:00, 94.95batch/s]\n"
          ]
        },
        {
          "output_type": "stream",
          "name": "stdout",
          "text": [
            "Tags to match: ['main-dish']\n",
            "Number of filtered recipes: 26476\n",
            "Based on a balance of sustainability and healthiness, the recommended recipe to choose is: Recipe: Zucchini & Beef.\n"
          ]
        },
        {
          "output_type": "stream",
          "name": "stderr",
          "text": [
            "Processing Titles embeddings: 100%|██████████| 1/1 [00:00<00:00, 80.95batch/s]\n"
          ]
        },
        {
          "output_type": "stream",
          "name": "stdout",
          "text": [
            "Tags to match: ['main-dish', 'beef', 'meat']\n",
            "Number of filtered recipes: 31075\n",
            "Based on a balance of sustainability and healthiness, the recommended recipe is \"Chicken Breasts With Tomato-Basil Sauce\".\n"
          ]
        },
        {
          "output_type": "stream",
          "name": "stderr",
          "text": [
            "Processing Titles embeddings: 100%|██████████| 1/1 [00:00<00:00, 49.96batch/s]\n"
          ]
        },
        {
          "output_type": "stream",
          "name": "stdout",
          "text": [
            "Tags to match: ['main-dish', 'beef', 'meat']\n",
            "Number of filtered recipes: 31075\n",
            "Based on a balance of sustainability and healthiness, the recommended recipe is:\n",
            "\n",
            "31721. Recipe: Crock Pot - Beef Teriyaki With Broccoli\n"
          ]
        },
        {
          "output_type": "stream",
          "name": "stderr",
          "text": [
            "Processing Titles embeddings: 100%|██████████| 1/1 [00:00<00:00, 79.70batch/s]\n"
          ]
        },
        {
          "output_type": "stream",
          "name": "stdout",
          "text": [
            "Tags to match: ['main-dish', 'beef', 'pasta', 'meat', 'pasta-rice-and-grains']\n",
            "Number of filtered recipes: 36922\n",
            "Based on a balance of sustainability and healthiness, the recipes can be ranked as follows:\n",
            "\n",
            "1. Recipe: Boneless Chicken\n",
            "2. Recipe: Melt in Your Mouth Lemon Chicken\n",
            "3. Recipe: Chicken Guadalajara\n",
            "4. Recipe: Swiss Chicken & Broccoli Casserole\n",
            "5. Recipe: Pecorino Romano Chicken Breast\n",
            "6. Recipe: Copycat Recipe for Carrabba's Chicken Marsala\n",
            "7. Recipe: Mom's Favorite Chicken\n",
            "8. Recipe: Pork Chops in Mushroom Gravy\n",
            "9. Recipe: Creamed Salmon\n",
            "10. Recipe: Zesty Chicken and Garlic White Pizza\n",
            "\n",
            "Based on this ranking, the recommended recipe to choose would be \"Boneless Chicken\".\n"
          ]
        },
        {
          "output_type": "stream",
          "name": "stderr",
          "text": [
            "Processing Titles embeddings: 100%|██████████| 1/1 [00:00<00:00, 66.22batch/s]\n"
          ]
        },
        {
          "output_type": "stream",
          "name": "stdout",
          "text": [
            "Tags to match: ['main-dish', 'beef', 'meat']\n",
            "Number of filtered recipes: 31075\n",
            "Based on a balance of sustainability and healthiness, the recommended recipe is:\n",
            "1. Recipe: Broccoli and Chicken Tortellini Soup\n"
          ]
        },
        {
          "output_type": "stream",
          "name": "stderr",
          "text": [
            "Processing Titles embeddings: 100%|██████████| 1/1 [00:00<00:00, 74.30batch/s]\n"
          ]
        },
        {
          "output_type": "stream",
          "name": "stdout",
          "text": [
            "Tags to match: ['main-dish', 'beef', 'meat']\n",
            "Number of filtered recipes: 31075\n",
            "Based on a balance of sustainability and healthiness, the recommended recipes from most to least are:\n",
            "\n",
            "1. Recipe: Cold Spicy Cashew Noodles - 33430\n",
            "2. Recipe: Oriental Style Beef Tips and Veggie Stir Fry - 18236\n",
            "3. Recipe: Hacienda Hamburger Skillet - 60619\n",
            "4. Recipe: Easy Oven Beef and Gravy - 47792\n",
            "5. Recipe: Shortcut Shepherd's Pie - 31654\n",
            "6. Recipe: Teriyaki Beef or Chicken - Hawaiian - 6379\n",
            "7. Recipe: Korean Steak - 12964\n",
            "8. Recipe: Korean Barbecue Beef - 96035\n",
            "9. Recipe: Anguillan Kebabs - 96504\n",
            "10. Recipe: Beef and Pineapple Kebabs (Anguilla) - 97108\n",
            "\n",
            "You should choose the \"Cold Spicy Cashew Noodles\" recipe.\n"
          ]
        },
        {
          "output_type": "stream",
          "name": "stderr",
          "text": [
            "Processing Titles embeddings: 100%|██████████| 1/1 [00:00<00:00, 59.13batch/s]\n"
          ]
        },
        {
          "output_type": "stream",
          "name": "stdout",
          "text": [
            "Tags to match: ['main-dish']\n",
            "Number of filtered recipes: 26476\n",
            "Based on a balance of sustainability and healthiness, the recommended recipe is:\n",
            "\n",
            "1. Recipe: Grilled Chick N Wrappers\n"
          ]
        },
        {
          "output_type": "stream",
          "name": "stderr",
          "text": [
            "Processing Titles embeddings: 100%|██████████| 1/1 [00:00<00:00, 80.73batch/s]\n"
          ]
        },
        {
          "output_type": "stream",
          "name": "stdout",
          "text": [
            "Tags to match: ['appetizers', 'main-dish', 'pizza']\n",
            "Number of filtered recipes: 33307\n",
            "Based on a balance of sustainability and healthiness, the recipes should be ranked as follows:\n",
            "\n",
            "1. Recipe: Lemon Baked Cod (62850)\n",
            "2. Recipe: Herb-Coated Cod (90161)\n",
            "3. Recipe: Angel Hair Tuna (71347)\n",
            "4. Recipe: Zucchini and Tuna Quesadillas (72870)\n",
            "5. Recipe: Lemon Italian Chicken Pasta (76223)\n",
            "6. Recipe: Turkey & Stuffing Casserole (93342)\n",
            "7. Recipe: Inside-Out Stuffed Bell Peppers (98647)\n",
            "8. Recipe: Baked Beef Ravioli (99835)\n",
            "9. Recipe: Ravioli With Meat Filling (100506)\n",
            "10. Recipe: Pastry Tostadas Ole (98441)\n",
            "\n",
            "You should choose \"Lemon Baked Cod\" (62850) as the most recommended recipe based on sustainability and healthiness.\n"
          ]
        },
        {
          "output_type": "stream",
          "name": "stderr",
          "text": [
            "Processing Titles embeddings: 100%|██████████| 1/1 [00:00<00:00, 81.05batch/s]\n"
          ]
        },
        {
          "output_type": "stream",
          "name": "stdout",
          "text": [
            "Tags to match: ['appetizers', 'main-dish', 'beef', 'meat']\n",
            "Number of filtered recipes: 37106\n",
            "Based on a balance of sustainability and healthiness, the recommended recipe to choose is:\n",
            "57355. Recipe: Chicken With Cream, Apples and Calvados\n"
          ]
        },
        {
          "output_type": "stream",
          "name": "stderr",
          "text": [
            "Processing Titles embeddings: 100%|██████████| 1/1 [00:00<00:00, 60.66batch/s]\n"
          ]
        },
        {
          "output_type": "stream",
          "name": "stdout",
          "text": [
            "Tags to match: ['main-dish', 'beef', 'meat']\n",
            "Number of filtered recipes: 31075\n",
            "Based on a balance of sustainability and healthiness, the recommended recipe is:\n",
            "\n",
            "68276. Recipe: Salmon Patties With Lemon Sauce\n"
          ]
        },
        {
          "output_type": "stream",
          "name": "stderr",
          "text": [
            "Processing Titles embeddings: 100%|██████████| 1/1 [00:00<00:00, 78.22batch/s]\n"
          ]
        },
        {
          "output_type": "stream",
          "name": "stdout",
          "text": [
            "Tags to match: ['main-dish', 'beef', 'meat']\n",
            "Number of filtered recipes: 31075\n",
            "Based on a balance of sustainability and healthiness, the recommended recipes from most to least are:\n",
            "\n",
            "1. Recipe: Layered Vegetable Pie\n",
            "2. Recipe: Amish Country Potato Soup\n",
            "3. Recipe: Eggplant (Aubergine) Roll\n",
            "4. Recipe: Spinach Enchiladas\n",
            "5. Recipe: Pasta with Broccoli, Cheese and Bacon\n",
            "6. Recipe: Farfalle (Bow-Tie Pasta) With Creamy Bacon & Leek Sauce\n",
            "7. Recipe: Beef With Black Olives Pie\n",
            "8. Recipe: Traditional English Beef & Potato Picnic Pies - Pasties\n",
            "9. Recipe: Mac and Blue\n",
            "10. Recipe: Grilled Cheese and Pulled Short Ribs Sandwich\n",
            "\n",
            "Based on the given options, the recommended recipe to choose would be \"Layered Vegetable Pie\".\n"
          ]
        },
        {
          "output_type": "stream",
          "name": "stderr",
          "text": [
            "Processing Titles embeddings: 100%|██████████| 1/1 [00:00<00:00, 83.71batch/s]\n"
          ]
        },
        {
          "output_type": "stream",
          "name": "stdout",
          "text": [
            "Tags to match: ['appetizers', 'main-dish', 'beef', 'meat']\n",
            "Number of filtered recipes: 37106\n",
            "Based on a balance of sustainability and healthiness, the recommended recipe is:\n",
            "\n",
            "100328. Recipe: Spinach & Ground Beef Lasagna\n"
          ]
        },
        {
          "output_type": "stream",
          "name": "stderr",
          "text": [
            "Processing Titles embeddings: 100%|██████████| 1/1 [00:00<00:00, 78.89batch/s]\n"
          ]
        },
        {
          "output_type": "stream",
          "name": "stdout",
          "text": [
            "Tags to match: ['main-dish']\n",
            "Number of filtered recipes: 26476\n",
            "Based on a balance of sustainability and healthiness, the recommended recipe to choose is:\n",
            "\n",
            "90797. Recipe: Chicken with Mushrooms and Provolone\n"
          ]
        },
        {
          "output_type": "stream",
          "name": "stderr",
          "text": [
            "Processing Titles embeddings: 100%|██████████| 1/1 [00:00<00:00, 79.99batch/s]\n"
          ]
        },
        {
          "output_type": "stream",
          "name": "stdout",
          "text": [
            "Tags to match: ['main-dish', 'beef', 'meat']\n",
            "Number of filtered recipes: 31075\n",
            "Based on a balance of sustainability and healthiness, the recommended recipe is \"Zucchini Pizza Casserole\" (Recipe number 100387).\n"
          ]
        },
        {
          "output_type": "stream",
          "name": "stderr",
          "text": [
            "Processing Titles embeddings: 100%|██████████| 1/1 [00:00<00:00, 78.72batch/s]\n"
          ]
        },
        {
          "output_type": "stream",
          "name": "stdout",
          "text": [
            "Tags to match: ['breakfast']\n",
            "Number of filtered recipes: 7289\n",
            "Based on a balance of sustainability and healthiness, the recommended recipe is:\n",
            "83024. Recipe: Black Bean, Egg & Corn Casserole\n"
          ]
        },
        {
          "output_type": "stream",
          "name": "stderr",
          "text": [
            "Processing Titles embeddings: 100%|██████████| 1/1 [00:00<00:00, 79.67batch/s]\n"
          ]
        },
        {
          "output_type": "stream",
          "name": "stdout",
          "text": [
            "Tags to match: ['main-dish', 'beef', 'meat']\n",
            "Number of filtered recipes: 31075\n",
            "Based on a balance of sustainability and healthiness, the recommended recipe to choose is:\n",
            "\n",
            "95947. Recipe: Lower Fat, Higher Fiber Beef Bolognese Sauce\n"
          ]
        },
        {
          "output_type": "stream",
          "name": "stderr",
          "text": [
            "Processing Titles embeddings: 100%|██████████| 1/1 [00:00<00:00, 83.64batch/s]\n"
          ]
        },
        {
          "output_type": "stream",
          "name": "stdout",
          "text": [
            "Tags to match: ['main-dish', 'beef', 'meat']\n",
            "Number of filtered recipes: 31075\n",
            "Based on a balance of sustainability and healthiness, the recommended recipe is:\n",
            "99023. Recipe: Bartolino's Meatballs\n"
          ]
        },
        {
          "output_type": "stream",
          "name": "stderr",
          "text": [
            "Processing Titles embeddings: 100%|██████████| 1/1 [00:00<00:00, 64.75batch/s]\n"
          ]
        },
        {
          "output_type": "stream",
          "name": "stdout",
          "text": [
            "Tags to match: ['breakfast', 'beef', 'pasta', 'meat', 'pasta-rice-and-grains']\n",
            "Number of filtered recipes: 34619\n",
            "Based on a balance of sustainability and healthiness, the recipes should be ranked from most to least recommended as follows:\n",
            "\n",
            "1. Recipe: Poached Egg With Salmon, Spinach & Meyer Lemon Vinaigrette\n",
            "2. Recipe: Comfort Eggs\n",
            "3. Recipe: Curried Quiche\n",
            "4. Recipe: Sunny Toast\n",
            "5. Recipe: Hole in the Wall\n",
            "6. Recipe: Potato and Garlic Sausage Hash\n",
            "7. Recipe: Diabetic Dutch Apple Pancake\n",
            "8. Recipe: Better Than Caviar Egg Salad Araby\n",
            "9. Recipe: Pumpkin Stuffed French Toast\n",
            "10. Recipe: Flourless Peanut Butter, Pumpkin Butter Pancakes\n",
            "\n",
            "You should choose the recipe \"Poached Egg With Salmon, Spinach & Meyer Lemon Vinaigrette.\"\n"
          ]
        },
        {
          "output_type": "stream",
          "name": "stderr",
          "text": [
            "Processing Titles embeddings: 100%|██████████| 1/1 [00:00<00:00, 72.78batch/s]\n"
          ]
        },
        {
          "output_type": "stream",
          "name": "stdout",
          "text": [
            "Tags to match: ['main-dish', 'beef', 'meat']\n",
            "Number of filtered recipes: 31075\n",
            "Based on a balance of sustainability and healthiness, the recommended recipe to choose is:\n",
            "Recipe: Swiss Chard & Italian Sausage Lasagna\n"
          ]
        },
        {
          "output_type": "stream",
          "name": "stderr",
          "text": [
            "Processing Titles embeddings: 100%|██████████| 1/1 [00:00<00:00, 78.21batch/s]\n"
          ]
        },
        {
          "output_type": "stream",
          "name": "stdout",
          "text": [
            "Tags to match: ['main-dish', 'beef', 'meat']\n",
            "Number of filtered recipes: 31075\n",
            "Based on a balance of sustainability and healthiness, the recommended recipe is: Recipe: My Thai Chicken Curry\n"
          ]
        },
        {
          "output_type": "stream",
          "name": "stderr",
          "text": [
            "Processing Titles embeddings: 100%|██████████| 1/1 [00:00<00:00, 69.23batch/s]\n"
          ]
        },
        {
          "output_type": "stream",
          "name": "stdout",
          "text": [
            "Tags to match: ['main-dish', 'beef', 'meat']\n",
            "Number of filtered recipes: 31075\n",
            "Based on a balance of sustainability and healthiness, here is the recommended ranking of the recipes:\n",
            "\n",
            "1. Recipe: Norwegian Potato Soup\n",
            "2. Recipe: Vegetable-Beef Barley Soup (Crock Pot)\n",
            "3. Recipe: Quinoa Stir-Fry With Vegetables and Chicken\n",
            "4. Recipe: Spinach Fettuccine With Chicken and Broccoli\n",
            "5. Recipe: Lean Weight Watchers Shepherds Pie\n",
            "6. Recipe: Weight Watchers Crock Pot Chicken Chili\n",
            "7. Recipe: Firehouse Tex-Mex Casserole\n",
            "8. Recipe: Truly the Best Cabbage Rolls\n",
            "9. Recipe: Ww Chili Beef Tacos 2 Pp Value\n",
            "10. Recipe: Pasta W/ Pesto Shrimp\n",
            "\n",
            "Based on this ranking, the recommended recipe for you to choose would be: \"Norwegian Potato Soup\".\n"
          ]
        },
        {
          "output_type": "stream",
          "name": "stderr",
          "text": [
            "Processing Titles embeddings: 100%|██████████| 1/1 [00:00<00:00, 62.42batch/s]\n"
          ]
        },
        {
          "output_type": "stream",
          "name": "stdout",
          "text": [
            "Tags to match: ['main-dish', 'meat']\n",
            "Number of filtered recipes: 31075\n",
            "Based on a balance of sustainability and healthiness, the recommended order for the recipes would be:\n",
            "\n",
            "1. Recipe: Greek Braised Chicken\n",
            "2. Recipe: Pork Stew With Cumin (Portugal)\n",
            "3. Recipe: Indonesian Pork-Babi Pangang\n",
            "4. Recipe: Leskovac Burger\n",
            "5. Recipe: Homemade Summer Sausage Aka Salami\n",
            "6. Recipe: BBQ-Less Country-Style Pork Ribs\n",
            "7. Recipe: Butterfied Leg of Lamb with Ginger\n",
            "8. Recipe: Pork Chops with Cheese and Ale\n",
            "9. Recipe: Baked Chicken Delicious\n",
            "10. Recipe: French Gorton Spread\n",
            "\n",
            "Based on this order, the recommended recipe for you to choose is \"Greek Braised Chicken\".\n"
          ]
        },
        {
          "output_type": "stream",
          "name": "stderr",
          "text": [
            "Processing Titles embeddings: 100%|██████████| 1/1 [00:00<00:00, 81.02batch/s]\n"
          ]
        },
        {
          "output_type": "stream",
          "name": "stdout",
          "text": [
            "Tags to match: ['main-dish', 'beef', 'meat']\n",
            "Number of filtered recipes: 31075\n",
            "Based on a balance of sustainability and healthiness, the recommended recipe is:\n",
            "\n",
            "98923. Recipe: Homestyle Meatloaf\n"
          ]
        },
        {
          "output_type": "stream",
          "name": "stderr",
          "text": [
            "Processing Titles embeddings: 100%|██████████| 1/1 [00:00<00:00, 75.17batch/s]\n"
          ]
        },
        {
          "output_type": "stream",
          "name": "stdout",
          "text": [
            "Tags to match: ['main-dish', 'beef', 'meat']\n",
            "Number of filtered recipes: 31075\n",
            "Based on a balance of sustainability and healthiness, the recommended recipes in order are:\n",
            "\n",
            "1. Recipe: Tish's Crock Pot Corned Beef and Cabbage\n",
            "2. Recipe: Homemade Pastrami - No Smoker Needed\n",
            "3. Recipe: Slow Cooker Corned Beef\n",
            "4. Recipe: Corned Beef With Homemade Glaze\n",
            "5. Recipe: Brown Sugar and Mustard Glazed Corned Beef\n",
            "6. Recipe: Corned Beef Brisket in Raspberry Vinaigrette (Crock Pot)\n",
            "7. Recipe: Flight to Hong Kong Chicken Wings\n",
            "8. Recipe: Delicious Chops of Pork\n",
            "9. Recipe: Disco's Hot and Tangy New York Strip Steaks\n",
            "10. Recipe: Speedy Meatballs Scandia\n",
            "\n",
            "Based on these rankings, the recommended recipe for you is:\n",
            "\n",
            "Recipe: Tish's Crock Pot Corned Beef and Cabbage\n"
          ]
        },
        {
          "output_type": "stream",
          "name": "stderr",
          "text": [
            "Processing Titles embeddings: 100%|██████████| 1/1 [00:00<00:00, 69.82batch/s]\n"
          ]
        },
        {
          "output_type": "stream",
          "name": "stdout",
          "text": [
            "Tags to match: ['main-dish', 'beef', 'meat', 'pasta-rice-and-grains']\n",
            "Number of filtered recipes: 36921\n",
            "Based on a balance of sustainability and healthiness, the recommended order for the recipes would be:\n",
            "\n",
            "1. Recipe: Cannellini and Sausage Soup\n",
            "2. Recipe: Chili, Family-Style\n",
            "3. Recipe: Tasty Tamale Pie\n",
            "4. Recipe: Anytime Chili\n",
            "5. Recipe: Quick Easy Chili\n",
            "6. Recipe: Boo's Chili\n",
            "7. Recipe: Mawthook's Beefy Chili\n",
            "8. Recipe: Cold Day Chili\n",
            "9. Recipe: Sandi's Auction Chili\n",
            "10. Recipe: Blood Gravy\n",
            "\n",
            "For your choice, I recommend \"Recipe: Cannellini and Sausage Soup\".\n"
          ]
        },
        {
          "output_type": "stream",
          "name": "stderr",
          "text": [
            "Processing Titles embeddings: 100%|██████████| 1/1 [00:00<00:00, 97.39batch/s]\n"
          ]
        },
        {
          "output_type": "stream",
          "name": "stdout",
          "text": [
            "Tags to match: ['main-dish', 'beef', 'meat']\n",
            "Number of filtered recipes: 31075\n",
            "Based on a balance of sustainability and healthiness, the recommended recipe to choose is:\n",
            "\n",
            "82119. Recipe: Saucy Chicken and Asparagus\n"
          ]
        },
        {
          "output_type": "stream",
          "name": "stderr",
          "text": [
            "Processing Titles embeddings: 100%|██████████| 1/1 [00:00<00:00, 74.81batch/s]\n"
          ]
        },
        {
          "output_type": "stream",
          "name": "stdout",
          "text": [
            "Tags to match: ['main-dish', 'chicken', 'meat']\n",
            "Number of filtered recipes: 31075\n",
            "Based on a balance of sustainability and healthiness, the recommended recipe to choose would be:\n",
            "\n",
            "94454. Recipe: Baked Eggs Florentine\n"
          ]
        },
        {
          "output_type": "stream",
          "name": "stderr",
          "text": [
            "Processing Titles embeddings: 100%|██████████| 1/1 [00:00<00:00, 79.10batch/s]\n"
          ]
        },
        {
          "output_type": "stream",
          "name": "stdout",
          "text": [
            "Tags to match: ['beef', 'meat']\n",
            "Number of filtered recipes: 18552\n",
            "Based on a balance of sustainability and healthiness, the recommended recipe would be:\n",
            "97959. Recipe: Picante Black Bean Soup\n"
          ]
        },
        {
          "output_type": "stream",
          "name": "stderr",
          "text": [
            "Processing Titles embeddings: 100%|██████████| 1/1 [00:00<00:00, 77.61batch/s]\n"
          ]
        },
        {
          "output_type": "stream",
          "name": "stdout",
          "text": [
            "Tags to match: ['beef', 'meat']\n",
            "Number of filtered recipes: 18552\n",
            "Based on a balance of sustainability and healthiness, the recommended recipe to choose is: Recipe: Japanese Stuffed Mushrooms.\n"
          ]
        },
        {
          "output_type": "stream",
          "name": "stderr",
          "text": [
            "Processing Titles embeddings: 100%|██████████| 1/1 [00:00<00:00, 81.93batch/s]\n"
          ]
        },
        {
          "output_type": "stream",
          "name": "stdout",
          "text": [
            "Tags to match: ['main-dish', 'beef', 'meat']\n",
            "Number of filtered recipes: 31075\n",
            "Based on a balance of sustainability and healthiness, the recommended recipe is:\n",
            "\n",
            "79675. Recipe: Lemon-Thyme Chicken With Sweet Gnocchi\n"
          ]
        },
        {
          "output_type": "stream",
          "name": "stderr",
          "text": [
            "Processing Titles embeddings: 100%|██████████| 1/1 [00:00<00:00, 75.24batch/s]\n"
          ]
        },
        {
          "output_type": "stream",
          "name": "stdout",
          "text": [
            "Tags to match: ['main-dish', 'beef', 'pasta', 'meat', 'pasta-rice-and-grains']\n",
            "Number of filtered recipes: 36922\n",
            "Based on a balance of sustainability and healthiness, the recommended recipe is:\n",
            "\n",
            "100340. Recipe: Debbie's Lasagna\n"
          ]
        },
        {
          "output_type": "stream",
          "name": "stderr",
          "text": [
            "Processing Titles embeddings: 100%|██████████| 1/1 [00:00<00:00, 71.02batch/s]\n"
          ]
        },
        {
          "output_type": "stream",
          "name": "stdout",
          "text": [
            "Tags to match: ['main-dish', 'beef', 'meat']\n",
            "Number of filtered recipes: 31075\n",
            "Based on a balance of sustainability and healthiness, the recommended recipes from most to least would be:\n",
            "\n",
            "1. Recipe: Jambalaya (Authentic)\n",
            "2. Recipe: Gluten Free Meatloaf\n",
            "3. Recipe: Homemade Pastrami (Crockpot)\n",
            "4. Recipe: My Favorite Corned Beef and Cabbage\n",
            "5. Recipe: Corned Beef With a Plum Glaze (Slow Cooker)\n",
            "6. Recipe: Corned Beef With Mustard Glaze\n",
            "7. Recipe: Ruby-Glazed Corned Beef\n",
            "8. Recipe: Miriam Reichl's Corned Beef Ham\n",
            "9. Recipe: Ultimate Corned Beef\n",
            "10. Recipe: Knottsberry Farm Meatloaf\n",
            "\n",
            "The recommended recipe for you is \"Jambalaya (Authentic).\"\n"
          ]
        },
        {
          "output_type": "stream",
          "name": "stderr",
          "text": [
            "Processing Titles embeddings: 100%|██████████| 1/1 [00:00<00:00, 76.76batch/s]\n"
          ]
        },
        {
          "output_type": "stream",
          "name": "stdout",
          "text": [
            "Tags to match: ['main-dish']\n",
            "Number of filtered recipes: 26476\n",
            "Based on a balance of sustainability and healthiness, the recommended recipe is \"Recipe: Stir Fried Kai Lan or Broccoli\".\n"
          ]
        },
        {
          "output_type": "stream",
          "name": "stderr",
          "text": [
            "Processing Titles embeddings: 100%|██████████| 1/1 [00:00<00:00, 71.72batch/s]\n"
          ]
        },
        {
          "output_type": "stream",
          "name": "stdout",
          "text": [
            "Tags to match: ['main-dish', 'beef', 'meat']\n",
            "Number of filtered recipes: 31075\n",
            "Based on a balance of sustainability and healthiness, the recommended recipes from most to least are:\n",
            "\n",
            "1. Recipe: Vegetarian Southwest Lasagna\n",
            "2. Recipe: Santa Fe Chicken With Saffron Rice\n",
            "3. Recipe: Chicken Black Bean Taco Salad\n",
            "4. Recipe: Chili Stuffed Bell Peppers\n",
            "5. Recipe: Cheese Tortellini With Beans and Spinach\n",
            "6. Recipe: Penne with Turkey, Bacon and Camembert\n",
            "7. Recipe: Pasta E Fagioli Casserole\n",
            "8. Recipe: Chicken Paprikash #RSC\n",
            "9. Recipe: Patrick's White Chicken Chili\n",
            "10. Recipe: Tuna Fish Wiggle\n",
            "\n",
            "Based on the rankings, the recommended recipe for you to choose is \"Vegetarian Southwest Lasagna.\"\n"
          ]
        },
        {
          "output_type": "stream",
          "name": "stderr",
          "text": [
            "Processing Titles embeddings: 100%|██████████| 1/1 [00:00<00:00, 77.49batch/s]\n"
          ]
        },
        {
          "output_type": "stream",
          "name": "stdout",
          "text": [
            "Tags to match: ['beef', 'meat']\n",
            "Number of filtered recipes: 18552\n",
            "Based on a balance of sustainability and healthiness, the recommended recipe is:\n",
            "\n",
            "99418. Recipe: Chunky Tomato Pasta Bake\n"
          ]
        },
        {
          "output_type": "stream",
          "name": "stderr",
          "text": [
            "Processing Titles embeddings: 100%|██████████| 1/1 [00:00<00:00, 75.75batch/s]\n"
          ]
        },
        {
          "output_type": "stream",
          "name": "stdout",
          "text": [
            "Tags to match: ['main-dish', 'beef', 'meat']\n",
            "Number of filtered recipes: 31075\n",
            "Based on a balance of sustainability and healthiness, the recommended recipes from most to least are:\n",
            "\n",
            "1. Recipe: Tasty and Easy Low Fat Seafood Casserole\n",
            "2. Recipe: Quick Herbed Orange Roughy\n",
            "3. Recipe: Feta Stuffed Pesto Chicken\n",
            "4. Recipe: Crispy Oven Baked Chicken\n",
            "5. Recipe: Chili's Tortilla Crunch Chicken Fingers\n",
            "6. Recipe: Pretzel Crusted Chicken Breasts\n",
            "7. Recipe: Just Like Mom's Meatloaf\n",
            "8. Recipe: Easy Pleasing Extra Lean Meatloaf\n",
            "9. Recipe: Porcupine Meatloaf Crock Pot\n",
            "10. Recipe: Amethyst's Paleo Elk Meatloaf\n",
            "\n",
            "Based on the ranking, the recommended recipe would be \"Tasty and Easy Low Fat Seafood Casserole.\"\n"
          ]
        },
        {
          "output_type": "stream",
          "name": "stderr",
          "text": [
            "Processing Titles embeddings: 100%|██████████| 1/1 [00:00<00:00, 78.54batch/s]\n"
          ]
        },
        {
          "output_type": "stream",
          "name": "stdout",
          "text": [
            "Tags to match: ['appetizers', 'beef', 'meat']\n",
            "Number of filtered recipes: 25070\n",
            "Based on a balance of sustainability and healthiness, the recipes should be ranked as follows:\n",
            "\n",
            "1. Recipe: Easy Layered Tomato Dip (87720)\n",
            "2. Recipe: Cream Cheese and Crab Spread (62288)\n",
            "3. Recipe: Keg's Mushroom Neptune (93295)\n",
            "4. Recipe: Three-Cheese Mini Macaroni and Cheeses (95271)\n",
            "5. Recipe: Toasty Chicken Squares (61060)\n",
            "6. Recipe: Bacon Ranch Bread Bites (82852)\n",
            "7. Recipe: Hot Cheese Bites (72426)\n",
            "8. Recipe: Sweet & Sour Meatball Sauce (98896)\n",
            "9. Recipe: Toasted Cheddar Bacon Bites (81626)\n",
            "10. Recipe: Hot Devils (95639)\n",
            "\n",
            "Based on the rankings, the recommended recipe to choose would be: \n",
            "\n",
            "Recipe: Easy Layered Tomato Dip (87720)\n"
          ]
        },
        {
          "output_type": "stream",
          "name": "stderr",
          "text": [
            "Processing Titles embeddings: 100%|██████████| 1/1 [00:00<00:00, 75.01batch/s]\n"
          ]
        },
        {
          "output_type": "stream",
          "name": "stdout",
          "text": [
            "Tags to match: ['appetizers', 'breakfast', 'main-dish', 'beef', 'meat', 'pasta-rice-and-grains']\n",
            "Number of filtered recipes: 48155\n",
            "Based on a balance of sustainability and healthiness, the recommended recipe is:\n",
            "\n",
            "49162. Recipe: Thai Grilled Chicken Thighs for 2\n"
          ]
        },
        {
          "output_type": "stream",
          "name": "stderr",
          "text": [
            "Processing Titles embeddings: 100%|██████████| 1/1 [00:00<00:00, 81.34batch/s]\n"
          ]
        },
        {
          "output_type": "stream",
          "name": "stdout",
          "text": [
            "Tags to match: ['main-dish', 'pasta', 'pasta-rice-and-grains']\n",
            "Number of filtered recipes: 32752\n",
            "Based on a balance of sustainability and healthiness, the recommended recipe is:\n",
            "\n",
            "95073. Recipe: My Lasagna\n"
          ]
        },
        {
          "output_type": "stream",
          "name": "stderr",
          "text": [
            "Processing Titles embeddings: 100%|██████████| 1/1 [00:00<00:00, 78.87batch/s]\n"
          ]
        },
        {
          "output_type": "stream",
          "name": "stdout",
          "text": [
            "Tags to match: ['main-dish', 'beef', 'meat']\n",
            "Number of filtered recipes: 31075\n",
            "Ranking the recipes from most to least recommended based on sustainability and healthiness, the recommended recipe is:\n",
            "\n",
            "1. Recipe: Short Ribs Provencale\n"
          ]
        },
        {
          "output_type": "stream",
          "name": "stderr",
          "text": [
            "Processing Titles embeddings: 100%|██████████| 1/1 [00:00<00:00, 74.27batch/s]\n"
          ]
        },
        {
          "output_type": "stream",
          "name": "stdout",
          "text": [
            "Tags to match: ['main-dish', 'beef', 'meat']\n",
            "Number of filtered recipes: 31075\n",
            "Based on a balance of sustainability and healthiness, the recommended recipe is:\n",
            "88261. Recipe: Fabulous Grilled Chicken Spiedini\n"
          ]
        },
        {
          "output_type": "stream",
          "name": "stderr",
          "text": [
            "Processing Titles embeddings: 100%|██████████| 1/1 [00:00<00:00, 73.29batch/s]\n"
          ]
        },
        {
          "output_type": "stream",
          "name": "stdout",
          "text": [
            "Tags to match: ['main-dish', 'beef', 'meat']\n",
            "Number of filtered recipes: 31075\n",
            "Based on a balance of sustainability and healthiness, the recommended recipe to choose is:\n",
            "\n",
            "99784. Recipe: Eggplant (Aubergine) Rigatoni Bake\n"
          ]
        },
        {
          "output_type": "stream",
          "name": "stderr",
          "text": [
            "Processing Titles embeddings: 100%|██████████| 1/1 [00:00<00:00, 76.70batch/s]\n"
          ]
        },
        {
          "output_type": "stream",
          "name": "stdout",
          "text": [
            "Tags to match: ['main-dish', 'beef', 'meat']\n",
            "Number of filtered recipes: 31075\n",
            "Based on a balance of sustainability and healthiness, the recommended recipe to choose is:\n",
            "98580. Recipe: Bodacious Hamburgers\n"
          ]
        },
        {
          "output_type": "stream",
          "name": "stderr",
          "text": [
            "Processing Titles embeddings: 100%|██████████| 1/1 [00:00<00:00, 62.29batch/s]\n"
          ]
        },
        {
          "output_type": "stream",
          "name": "stdout",
          "text": [
            "Tags to match: ['main-dish', 'beef', 'pasta', 'meat', 'pasta-rice-and-grains']\n",
            "Number of filtered recipes: 36922\n",
            "Based on a balance of sustainability and healthiness, the recommended recipes from most to least are:\n",
            "\n",
            "1. Recipe: Grilled Beef Fajitas With Avocado Pico De Gallo\n",
            "2. Recipe: Perfect Potluck Dish Sausage and Pepper Baked Ziti\n",
            "3. Recipe: Ham & Asparagus Pie\n",
            "4. Recipe: Grilled Ham and Gouda Sandwich W/Caramelized Onions\n",
            "5. Recipe: Hot Turkey and Cheddar Cheese Sandwiches\n",
            "6. Recipe: Family Goulash\n",
            "7. Recipe: Jan's Lasagna\n",
            "8. Recipe: Easy Crock Pot Lasagna\n",
            "9. Recipe: Upside Down Pepperoni Pizza Casserole\n",
            "10. Recipe: Ground Beef N Biscuits\n",
            "\n",
            "Based on the ranking, the recommended recipe would be: Grilled Beef Fajitas With Avocado Pico De Gallo.\n"
          ]
        },
        {
          "output_type": "stream",
          "name": "stderr",
          "text": [
            "Processing Titles embeddings: 100%|██████████| 1/1 [00:00<00:00, 46.23batch/s]\n"
          ]
        },
        {
          "output_type": "stream",
          "name": "stdout",
          "text": [
            "Tags to match: ['main-dish', 'side-dishes', 'beef', 'meat']\n",
            "Number of filtered recipes: 42452\n",
            "Based on a balance of sustainability and healthiness, the recommended recipe from most to least would be:\n",
            "\n",
            "1. Recipe: Vegetable Pot Pie / Pies\n",
            "2. Recipe: Pasta, Zucchini, and Basil With Cream\n",
            "3. Recipe: Lazy Stuffed Cabbage Casserole\n",
            "4. Recipe: Pasta With Bell-Pepper-Onion-Sauce\n",
            "5. Recipe: Hashwe (Arabian Stuffed Vegetables)\n",
            "6. Recipe: Lemon Fusilli With Arugula Barefoot Contessa - Ina Garten\n",
            "7. Recipe: Pasta with Spicy Garlic Cream Sauce\n",
            "8. Recipe: Simple Beef Stew - Crock Pot\n",
            "9. Recipe: Crock Pot Steak and Black Bean Chili\n",
            "10. Recipe: Cauliflower-Cheese Pot Pies\n",
            "\n",
            "The recommended recipe for you to choose is \"Vegetable Pot Pie / Pies.\"\n"
          ]
        },
        {
          "output_type": "stream",
          "name": "stderr",
          "text": [
            "Processing Titles embeddings: 100%|██████████| 1/1 [00:00<00:00, 89.19batch/s]\n"
          ]
        },
        {
          "output_type": "stream",
          "name": "stdout",
          "text": [
            "Tags to match: ['main-dish', 'beef', 'pasta', 'meat', 'pasta-rice-and-grains']\n",
            "Number of filtered recipes: 36922\n",
            "Based on a balance of sustainability and healthiness, the recommended recipe to choose is: \n",
            "\n",
            "83507. Recipe: Curried Chicken Florentine\n"
          ]
        },
        {
          "output_type": "stream",
          "name": "stderr",
          "text": [
            "Processing Titles embeddings: 100%|██████████| 1/1 [00:00<00:00, 77.12batch/s]\n"
          ]
        },
        {
          "output_type": "stream",
          "name": "stdout",
          "text": [
            "Tags to match: ['main-dish', 'seafood']\n",
            "Number of filtered recipes: 28534\n",
            "Based on a balance of sustainability and healthiness, I would recommend choosing the following recipe:\n",
            "\n",
            "1. Recipe: Spinach and Shrimp\n"
          ]
        },
        {
          "output_type": "stream",
          "name": "stderr",
          "text": [
            "Processing Titles embeddings: 100%|██████████| 1/1 [00:00<00:00, 71.04batch/s]\n"
          ]
        },
        {
          "output_type": "stream",
          "name": "stdout",
          "text": [
            "Tags to match: ['main-dish', 'beef', 'meat']\n",
            "Number of filtered recipes: 31075\n",
            "Based on a balance of sustainability and healthiness, I would recommend the following recipe:\n",
            "\n",
            "1. Recipe: Asian Lettuce Cups With Spicy Ground Turkey Filling\n"
          ]
        },
        {
          "output_type": "stream",
          "name": "stderr",
          "text": [
            "Processing Titles embeddings: 100%|██████████| 1/1 [00:00<00:00, 50.96batch/s]\n"
          ]
        },
        {
          "output_type": "stream",
          "name": "stdout",
          "text": [
            "Tags to match: ['appetizers', 'main-dish', 'beef', 'meat']\n",
            "Number of filtered recipes: 37106\n",
            "Based on a balance of sustainability and healthiness, the recommended recipe to choose is \"Whipped Cottage Cheese\".\n"
          ]
        },
        {
          "output_type": "stream",
          "name": "stderr",
          "text": [
            "Processing Titles embeddings: 100%|██████████| 1/1 [00:00<00:00, 75.02batch/s]\n"
          ]
        },
        {
          "output_type": "stream",
          "name": "stdout",
          "text": [
            "Tags to match: ['main-dish', 'beef', 'pasta', 'meat', 'pasta-rice-and-grains']\n",
            "Number of filtered recipes: 36922\n",
            "Based on a balance of sustainability and healthiness, the recommended recipe to choose is \"Grits With Greens and Shrimp.\"\n"
          ]
        },
        {
          "output_type": "stream",
          "name": "stderr",
          "text": [
            "Processing Titles embeddings: 100%|██████████| 1/1 [00:00<00:00, 77.35batch/s]\n"
          ]
        },
        {
          "output_type": "stream",
          "name": "stdout",
          "text": [
            "Tags to match: ['side-dishes', 'beef', 'meat']\n",
            "Number of filtered recipes: 31341\n",
            "Based on a balance of sustainability and healthiness, the most recommended recipe is:\n",
            "\n",
            "65275. Recipe: Broad Beans With Pangrattato\n"
          ]
        },
        {
          "output_type": "stream",
          "name": "stderr",
          "text": [
            "Processing Titles embeddings: 100%|██████████| 1/1 [00:00<00:00, 65.15batch/s]\n"
          ]
        },
        {
          "output_type": "stream",
          "name": "stdout",
          "text": [
            "Tags to match: ['main-dish', 'beef', 'meat']\n",
            "Number of filtered recipes: 31075\n",
            "Based on a balance of sustainability and healthiness, the recommended recipe to choose is:\n",
            "\"Oven Cook Bag Stuffed Bell Peppers\" (Recipe ID: 98563)\n"
          ]
        },
        {
          "output_type": "stream",
          "name": "stderr",
          "text": [
            "Processing Titles embeddings: 100%|██████████| 1/1 [00:00<00:00, 72.53batch/s]\n"
          ]
        },
        {
          "output_type": "stream",
          "name": "stdout",
          "text": [
            "Tags to match: ['main-dish', 'beef', 'meat']\n",
            "Number of filtered recipes: 31075\n",
            "Based on a balance of sustainability and healthiness, the recommended recipe is:\n",
            "\n",
            "96223. Recipe: Melt in Your Mouth Beef Stew\n"
          ]
        },
        {
          "output_type": "stream",
          "name": "stderr",
          "text": [
            "Processing Titles embeddings: 100%|██████████| 1/1 [00:00<00:00, 76.90batch/s]\n"
          ]
        },
        {
          "output_type": "stream",
          "name": "stdout",
          "text": [
            "Tags to match: ['main-dish', 'beef', 'rice', 'meat', 'pasta-rice-and-grains']\n",
            "Number of filtered recipes: 36921\n",
            "Based on a balance of sustainability and healthiness, the recommended recipe is \"Shortcut Shepherd's Pie\".\n"
          ]
        },
        {
          "output_type": "stream",
          "name": "stderr",
          "text": [
            "Processing Titles embeddings: 100%|██████████| 1/1 [00:00<00:00, 66.25batch/s]\n"
          ]
        },
        {
          "output_type": "stream",
          "name": "stdout",
          "text": [
            "Tags to match: ['beef', 'pasta', 'meat', 'pasta-rice-and-grains']\n",
            "Number of filtered recipes: 28790\n",
            "Based on a balance of sustainability and healthiness, the recommended recipe to choose is: \n",
            "\n",
            "91840. Recipe: Vegetable Lasagna W/ Fontina Cheese & Creamy Parmesan Sauce\n"
          ]
        },
        {
          "output_type": "stream",
          "name": "stderr",
          "text": [
            "Processing Titles embeddings: 100%|██████████| 1/1 [00:00<00:00, 77.78batch/s]\n"
          ]
        },
        {
          "output_type": "stream",
          "name": "stdout",
          "text": [
            "Tags to match: ['main-dish', 'beef', 'pasta', 'meat', 'pasta-rice-and-grains']\n",
            "Number of filtered recipes: 36922\n",
            "Based on a balance of sustainability and healthiness, here is the recommended ranking:\n",
            "\n",
            "1. Recipe: Crock Pot Chicken & Veggie Stew\n",
            "2. Recipe: Leftover Thanksgiving Soup\n",
            "3. Recipe: Ground Beef and Summer Squash Skillet\n",
            "4. Recipe: Greek Pasta Bake\n",
            "5. Recipe: Chicken (Turkey) a La King in Toast Cups\n",
            "6. Recipe: Oriental Pork Stew\n",
            "7. Recipe: Baked Chicken Breasts With Cornbread Stuffing\n",
            "8. Recipe: Spicy Potato-Beef Soup\n",
            "9. Recipe: Rob's Super Bowl Chili\n",
            "10. Recipe: Taco-Stuffed Pasta Shells\n",
            "\n",
            "Based on this ranking, the recommended recipe to choose would be \"Crock Pot Chicken & Veggie Stew\".\n"
          ]
        },
        {
          "output_type": "stream",
          "name": "stderr",
          "text": [
            "Processing Titles embeddings: 100%|██████████| 1/1 [00:00<00:00, 77.50batch/s]\n"
          ]
        },
        {
          "output_type": "stream",
          "name": "stdout",
          "text": [
            "Tags to match: ['main-dish', 'beef', 'meat']\n",
            "Number of filtered recipes: 31075\n",
            "Based on a balance of sustainability and healthiness, I would recommend the following recipes from most to least recommended:\n",
            "\n",
            "1. Recipe: Spinach & Mushroom Salad\n",
            "2. Recipe: Warm Spinach and Basil Salad\n",
            "3. Recipe: Tomato and Onion Tart (Gourmet Magazine)\n",
            "4. Recipe: Linguine With Sun-Dried Tomato Pesto\n",
            "5. Recipe: Annie's Melt-In-Your-Mouth Mahi (Fish)\n",
            "6. Recipe: Spinach and Feta Puff Pie\n",
            "7. Recipe: Chicken & Corn Pastries\n",
            "8. Recipe: Easy Risotto With Bacon & Peas\n",
            "9. Recipe: Super Bowl Wedge\n",
            "10. Recipe: Beef Curry Puffs\n",
            "\n",
            "Please note that these rankings are subjective and based on the given criteria. Ultimately, the choice depends on your personal preferences and dietary restrictions.\n"
          ]
        },
        {
          "output_type": "stream",
          "name": "stderr",
          "text": [
            "Processing Titles embeddings: 100%|██████████| 1/1 [00:00<00:00, 75.36batch/s]\n"
          ]
        },
        {
          "output_type": "stream",
          "name": "stdout",
          "text": [
            "Tags to match: ['main-dish', 'beef', 'meat']\n",
            "Number of filtered recipes: 31075\n",
            "Based on a balance of sustainability and healthiness, the recommended recipe to choose is \"Thai Turkey Salad.\"\n"
          ]
        },
        {
          "output_type": "stream",
          "name": "stderr",
          "text": [
            "Processing Titles embeddings: 100%|██████████| 1/1 [00:00<00:00, 49.93batch/s]\n"
          ]
        },
        {
          "output_type": "stream",
          "name": "stdout",
          "text": [
            "Tags to match: ['main-dish', 'beef', 'meat']\n",
            "Number of filtered recipes: 31075\n",
            "Based on a balance of sustainability and healthiness, the recommended recipes from most to least are:\n",
            "\n",
            "1. Recipe: Italian Sausage Bean and Spinach Soup\n",
            "2. Recipe: Rosti-Topped Sausages and Garlicky Cabbage\n",
            "3. Recipe: Cheesy Italian Sausage & Pepper Loaves\n",
            "4. Recipe: Un-Stuffed Bell Pepper Casserole (Crock Pot)\n",
            "5. Recipe: Mom's Signature Roast Beef\n",
            "6. Recipe: Italian Sausage Dump Casserole\n",
            "7. Recipe: Mexican Dorito Casserole\n",
            "8. Recipe: Bolognese at Its Best\n",
            "9. Recipe: Polish Mistakes by Mrs. B\n",
            "10. Recipe: Bacon County, Georgia Peachy Pizza #RSC\n",
            "\n",
            "Based on the rankings, the recommended recipe to choose is: Recipe: Italian Sausage Bean and Spinach Soup.\n"
          ]
        },
        {
          "output_type": "stream",
          "name": "stderr",
          "text": [
            "Processing Titles embeddings: 100%|██████████| 1/1 [00:00<00:00, 62.85batch/s]\n"
          ]
        },
        {
          "output_type": "stream",
          "name": "stdout",
          "text": [
            "Tags to match: ['main-dish', 'beef', 'meat']\n",
            "Number of filtered recipes: 31075\n",
            "Based on a balance of sustainability and healthiness, I recommend the following recipe:\n",
            "\n",
            "1. Recipe: Swedish Meatballs II\n"
          ]
        },
        {
          "output_type": "stream",
          "name": "stderr",
          "text": [
            "Processing Titles embeddings: 100%|██████████| 1/1 [00:00<00:00, 74.65batch/s]\n"
          ]
        },
        {
          "output_type": "stream",
          "name": "stdout",
          "text": [
            "Tags to match: ['main-dish', 'beef', 'meat']\n",
            "Number of filtered recipes: 31075\n",
            "Based on a balance of sustainability and healthiness, the recommended recipe to choose is:\n",
            "\n",
            "85700. Recipe: Winter Chicken Soup With Tomatoes and Cannellini Beans\n"
          ]
        },
        {
          "output_type": "stream",
          "name": "stderr",
          "text": [
            "Processing Titles embeddings: 100%|██████████| 1/1 [00:00<00:00, 76.84batch/s]\n"
          ]
        },
        {
          "output_type": "stream",
          "name": "stdout",
          "text": [
            "Tags to match: ['main-dish', 'beef', 'meat']\n",
            "Number of filtered recipes: 31075\n",
            "Based on a balance of sustainability and healthiness, here is the recommended order for the recipes:\n",
            "\n",
            "1. Recipe: Dieter's Taco Salad\n",
            "2. Recipe: Forgotten Beef Stew\n",
            "3. Recipe: Simple Beef Stew - Crock Pot\n",
            "4. Recipe: Norwegian Beef Stew (Lapskaus)\n",
            "5. Recipe: Ground Beef Stuffed Green Bell Peppers II - Oven or Crock Pot\n",
            "6. Recipe: Fragrant Moroccan Beef, Date, Honey and Prune Tagine - Crock Pot\n",
            "7. Recipe: Another Homemade Beef Stock Recipe\n",
            "8. Recipe: English Cottage Pie\n",
            "9. Recipe: 3 Pepper Chili\n",
            "10. Recipe: Susan's Harvest Stew\n",
            "\n",
            "For your chosen recipe, you should go with \"Dieter's Taco Salad.\"\n"
          ]
        },
        {
          "output_type": "stream",
          "name": "stderr",
          "text": [
            "Processing Titles embeddings: 100%|██████████| 1/1 [00:00<00:00, 61.68batch/s]\n"
          ]
        },
        {
          "output_type": "stream",
          "name": "stdout",
          "text": [
            "Tags to match: ['main-dish', 'beef', 'pasta', 'meat', 'pasta-rice-and-grains']\n",
            "Number of filtered recipes: 36922\n",
            "Based on a balance of sustainability and healthiness, the recommended recipe is 94536. Recipe: Cottage Cheese Lasagna.\n"
          ]
        },
        {
          "output_type": "stream",
          "name": "stderr",
          "text": [
            "Processing Titles embeddings: 100%|██████████| 1/1 [00:00<00:00, 70.93batch/s]\n"
          ]
        },
        {
          "output_type": "stream",
          "name": "stdout",
          "text": [
            "Tags to match: ['main-dish', 'beef', 'meat']\n",
            "Number of filtered recipes: 31075\n",
            "Based on a balance of sustainability and healthiness, the recommended recipes ranked from most to least would be:\n",
            "\n",
            "1. Recipe: Braccioli\n",
            "2. Recipe: Yummy Baked Stuffed Chicken\n",
            "3. Recipe: I Want to Marry This Chicken!\n",
            "4. Recipe: Chicken Bacon and Leek\n",
            "5. Recipe: Burger Mushroom Bake\n",
            "6. Recipe: Smoked Barbecue Meatloaf\n",
            "7. Recipe: Crunchy Chicken Nuggets\n",
            "8. Recipe: Upside Down Pizza Casserole\n",
            "9. Recipe: Double-Decker Burgers\n",
            "10. Recipe: Nathalie Dupree's Meat Loaf\n",
            "\n",
            "You should choose Recipe: Braccioli.\n"
          ]
        },
        {
          "output_type": "stream",
          "name": "stderr",
          "text": [
            "Processing Titles embeddings: 100%|██████████| 1/1 [00:00<00:00, 74.99batch/s]\n"
          ]
        },
        {
          "output_type": "stream",
          "name": "stdout",
          "text": [
            "Tags to match: ['main-dish', 'meat']\n",
            "Number of filtered recipes: 31075\n",
            "Based on a balance of sustainability and healthiness, the recommended recipes from most to least are:\n",
            "\n",
            "1. Recipe: Chef Joey Z's Slow Cooker Limas (Vegan)\n",
            "2. Recipe: Sheila's Split Pea Soup\n",
            "3. Recipe: Vermont Style Chili\n",
            "4. Recipe: Calypso Pineapple Bean Pot\n",
            "5. Recipe: Pineapple Vegan Chili\n",
            "6. Recipe: Succotash Soup\n",
            "7. Recipe: Crock-Pot Baked Beans in Tomato Sauce\n",
            "8. Recipe: Our Special Vegetarian Lasagne\n",
            "9. Recipe: Steamed Eggplant With Minced Chicken in Rice Vinegar\n",
            "10. Recipe: Crock Pot Lentils With Ham and Rosemary\n",
            "\n",
            "For the best overall choice, you should choose \"Chef Joey Z's Slow Cooker Limas (Vegan).\"\n"
          ]
        },
        {
          "output_type": "stream",
          "name": "stderr",
          "text": [
            "Processing Titles embeddings: 100%|██████████| 1/1 [00:00<00:00, 74.34batch/s]\n"
          ]
        },
        {
          "output_type": "stream",
          "name": "stdout",
          "text": [
            "Tags to match: ['main-dish', 'beef', 'meat']\n",
            "Number of filtered recipes: 31075\n",
            "Based on a balance of sustainability and healthiness, I would recommend the following recipe:\n",
            "\n",
            "95549. Recipe: Caldillo- Green Chile Stew!\n"
          ]
        },
        {
          "output_type": "stream",
          "name": "stderr",
          "text": [
            "Processing Titles embeddings: 100%|██████████| 1/1 [00:00<00:00, 76.62batch/s]\n"
          ]
        },
        {
          "output_type": "stream",
          "name": "stdout",
          "text": [
            "Tags to match: ['main-dish', 'beef', 'meat']\n",
            "Number of filtered recipes: 31075\n",
            "Based on a balance of sustainability and healthiness, the recommended recipe to choose is \"Hearty Italian Beef Bowl #RSC\" (recipe number: 90315).\n"
          ]
        }
      ]
    },
    {
      "cell_type": "code",
      "source": [
        "len(results)"
      ],
      "metadata": {
        "colab": {
          "base_uri": "https://localhost:8080/"
        },
        "id": "68H-RVuATU0R",
        "outputId": "9da67a15-6445-4e6e-8037-958ec4acabcd"
      },
      "execution_count": null,
      "outputs": [
        {
          "output_type": "execute_result",
          "data": {
            "text/plain": [
              "100"
            ]
          },
          "metadata": {},
          "execution_count": 13
        }
      ]
    },
    {
      "cell_type": "code",
      "source": [
        "import json\n",
        "import pandas as pd\n",
        "\n",
        "# Carica i dati dal file JSON\n",
        "with open('experiment_results_with_gpt_and_similarity_k_10.json', 'r') as file:\n",
        "    experiment_data = json.load(file)\n",
        "\n",
        "# Converti i dati in un DataFrame\n",
        "experiment_df = pd.DataFrame(experiment_data)\n",
        "\n",
        "# Assumiamo di avere gli ID delle ricette per ogni sottogruppo\n",
        "sustainability_label_2_ids = sustainability_label_2_recipes['recipe_id'].unique()\n"
      ],
      "metadata": {
        "id": "SMH3G-oyGAGW"
      },
      "execution_count": null,
      "outputs": []
    },
    {
      "cell_type": "code",
      "source": [
        "import json\n",
        "import pandas as pd\n",
        "\n",
        "# Carica i dati dal file JSON\n",
        "with open('experiment_results_with_gpt_and_similarity_k_10.json', 'r') as file:\n",
        "    experiment_data = json.load(file)\n",
        "\n",
        "# Converti i dati in un DataFrame\n",
        "experiment_df = pd.DataFrame(experiment_data)\n",
        "\n",
        "# Estrai solo le entrate dove GPT ha fatto una scelta\n",
        "gpt_choices_df = experiment_df.dropna(subset=['gpt_choice'])\n",
        "\n",
        "# Inizializza i contatori per gli incrementi\n",
        "healthiness_increments = []\n",
        "sustainability_increments = []\n",
        "sustainameal_score_increments = []\n",
        "\n",
        "# Calcola gli incrementi solo per le scelte di GPT\n",
        "for index, row in gpt_choices_df.iterrows():\n",
        "    for ordered_recipe in row['ordered_by_sustainameal']:\n",
        "        if ordered_recipe['title'] == row['gpt_choice']:\n",
        "            healthiness_increments.append(ordered_recipe['healthiness_increment'])\n",
        "            sustainability_increments.append(ordered_recipe['sustainability_increment'])\n",
        "            sustainameal_score_increments.append(ordered_recipe['sustainameal_score_increment'])\n",
        "            break  # Interrompi il ciclo dopo aver trovato la corrispondenza\n",
        "\n",
        "# Calcola le medie degli incrementi per le scelte di GPT\n",
        "average_healthiness_increment = sum(healthiness_increments) / len(healthiness_increments) if healthiness_increments else None\n",
        "average_sustainability_increment = sum(sustainability_increments) / len(sustainability_increments) if sustainability_increments else None\n",
        "average_sustainameal_score_increment = sum(sustainameal_score_increments) / len(sustainameal_score_increments) if sustainameal_score_increments else None\n",
        "\n",
        "# Crea un DataFrame con una riga contenente le medie e la colonna gpt_rerank impostata a True\n",
        "gpt_results_df = pd.DataFrame({\n",
        "    'top_healthiness_increment_mean': [average_healthiness_increment],\n",
        "    'top_sustainability_increment_mean': [average_sustainability_increment],\n",
        "    'top_sustainameal_score_increment_mean': [average_sustainameal_score_increment],\n",
        "    'gpt_rerank': [True],\n",
        "    'k':10,\n",
        "})\n",
        "\n",
        "# Stampa il DataFrame dei risultati\n",
        "print(gpt_results_df)\n"
      ],
      "metadata": {
        "colab": {
          "base_uri": "https://localhost:8080/"
        },
        "id": "jJ7MaGIuSi47",
        "outputId": "ba6fdf09-ccfa-423b-f836-0ab6a6bd6f19"
      },
      "execution_count": null,
      "outputs": [
        {
          "output_type": "stream",
          "name": "stdout",
          "text": [
            "   top_healthiness_increment_mean  top_sustainability_increment_mean  \\\n",
            "0                        3.261567                          71.328387   \n",
            "\n",
            "   top_sustainameal_score_increment_mean  gpt_rerank   k  \n",
            "0                              56.071874        True  10  \n"
          ]
        }
      ]
    },
    {
      "cell_type": "code",
      "source": [
        "import json\n",
        "import pandas as pd\n",
        "\n",
        "# Carica i dati dal file JSON\n",
        "with open('experiment_results_with_gpt_and_similarity_k_10.json', 'r') as file:\n",
        "    experiment_data = json.load(file)\n",
        "\n",
        "# Converti i dati in un DataFrame\n",
        "experiment_df = pd.DataFrame(experiment_data)\n",
        "\n",
        "# Inizializza i contatori per gli incrementi\n",
        "top_healthiness_increments = []\n",
        "top_sustainability_increments = []\n",
        "top_sustainameal_score_increments = []\n",
        "\n",
        "# Calcola gli incrementi per le prime ricette in ordered_by_sustainameal\n",
        "for index, row in experiment_df.iterrows():\n",
        "    if row['ordered_by_sustainameal']:  # Controlla se la lista non è vuota\n",
        "        top_recipe = row['ordered_by_sustainameal'][0]  # Prende sempre la prima ricetta\n",
        "        top_healthiness_increments.append(top_recipe['healthiness_increment'])\n",
        "        top_sustainability_increments.append(top_recipe['sustainability_increment'])\n",
        "        top_sustainameal_score_increments.append(top_recipe['sustainameal_score_increment'])\n",
        "\n",
        "# Calcola le medie degli incrementi per le prime ricette\n",
        "average_top_healthiness_increment = sum(top_healthiness_increments) / len(top_healthiness_increments) if top_healthiness_increments else None\n",
        "average_top_sustainability_increment = sum(top_sustainability_increments) / len(top_sustainability_increments) if top_sustainability_increments else None\n",
        "average_top_sustainameal_score_increment = sum(top_sustainameal_score_increments) / len(top_sustainameal_score_increments) if top_sustainameal_score_increments else None\n",
        "\n",
        "# Crea un DataFrame con una riga contenente le medie\n",
        "top_results_df_10 = pd.DataFrame({\n",
        "    'top_healthiness_increment_mean': [average_top_healthiness_increment],\n",
        "    'top_sustainability_increment_mean': [average_top_sustainability_increment],\n",
        "    'top_sustainameal_score_increment_mean': [average_top_sustainameal_score_increment],\n",
        "    'gpt_rerank': [False],\n",
        "    'k':10,\n",
        "})\n",
        "\n",
        "# Stampa il DataFrame dei risultati\n",
        "print(top_results_df_10)\n"
      ],
      "metadata": {
        "colab": {
          "base_uri": "https://localhost:8080/"
        },
        "id": "1_s12YsoZQP0",
        "outputId": "6beb0b01-f977-4603-8c47-a3fe96c90aeb"
      },
      "execution_count": null,
      "outputs": [
        {
          "output_type": "stream",
          "name": "stdout",
          "text": [
            "   top_healthiness_increment_mean  top_sustainability_increment_mean  \\\n",
            "0                        6.223237                         129.079306   \n",
            "\n",
            "   top_sustainameal_score_increment_mean  gpt_rerank   k  \n",
            "0                             103.871304       False  10  \n"
          ]
        }
      ]
    },
    {
      "cell_type": "code",
      "source": [
        "import json\n",
        "import pandas as pd\n",
        "\n",
        "# Carica i dati dal file JSON\n",
        "with open('experiment_results_with_gpt_and_similarity_k_10.json', 'r') as file:\n",
        "    experiment_data = json.load(file)\n",
        "\n",
        "# Converti i dati in un DataFrame\n",
        "experiment_df = pd.DataFrame(experiment_data)\n",
        "\n",
        "# Filtra per gli esperimenti in cui GPT ha fatto una scelta\n",
        "gpt_choices_df = experiment_df.dropna(subset=['gpt_choice'])\n",
        "\n",
        "# Calcola le corrispondenze esatte\n",
        "exact_matches = gpt_choices_df.apply(lambda row: row['ordered_by_sustainameal'][0]['title'] == row['gpt_choice'], axis=1)\n",
        "\n",
        "# Calcola la percentuale di corrispondenze esatte\n",
        "exact_match_count = exact_matches.sum()\n",
        "total_choices = len(gpt_choices_df)\n",
        "exact_match_percentage = (exact_match_count / total_choices * 100) if total_choices > 0 else 0\n",
        "\n",
        "# Stampa il conteggio delle corrispondenze esatte e la percentuale\n",
        "print(f\"Corrispondenze esatte: {exact_match_count}\")\n",
        "print(f\"Percentuale di corrispondenza esatta con GPT: {exact_match_percentage}%\")\n"
      ],
      "metadata": {
        "colab": {
          "base_uri": "https://localhost:8080/"
        },
        "id": "188imWteTtlX",
        "outputId": "221b8a28-357e-4103-8b4c-62401866fb7a"
      },
      "execution_count": null,
      "outputs": [
        {
          "output_type": "stream",
          "name": "stdout",
          "text": [
            "Corrispondenze esatte: 3\n",
            "Percentuale di corrispondenza esatta con GPT: 3.3707865168539324%\n"
          ]
        }
      ]
    },
    {
      "cell_type": "code",
      "source": [
        "import json\n",
        "import pandas as pd\n",
        "\n",
        "# Assumi che 'SustainaMeal', 'acceptable_tags', 'nutrients_string', e 'recipe_titles' siano definiti\n",
        "\n",
        "# Parametri per gli esperimenti\n",
        "k_values = [1]\n",
        "match_all_tags_values = [False]\n",
        "\n",
        "# Funzione ausiliaria per convertire oggetti in formati serializzabili in JSON\n",
        "def convert_to_serializable(obj):\n",
        "    if hasattr(obj, 'to_dict'):\n",
        "        return obj.to_dict('records')\n",
        "    elif hasattr(obj, 'tolist'):\n",
        "        return obj.tolist()\n",
        "    elif isinstance(obj, (list, dict, str, int, float, bool, type(None))):\n",
        "        return obj\n",
        "    else:\n",
        "        return str(obj)\n",
        "\n",
        "results = []  # Lista per raccogliere i risultati degli esperimenti\n",
        "\n",
        "for index, row in selected_recipes.iterrows():\n",
        "    input_recipe = row['title']\n",
        "    match_results = {}  # Dizionario per memorizzare i risultati di match per ogni k\n",
        "    for k in k_values:\n",
        "        match_results[k] = {'exact_match': False, 'match_count': 0}  # Inizializza il conteggio e il match esatto per ogni k\n",
        "        for match_all_tags in match_all_tags_values:\n",
        "            try:\n",
        "                similar_recipes = sm.find_similar_recipes(input_recipe, k, acceptable_tags=acceptable_tags, match_all_tags=match_all_tags)\n",
        "                ordered_recipes = sm.order_recipe_by_sustainameal()\n",
        "                ordered_recipes_gpt = sm.order_recipe_by_sustainameal()\n",
        "                result = {\n",
        "                    'recipe_name': input_recipe,\n",
        "                    'recipe_id': row['recipe_id'],\n",
        "                    'sustnability_score': row['sustainability_score'],\n",
        "                    'sustnability_label': row['sustainability_label'],\n",
        "                    'who_score': row['who_score'],\n",
        "                    'healthiness_label': row['healthiness_label'],\n",
        "                    'k': k,\n",
        "                    'nutrients': nutrients_string,\n",
        "                    'match_all_tags': match_all_tags,\n",
        "                    'similar_recipes': convert_to_serializable(similar_recipes) if similar_recipes is not None else None,\n",
        "                    'ordered_by_sustainameal': convert_to_serializable(ordered_recipes) if ordered_recipes is not None else None\n",
        "                }\n",
        "                results.append(result)\n",
        "            except Exception as e:\n",
        "                print(f\"An error occurred while finding similar recipes: {e}\")\n",
        "                best_choice_by_gpt = None\n",
        "\n",
        "\n",
        "\n",
        "with open('experiment_results_with_gpt_and_similarity_k_1.json', 'w') as f:\n",
        "    json.dump(results, f, ensure_ascii=False, indent=4)\n"
      ],
      "metadata": {
        "id": "z6g7LiezZudm",
        "colab": {
          "base_uri": "https://localhost:8080/"
        },
        "outputId": "00b7a187-2514-4cb0-cdc7-fdd0f00eda56"
      },
      "execution_count": null,
      "outputs": [
        {
          "output_type": "stream",
          "name": "stderr",
          "text": [
            "Processing Titles embeddings: 100%|██████████| 1/1 [00:00<00:00, 49.80batch/s]\n"
          ]
        },
        {
          "output_type": "stream",
          "name": "stdout",
          "text": [
            "Tags to match: ['main-dish', 'beef', 'pasta', 'meat', 'pasta-rice-and-grains']\n",
            "Number of filtered recipes: 36922\n"
          ]
        },
        {
          "output_type": "stream",
          "name": "stderr",
          "text": [
            "Processing Titles embeddings: 100%|██████████| 1/1 [00:00<00:00, 70.69batch/s]\n"
          ]
        },
        {
          "output_type": "stream",
          "name": "stdout",
          "text": [
            "Tags to match: ['main-dish', 'meat', 'pasta-rice-and-grains']\n",
            "Number of filtered recipes: 36921\n"
          ]
        },
        {
          "output_type": "stream",
          "name": "stderr",
          "text": [
            "Processing Titles embeddings: 100%|██████████| 1/1 [00:00<00:00, 72.35batch/s]\n"
          ]
        },
        {
          "output_type": "stream",
          "name": "stdout",
          "text": [
            "Tags to match: ['beef', 'meat']\n",
            "Number of filtered recipes: 18552\n"
          ]
        },
        {
          "output_type": "stream",
          "name": "stderr",
          "text": [
            "Processing Titles embeddings: 100%|██████████| 1/1 [00:00<00:00, 78.22batch/s]\n"
          ]
        },
        {
          "output_type": "stream",
          "name": "stdout",
          "text": [
            "Tags to match: ['main-dish', 'beef', 'meat']\n",
            "Number of filtered recipes: 31075\n"
          ]
        },
        {
          "output_type": "stream",
          "name": "stderr",
          "text": [
            "Processing Titles embeddings: 100%|██████████| 1/1 [00:00<00:00, 81.18batch/s]\n"
          ]
        },
        {
          "output_type": "stream",
          "name": "stdout",
          "text": [
            "Tags to match: ['main-dish', 'beef', 'meat']\n",
            "Number of filtered recipes: 31075\n"
          ]
        },
        {
          "output_type": "stream",
          "name": "stderr",
          "text": [
            "Processing Titles embeddings: 100%|██████████| 1/1 [00:00<00:00, 82.68batch/s]\n"
          ]
        },
        {
          "output_type": "stream",
          "name": "stdout",
          "text": [
            "Tags to match: ['main-dish', 'beef', 'meat']\n",
            "Number of filtered recipes: 31075\n"
          ]
        },
        {
          "output_type": "stream",
          "name": "stderr",
          "text": [
            "Processing Titles embeddings: 100%|██████████| 1/1 [00:00<00:00, 84.11batch/s]\n"
          ]
        },
        {
          "output_type": "stream",
          "name": "stdout",
          "text": [
            "Tags to match: ['main-dish', 'beef', 'meat']\n",
            "Number of filtered recipes: 31075\n"
          ]
        },
        {
          "output_type": "stream",
          "name": "stderr",
          "text": [
            "Processing Titles embeddings: 100%|██████████| 1/1 [00:00<00:00, 81.36batch/s]\n"
          ]
        },
        {
          "output_type": "stream",
          "name": "stdout",
          "text": [
            "Tags to match: ['main-dish', 'beef', 'meat']\n",
            "Number of filtered recipes: 31075\n"
          ]
        },
        {
          "output_type": "stream",
          "name": "stderr",
          "text": [
            "Processing Titles embeddings: 100%|██████████| 1/1 [00:00<00:00, 83.87batch/s]\n"
          ]
        },
        {
          "output_type": "stream",
          "name": "stdout",
          "text": [
            "Tags to match: ['main-dish', 'beef', 'meat']\n",
            "Number of filtered recipes: 31075\n"
          ]
        },
        {
          "output_type": "stream",
          "name": "stderr",
          "text": [
            "Processing Titles embeddings: 100%|██████████| 1/1 [00:00<00:00, 82.78batch/s]\n"
          ]
        },
        {
          "output_type": "stream",
          "name": "stdout",
          "text": [
            "Tags to match: ['main-dish', 'seafood']\n",
            "Number of filtered recipes: 28534\n"
          ]
        },
        {
          "output_type": "stream",
          "name": "stderr",
          "text": [
            "Processing Titles embeddings: 100%|██████████| 1/1 [00:00<00:00, 74.96batch/s]\n"
          ]
        },
        {
          "output_type": "stream",
          "name": "stdout",
          "text": [
            "Tags to match: ['main-dish', 'beef', 'meat']\n",
            "Number of filtered recipes: 31075\n"
          ]
        },
        {
          "output_type": "stream",
          "name": "stderr",
          "text": [
            "Processing Titles embeddings: 100%|██████████| 1/1 [00:00<00:00, 72.76batch/s]\n"
          ]
        },
        {
          "output_type": "stream",
          "name": "stdout",
          "text": [
            "Tags to match: ['main-dish', 'pasta-rice-and-grains']\n",
            "Number of filtered recipes: 32751\n"
          ]
        },
        {
          "output_type": "stream",
          "name": "stderr",
          "text": [
            "Processing Titles embeddings: 100%|██████████| 1/1 [00:00<00:00, 58.93batch/s]\n"
          ]
        },
        {
          "output_type": "stream",
          "name": "stdout",
          "text": [
            "Tags to match: ['main-dish', 'beef', 'meat']\n",
            "Number of filtered recipes: 31075\n"
          ]
        },
        {
          "output_type": "stream",
          "name": "stderr",
          "text": [
            "Processing Titles embeddings: 100%|██████████| 1/1 [00:00<00:00, 59.49batch/s]\n"
          ]
        },
        {
          "output_type": "stream",
          "name": "stdout",
          "text": [
            "Tags to match: ['main-dish', 'seafood', 'fish']\n",
            "Number of filtered recipes: 28534\n"
          ]
        },
        {
          "output_type": "stream",
          "name": "stderr",
          "text": [
            "Processing Titles embeddings: 100%|██████████| 1/1 [00:00<00:00, 78.30batch/s]\n"
          ]
        },
        {
          "output_type": "stream",
          "name": "stdout",
          "text": [
            "Tags to match: ['main-dish']\n",
            "Number of filtered recipes: 26476\n"
          ]
        },
        {
          "output_type": "stream",
          "name": "stderr",
          "text": [
            "Processing Titles embeddings: 100%|██████████| 1/1 [00:00<00:00, 63.01batch/s]\n"
          ]
        },
        {
          "output_type": "stream",
          "name": "stdout",
          "text": [
            "Tags to match: ['main-dish', 'beef', 'meat']\n",
            "Number of filtered recipes: 31075\n"
          ]
        },
        {
          "output_type": "stream",
          "name": "stderr",
          "text": [
            "Processing Titles embeddings: 100%|██████████| 1/1 [00:00<00:00, 81.25batch/s]\n"
          ]
        },
        {
          "output_type": "stream",
          "name": "stdout",
          "text": [
            "Tags to match: ['main-dish', 'pasta', 'pasta-rice-and-grains']\n",
            "Number of filtered recipes: 32752\n"
          ]
        },
        {
          "output_type": "stream",
          "name": "stderr",
          "text": [
            "Processing Titles embeddings: 100%|██████████| 1/1 [00:00<00:00, 81.77batch/s]\n"
          ]
        },
        {
          "output_type": "stream",
          "name": "stdout",
          "text": [
            "Tags to match: ['main-dish', 'side-dishes', 'beef', 'meat']\n",
            "Number of filtered recipes: 42452\n"
          ]
        },
        {
          "output_type": "stream",
          "name": "stderr",
          "text": [
            "Processing Titles embeddings: 100%|██████████| 1/1 [00:00<00:00, 65.51batch/s]\n"
          ]
        },
        {
          "output_type": "stream",
          "name": "stdout",
          "text": [
            "Tags to match: ['beef', 'meat']\n",
            "Number of filtered recipes: 18552\n"
          ]
        },
        {
          "output_type": "stream",
          "name": "stderr",
          "text": [
            "Processing Titles embeddings: 100%|██████████| 1/1 [00:00<00:00, 76.02batch/s]\n"
          ]
        },
        {
          "output_type": "stream",
          "name": "stdout",
          "text": [
            "Tags to match: ['main-dish', 'beef', 'pasta', 'meat', 'pasta-rice-and-grains']\n",
            "Number of filtered recipes: 36922\n"
          ]
        },
        {
          "output_type": "stream",
          "name": "stderr",
          "text": [
            "Processing Titles embeddings: 100%|██████████| 1/1 [00:00<00:00, 89.50batch/s]\n"
          ]
        },
        {
          "output_type": "stream",
          "name": "stdout",
          "text": [
            "Tags to match: ['main-dish', 'pasta', 'pasta-rice-and-grains']\n",
            "Number of filtered recipes: 32752\n"
          ]
        },
        {
          "output_type": "stream",
          "name": "stderr",
          "text": [
            "Processing Titles embeddings: 100%|██████████| 1/1 [00:00<00:00, 75.40batch/s]\n"
          ]
        },
        {
          "output_type": "stream",
          "name": "stdout",
          "text": [
            "Tags to match: ['main-dish', 'beef', 'meat']\n",
            "Number of filtered recipes: 31075\n"
          ]
        },
        {
          "output_type": "stream",
          "name": "stderr",
          "text": [
            "Processing Titles embeddings: 100%|██████████| 1/1 [00:00<00:00, 65.47batch/s]\n"
          ]
        },
        {
          "output_type": "stream",
          "name": "stdout",
          "text": [
            "Tags to match: ['main-dish', 'beef', 'meat']\n",
            "Number of filtered recipes: 31075\n"
          ]
        },
        {
          "output_type": "stream",
          "name": "stderr",
          "text": [
            "Processing Titles embeddings: 100%|██████████| 1/1 [00:00<00:00, 84.46batch/s]\n"
          ]
        },
        {
          "output_type": "stream",
          "name": "stdout",
          "text": [
            "Tags to match: ['main-dish', 'pasta', 'pasta-rice-and-grains']\n",
            "Number of filtered recipes: 32752\n"
          ]
        },
        {
          "output_type": "stream",
          "name": "stderr",
          "text": [
            "Processing Titles embeddings: 100%|██████████| 1/1 [00:00<00:00, 87.83batch/s]\n"
          ]
        },
        {
          "output_type": "stream",
          "name": "stdout",
          "text": [
            "Tags to match: ['appetizers', 'beef', 'meat']\n",
            "Number of filtered recipes: 25070\n"
          ]
        },
        {
          "output_type": "stream",
          "name": "stderr",
          "text": [
            "Processing Titles embeddings: 100%|██████████| 1/1 [00:00<00:00, 69.26batch/s]\n"
          ]
        },
        {
          "output_type": "stream",
          "name": "stdout",
          "text": [
            "Tags to match: ['main-dish', 'beef', 'meat']\n",
            "Number of filtered recipes: 31075\n"
          ]
        },
        {
          "output_type": "stream",
          "name": "stderr",
          "text": [
            "Processing Titles embeddings: 100%|██████████| 1/1 [00:00<00:00, 86.19batch/s]\n"
          ]
        },
        {
          "output_type": "stream",
          "name": "stdout",
          "text": [
            "Tags to match: ['appetizers', 'main-dish', 'beef', 'meat']\n",
            "Number of filtered recipes: 37106\n"
          ]
        },
        {
          "output_type": "stream",
          "name": "stderr",
          "text": [
            "Processing Titles embeddings: 100%|██████████| 1/1 [00:00<00:00, 86.43batch/s]\n"
          ]
        },
        {
          "output_type": "stream",
          "name": "stdout",
          "text": [
            "Tags to match: ['main-dish', 'beef', 'pasta', 'meat', 'pasta-rice-and-grains']\n",
            "Number of filtered recipes: 36922\n"
          ]
        },
        {
          "output_type": "stream",
          "name": "stderr",
          "text": [
            "Processing Titles embeddings: 100%|██████████| 1/1 [00:00<00:00, 82.13batch/s]\n"
          ]
        },
        {
          "output_type": "stream",
          "name": "stdout",
          "text": [
            "Tags to match: ['beef', 'meat']\n",
            "Number of filtered recipes: 18552\n"
          ]
        },
        {
          "output_type": "stream",
          "name": "stderr",
          "text": [
            "Processing Titles embeddings: 100%|██████████| 1/1 [00:00<00:00, 63.76batch/s]\n"
          ]
        },
        {
          "output_type": "stream",
          "name": "stdout",
          "text": [
            "Tags to match: ['main-dish']\n",
            "Number of filtered recipes: 26476\n"
          ]
        },
        {
          "output_type": "stream",
          "name": "stderr",
          "text": [
            "Processing Titles embeddings: 100%|██████████| 1/1 [00:00<00:00, 42.58batch/s]\n"
          ]
        },
        {
          "output_type": "stream",
          "name": "stdout",
          "text": [
            "Tags to match: ['main-dish', 'beef', 'rice', 'meat', 'pasta-rice-and-grains']\n",
            "Number of filtered recipes: 36921\n"
          ]
        },
        {
          "output_type": "stream",
          "name": "stderr",
          "text": [
            "Processing Titles embeddings: 100%|██████████| 1/1 [00:00<00:00, 76.89batch/s]\n"
          ]
        },
        {
          "output_type": "stream",
          "name": "stdout",
          "text": [
            "Tags to match: ['main-dish', 'beef', 'meat']\n",
            "Number of filtered recipes: 31075\n"
          ]
        },
        {
          "output_type": "stream",
          "name": "stderr",
          "text": [
            "Processing Titles embeddings: 100%|██████████| 1/1 [00:00<00:00, 73.58batch/s]\n"
          ]
        },
        {
          "output_type": "stream",
          "name": "stdout",
          "text": [
            "Tags to match: ['main-dish', 'beef', 'meat']\n",
            "Number of filtered recipes: 31075\n"
          ]
        },
        {
          "output_type": "stream",
          "name": "stderr",
          "text": [
            "Processing Titles embeddings: 100%|██████████| 1/1 [00:00<00:00, 93.53batch/s]\n"
          ]
        },
        {
          "output_type": "stream",
          "name": "stdout",
          "text": [
            "Tags to match: ['main-dish']\n",
            "Number of filtered recipes: 26476\n"
          ]
        },
        {
          "output_type": "stream",
          "name": "stderr",
          "text": [
            "Processing Titles embeddings: 100%|██████████| 1/1 [00:00<00:00, 60.99batch/s]\n"
          ]
        },
        {
          "output_type": "stream",
          "name": "stdout",
          "text": [
            "Tags to match: ['main-dish', 'beef', 'meat']\n",
            "Number of filtered recipes: 31075\n"
          ]
        },
        {
          "output_type": "stream",
          "name": "stderr",
          "text": [
            "Processing Titles embeddings: 100%|██████████| 1/1 [00:00<00:00, 57.89batch/s]\n"
          ]
        },
        {
          "output_type": "stream",
          "name": "stdout",
          "text": [
            "Tags to match: ['main-dish', 'beef', 'meat']\n",
            "Number of filtered recipes: 31075\n"
          ]
        },
        {
          "output_type": "stream",
          "name": "stderr",
          "text": [
            "Processing Titles embeddings: 100%|██████████| 1/1 [00:00<00:00, 55.74batch/s]\n"
          ]
        },
        {
          "output_type": "stream",
          "name": "stdout",
          "text": [
            "Tags to match: ['main-dish', 'beef', 'pasta', 'meat', 'pasta-rice-and-grains']\n",
            "Number of filtered recipes: 36922\n"
          ]
        },
        {
          "output_type": "stream",
          "name": "stderr",
          "text": [
            "Processing Titles embeddings: 100%|██████████| 1/1 [00:00<00:00, 80.24batch/s]\n"
          ]
        },
        {
          "output_type": "stream",
          "name": "stdout",
          "text": [
            "Tags to match: ['main-dish', 'beef', 'meat']\n",
            "Number of filtered recipes: 31075\n"
          ]
        },
        {
          "output_type": "stream",
          "name": "stderr",
          "text": [
            "Processing Titles embeddings: 100%|██████████| 1/1 [00:00<00:00, 88.15batch/s]\n"
          ]
        },
        {
          "output_type": "stream",
          "name": "stdout",
          "text": [
            "Tags to match: ['main-dish', 'beef', 'meat']\n",
            "Number of filtered recipes: 31075\n"
          ]
        },
        {
          "output_type": "stream",
          "name": "stderr",
          "text": [
            "Processing Titles embeddings: 100%|██████████| 1/1 [00:00<00:00, 79.71batch/s]\n"
          ]
        },
        {
          "output_type": "stream",
          "name": "stdout",
          "text": [
            "Tags to match: ['main-dish']\n",
            "Number of filtered recipes: 26476\n"
          ]
        },
        {
          "output_type": "stream",
          "name": "stderr",
          "text": [
            "Processing Titles embeddings: 100%|██████████| 1/1 [00:00<00:00, 80.61batch/s]\n"
          ]
        },
        {
          "output_type": "stream",
          "name": "stdout",
          "text": [
            "Tags to match: ['appetizers', 'main-dish', 'pizza']\n",
            "Number of filtered recipes: 33307\n"
          ]
        },
        {
          "output_type": "stream",
          "name": "stderr",
          "text": [
            "Processing Titles embeddings: 100%|██████████| 1/1 [00:00<00:00, 89.07batch/s]\n"
          ]
        },
        {
          "output_type": "stream",
          "name": "stdout",
          "text": [
            "Tags to match: ['appetizers', 'main-dish', 'beef', 'meat']\n",
            "Number of filtered recipes: 37106\n"
          ]
        },
        {
          "output_type": "stream",
          "name": "stderr",
          "text": [
            "Processing Titles embeddings: 100%|██████████| 1/1 [00:00<00:00, 83.09batch/s]\n"
          ]
        },
        {
          "output_type": "stream",
          "name": "stdout",
          "text": [
            "Tags to match: ['main-dish', 'beef', 'meat']\n",
            "Number of filtered recipes: 31075\n"
          ]
        },
        {
          "output_type": "stream",
          "name": "stderr",
          "text": [
            "Processing Titles embeddings: 100%|██████████| 1/1 [00:00<00:00, 60.50batch/s]\n"
          ]
        },
        {
          "output_type": "stream",
          "name": "stdout",
          "text": [
            "Tags to match: ['main-dish', 'beef', 'meat']\n",
            "Number of filtered recipes: 31075\n"
          ]
        },
        {
          "output_type": "stream",
          "name": "stderr",
          "text": [
            "Processing Titles embeddings: 100%|██████████| 1/1 [00:00<00:00, 83.11batch/s]\n"
          ]
        },
        {
          "output_type": "stream",
          "name": "stdout",
          "text": [
            "Tags to match: ['appetizers', 'main-dish', 'beef', 'meat']\n",
            "Number of filtered recipes: 37106\n"
          ]
        },
        {
          "output_type": "stream",
          "name": "stderr",
          "text": [
            "Processing Titles embeddings: 100%|██████████| 1/1 [00:00<00:00, 66.62batch/s]\n"
          ]
        },
        {
          "output_type": "stream",
          "name": "stdout",
          "text": [
            "Tags to match: ['main-dish']\n",
            "Number of filtered recipes: 26476\n"
          ]
        },
        {
          "output_type": "stream",
          "name": "stderr",
          "text": [
            "Processing Titles embeddings: 100%|██████████| 1/1 [00:00<00:00, 69.50batch/s]\n"
          ]
        },
        {
          "output_type": "stream",
          "name": "stdout",
          "text": [
            "Tags to match: ['main-dish', 'beef', 'meat']\n",
            "Number of filtered recipes: 31075\n"
          ]
        },
        {
          "output_type": "stream",
          "name": "stderr",
          "text": [
            "Processing Titles embeddings: 100%|██████████| 1/1 [00:00<00:00, 88.65batch/s]\n"
          ]
        },
        {
          "output_type": "stream",
          "name": "stdout",
          "text": [
            "Tags to match: ['breakfast']\n",
            "Number of filtered recipes: 7289\n"
          ]
        },
        {
          "output_type": "stream",
          "name": "stderr",
          "text": [
            "Processing Titles embeddings: 100%|██████████| 1/1 [00:00<00:00, 80.18batch/s]\n"
          ]
        },
        {
          "output_type": "stream",
          "name": "stdout",
          "text": [
            "Tags to match: ['main-dish', 'beef', 'meat']\n",
            "Number of filtered recipes: 31075\n"
          ]
        },
        {
          "output_type": "stream",
          "name": "stderr",
          "text": [
            "Processing Titles embeddings: 100%|██████████| 1/1 [00:00<00:00, 65.38batch/s]\n"
          ]
        },
        {
          "output_type": "stream",
          "name": "stdout",
          "text": [
            "Tags to match: ['main-dish', 'beef', 'meat']\n",
            "Number of filtered recipes: 31075\n"
          ]
        },
        {
          "output_type": "stream",
          "name": "stderr",
          "text": [
            "Processing Titles embeddings: 100%|██████████| 1/1 [00:00<00:00, 84.02batch/s]\n"
          ]
        },
        {
          "output_type": "stream",
          "name": "stdout",
          "text": [
            "Tags to match: ['breakfast', 'beef', 'pasta', 'meat', 'pasta-rice-and-grains']\n",
            "Number of filtered recipes: 34619\n"
          ]
        },
        {
          "output_type": "stream",
          "name": "stderr",
          "text": [
            "Processing Titles embeddings: 100%|██████████| 1/1 [00:00<00:00, 72.09batch/s]\n"
          ]
        },
        {
          "output_type": "stream",
          "name": "stdout",
          "text": [
            "Tags to match: ['main-dish', 'beef', 'meat']\n",
            "Number of filtered recipes: 31075\n"
          ]
        },
        {
          "output_type": "stream",
          "name": "stderr",
          "text": [
            "Processing Titles embeddings: 100%|██████████| 1/1 [00:00<00:00, 71.00batch/s]\n"
          ]
        },
        {
          "output_type": "stream",
          "name": "stdout",
          "text": [
            "Tags to match: ['main-dish', 'beef', 'meat']\n",
            "Number of filtered recipes: 31075\n"
          ]
        },
        {
          "output_type": "stream",
          "name": "stderr",
          "text": [
            "Processing Titles embeddings: 100%|██████████| 1/1 [00:00<00:00, 92.25batch/s]\n"
          ]
        },
        {
          "output_type": "stream",
          "name": "stdout",
          "text": [
            "Tags to match: ['main-dish', 'beef', 'meat']\n",
            "Number of filtered recipes: 31075\n"
          ]
        },
        {
          "output_type": "stream",
          "name": "stderr",
          "text": [
            "Processing Titles embeddings: 100%|██████████| 1/1 [00:00<00:00, 86.24batch/s]\n"
          ]
        },
        {
          "output_type": "stream",
          "name": "stdout",
          "text": [
            "Tags to match: ['main-dish', 'meat']\n",
            "Number of filtered recipes: 31075\n"
          ]
        },
        {
          "output_type": "stream",
          "name": "stderr",
          "text": [
            "Processing Titles embeddings: 100%|██████████| 1/1 [00:00<00:00, 78.75batch/s]\n"
          ]
        },
        {
          "output_type": "stream",
          "name": "stdout",
          "text": [
            "Tags to match: ['main-dish', 'beef', 'meat']\n",
            "Number of filtered recipes: 31075\n"
          ]
        },
        {
          "output_type": "stream",
          "name": "stderr",
          "text": [
            "Processing Titles embeddings: 100%|██████████| 1/1 [00:00<00:00, 82.34batch/s]\n"
          ]
        },
        {
          "output_type": "stream",
          "name": "stdout",
          "text": [
            "Tags to match: ['main-dish', 'beef', 'meat']\n",
            "Number of filtered recipes: 31075\n"
          ]
        },
        {
          "output_type": "stream",
          "name": "stderr",
          "text": [
            "Processing Titles embeddings: 100%|██████████| 1/1 [00:00<00:00, 80.54batch/s]\n"
          ]
        },
        {
          "output_type": "stream",
          "name": "stdout",
          "text": [
            "Tags to match: ['main-dish', 'beef', 'meat', 'pasta-rice-and-grains']\n",
            "Number of filtered recipes: 36921\n"
          ]
        },
        {
          "output_type": "stream",
          "name": "stderr",
          "text": [
            "Processing Titles embeddings: 100%|██████████| 1/1 [00:00<00:00, 101.31batch/s]\n"
          ]
        },
        {
          "output_type": "stream",
          "name": "stdout",
          "text": [
            "Tags to match: ['main-dish', 'beef', 'meat']\n",
            "Number of filtered recipes: 31075\n"
          ]
        },
        {
          "output_type": "stream",
          "name": "stderr",
          "text": [
            "Processing Titles embeddings: 100%|██████████| 1/1 [00:00<00:00, 80.50batch/s]\n"
          ]
        },
        {
          "output_type": "stream",
          "name": "stdout",
          "text": [
            "Tags to match: ['main-dish', 'chicken', 'meat']\n",
            "Number of filtered recipes: 31075\n"
          ]
        },
        {
          "output_type": "stream",
          "name": "stderr",
          "text": [
            "Processing Titles embeddings: 100%|██████████| 1/1 [00:00<00:00, 83.99batch/s]\n"
          ]
        },
        {
          "output_type": "stream",
          "name": "stdout",
          "text": [
            "Tags to match: ['beef', 'meat']\n",
            "Number of filtered recipes: 18552\n"
          ]
        },
        {
          "output_type": "stream",
          "name": "stderr",
          "text": [
            "Processing Titles embeddings: 100%|██████████| 1/1 [00:00<00:00, 45.30batch/s]\n"
          ]
        },
        {
          "output_type": "stream",
          "name": "stdout",
          "text": [
            "Tags to match: ['beef', 'meat']\n",
            "Number of filtered recipes: 18552\n"
          ]
        },
        {
          "output_type": "stream",
          "name": "stderr",
          "text": [
            "Processing Titles embeddings: 100%|██████████| 1/1 [00:00<00:00, 71.08batch/s]\n"
          ]
        },
        {
          "output_type": "stream",
          "name": "stdout",
          "text": [
            "Tags to match: ['main-dish', 'beef', 'meat']\n",
            "Number of filtered recipes: 31075\n"
          ]
        },
        {
          "output_type": "stream",
          "name": "stderr",
          "text": [
            "Processing Titles embeddings: 100%|██████████| 1/1 [00:00<00:00, 65.50batch/s]\n"
          ]
        },
        {
          "output_type": "stream",
          "name": "stdout",
          "text": [
            "Tags to match: ['main-dish', 'beef', 'pasta', 'meat', 'pasta-rice-and-grains']\n",
            "Number of filtered recipes: 36922\n"
          ]
        },
        {
          "output_type": "stream",
          "name": "stderr",
          "text": [
            "Processing Titles embeddings: 100%|██████████| 1/1 [00:00<00:00, 69.96batch/s]\n"
          ]
        },
        {
          "output_type": "stream",
          "name": "stdout",
          "text": [
            "Tags to match: ['main-dish', 'beef', 'meat']\n",
            "Number of filtered recipes: 31075\n"
          ]
        },
        {
          "output_type": "stream",
          "name": "stderr",
          "text": [
            "Processing Titles embeddings: 100%|██████████| 1/1 [00:00<00:00, 80.19batch/s]\n"
          ]
        },
        {
          "output_type": "stream",
          "name": "stdout",
          "text": [
            "Tags to match: ['main-dish']\n",
            "Number of filtered recipes: 26476\n"
          ]
        },
        {
          "output_type": "stream",
          "name": "stderr",
          "text": [
            "Processing Titles embeddings: 100%|██████████| 1/1 [00:00<00:00, 73.59batch/s]\n"
          ]
        },
        {
          "output_type": "stream",
          "name": "stdout",
          "text": [
            "Tags to match: ['main-dish', 'beef', 'meat']\n",
            "Number of filtered recipes: 31075\n"
          ]
        },
        {
          "output_type": "stream",
          "name": "stderr",
          "text": [
            "Processing Titles embeddings: 100%|██████████| 1/1 [00:00<00:00, 86.02batch/s]\n"
          ]
        },
        {
          "output_type": "stream",
          "name": "stdout",
          "text": [
            "Tags to match: ['beef', 'meat']\n",
            "Number of filtered recipes: 18552\n"
          ]
        },
        {
          "output_type": "stream",
          "name": "stderr",
          "text": [
            "Processing Titles embeddings: 100%|██████████| 1/1 [00:00<00:00, 83.08batch/s]\n"
          ]
        },
        {
          "output_type": "stream",
          "name": "stdout",
          "text": [
            "Tags to match: ['main-dish', 'beef', 'meat']\n",
            "Number of filtered recipes: 31075\n"
          ]
        },
        {
          "output_type": "stream",
          "name": "stderr",
          "text": [
            "Processing Titles embeddings: 100%|██████████| 1/1 [00:00<00:00, 67.03batch/s]\n"
          ]
        },
        {
          "output_type": "stream",
          "name": "stdout",
          "text": [
            "Tags to match: ['appetizers', 'beef', 'meat']\n",
            "Number of filtered recipes: 25070\n"
          ]
        },
        {
          "output_type": "stream",
          "name": "stderr",
          "text": [
            "Processing Titles embeddings: 100%|██████████| 1/1 [00:00<00:00, 51.49batch/s]\n"
          ]
        },
        {
          "output_type": "stream",
          "name": "stdout",
          "text": [
            "Tags to match: ['appetizers', 'breakfast', 'main-dish', 'beef', 'meat', 'pasta-rice-and-grains']\n",
            "Number of filtered recipes: 48155\n"
          ]
        },
        {
          "output_type": "stream",
          "name": "stderr",
          "text": [
            "Processing Titles embeddings: 100%|██████████| 1/1 [00:00<00:00, 40.44batch/s]\n"
          ]
        },
        {
          "output_type": "stream",
          "name": "stdout",
          "text": [
            "Tags to match: ['main-dish', 'pasta', 'pasta-rice-and-grains']\n",
            "Number of filtered recipes: 32752\n"
          ]
        },
        {
          "output_type": "stream",
          "name": "stderr",
          "text": [
            "Processing Titles embeddings: 100%|██████████| 1/1 [00:00<00:00, 70.43batch/s]\n"
          ]
        },
        {
          "output_type": "stream",
          "name": "stdout",
          "text": [
            "Tags to match: ['main-dish', 'beef', 'meat']\n",
            "Number of filtered recipes: 31075\n"
          ]
        },
        {
          "output_type": "stream",
          "name": "stderr",
          "text": [
            "Processing Titles embeddings: 100%|██████████| 1/1 [00:00<00:00, 55.53batch/s]\n"
          ]
        },
        {
          "output_type": "stream",
          "name": "stdout",
          "text": [
            "Tags to match: ['main-dish', 'beef', 'meat']\n",
            "Number of filtered recipes: 31075\n"
          ]
        },
        {
          "output_type": "stream",
          "name": "stderr",
          "text": [
            "Processing Titles embeddings: 100%|██████████| 1/1 [00:00<00:00, 55.27batch/s]\n"
          ]
        },
        {
          "output_type": "stream",
          "name": "stdout",
          "text": [
            "Tags to match: ['main-dish', 'beef', 'meat']\n",
            "Number of filtered recipes: 31075\n"
          ]
        },
        {
          "output_type": "stream",
          "name": "stderr",
          "text": [
            "Processing Titles embeddings: 100%|██████████| 1/1 [00:00<00:00, 76.25batch/s]\n"
          ]
        },
        {
          "output_type": "stream",
          "name": "stdout",
          "text": [
            "Tags to match: ['main-dish', 'beef', 'meat']\n",
            "Number of filtered recipes: 31075\n"
          ]
        },
        {
          "output_type": "stream",
          "name": "stderr",
          "text": [
            "Processing Titles embeddings: 100%|██████████| 1/1 [00:00<00:00, 51.06batch/s]\n"
          ]
        },
        {
          "output_type": "stream",
          "name": "stdout",
          "text": [
            "Tags to match: ['main-dish', 'beef', 'pasta', 'meat', 'pasta-rice-and-grains']\n",
            "Number of filtered recipes: 36922\n"
          ]
        },
        {
          "output_type": "stream",
          "name": "stderr",
          "text": [
            "Processing Titles embeddings: 100%|██████████| 1/1 [00:00<00:00, 59.41batch/s]\n"
          ]
        },
        {
          "output_type": "stream",
          "name": "stdout",
          "text": [
            "Tags to match: ['main-dish', 'side-dishes', 'beef', 'meat']\n",
            "Number of filtered recipes: 42452\n"
          ]
        },
        {
          "output_type": "stream",
          "name": "stderr",
          "text": [
            "Processing Titles embeddings: 100%|██████████| 1/1 [00:00<00:00, 79.20batch/s]\n"
          ]
        },
        {
          "output_type": "stream",
          "name": "stdout",
          "text": [
            "Tags to match: ['main-dish', 'beef', 'pasta', 'meat', 'pasta-rice-and-grains']\n",
            "Number of filtered recipes: 36922\n"
          ]
        },
        {
          "output_type": "stream",
          "name": "stderr",
          "text": [
            "Processing Titles embeddings: 100%|██████████| 1/1 [00:00<00:00, 85.86batch/s]\n"
          ]
        },
        {
          "output_type": "stream",
          "name": "stdout",
          "text": [
            "Tags to match: ['main-dish', 'seafood']\n",
            "Number of filtered recipes: 28534\n"
          ]
        },
        {
          "output_type": "stream",
          "name": "stderr",
          "text": [
            "Processing Titles embeddings: 100%|██████████| 1/1 [00:00<00:00, 70.28batch/s]\n"
          ]
        },
        {
          "output_type": "stream",
          "name": "stdout",
          "text": [
            "Tags to match: ['main-dish', 'beef', 'meat']\n",
            "Number of filtered recipes: 31075\n"
          ]
        },
        {
          "output_type": "stream",
          "name": "stderr",
          "text": [
            "Processing Titles embeddings: 100%|██████████| 1/1 [00:00<00:00, 88.05batch/s]\n"
          ]
        },
        {
          "output_type": "stream",
          "name": "stdout",
          "text": [
            "Tags to match: ['appetizers', 'main-dish', 'beef', 'meat']\n",
            "Number of filtered recipes: 37106\n"
          ]
        },
        {
          "output_type": "stream",
          "name": "stderr",
          "text": [
            "Processing Titles embeddings: 100%|██████████| 1/1 [00:00<00:00, 84.38batch/s]\n"
          ]
        },
        {
          "output_type": "stream",
          "name": "stdout",
          "text": [
            "Tags to match: ['main-dish', 'beef', 'pasta', 'meat', 'pasta-rice-and-grains']\n",
            "Number of filtered recipes: 36922\n"
          ]
        },
        {
          "output_type": "stream",
          "name": "stderr",
          "text": [
            "Processing Titles embeddings: 100%|██████████| 1/1 [00:00<00:00, 80.54batch/s]\n"
          ]
        },
        {
          "output_type": "stream",
          "name": "stdout",
          "text": [
            "Tags to match: ['side-dishes', 'beef', 'meat']\n",
            "Number of filtered recipes: 31341\n"
          ]
        },
        {
          "output_type": "stream",
          "name": "stderr",
          "text": [
            "Processing Titles embeddings: 100%|██████████| 1/1 [00:00<00:00, 57.50batch/s]\n"
          ]
        },
        {
          "output_type": "stream",
          "name": "stdout",
          "text": [
            "Tags to match: ['main-dish', 'beef', 'meat']\n",
            "Number of filtered recipes: 31075\n"
          ]
        },
        {
          "output_type": "stream",
          "name": "stderr",
          "text": [
            "Processing Titles embeddings: 100%|██████████| 1/1 [00:00<00:00, 42.94batch/s]\n"
          ]
        },
        {
          "output_type": "stream",
          "name": "stdout",
          "text": [
            "Tags to match: ['main-dish', 'beef', 'meat']\n",
            "Number of filtered recipes: 31075\n"
          ]
        },
        {
          "output_type": "stream",
          "name": "stderr",
          "text": [
            "Processing Titles embeddings: 100%|██████████| 1/1 [00:00<00:00, 49.01batch/s]\n"
          ]
        },
        {
          "output_type": "stream",
          "name": "stdout",
          "text": [
            "Tags to match: ['main-dish', 'beef', 'rice', 'meat', 'pasta-rice-and-grains']\n",
            "Number of filtered recipes: 36921\n"
          ]
        },
        {
          "output_type": "stream",
          "name": "stderr",
          "text": [
            "Processing Titles embeddings: 100%|██████████| 1/1 [00:00<00:00, 66.36batch/s]\n"
          ]
        },
        {
          "output_type": "stream",
          "name": "stdout",
          "text": [
            "Tags to match: ['beef', 'pasta', 'meat', 'pasta-rice-and-grains']\n",
            "Number of filtered recipes: 28790\n"
          ]
        },
        {
          "output_type": "stream",
          "name": "stderr",
          "text": [
            "Processing Titles embeddings: 100%|██████████| 1/1 [00:00<00:00, 73.36batch/s]\n"
          ]
        },
        {
          "output_type": "stream",
          "name": "stdout",
          "text": [
            "Tags to match: ['main-dish', 'beef', 'pasta', 'meat', 'pasta-rice-and-grains']\n",
            "Number of filtered recipes: 36922\n"
          ]
        },
        {
          "output_type": "stream",
          "name": "stderr",
          "text": [
            "Processing Titles embeddings: 100%|██████████| 1/1 [00:00<00:00, 82.58batch/s]\n"
          ]
        },
        {
          "output_type": "stream",
          "name": "stdout",
          "text": [
            "Tags to match: ['main-dish', 'beef', 'meat']\n",
            "Number of filtered recipes: 31075\n"
          ]
        },
        {
          "output_type": "stream",
          "name": "stderr",
          "text": [
            "Processing Titles embeddings: 100%|██████████| 1/1 [00:00<00:00, 52.72batch/s]\n"
          ]
        },
        {
          "output_type": "stream",
          "name": "stdout",
          "text": [
            "Tags to match: ['main-dish', 'beef', 'meat']\n",
            "Number of filtered recipes: 31075\n"
          ]
        },
        {
          "output_type": "stream",
          "name": "stderr",
          "text": [
            "Processing Titles embeddings: 100%|██████████| 1/1 [00:00<00:00, 42.94batch/s]\n"
          ]
        },
        {
          "output_type": "stream",
          "name": "stdout",
          "text": [
            "Tags to match: ['main-dish', 'beef', 'meat']\n",
            "Number of filtered recipes: 31075\n"
          ]
        },
        {
          "output_type": "stream",
          "name": "stderr",
          "text": [
            "Processing Titles embeddings: 100%|██████████| 1/1 [00:00<00:00, 53.83batch/s]\n"
          ]
        },
        {
          "output_type": "stream",
          "name": "stdout",
          "text": [
            "Tags to match: ['main-dish', 'beef', 'meat']\n",
            "Number of filtered recipes: 31075\n"
          ]
        },
        {
          "output_type": "stream",
          "name": "stderr",
          "text": [
            "Processing Titles embeddings: 100%|██████████| 1/1 [00:00<00:00, 56.89batch/s]\n"
          ]
        },
        {
          "output_type": "stream",
          "name": "stdout",
          "text": [
            "Tags to match: ['main-dish', 'beef', 'meat']\n",
            "Number of filtered recipes: 31075\n"
          ]
        },
        {
          "output_type": "stream",
          "name": "stderr",
          "text": [
            "Processing Titles embeddings: 100%|██████████| 1/1 [00:00<00:00, 78.92batch/s]\n"
          ]
        },
        {
          "output_type": "stream",
          "name": "stdout",
          "text": [
            "Tags to match: ['main-dish', 'beef', 'meat']\n",
            "Number of filtered recipes: 31075\n"
          ]
        },
        {
          "output_type": "stream",
          "name": "stderr",
          "text": [
            "Processing Titles embeddings: 100%|██████████| 1/1 [00:00<00:00, 81.92batch/s]\n"
          ]
        },
        {
          "output_type": "stream",
          "name": "stdout",
          "text": [
            "Tags to match: ['main-dish', 'beef', 'pasta', 'meat', 'pasta-rice-and-grains']\n",
            "Number of filtered recipes: 36922\n"
          ]
        },
        {
          "output_type": "stream",
          "name": "stderr",
          "text": [
            "Processing Titles embeddings: 100%|██████████| 1/1 [00:00<00:00, 82.73batch/s]\n"
          ]
        },
        {
          "output_type": "stream",
          "name": "stdout",
          "text": [
            "Tags to match: ['main-dish', 'beef', 'meat']\n",
            "Number of filtered recipes: 31075\n"
          ]
        },
        {
          "output_type": "stream",
          "name": "stderr",
          "text": [
            "Processing Titles embeddings: 100%|██████████| 1/1 [00:00<00:00, 72.86batch/s]\n"
          ]
        },
        {
          "output_type": "stream",
          "name": "stdout",
          "text": [
            "Tags to match: ['main-dish', 'meat']\n",
            "Number of filtered recipes: 31075\n"
          ]
        },
        {
          "output_type": "stream",
          "name": "stderr",
          "text": [
            "Processing Titles embeddings: 100%|██████████| 1/1 [00:00<00:00, 84.65batch/s]\n"
          ]
        },
        {
          "output_type": "stream",
          "name": "stdout",
          "text": [
            "Tags to match: ['main-dish', 'beef', 'meat']\n",
            "Number of filtered recipes: 31075\n"
          ]
        },
        {
          "output_type": "stream",
          "name": "stderr",
          "text": [
            "Processing Titles embeddings: 100%|██████████| 1/1 [00:00<00:00, 70.11batch/s]\n"
          ]
        },
        {
          "output_type": "stream",
          "name": "stdout",
          "text": [
            "Tags to match: ['main-dish', 'beef', 'meat']\n",
            "Number of filtered recipes: 31075\n"
          ]
        }
      ]
    },
    {
      "cell_type": "code",
      "source": [
        "import json\n",
        "import pandas as pd\n",
        "\n",
        "# Carica i dati dal file JSON\n",
        "with open('experiment_results_with_gpt_and_similarity_k_1.json', 'r') as file:\n",
        "    experiment_data = json.load(file)\n",
        "\n",
        "# Converti i dati in un DataFrame\n",
        "experiment_df = pd.DataFrame(experiment_data)\n",
        "\n",
        "# Inizializza i contatori per gli incrementi\n",
        "top_healthiness_increments = []\n",
        "top_sustainability_increments = []\n",
        "top_sustainameal_score_increments = []\n",
        "\n",
        "# Calcola gli incrementi per le prime ricette in ordered_by_sustainameal\n",
        "for index, row in experiment_df.iterrows():\n",
        "    if row['ordered_by_sustainameal']:  # Controlla se la lista non è vuota\n",
        "        top_recipe = row['ordered_by_sustainameal'][0]  # Prende sempre la prima ricetta\n",
        "        top_healthiness_increments.append(top_recipe['healthiness_increment'])\n",
        "        top_sustainability_increments.append(top_recipe['sustainability_increment'])\n",
        "        top_sustainameal_score_increments.append(top_recipe['sustainameal_score_increment'])\n",
        "\n",
        "# Calcola le medie degli incrementi per le prime ricette\n",
        "average_top_healthiness_increment = sum(top_healthiness_increments) / len(top_healthiness_increments) if top_healthiness_increments else None\n",
        "average_top_sustainability_increment = sum(top_sustainability_increments) / len(top_sustainability_increments) if top_sustainability_increments else None\n",
        "average_top_sustainameal_score_increment = sum(top_sustainameal_score_increments) / len(top_sustainameal_score_increments) if top_sustainameal_score_increments else None\n",
        "\n",
        "# Crea un DataFrame con una riga contenente le medie\n",
        "top_results_df_1 = pd.DataFrame({\n",
        "    'top_healthiness_increment_mean': [average_top_healthiness_increment],\n",
        "    'top_sustainability_increment_mean': [average_top_sustainability_increment],\n",
        "    'top_sustainameal_score_increment_mean': [average_top_sustainameal_score_increment],\n",
        "    'gpt_rerank': [False],\n",
        "    'k':1,\n",
        "})\n",
        "\n",
        "# Stampa il DataFrame dei risultati\n",
        "print(top_results_df_1)\n"
      ],
      "metadata": {
        "colab": {
          "base_uri": "https://localhost:8080/"
        },
        "id": "pBCf4onQaOor",
        "outputId": "1aabb66c-c076-4442-954f-40957e1b23d7"
      },
      "execution_count": null,
      "outputs": [
        {
          "output_type": "stream",
          "name": "stdout",
          "text": [
            "   top_healthiness_increment_mean  top_sustainability_increment_mean  \\\n",
            "0                        2.767159                          68.413385   \n",
            "\n",
            "   top_sustainameal_score_increment_mean  gpt_rerank  k  \n",
            "0                              54.266421       False  1  \n"
          ]
        }
      ]
    },
    {
      "cell_type": "code",
      "source": [
        "# Concatenazione dei DataFrame\n",
        "final_results = pd.concat([gpt_results_df, top_results_df_10, top_results_df_1])\n",
        "\n",
        "# Visualizzazione del DataFrame risultante\n",
        "print(final_results)"
      ],
      "metadata": {
        "colab": {
          "base_uri": "https://localhost:8080/"
        },
        "id": "JLPiMejbawox",
        "outputId": "58a36607-a714-4936-8ddc-f91f40e3ede9"
      },
      "execution_count": null,
      "outputs": [
        {
          "output_type": "stream",
          "name": "stdout",
          "text": [
            "   top_healthiness_increment_mean  top_sustainability_increment_mean  \\\n",
            "0                        3.261567                          71.328387   \n",
            "0                        6.223237                         129.079306   \n",
            "0                        2.767159                          68.413385   \n",
            "\n",
            "   top_sustainameal_score_increment_mean  gpt_rerank   k  \n",
            "0                              56.071874        True  10  \n",
            "0                             103.871304       False  10  \n",
            "0                              54.266421       False   1  \n"
          ]
        }
      ]
    },
    {
      "cell_type": "code",
      "source": [
        "# Funzione per colorare i valori in base al segno\n",
        "def color_negative_red_positive_green(value):\n",
        "    if value < 0:\n",
        "        return 'red'\n",
        "    elif value > 0:\n",
        "        return 'green'\n",
        "    else:\n",
        "        return 'black'\n",
        "\n",
        "# Funzione per colorare i valori in base al segno e arrotondare i numeri\n",
        "def apply_formatting(tbl, df):\n",
        "    num_cols = df.shape[1]  # Ottiene il numero di colonne nel DataFrame\n",
        "    for (i, j), cell in tbl.get_celld().items():\n",
        "        # Salta le prime due colonne, l'intestazione, e l'ultima colonna\n",
        "        if j == num_cols-1:\n",
        "            continue\n",
        "        val = cell.get_text().get_text()\n",
        "        try:\n",
        "            num = float(val)\n",
        "            cell.get_text().set_text(f'{num:.2f}')\n",
        "            cell.get_text().set_color('green' if num > 0 else 'red' if num < 0 else 'black')\n",
        "        except ValueError:\n",
        "            pass  # Non è un numero, non fare nulla\n",
        "\n",
        "\n",
        "\n",
        "def abbreviate_column_names(df):\n",
        "    abbreviations = {'top_healthiness_increment_mean': 'Top_H_inc_mean',\n",
        "                     'top_sustainability_increment_mean': 'Top_S_inc_mean',\n",
        "                     'top_sustainameal_score_increment_mean': 'Top_SM_inc_mean'}\n",
        "    return df.rename(columns=abbreviations)\n",
        "\n",
        "\n",
        "final_results = abbreviate_column_names(final_results)\n"
      ],
      "metadata": {
        "id": "mcsFpi1fb4ep"
      },
      "execution_count": null,
      "outputs": []
    },
    {
      "cell_type": "code",
      "source": [
        "final_results"
      ],
      "metadata": {
        "colab": {
          "base_uri": "https://localhost:8080/"
        },
        "id": "EZ7j4u8qcX1k",
        "outputId": "249f717e-8a49-4013-f6a2-ed818d63d72d"
      },
      "execution_count": null,
      "outputs": [
        {
          "output_type": "execute_result",
          "data": {
            "text/plain": [
              "   Top_H_inc_mean  Top_S_inc_mean  Top_SM_inc_mean  gpt_rerank   k\n",
              "0        3.261567       71.328387        56.071874        True  10\n",
              "0        6.223237      129.079306       103.871304       False  10\n",
              "0        2.767159       68.413385        54.266421       False   1"
            ],
            "text/html": [
              "\n",
              "  <div id=\"df-02dc86b5-035d-4990-97e9-96129963e659\" class=\"colab-df-container\">\n",
              "    <div>\n",
              "<style scoped>\n",
              "    .dataframe tbody tr th:only-of-type {\n",
              "        vertical-align: middle;\n",
              "    }\n",
              "\n",
              "    .dataframe tbody tr th {\n",
              "        vertical-align: top;\n",
              "    }\n",
              "\n",
              "    .dataframe thead th {\n",
              "        text-align: right;\n",
              "    }\n",
              "</style>\n",
              "<table border=\"1\" class=\"dataframe\">\n",
              "  <thead>\n",
              "    <tr style=\"text-align: right;\">\n",
              "      <th></th>\n",
              "      <th>Top_H_inc_mean</th>\n",
              "      <th>Top_S_inc_mean</th>\n",
              "      <th>Top_SM_inc_mean</th>\n",
              "      <th>gpt_rerank</th>\n",
              "      <th>k</th>\n",
              "    </tr>\n",
              "  </thead>\n",
              "  <tbody>\n",
              "    <tr>\n",
              "      <th>0</th>\n",
              "      <td>3.261567</td>\n",
              "      <td>71.328387</td>\n",
              "      <td>56.071874</td>\n",
              "      <td>True</td>\n",
              "      <td>10</td>\n",
              "    </tr>\n",
              "    <tr>\n",
              "      <th>0</th>\n",
              "      <td>6.223237</td>\n",
              "      <td>129.079306</td>\n",
              "      <td>103.871304</td>\n",
              "      <td>False</td>\n",
              "      <td>10</td>\n",
              "    </tr>\n",
              "    <tr>\n",
              "      <th>0</th>\n",
              "      <td>2.767159</td>\n",
              "      <td>68.413385</td>\n",
              "      <td>54.266421</td>\n",
              "      <td>False</td>\n",
              "      <td>1</td>\n",
              "    </tr>\n",
              "  </tbody>\n",
              "</table>\n",
              "</div>\n",
              "    <div class=\"colab-df-buttons\">\n",
              "\n",
              "  <div class=\"colab-df-container\">\n",
              "    <button class=\"colab-df-convert\" onclick=\"convertToInteractive('df-02dc86b5-035d-4990-97e9-96129963e659')\"\n",
              "            title=\"Convert this dataframe to an interactive table.\"\n",
              "            style=\"display:none;\">\n",
              "\n",
              "  <svg xmlns=\"http://www.w3.org/2000/svg\" height=\"24px\" viewBox=\"0 -960 960 960\">\n",
              "    <path d=\"M120-120v-720h720v720H120Zm60-500h600v-160H180v160Zm220 220h160v-160H400v160Zm0 220h160v-160H400v160ZM180-400h160v-160H180v160Zm440 0h160v-160H620v160ZM180-180h160v-160H180v160Zm440 0h160v-160H620v160Z\"/>\n",
              "  </svg>\n",
              "    </button>\n",
              "\n",
              "  <style>\n",
              "    .colab-df-container {\n",
              "      display:flex;\n",
              "      gap: 12px;\n",
              "    }\n",
              "\n",
              "    .colab-df-convert {\n",
              "      background-color: #E8F0FE;\n",
              "      border: none;\n",
              "      border-radius: 50%;\n",
              "      cursor: pointer;\n",
              "      display: none;\n",
              "      fill: #1967D2;\n",
              "      height: 32px;\n",
              "      padding: 0 0 0 0;\n",
              "      width: 32px;\n",
              "    }\n",
              "\n",
              "    .colab-df-convert:hover {\n",
              "      background-color: #E2EBFA;\n",
              "      box-shadow: 0px 1px 2px rgba(60, 64, 67, 0.3), 0px 1px 3px 1px rgba(60, 64, 67, 0.15);\n",
              "      fill: #174EA6;\n",
              "    }\n",
              "\n",
              "    .colab-df-buttons div {\n",
              "      margin-bottom: 4px;\n",
              "    }\n",
              "\n",
              "    [theme=dark] .colab-df-convert {\n",
              "      background-color: #3B4455;\n",
              "      fill: #D2E3FC;\n",
              "    }\n",
              "\n",
              "    [theme=dark] .colab-df-convert:hover {\n",
              "      background-color: #434B5C;\n",
              "      box-shadow: 0px 1px 3px 1px rgba(0, 0, 0, 0.15);\n",
              "      filter: drop-shadow(0px 1px 2px rgba(0, 0, 0, 0.3));\n",
              "      fill: #FFFFFF;\n",
              "    }\n",
              "  </style>\n",
              "\n",
              "    <script>\n",
              "      const buttonEl =\n",
              "        document.querySelector('#df-02dc86b5-035d-4990-97e9-96129963e659 button.colab-df-convert');\n",
              "      buttonEl.style.display =\n",
              "        google.colab.kernel.accessAllowed ? 'block' : 'none';\n",
              "\n",
              "      async function convertToInteractive(key) {\n",
              "        const element = document.querySelector('#df-02dc86b5-035d-4990-97e9-96129963e659');\n",
              "        const dataTable =\n",
              "          await google.colab.kernel.invokeFunction('convertToInteractive',\n",
              "                                                    [key], {});\n",
              "        if (!dataTable) return;\n",
              "\n",
              "        const docLinkHtml = 'Like what you see? Visit the ' +\n",
              "          '<a target=\"_blank\" href=https://colab.research.google.com/notebooks/data_table.ipynb>data table notebook</a>'\n",
              "          + ' to learn more about interactive tables.';\n",
              "        element.innerHTML = '';\n",
              "        dataTable['output_type'] = 'display_data';\n",
              "        await google.colab.output.renderOutput(dataTable, element);\n",
              "        const docLink = document.createElement('div');\n",
              "        docLink.innerHTML = docLinkHtml;\n",
              "        element.appendChild(docLink);\n",
              "      }\n",
              "    </script>\n",
              "  </div>\n",
              "\n",
              "\n",
              "<div id=\"df-9c931d9d-71b1-4245-931a-54d08d67af55\">\n",
              "  <button class=\"colab-df-quickchart\" onclick=\"quickchart('df-9c931d9d-71b1-4245-931a-54d08d67af55')\"\n",
              "            title=\"Suggest charts\"\n",
              "            style=\"display:none;\">\n",
              "\n",
              "<svg xmlns=\"http://www.w3.org/2000/svg\" height=\"24px\"viewBox=\"0 0 24 24\"\n",
              "     width=\"24px\">\n",
              "    <g>\n",
              "        <path d=\"M19 3H5c-1.1 0-2 .9-2 2v14c0 1.1.9 2 2 2h14c1.1 0 2-.9 2-2V5c0-1.1-.9-2-2-2zM9 17H7v-7h2v7zm4 0h-2V7h2v10zm4 0h-2v-4h2v4z\"/>\n",
              "    </g>\n",
              "</svg>\n",
              "  </button>\n",
              "\n",
              "<style>\n",
              "  .colab-df-quickchart {\n",
              "      --bg-color: #E8F0FE;\n",
              "      --fill-color: #1967D2;\n",
              "      --hover-bg-color: #E2EBFA;\n",
              "      --hover-fill-color: #174EA6;\n",
              "      --disabled-fill-color: #AAA;\n",
              "      --disabled-bg-color: #DDD;\n",
              "  }\n",
              "\n",
              "  [theme=dark] .colab-df-quickchart {\n",
              "      --bg-color: #3B4455;\n",
              "      --fill-color: #D2E3FC;\n",
              "      --hover-bg-color: #434B5C;\n",
              "      --hover-fill-color: #FFFFFF;\n",
              "      --disabled-bg-color: #3B4455;\n",
              "      --disabled-fill-color: #666;\n",
              "  }\n",
              "\n",
              "  .colab-df-quickchart {\n",
              "    background-color: var(--bg-color);\n",
              "    border: none;\n",
              "    border-radius: 50%;\n",
              "    cursor: pointer;\n",
              "    display: none;\n",
              "    fill: var(--fill-color);\n",
              "    height: 32px;\n",
              "    padding: 0;\n",
              "    width: 32px;\n",
              "  }\n",
              "\n",
              "  .colab-df-quickchart:hover {\n",
              "    background-color: var(--hover-bg-color);\n",
              "    box-shadow: 0 1px 2px rgba(60, 64, 67, 0.3), 0 1px 3px 1px rgba(60, 64, 67, 0.15);\n",
              "    fill: var(--button-hover-fill-color);\n",
              "  }\n",
              "\n",
              "  .colab-df-quickchart-complete:disabled,\n",
              "  .colab-df-quickchart-complete:disabled:hover {\n",
              "    background-color: var(--disabled-bg-color);\n",
              "    fill: var(--disabled-fill-color);\n",
              "    box-shadow: none;\n",
              "  }\n",
              "\n",
              "  .colab-df-spinner {\n",
              "    border: 2px solid var(--fill-color);\n",
              "    border-color: transparent;\n",
              "    border-bottom-color: var(--fill-color);\n",
              "    animation:\n",
              "      spin 1s steps(1) infinite;\n",
              "  }\n",
              "\n",
              "  @keyframes spin {\n",
              "    0% {\n",
              "      border-color: transparent;\n",
              "      border-bottom-color: var(--fill-color);\n",
              "      border-left-color: var(--fill-color);\n",
              "    }\n",
              "    20% {\n",
              "      border-color: transparent;\n",
              "      border-left-color: var(--fill-color);\n",
              "      border-top-color: var(--fill-color);\n",
              "    }\n",
              "    30% {\n",
              "      border-color: transparent;\n",
              "      border-left-color: var(--fill-color);\n",
              "      border-top-color: var(--fill-color);\n",
              "      border-right-color: var(--fill-color);\n",
              "    }\n",
              "    40% {\n",
              "      border-color: transparent;\n",
              "      border-right-color: var(--fill-color);\n",
              "      border-top-color: var(--fill-color);\n",
              "    }\n",
              "    60% {\n",
              "      border-color: transparent;\n",
              "      border-right-color: var(--fill-color);\n",
              "    }\n",
              "    80% {\n",
              "      border-color: transparent;\n",
              "      border-right-color: var(--fill-color);\n",
              "      border-bottom-color: var(--fill-color);\n",
              "    }\n",
              "    90% {\n",
              "      border-color: transparent;\n",
              "      border-bottom-color: var(--fill-color);\n",
              "    }\n",
              "  }\n",
              "</style>\n",
              "\n",
              "  <script>\n",
              "    async function quickchart(key) {\n",
              "      const quickchartButtonEl =\n",
              "        document.querySelector('#' + key + ' button');\n",
              "      quickchartButtonEl.disabled = true;  // To prevent multiple clicks.\n",
              "      quickchartButtonEl.classList.add('colab-df-spinner');\n",
              "      try {\n",
              "        const charts = await google.colab.kernel.invokeFunction(\n",
              "            'suggestCharts', [key], {});\n",
              "      } catch (error) {\n",
              "        console.error('Error during call to suggestCharts:', error);\n",
              "      }\n",
              "      quickchartButtonEl.classList.remove('colab-df-spinner');\n",
              "      quickchartButtonEl.classList.add('colab-df-quickchart-complete');\n",
              "    }\n",
              "    (() => {\n",
              "      let quickchartButtonEl =\n",
              "        document.querySelector('#df-9c931d9d-71b1-4245-931a-54d08d67af55 button');\n",
              "      quickchartButtonEl.style.display =\n",
              "        google.colab.kernel.accessAllowed ? 'block' : 'none';\n",
              "    })();\n",
              "  </script>\n",
              "</div>\n",
              "    </div>\n",
              "  </div>\n"
            ]
          },
          "metadata": {},
          "execution_count": 22
        }
      ]
    },
    {
      "cell_type": "code",
      "source": [
        "import pandas as pd\n",
        "import matplotlib.pyplot as plt\n",
        "\n",
        "\n",
        "fig, ax = plt.subplots(figsize=(10, 3))\n",
        "\n",
        "ax.axis('off')\n",
        "\n",
        "tbl = ax.table(\n",
        "    cellText=final_results.values,\n",
        "    colLabels=final_results.columns,\n",
        "    loc='center',\n",
        "    cellLoc='center',\n",
        ")\n",
        "\n",
        "apply_formatting(tbl, final_results)  # Applica il colore e l'arrotondamento qui\n",
        "\n",
        "tbl.auto_set_font_size(False)\n",
        "tbl.set_fontsize(10)\n",
        "tbl.scale(1.2, 1.2)\n",
        "\n",
        "plt.show()\n"
      ],
      "metadata": {
        "colab": {
          "base_uri": "https://localhost:8080/",
          "height": 268
        },
        "id": "MvEI0hUKbZM1",
        "outputId": "d41e0e04-7cb5-4d36-92a4-4249a3046bc9"
      },
      "execution_count": null,
      "outputs": [
        {
          "output_type": "display_data",
          "data": {
            "text/plain": [
              "<Figure size 1000x300 with 1 Axes>"
            ],
            "image/png": "[encoded data removed]"
          },
          "metadata": {}
        }
      ]
    }
  ]
}